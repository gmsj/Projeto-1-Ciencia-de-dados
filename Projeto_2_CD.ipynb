{
  "nbformat": 4,
  "nbformat_minor": 0,
  "metadata": {
    "colab": {
      "provenance": [],
      "collapsed_sections": [
        "dUDMlUFKp6Me"
      ],
      "include_colab_link": true
    },
    "kernelspec": {
      "name": "python3",
      "display_name": "Python 3"
    },
    "language_info": {
      "name": "python"
    },
    "accelerator": "GPU",
    "gpuClass": "standard"
  },
  "cells": [
    {
      "cell_type": "markdown",
      "metadata": {
        "id": "view-in-github",
        "colab_type": "text"
      },
      "source": [
        "<a href=\"https://colab.research.google.com/github/gmsj/Projeto-1-Ciencia-de-dados/blob/main/Projeto_2_CD.ipynb\" target=\"_parent\"><img src=\"https://colab.research.google.com/assets/colab-badge.svg\" alt=\"Open In Colab\"/></a>"
      ]
    },
    {
      "cell_type": "markdown",
      "source": [
        "## Projeto 2 Ciência de Dados"
      ],
      "metadata": {
        "id": "tMTztII7x4tW"
      }
    },
    {
      "cell_type": "markdown",
      "source": [
        "### Especificação"
      ],
      "metadata": {
        "id": "emyL6USdsk8M"
      }
    },
    {
      "cell_type": "markdown",
      "source": [
        "1. Escolher uma\tdas\tcolunas\tdos\tdados\tutilizados\tno\tprojeto\t1\tpara\n",
        "predição\t(classificação ou regressão)\t\n",
        "2. Separar os\tdados\tem treinamento,\tvalidação\te\tteste\n",
        "3. Selecionar\t4\talgoritmos\tde\tacordo\tcom\ta\ttarefa escolhida\tno\t\n",
        "passo\t1\t\n",
        "4. Adicionar MLFlow\tno\ttreinamento\tdos\tmodelos para\n",
        "rastreamento\n",
        "5. Executar uma ferramenta\tde\tseleção\tde\thiper-parâmetros sobre\to\t\n",
        "conjunto\tde\tvalidação\n",
        "1. Selecionar poucos hiper-parâmetros por algoritmo\t(max.\t3)\t\n",
        "2. Selecionar\to\tmodelo\t(algoritmo+valores\tde\thiper-parâmetros)\tcom\t\n",
        "melhor resultado na métrica\tde\tavaliação\t\t\n",
        "3. Executar\to\tmelhor modelo\tde\tcada algoritmo\tno\tconjunto\tde\tteste\te\t\n",
        "selecionar\to\tmelhor modelo geral na métrica\tde\tavaliação\t\t\n",
        "6. Realizar diagnóstico\tdo\tmelhor modelo geral\tda\tetapa\t5\te\t\n",
        "melhorá-lo\ta\tpartir\tdo\tdiagnóstico\n",
        "• Bônus:\tUtilizar\tauto-sklearn,\tclustering\tpara entendimento\tdos\t\n",
        "dados"
      ],
      "metadata": {
        "id": "yDq2CVcno-GU"
      }
    },
    {
      "cell_type": "markdown",
      "source": [
        "### Imports"
      ],
      "metadata": {
        "id": "aijNjwA8yEf7"
      }
    },
    {
      "cell_type": "code",
      "execution_count": 1,
      "metadata": {
        "id": "__l8A03WDxJ6"
      },
      "outputs": [],
      "source": [
        "import numpy as np\n",
        "import pandas as pd\n",
        "import seaborn as sns\n",
        "from scipy import stats\n",
        "\n",
        "!pip install optuna --quiet\n",
        "!pip install mlflow --quiet\n",
        "!pip install pyngrok --quiet\n",
        "!pip install scikit-learn --quiet\n",
        "!pip install auto-sklearn --quiet"
      ]
    },
    {
      "cell_type": "markdown",
      "source": [
        "###Coleta dos Dados\n",
        "\n"
      ],
      "metadata": {
        "id": "uCr6yIkevNZy"
      }
    },
    {
      "cell_type": "code",
      "source": [
        "# Fonte: http://dados.recife.pe.gov.br/dataset/acidentes-de-transito-com-e-sem-vitimas\n",
        "#dataframe = pd.read_csv(\"http://dados.recife.pe.gov.br/dataset/44087d2d-73b5-4ab3-9bd8-78da7436eed1/resource/2caa8f41-ccd9-4ea5-906d-f66017d6e107/download/acidentes2021.csv\", encoding = \"UTF-8\", delimiter=';')"
      ],
      "metadata": {
        "id": "EwqOzoJiGrg7"
      },
      "execution_count": 2,
      "outputs": []
    },
    {
      "cell_type": "code",
      "source": [
        "dataframe2018 = pd.read_csv(\"http://dados.recife.pe.gov.br/dataset/44087d2d-73b5-4ab3-9bd8-78da7436eed1/resource/2485590a-3b35-4ad0-b955-8dfc36b61021/download/acidentes_2018.csv\", encoding = \"UTF-8\", delimiter=';')\n",
        "dataframe2019 = pd.read_csv(\"http://dados.recife.pe.gov.br/dataset/44087d2d-73b5-4ab3-9bd8-78da7436eed1/resource/3531bafe-d47d-415e-b154-a881081ac76c/download/acidentes-2019.csv\", encoding = \"UTF-8\", delimiter=';')\n",
        "dataframe2020 = pd.read_csv(\"http://dados.recife.pe.gov.br/dataset/44087d2d-73b5-4ab3-9bd8-78da7436eed1/resource/fc1c8460-0406-4fff-b51a-e79205d1f1ab/download/acidentes_2020-novo.csv\", encoding = \"UTF-8\", delimiter=';')\n",
        "dataframe2021 = pd.read_csv(\"http://dados.recife.pe.gov.br/dataset/44087d2d-73b5-4ab3-9bd8-78da7436eed1/resource/2caa8f41-ccd9-4ea5-906d-f66017d6e107/download/acidentes2021.csv\", encoding = \"UTF-8\", delimiter=';')"
      ],
      "metadata": {
        "id": "H5H0tbcXTfGt"
      },
      "execution_count": 3,
      "outputs": []
    },
    {
      "cell_type": "code",
      "source": [
        "dataframe2018.drop(['endereco_cruzamento', 'numero_cruzamento', 'referencia_cruzamento', 'descricao'], axis=1, inplace=True)\n",
        "dataframe2019.drop(['endereco_cruzamento', 'numero_cruzamento', 'referencia_cruzamento', 'descricao'], axis=1, inplace=True)\n",
        "dataframe2020.drop(['descricao'], axis=1, inplace=True)\n",
        "\n",
        "dataframe2018.rename(columns={'DATA': 'data'}, inplace=True)\n",
        "dataframe2019.rename(columns={'DATA': 'data'}, inplace=True)"
      ],
      "metadata": {
        "id": "tMjnRbKfTmP-"
      },
      "execution_count": 4,
      "outputs": []
    },
    {
      "cell_type": "code",
      "source": [
        "dataframe = pd.concat([dataframe2018, dataframe2019, dataframe2020, dataframe2021], ignore_index=True)"
      ],
      "metadata": {
        "id": "RpNdRcuPTurd"
      },
      "execution_count": 5,
      "outputs": []
    },
    {
      "cell_type": "markdown",
      "source": [
        "#### Removendo colunas que não possuem informações tão úteis para análise"
      ],
      "metadata": {
        "id": "vu-zLiyhpxvx"
      }
    },
    {
      "cell_type": "code",
      "source": [
        "dataframe.drop(['endereco', 'numero', 'detalhe_endereco_acidente', 'complemento', 'bairro_cruzamento', 'num_semaforo', 'sentido_via', 'velocidade_max_via', 'divisao_via2', 'divisao_via3'], axis=1, inplace=True)"
      ],
      "metadata": {
        "id": "7UFTMBh-7crU"
      },
      "execution_count": 6,
      "outputs": []
    },
    {
      "cell_type": "markdown",
      "source": [
        "#### Definição de tipos"
      ],
      "metadata": {
        "id": "dUDMlUFKp6Me"
      }
    },
    {
      "cell_type": "code",
      "source": [
        "regex_pattern = '((?<!\\d)[01]{1}?[0-9]|2[0-3]):[0-5][0-9]:[0-5][0-9]'\n",
        "\n",
        "filter = dataframe['hora'].str.contains(regex_pattern, na=False)\n",
        "\n",
        "dataframe = dataframe[filter]"
      ],
      "metadata": {
        "id": "3jyCEnGdVE3S",
        "colab": {
          "base_uri": "https://localhost:8080/"
        },
        "outputId": "3cbe130a-3d54-4084-e7ef-9a07257a6984"
      },
      "execution_count": 7,
      "outputs": [
        {
          "output_type": "stream",
          "name": "stderr",
          "text": [
            "/usr/local/lib/python3.7/dist-packages/ipykernel_launcher.py:3: UserWarning: This pattern has match groups. To actually get the groups, use str.extract.\n",
            "  This is separate from the ipykernel package so we can avoid doing imports until\n"
          ]
        }
      ]
    },
    {
      "cell_type": "code",
      "source": [
        "dataframe['data'] = dataframe['data'].astype('datetime64')\n",
        "dataframe['hora'] = dataframe['hora'].astype('datetime64')\n",
        "dataframe['natureza_acidente'] = dataframe['natureza_acidente'].astype('category')\n",
        "dataframe['situacao'] = dataframe['situacao'].astype('category')\n",
        "dataframe['bairro'] = dataframe['bairro'].astype('category')\n",
        "dataframe['tipo'] = dataframe['tipo'].astype('category')\n",
        "dataframe['acidente_verificado'] = dataframe['acidente_verificado'].astype('category')\n",
        "dataframe['tempo_clima'] = dataframe['tempo_clima'].astype('category')\n",
        "dataframe['situacao_semaforo'] = dataframe['situacao_semaforo'].astype('category')\n",
        "dataframe['sinalizacao'] = dataframe['sinalizacao'].astype('category')\n",
        "dataframe['condicao_via'] = dataframe['condicao_via'].astype('category')\n",
        "dataframe['conservacao_via'] = dataframe['conservacao_via'].astype('category')\n",
        "dataframe['ponto_controle'] = dataframe['ponto_controle'].astype('category')\n",
        "dataframe['situacao_placa'] = dataframe['situacao_placa'].astype('category')\n",
        "dataframe['mao_direcao'] = dataframe['mao_direcao'].astype('category')\n",
        "dataframe['divisao_via1'] = dataframe['divisao_via1'].astype('category')"
      ],
      "metadata": {
        "id": "AaS04jz88Tx4"
      },
      "execution_count": 8,
      "outputs": []
    },
    {
      "cell_type": "code",
      "source": [
        "categories = dataframe.select_dtypes('category').apply(lambda col: col.cat.categories)\n",
        "categories.to_frame().style"
      ],
      "metadata": {
        "id": "1gU5SQnh_ozQ",
        "colab": {
          "base_uri": "https://localhost:8080/",
          "height": 593
        },
        "outputId": "b6df714c-7a64-4bee-d583-e74d7674c36d"
      },
      "execution_count": 9,
      "outputs": [
        {
          "output_type": "execute_result",
          "data": {
            "text/plain": [
              "<pandas.io.formats.style.Styler at 0x7f4ccb279cd0>"
            ],
            "text/html": [
              "<style type=\"text/css\">\n",
              "</style>\n",
              "<table id=\"T_87ae2_\" class=\"dataframe\">\n",
              "  <thead>\n",
              "    <tr>\n",
              "      <th class=\"blank level0\" >&nbsp;</th>\n",
              "      <th class=\"col_heading level0 col0\" >0</th>\n",
              "    </tr>\n",
              "  </thead>\n",
              "  <tbody>\n",
              "    <tr>\n",
              "      <th id=\"T_87ae2_level0_row0\" class=\"row_heading level0 row0\" >natureza_acidente</th>\n",
              "      <td id=\"T_87ae2_row0_col0\" class=\"data row0 col0\" >Index(['APOIO', 'COM VÍTIMA', 'ENTRADA E SAÍDA', 'OUTROS', 'SEM VÍTIMA',\n",
              "       'VÍTIMA FATAL'],\n",
              "      dtype='object')</td>\n",
              "    </tr>\n",
              "    <tr>\n",
              "      <th id=\"T_87ae2_level0_row1\" class=\"row_heading level0 row1\" >situacao</th>\n",
              "      <td id=\"T_87ae2_row1_col0\" class=\"data row1 col0\" >Index(['CANCELADA', 'DUPLICIDADE', 'EM ABERTO', 'EQUIPE EM DESLOCAMENTO',\n",
              "       'EQUIPE NO LOCAL', 'EVADIU-SE', 'FINALIZADA', 'PENDENTE'],\n",
              "      dtype='object')</td>\n",
              "    </tr>\n",
              "    <tr>\n",
              "      <th id=\"T_87ae2_level0_row2\" class=\"row_heading level0 row2\" >bairro</th>\n",
              "      <td id=\"T_87ae2_row2_col0\" class=\"data row2 col0\" >Index(['AFLITOS', 'AFOGADOS', 'ALTO DO MANDU', 'ALTO JOSÉ BONIFÁCIO',\n",
              "       'ALTO JOSÉ DO PINHO', 'ALTO SANTA TERESINHA', 'APIPUCOS', 'AREIAS',\n",
              "       'ARRUDA', 'BAIRRO DO RECIFE', 'BARRO', 'BEBERIBE', 'BOA VIAGEM',\n",
              "       'BOA VISTA', 'BOMBA DO HEMETERIO', 'BOMBA DO HEMETÉRIO', 'BONGI',\n",
              "       'BRASÍLIA TEIMOSA', 'BREJO DA GUABIRABA', 'BREJO DE BEBERIBE',\n",
              "       'CABANGA', 'CAJUEIRO', 'CAMPINA DO BARRETO', 'CAMPO GRANDE',\n",
              "       'CASA AMARELA', 'CASA FORTE', 'CAXANGÁ', 'CAÇOTE',\n",
              "       'CIDADE UNIVERSITÁRIA', 'COELHOS', 'COHAB', 'COQUEIRAL', 'CORDEIRO',\n",
              "       'CURADO', 'CÓRREGO DO JENIPAPO', 'DERBY', 'DOIS IRMÃOS', 'DOIS UNIDOS',\n",
              "       'ENCRUZILHADA', 'ENGENHO DO MEIO', 'ESPINHEIRO', 'ESTÂNCIA', 'FUNDÃO',\n",
              "       'GRAÇAS', 'GUABIRABA', 'HIPÓDROMO', 'IBURA', 'ILHA DO LEITE',\n",
              "       'ILHA DO RETIRO', 'ILHA JOANA BEZERRA', 'IMBIRIBEIRA', 'IPESEP',\n",
              "       'IPSEP', 'IPUTINGA', 'JAQUEIRA', 'JARDIM SÃO PAULO', 'JIQUIÁ',\n",
              "       'JOANA BEZERRA', 'JORDÃO', 'LINHA DO TIRO', 'MACAXEIRA', 'MADALENA',\n",
              "       'MANGABEIRA', 'MANGUEIRA', 'MONTEIRO', 'MORRO DA CONCEIÇÃO',\n",
              "       'MUSTARDINHA', 'NOVA DESCOBERTA', 'PAISSANDU', 'PARNAMIRIM',\n",
              "       'PASSARINHO', 'PINA', 'PONTO DE PARADA', 'PORTO DA MADEIRA',\n",
              "       'POÇO DA PANELA', 'PRADO', 'ROSARINHO', 'SAN MARTIN', 'SANCHO',\n",
              "       'SANTANA', 'SANTO AMARO', 'SANTO ANTÔNIO', 'SOLEDADE', 'SÃO JOSÉ',\n",
              "       'SÍTIO DOS PINTOS', 'TAMARINEIRA', 'TEJIPIÓ', 'TORRE', 'TORREÃO',\n",
              "       'TORRÕES', 'TOTÓ', 'VASCO DA GAMA', 'VÁRZEA', 'ZUMBI', 'ÁGUA FRIA'],\n",
              "      dtype='object')</td>\n",
              "    </tr>\n",
              "    <tr>\n",
              "      <th id=\"T_87ae2_level0_row3\" class=\"row_heading level0 row3\" >tipo</th>\n",
              "      <td id=\"T_87ae2_row3_col0\" class=\"data row3 col0\" >Index(['0', 'ABALROAMENTO LONGITUDINAL', 'ABALROAMENTO TRANSVERSAL',\n",
              "       'ACID. DE PERCURSO', 'ALAGAMENTO', 'APOIO COMPESA', 'ATROPELAMENTO',\n",
              "       'ATROPELAMENTO ANIMAL', 'ATROPELAMENTO DE ANIMAL',\n",
              "       'ATROPELAMENTO DE PESSOA', 'CAPOTAMENTO', 'CHOQUE',\n",
              "       'CHOQUE OBJETO FIXO', 'CHOQUE VEÍCULO PARADO', 'COLISÃO',\n",
              "       'COLISÃO COM CICLISTA', 'COLISÃO FRONTAL', 'COLISÃO LATERAL',\n",
              "       'COLISÃO TRANSVERSAL', 'COLISÃO TRASEIRA', 'ENGAVETAMENTO',\n",
              "       'MONITORAMENTO', 'OUTROS', 'OUTROS APOIOS', 'QUEDA', 'SANTO AMARO',\n",
              "       'SEMÁFORO', 'SUBURBIO', 'TOMBAMENTO'],\n",
              "      dtype='object')</td>\n",
              "    </tr>\n",
              "    <tr>\n",
              "      <th id=\"T_87ae2_level0_row4\" class=\"row_heading level0 row4\" >acidente_verificado</th>\n",
              "      <td id=\"T_87ae2_row4_col0\" class=\"data row4 col0\" >Index(['APÓS O TREVO', 'Cruzamento', 'Esquina', 'Longo da via',\n",
              "       'Não informado', 'Outros', 'Ponte', 'Rotatória', 'Viaduto'],\n",
              "      dtype='object')</td>\n",
              "    </tr>\n",
              "    <tr>\n",
              "      <th id=\"T_87ae2_level0_row5\" class=\"row_heading level0 row5\" >tempo_clima</th>\n",
              "      <td id=\"T_87ae2_row5_col0\" class=\"data row5 col0\" >Index(['Bom', 'Chuvoso', 'Nublado'], dtype='object')</td>\n",
              "    </tr>\n",
              "    <tr>\n",
              "      <th id=\"T_87ae2_level0_row6\" class=\"row_heading level0 row6\" >situacao_semaforo</th>\n",
              "      <td id=\"T_87ae2_row6_col0\" class=\"data row6 col0\" >Index(['Com defeito', 'Desligado', 'Intermitente', 'Não existe',\n",
              "       'Sem defeito'],\n",
              "      dtype='object')</td>\n",
              "    </tr>\n",
              "    <tr>\n",
              "      <th id=\"T_87ae2_level0_row7\" class=\"row_heading level0 row7\" >sinalizacao</th>\n",
              "      <td id=\"T_87ae2_row7_col0\" class=\"data row7 col0\" >Index(['Ilegível', 'Incompleta', 'Não existente', 'Perfeito estado'], dtype='object')</td>\n",
              "    </tr>\n",
              "    <tr>\n",
              "      <th id=\"T_87ae2_level0_row8\" class=\"row_heading level0 row8\" >condicao_via</th>\n",
              "      <td id=\"T_87ae2_row8_col0\" class=\"data row8 col0\" >Index(['Molhada', 'Oleosa', 'Outros', 'Seca'], dtype='object')</td>\n",
              "    </tr>\n",
              "    <tr>\n",
              "      <th id=\"T_87ae2_level0_row9\" class=\"row_heading level0 row9\" >conservacao_via</th>\n",
              "      <td id=\"T_87ae2_row9_col0\" class=\"data row9 col0\" >Index(['Mal conservada', 'Mal iluminada', 'Não há', 'Outros',\n",
              "       'Perfeito estado'],\n",
              "      dtype='object')</td>\n",
              "    </tr>\n",
              "    <tr>\n",
              "      <th id=\"T_87ae2_level0_row10\" class=\"row_heading level0 row10\" >ponto_controle</th>\n",
              "      <td id=\"T_87ae2_row10_col0\" class=\"data row10 col0\" >Index(['Agente', 'Faixa de pedestre', 'Faixa de retenção', 'Não existe',\n",
              "       'OUTROS', 'Outros'],\n",
              "      dtype='object')</td>\n",
              "    </tr>\n",
              "    <tr>\n",
              "      <th id=\"T_87ae2_level0_row11\" class=\"row_heading level0 row11\" >situacao_placa</th>\n",
              "      <td id=\"T_87ae2_row11_col0\" class=\"data row11 col0\" >Index(['A-33a', 'Não há placas', 'OUTRAS', 'OUTROS', 'Outras',\n",
              "       'Placas \"Dê a preferência\"', 'Placas \"Pare\"', 'Placas Dê a preferência',\n",
              "       'Placas Pare', 'R-1', 'R-15', 'R-18', 'R-19', 'R-24a', 'R-24b', 'R-25a',\n",
              "       'R-25b', 'R-25c', 'R-25d', 'R-26', 'R-28', 'R-3', 'R-30', 'R-31',\n",
              "       'R-32', 'R-33', 'R-34', 'R-4a', 'R-4b', 'R-5a', 'R-5b', 'R-6a', 'R-6b',\n",
              "       'R-6c', 'R-8a', 'R6A', 'R6A e R6B'],\n",
              "      dtype='object')</td>\n",
              "    </tr>\n",
              "    <tr>\n",
              "      <th id=\"T_87ae2_level0_row12\" class=\"row_heading level0 row12\" >mao_direcao</th>\n",
              "      <td id=\"T_87ae2_row12_col0\" class=\"data row12 col0\" >Index(['Dupla', 'Inglesa', 'Única'], dtype='object')</td>\n",
              "    </tr>\n",
              "    <tr>\n",
              "      <th id=\"T_87ae2_level0_row13\" class=\"row_heading level0 row13\" >divisao_via1</th>\n",
              "      <td id=\"T_87ae2_row13_col0\" class=\"data row13 col0\" >Index(['Blocos', 'CANAL', 'Canal', 'Canteiro central', 'FAIXA', 'Faixa',\n",
              "       'Faixa contínua', 'Faixa seccionada', 'Não existe', 'Outros', 'faixa'],\n",
              "      dtype='object')</td>\n",
              "    </tr>\n",
              "  </tbody>\n",
              "</table>\n"
            ]
          },
          "metadata": {},
          "execution_count": 9
        }
      ]
    },
    {
      "cell_type": "markdown",
      "source": [
        "#### Tratamento de dados ausentes"
      ],
      "metadata": {
        "id": "6y5BpP5nqLQH"
      }
    },
    {
      "cell_type": "code",
      "source": [
        "#Verificando a quantidade de nulos\n",
        "dataframe.isna().sum().to_frame().style"
      ],
      "metadata": {
        "id": "gJXztqskn9oW",
        "colab": {
          "base_uri": "https://localhost:8080/",
          "height": 896
        },
        "outputId": "02fd2302-5612-467d-f461-f11b006a2036"
      },
      "execution_count": 10,
      "outputs": [
        {
          "output_type": "execute_result",
          "data": {
            "text/plain": [
              "<pandas.io.formats.style.Styler at 0x7f4ccb279b10>"
            ],
            "text/html": [
              "<style type=\"text/css\">\n",
              "</style>\n",
              "<table id=\"T_2a033_\" class=\"dataframe\">\n",
              "  <thead>\n",
              "    <tr>\n",
              "      <th class=\"blank level0\" >&nbsp;</th>\n",
              "      <th class=\"col_heading level0 col0\" >0</th>\n",
              "    </tr>\n",
              "  </thead>\n",
              "  <tbody>\n",
              "    <tr>\n",
              "      <th id=\"T_2a033_level0_row0\" class=\"row_heading level0 row0\" >data</th>\n",
              "      <td id=\"T_2a033_row0_col0\" class=\"data row0 col0\" >0</td>\n",
              "    </tr>\n",
              "    <tr>\n",
              "      <th id=\"T_2a033_level0_row1\" class=\"row_heading level0 row1\" >hora</th>\n",
              "      <td id=\"T_2a033_row1_col0\" class=\"data row1 col0\" >0</td>\n",
              "    </tr>\n",
              "    <tr>\n",
              "      <th id=\"T_2a033_level0_row2\" class=\"row_heading level0 row2\" >natureza_acidente</th>\n",
              "      <td id=\"T_2a033_row2_col0\" class=\"data row2 col0\" >108</td>\n",
              "    </tr>\n",
              "    <tr>\n",
              "      <th id=\"T_2a033_level0_row3\" class=\"row_heading level0 row3\" >situacao</th>\n",
              "      <td id=\"T_2a033_row3_col0\" class=\"data row3 col0\" >9</td>\n",
              "    </tr>\n",
              "    <tr>\n",
              "      <th id=\"T_2a033_level0_row4\" class=\"row_heading level0 row4\" >bairro</th>\n",
              "      <td id=\"T_2a033_row4_col0\" class=\"data row4 col0\" >212</td>\n",
              "    </tr>\n",
              "    <tr>\n",
              "      <th id=\"T_2a033_level0_row5\" class=\"row_heading level0 row5\" >tipo</th>\n",
              "      <td id=\"T_2a033_row5_col0\" class=\"data row5 col0\" >58</td>\n",
              "    </tr>\n",
              "    <tr>\n",
              "      <th id=\"T_2a033_level0_row6\" class=\"row_heading level0 row6\" >auto</th>\n",
              "      <td id=\"T_2a033_row6_col0\" class=\"data row6 col0\" >2524</td>\n",
              "    </tr>\n",
              "    <tr>\n",
              "      <th id=\"T_2a033_level0_row7\" class=\"row_heading level0 row7\" >moto</th>\n",
              "      <td id=\"T_2a033_row7_col0\" class=\"data row7 col0\" >20267</td>\n",
              "    </tr>\n",
              "    <tr>\n",
              "      <th id=\"T_2a033_level0_row8\" class=\"row_heading level0 row8\" >ciclom</th>\n",
              "      <td id=\"T_2a033_row8_col0\" class=\"data row8 col0\" >27408</td>\n",
              "    </tr>\n",
              "    <tr>\n",
              "      <th id=\"T_2a033_level0_row9\" class=\"row_heading level0 row9\" >ciclista</th>\n",
              "      <td id=\"T_2a033_row9_col0\" class=\"data row9 col0\" >26992</td>\n",
              "    </tr>\n",
              "    <tr>\n",
              "      <th id=\"T_2a033_level0_row10\" class=\"row_heading level0 row10\" >pedestre</th>\n",
              "      <td id=\"T_2a033_row10_col0\" class=\"data row10 col0\" >26914</td>\n",
              "    </tr>\n",
              "    <tr>\n",
              "      <th id=\"T_2a033_level0_row11\" class=\"row_heading level0 row11\" >onibus</th>\n",
              "      <td id=\"T_2a033_row11_col0\" class=\"data row11 col0\" >23478</td>\n",
              "    </tr>\n",
              "    <tr>\n",
              "      <th id=\"T_2a033_level0_row12\" class=\"row_heading level0 row12\" >caminhao</th>\n",
              "      <td id=\"T_2a033_row12_col0\" class=\"data row12 col0\" >24789</td>\n",
              "    </tr>\n",
              "    <tr>\n",
              "      <th id=\"T_2a033_level0_row13\" class=\"row_heading level0 row13\" >viatura</th>\n",
              "      <td id=\"T_2a033_row13_col0\" class=\"data row13 col0\" >27174</td>\n",
              "    </tr>\n",
              "    <tr>\n",
              "      <th id=\"T_2a033_level0_row14\" class=\"row_heading level0 row14\" >outros</th>\n",
              "      <td id=\"T_2a033_row14_col0\" class=\"data row14 col0\" >27133</td>\n",
              "    </tr>\n",
              "    <tr>\n",
              "      <th id=\"T_2a033_level0_row15\" class=\"row_heading level0 row15\" >vitimas</th>\n",
              "      <td id=\"T_2a033_row15_col0\" class=\"data row15 col0\" >57</td>\n",
              "    </tr>\n",
              "    <tr>\n",
              "      <th id=\"T_2a033_level0_row16\" class=\"row_heading level0 row16\" >vitimasfatais</th>\n",
              "      <td id=\"T_2a033_row16_col0\" class=\"data row16 col0\" >27456</td>\n",
              "    </tr>\n",
              "    <tr>\n",
              "      <th id=\"T_2a033_level0_row17\" class=\"row_heading level0 row17\" >acidente_verificado</th>\n",
              "      <td id=\"T_2a033_row17_col0\" class=\"data row17 col0\" >13751</td>\n",
              "    </tr>\n",
              "    <tr>\n",
              "      <th id=\"T_2a033_level0_row18\" class=\"row_heading level0 row18\" >tempo_clima</th>\n",
              "      <td id=\"T_2a033_row18_col0\" class=\"data row18 col0\" >13172</td>\n",
              "    </tr>\n",
              "    <tr>\n",
              "      <th id=\"T_2a033_level0_row19\" class=\"row_heading level0 row19\" >situacao_semaforo</th>\n",
              "      <td id=\"T_2a033_row19_col0\" class=\"data row19 col0\" >13380</td>\n",
              "    </tr>\n",
              "    <tr>\n",
              "      <th id=\"T_2a033_level0_row20\" class=\"row_heading level0 row20\" >sinalizacao</th>\n",
              "      <td id=\"T_2a033_row20_col0\" class=\"data row20 col0\" >13488</td>\n",
              "    </tr>\n",
              "    <tr>\n",
              "      <th id=\"T_2a033_level0_row21\" class=\"row_heading level0 row21\" >condicao_via</th>\n",
              "      <td id=\"T_2a033_row21_col0\" class=\"data row21 col0\" >13223</td>\n",
              "    </tr>\n",
              "    <tr>\n",
              "      <th id=\"T_2a033_level0_row22\" class=\"row_heading level0 row22\" >conservacao_via</th>\n",
              "      <td id=\"T_2a033_row22_col0\" class=\"data row22 col0\" >13466</td>\n",
              "    </tr>\n",
              "    <tr>\n",
              "      <th id=\"T_2a033_level0_row23\" class=\"row_heading level0 row23\" >ponto_controle</th>\n",
              "      <td id=\"T_2a033_row23_col0\" class=\"data row23 col0\" >14730</td>\n",
              "    </tr>\n",
              "    <tr>\n",
              "      <th id=\"T_2a033_level0_row24\" class=\"row_heading level0 row24\" >situacao_placa</th>\n",
              "      <td id=\"T_2a033_row24_col0\" class=\"data row24 col0\" >14752</td>\n",
              "    </tr>\n",
              "    <tr>\n",
              "      <th id=\"T_2a033_level0_row25\" class=\"row_heading level0 row25\" >mao_direcao</th>\n",
              "      <td id=\"T_2a033_row25_col0\" class=\"data row25 col0\" >13510</td>\n",
              "    </tr>\n",
              "    <tr>\n",
              "      <th id=\"T_2a033_level0_row26\" class=\"row_heading level0 row26\" >divisao_via1</th>\n",
              "      <td id=\"T_2a033_row26_col0\" class=\"data row26 col0\" >14132</td>\n",
              "    </tr>\n",
              "  </tbody>\n",
              "</table>\n"
            ]
          },
          "metadata": {},
          "execution_count": 10
        }
      ]
    },
    {
      "cell_type": "markdown",
      "source": [
        "#### Remoção de colunas com dados ausentes"
      ],
      "metadata": {
        "id": "Gdn6R2TBqS3J"
      }
    },
    {
      "cell_type": "code",
      "source": [
        "target_columns = [\n",
        "      'natureza_acidente', 'situacao', 'bairro', 'tipo', 'acidente_verificado',\n",
        "      'tempo_clima', 'situacao_semaforo', 'sinalizacao', 'condicao_via', 'conservacao_via', \n",
        "      'ponto_controle', 'situacao_placa', 'mao_direcao', 'divisao_via1'\n",
        "]"
      ],
      "metadata": {
        "id": "d32NiZ2VJrEi"
      },
      "execution_count": 11,
      "outputs": []
    },
    {
      "cell_type": "code",
      "source": [
        "clean_dataframe = dataframe.dropna(subset=target_columns).reset_index(drop=True)"
      ],
      "metadata": {
        "id": "LVDCjDIERYMt"
      },
      "execution_count": 12,
      "outputs": []
    },
    {
      "cell_type": "code",
      "source": [
        "results = clean_dataframe.apply(lambda col: col.unique().tolist() if col.name in target_columns else None).dropna()\n",
        "results.to_frame().style"
      ],
      "metadata": {
        "id": "JDGBV5UmVpn4",
        "colab": {
          "base_uri": "https://localhost:8080/",
          "height": 575
        },
        "outputId": "359697dc-c727-41dc-eb88-cfb67dc92f21"
      },
      "execution_count": 13,
      "outputs": [
        {
          "output_type": "execute_result",
          "data": {
            "text/plain": [
              "<pandas.io.formats.style.Styler at 0x7f4ccb539b50>"
            ],
            "text/html": [
              "<style type=\"text/css\">\n",
              "</style>\n",
              "<table id=\"T_ed5ef_\" class=\"dataframe\">\n",
              "  <thead>\n",
              "    <tr>\n",
              "      <th class=\"blank level0\" >&nbsp;</th>\n",
              "      <th class=\"col_heading level0 col0\" >0</th>\n",
              "    </tr>\n",
              "  </thead>\n",
              "  <tbody>\n",
              "    <tr>\n",
              "      <th id=\"T_ed5ef_level0_row0\" class=\"row_heading level0 row0\" >natureza_acidente</th>\n",
              "      <td id=\"T_ed5ef_row0_col0\" class=\"data row0 col0\" >['SEM VÍTIMA', 'COM VÍTIMA', 'VÍTIMA FATAL', 'OUTROS']</td>\n",
              "    </tr>\n",
              "    <tr>\n",
              "      <th id=\"T_ed5ef_level0_row1\" class=\"row_heading level0 row1\" >situacao</th>\n",
              "      <td id=\"T_ed5ef_row1_col0\" class=\"data row1 col0\" >['FINALIZADA', 'CANCELADA', 'EQUIPE EM DESLOCAMENTO', 'DUPLICIDADE', 'EQUIPE NO LOCAL', 'EM ABERTO', 'PENDENTE']</td>\n",
              "    </tr>\n",
              "    <tr>\n",
              "      <th id=\"T_ed5ef_level0_row2\" class=\"row_heading level0 row2\" >bairro</th>\n",
              "      <td id=\"T_ed5ef_row2_col0\" class=\"data row2 col0\" >['TEJIPIÓ', 'IMBIRIBEIRA', 'CAMPO GRANDE', 'DERBY', 'GRAÇAS', 'SANTO AMARO', 'BOA VIAGEM', 'ÁGUA FRIA', 'IBURA', 'IPSEP', 'ESPINHEIRO', 'JARDIM SÃO PAULO', 'MADALENA', 'CASA FORTE', 'PARNAMIRIM', 'ILHA DO LEITE', 'AFOGADOS', 'PAISSANDU', 'MUSTARDINHA', 'PINA', 'TORRÕES', 'ROSARINHO', 'ILHA DO RETIRO', 'BEBERIBE', 'BARRO', 'CIDADE UNIVERSITÁRIA', 'PRADO', 'ESTÂNCIA', 'AREIAS', 'AFLITOS', 'ARRUDA', 'TAMARINEIRA', 'BAIRRO DO RECIFE', 'JAQUEIRA', 'SAN MARTIN', 'BONGI', 'CASA AMARELA', 'IPUTINGA', 'CAXANGÁ', 'ENCRUZILHADA', 'BOA VISTA', 'SÃO JOSÉ', 'VÁRZEA', 'BOMBA DO HEMETÉRIO', 'ILHA JOANA BEZERRA', 'COELHOS', 'MANGUEIRA', 'ENGENHO DO MEIO', 'NOVA DESCOBERTA', 'SOLEDADE', 'CABANGA', 'SANTO ANTÔNIO', 'DOIS UNIDOS', 'TORRE', 'TORREÃO', 'CORDEIRO', 'MACAXEIRA', 'HIPÓDROMO', 'JIQUIÁ', 'MANGABEIRA', 'DOIS IRMÃOS', 'JORDÃO', 'VASCO DA GAMA', 'LINHA DO TIRO', 'APIPUCOS', 'ALTO JOSÉ DO PINHO', 'BRASÍLIA TEIMOSA', 'COQUEIRAL', 'ZUMBI', 'JOANA BEZERRA', 'CAÇOTE', 'CAJUEIRO', 'FUNDÃO', 'SANCHO', 'MONTEIRO', 'TOTÓ', 'PONTO DE PARADA', 'GUABIRABA', 'ALTO DO MANDU', 'PORTO DA MADEIRA', 'CAMPINA DO BARRETO', 'SANTANA', 'POÇO DA PANELA', 'ALTO JOSÉ BONIFÁCIO', 'MORRO DA CONCEIÇÃO', 'CÓRREGO DO JENIPAPO', 'PASSARINHO', 'BREJO DA GUABIRABA', 'SÍTIO DOS PINTOS', 'CURADO', 'BREJO DE BEBERIBE', 'COHAB', 'ALTO SANTA TERESINHA', 'BOMBA DO HEMETERIO']</td>\n",
              "    </tr>\n",
              "    <tr>\n",
              "      <th id=\"T_ed5ef_level0_row3\" class=\"row_heading level0 row3\" >tipo</th>\n",
              "      <td id=\"T_ed5ef_row3_col0\" class=\"data row3 col0\" >['COLISÃO TRASEIRA', 'ABALROAMENTO LONGITUDINAL', 'CHOQUE VEÍCULO PARADO', 'ABALROAMENTO TRANSVERSAL', 'CAPOTAMENTO', 'COLISÃO FRONTAL', 'COLISÃO COM CICLISTA', 'ATROPELAMENTO', 'CHOQUE OBJETO FIXO', 'ACID. DE PERCURSO', 'CHOQUE', 'COLISÃO', 'TOMBAMENTO', 'ATROPELAMENTO ANIMAL', 'ENGAVETAMENTO', 'COLISÃO LATERAL', 'COLISÃO TRANSVERSAL', 'ATROPELAMENTO DE PESSOA', 'QUEDA', 'ATROPELAMENTO DE ANIMAL', 'OUTROS']</td>\n",
              "    </tr>\n",
              "    <tr>\n",
              "      <th id=\"T_ed5ef_level0_row4\" class=\"row_heading level0 row4\" >acidente_verificado</th>\n",
              "      <td id=\"T_ed5ef_row4_col0\" class=\"data row4 col0\" >['Longo da via', 'Outros', 'Cruzamento', 'Ponte', 'Viaduto', 'Esquina', 'Não informado', 'Rotatória']</td>\n",
              "    </tr>\n",
              "    <tr>\n",
              "      <th id=\"T_ed5ef_level0_row5\" class=\"row_heading level0 row5\" >tempo_clima</th>\n",
              "      <td id=\"T_ed5ef_row5_col0\" class=\"data row5 col0\" >['Bom', 'Chuvoso', 'Nublado']</td>\n",
              "    </tr>\n",
              "    <tr>\n",
              "      <th id=\"T_ed5ef_level0_row6\" class=\"row_heading level0 row6\" >situacao_semaforo</th>\n",
              "      <td id=\"T_ed5ef_row6_col0\" class=\"data row6 col0\" >['Não existe', 'Sem defeito', 'Intermitente', 'Com defeito', 'Desligado']</td>\n",
              "    </tr>\n",
              "    <tr>\n",
              "      <th id=\"T_ed5ef_level0_row7\" class=\"row_heading level0 row7\" >sinalizacao</th>\n",
              "      <td id=\"T_ed5ef_row7_col0\" class=\"data row7 col0\" >['Não existente', 'Perfeito estado', 'Ilegível', 'Incompleta']</td>\n",
              "    </tr>\n",
              "    <tr>\n",
              "      <th id=\"T_ed5ef_level0_row8\" class=\"row_heading level0 row8\" >condicao_via</th>\n",
              "      <td id=\"T_ed5ef_row8_col0\" class=\"data row8 col0\" >['Seca', 'Molhada', 'Outros', 'Oleosa']</td>\n",
              "    </tr>\n",
              "    <tr>\n",
              "      <th id=\"T_ed5ef_level0_row9\" class=\"row_heading level0 row9\" >conservacao_via</th>\n",
              "      <td id=\"T_ed5ef_row9_col0\" class=\"data row9 col0\" >['Perfeito estado', 'Mal iluminada', 'Mal conservada', 'Não há', 'Outros']</td>\n",
              "    </tr>\n",
              "    <tr>\n",
              "      <th id=\"T_ed5ef_level0_row10\" class=\"row_heading level0 row10\" >ponto_controle</th>\n",
              "      <td id=\"T_ed5ef_row10_col0\" class=\"data row10 col0\" >['Não existe', 'Faixa de pedestre', 'Outros', 'Agente', 'Faixa de retenção', 'OUTROS']</td>\n",
              "    </tr>\n",
              "    <tr>\n",
              "      <th id=\"T_ed5ef_level0_row11\" class=\"row_heading level0 row11\" >situacao_placa</th>\n",
              "      <td id=\"T_ed5ef_row11_col0\" class=\"data row11 col0\" >['Não há placas', 'Placas \"Pare\"', 'Outras', 'Placas \"Dê a preferência\"', 'R6A e R6B', 'R-19', 'OUTRAS', 'R6A', 'R-6a', 'OUTROS', 'R-6c', 'R-25c', 'R-4a', 'R-32', 'R-6b', 'R-34', 'R-4b', 'R-25d', 'R-24a', 'Placas Pare', 'Placas Dê a preferência', 'R-25b', 'R-26', 'R-33', 'R-25a', 'A-33a', 'R-5a', 'R-1', 'R-3', 'R-24b', 'R-8a', 'R-31', 'R-5b', 'R-18', 'R-30']</td>\n",
              "    </tr>\n",
              "    <tr>\n",
              "      <th id=\"T_ed5ef_level0_row12\" class=\"row_heading level0 row12\" >mao_direcao</th>\n",
              "      <td id=\"T_ed5ef_row12_col0\" class=\"data row12 col0\" >['Dupla', 'Única', 'Inglesa']</td>\n",
              "    </tr>\n",
              "    <tr>\n",
              "      <th id=\"T_ed5ef_level0_row13\" class=\"row_heading level0 row13\" >divisao_via1</th>\n",
              "      <td id=\"T_ed5ef_row13_col0\" class=\"data row13 col0\" >['Faixa contínua', 'Canteiro central', 'Não existe', 'Faixa seccionada', 'Canal', 'faixa', 'CANAL', 'FAIXA', 'Outros', 'Blocos', 'Faixa']</td>\n",
              "    </tr>\n",
              "  </tbody>\n",
              "</table>\n"
            ]
          },
          "metadata": {},
          "execution_count": 13
        }
      ]
    },
    {
      "cell_type": "code",
      "source": [
        "clean_dataframe"
      ],
      "metadata": {
        "id": "Goe0gm4BWFRf",
        "colab": {
          "base_uri": "https://localhost:8080/",
          "height": 641
        },
        "outputId": "2c3bc3d2-257b-4e2b-d7b5-e09d86625e55"
      },
      "execution_count": 14,
      "outputs": [
        {
          "output_type": "execute_result",
          "data": {
            "text/plain": [
              "            data                hora natureza_acidente    situacao  \\\n",
              "0     2018-10-12 2022-10-04 11:32:00        SEM VÍTIMA  FINALIZADA   \n",
              "1     2018-10-12 2022-10-04 12:50:00        SEM VÍTIMA  FINALIZADA   \n",
              "2     2018-10-12 2022-10-04 13:23:00        SEM VÍTIMA  FINALIZADA   \n",
              "3     2018-10-12 2022-10-04 17:53:00        SEM VÍTIMA  FINALIZADA   \n",
              "4     2018-10-12 2022-10-04 18:25:00        SEM VÍTIMA  FINALIZADA   \n",
              "...          ...                 ...               ...         ...   \n",
              "12260 2021-12-30 2022-10-04 12:34:00        COM VÍTIMA  FINALIZADA   \n",
              "12261 2021-12-31 2022-10-04 10:13:00        COM VÍTIMA  FINALIZADA   \n",
              "12262 2021-12-31 2022-10-04 11:36:00        COM VÍTIMA  FINALIZADA   \n",
              "12263 2021-12-31 2022-10-04 12:56:00        COM VÍTIMA  FINALIZADA   \n",
              "12264 2021-12-31 2022-10-04 15:00:00        COM VÍTIMA  FINALIZADA   \n",
              "\n",
              "             bairro                       tipo  auto  moto  ciclom  ciclista  \\\n",
              "0           TEJIPIÓ           COLISÃO TRASEIRA   2.0   NaN     NaN       NaN   \n",
              "1       IMBIRIBEIRA  ABALROAMENTO LONGITUDINAL   NaN   NaN     NaN       NaN   \n",
              "2      CAMPO GRANDE      CHOQUE VEÍCULO PARADO   2.0   NaN     NaN       NaN   \n",
              "3             DERBY  ABALROAMENTO LONGITUDINAL   1.0   NaN     NaN       NaN   \n",
              "4            GRAÇAS  ABALROAMENTO LONGITUDINAL   1.0   1.0     NaN       NaN   \n",
              "...             ...                        ...   ...   ...     ...       ...   \n",
              "12260          PINA            COLISÃO LATERAL   1.0   1.0     0.0       0.0   \n",
              "12261    SAN MARTIN       COLISÃO COM CICLISTA   1.0   0.0     0.0       1.0   \n",
              "12262      ESTÂNCIA           COLISÃO TRASEIRA   1.0   1.0     0.0       0.0   \n",
              "12263        VÁRZEA            COLISÃO FRONTAL   0.0   1.0     0.0       0.0   \n",
              "12264       TORREÃO           COLISÃO TRASEIRA   2.0   0.0     0.0       0.0   \n",
              "\n",
              "       ...  acidente_verificado  tempo_clima  situacao_semaforo  \\\n",
              "0      ...         Longo da via          Bom         Não existe   \n",
              "1      ...         Longo da via          Bom         Não existe   \n",
              "2      ...               Outros          Bom         Não existe   \n",
              "3      ...               Outros          Bom         Não existe   \n",
              "4      ...           Cruzamento          Bom        Sem defeito   \n",
              "...    ...                  ...          ...                ...   \n",
              "12260  ...         Longo da via          Bom        Sem defeito   \n",
              "12261  ...         Longo da via          Bom        Sem defeito   \n",
              "12262  ...         Longo da via          Bom        Sem defeito   \n",
              "12263  ...           Cruzamento          Bom         Não existe   \n",
              "12264  ...           Cruzamento          Bom        Sem defeito   \n",
              "\n",
              "           sinalizacao  condicao_via  conservacao_via     ponto_controle  \\\n",
              "0        Não existente          Seca  Perfeito estado         Não existe   \n",
              "1      Perfeito estado          Seca  Perfeito estado         Não existe   \n",
              "2        Não existente          Seca  Perfeito estado         Não existe   \n",
              "3      Perfeito estado          Seca  Perfeito estado         Não existe   \n",
              "4      Perfeito estado          Seca  Perfeito estado         Não existe   \n",
              "...                ...           ...              ...                ...   \n",
              "12260  Perfeito estado          Seca  Perfeito estado         Não existe   \n",
              "12261  Perfeito estado          Seca  Perfeito estado         Não existe   \n",
              "12262  Perfeito estado          Seca  Perfeito estado         Não existe   \n",
              "12263  Perfeito estado          Seca  Perfeito estado         Não existe   \n",
              "12264  Perfeito estado          Seca  Perfeito estado  Faixa de pedestre   \n",
              "\n",
              "      situacao_placa mao_direcao      divisao_via1  \n",
              "0      Não há placas       Dupla    Faixa contínua  \n",
              "1      Não há placas       Dupla  Canteiro central  \n",
              "2      Não há placas       Única        Não existe  \n",
              "3      Placas \"Pare\"       Única        Não existe  \n",
              "4      Não há placas       Única  Faixa seccionada  \n",
              "...              ...         ...               ...  \n",
              "12260  Não há placas       Única        Não existe  \n",
              "12261  Não há placas       Dupla        Não existe  \n",
              "12262           R-6a       Dupla    Faixa contínua  \n",
              "12263  Não há placas       Dupla  Faixa seccionada  \n",
              "12264         Outras       Dupla    Faixa contínua  \n",
              "\n",
              "[12265 rows x 27 columns]"
            ],
            "text/html": [
              "\n",
              "  <div id=\"df-2de56284-a51b-4aac-8cba-d66121f4dbdc\">\n",
              "    <div class=\"colab-df-container\">\n",
              "      <div>\n",
              "<style scoped>\n",
              "    .dataframe tbody tr th:only-of-type {\n",
              "        vertical-align: middle;\n",
              "    }\n",
              "\n",
              "    .dataframe tbody tr th {\n",
              "        vertical-align: top;\n",
              "    }\n",
              "\n",
              "    .dataframe thead th {\n",
              "        text-align: right;\n",
              "    }\n",
              "</style>\n",
              "<table border=\"1\" class=\"dataframe\">\n",
              "  <thead>\n",
              "    <tr style=\"text-align: right;\">\n",
              "      <th></th>\n",
              "      <th>data</th>\n",
              "      <th>hora</th>\n",
              "      <th>natureza_acidente</th>\n",
              "      <th>situacao</th>\n",
              "      <th>bairro</th>\n",
              "      <th>tipo</th>\n",
              "      <th>auto</th>\n",
              "      <th>moto</th>\n",
              "      <th>ciclom</th>\n",
              "      <th>ciclista</th>\n",
              "      <th>...</th>\n",
              "      <th>acidente_verificado</th>\n",
              "      <th>tempo_clima</th>\n",
              "      <th>situacao_semaforo</th>\n",
              "      <th>sinalizacao</th>\n",
              "      <th>condicao_via</th>\n",
              "      <th>conservacao_via</th>\n",
              "      <th>ponto_controle</th>\n",
              "      <th>situacao_placa</th>\n",
              "      <th>mao_direcao</th>\n",
              "      <th>divisao_via1</th>\n",
              "    </tr>\n",
              "  </thead>\n",
              "  <tbody>\n",
              "    <tr>\n",
              "      <th>0</th>\n",
              "      <td>2018-10-12</td>\n",
              "      <td>2022-10-04 11:32:00</td>\n",
              "      <td>SEM VÍTIMA</td>\n",
              "      <td>FINALIZADA</td>\n",
              "      <td>TEJIPIÓ</td>\n",
              "      <td>COLISÃO TRASEIRA</td>\n",
              "      <td>2.0</td>\n",
              "      <td>NaN</td>\n",
              "      <td>NaN</td>\n",
              "      <td>NaN</td>\n",
              "      <td>...</td>\n",
              "      <td>Longo da via</td>\n",
              "      <td>Bom</td>\n",
              "      <td>Não existe</td>\n",
              "      <td>Não existente</td>\n",
              "      <td>Seca</td>\n",
              "      <td>Perfeito estado</td>\n",
              "      <td>Não existe</td>\n",
              "      <td>Não há placas</td>\n",
              "      <td>Dupla</td>\n",
              "      <td>Faixa contínua</td>\n",
              "    </tr>\n",
              "    <tr>\n",
              "      <th>1</th>\n",
              "      <td>2018-10-12</td>\n",
              "      <td>2022-10-04 12:50:00</td>\n",
              "      <td>SEM VÍTIMA</td>\n",
              "      <td>FINALIZADA</td>\n",
              "      <td>IMBIRIBEIRA</td>\n",
              "      <td>ABALROAMENTO LONGITUDINAL</td>\n",
              "      <td>NaN</td>\n",
              "      <td>NaN</td>\n",
              "      <td>NaN</td>\n",
              "      <td>NaN</td>\n",
              "      <td>...</td>\n",
              "      <td>Longo da via</td>\n",
              "      <td>Bom</td>\n",
              "      <td>Não existe</td>\n",
              "      <td>Perfeito estado</td>\n",
              "      <td>Seca</td>\n",
              "      <td>Perfeito estado</td>\n",
              "      <td>Não existe</td>\n",
              "      <td>Não há placas</td>\n",
              "      <td>Dupla</td>\n",
              "      <td>Canteiro central</td>\n",
              "    </tr>\n",
              "    <tr>\n",
              "      <th>2</th>\n",
              "      <td>2018-10-12</td>\n",
              "      <td>2022-10-04 13:23:00</td>\n",
              "      <td>SEM VÍTIMA</td>\n",
              "      <td>FINALIZADA</td>\n",
              "      <td>CAMPO GRANDE</td>\n",
              "      <td>CHOQUE VEÍCULO PARADO</td>\n",
              "      <td>2.0</td>\n",
              "      <td>NaN</td>\n",
              "      <td>NaN</td>\n",
              "      <td>NaN</td>\n",
              "      <td>...</td>\n",
              "      <td>Outros</td>\n",
              "      <td>Bom</td>\n",
              "      <td>Não existe</td>\n",
              "      <td>Não existente</td>\n",
              "      <td>Seca</td>\n",
              "      <td>Perfeito estado</td>\n",
              "      <td>Não existe</td>\n",
              "      <td>Não há placas</td>\n",
              "      <td>Única</td>\n",
              "      <td>Não existe</td>\n",
              "    </tr>\n",
              "    <tr>\n",
              "      <th>3</th>\n",
              "      <td>2018-10-12</td>\n",
              "      <td>2022-10-04 17:53:00</td>\n",
              "      <td>SEM VÍTIMA</td>\n",
              "      <td>FINALIZADA</td>\n",
              "      <td>DERBY</td>\n",
              "      <td>ABALROAMENTO LONGITUDINAL</td>\n",
              "      <td>1.0</td>\n",
              "      <td>NaN</td>\n",
              "      <td>NaN</td>\n",
              "      <td>NaN</td>\n",
              "      <td>...</td>\n",
              "      <td>Outros</td>\n",
              "      <td>Bom</td>\n",
              "      <td>Não existe</td>\n",
              "      <td>Perfeito estado</td>\n",
              "      <td>Seca</td>\n",
              "      <td>Perfeito estado</td>\n",
              "      <td>Não existe</td>\n",
              "      <td>Placas \"Pare\"</td>\n",
              "      <td>Única</td>\n",
              "      <td>Não existe</td>\n",
              "    </tr>\n",
              "    <tr>\n",
              "      <th>4</th>\n",
              "      <td>2018-10-12</td>\n",
              "      <td>2022-10-04 18:25:00</td>\n",
              "      <td>SEM VÍTIMA</td>\n",
              "      <td>FINALIZADA</td>\n",
              "      <td>GRAÇAS</td>\n",
              "      <td>ABALROAMENTO LONGITUDINAL</td>\n",
              "      <td>1.0</td>\n",
              "      <td>1.0</td>\n",
              "      <td>NaN</td>\n",
              "      <td>NaN</td>\n",
              "      <td>...</td>\n",
              "      <td>Cruzamento</td>\n",
              "      <td>Bom</td>\n",
              "      <td>Sem defeito</td>\n",
              "      <td>Perfeito estado</td>\n",
              "      <td>Seca</td>\n",
              "      <td>Perfeito estado</td>\n",
              "      <td>Não existe</td>\n",
              "      <td>Não há placas</td>\n",
              "      <td>Única</td>\n",
              "      <td>Faixa seccionada</td>\n",
              "    </tr>\n",
              "    <tr>\n",
              "      <th>...</th>\n",
              "      <td>...</td>\n",
              "      <td>...</td>\n",
              "      <td>...</td>\n",
              "      <td>...</td>\n",
              "      <td>...</td>\n",
              "      <td>...</td>\n",
              "      <td>...</td>\n",
              "      <td>...</td>\n",
              "      <td>...</td>\n",
              "      <td>...</td>\n",
              "      <td>...</td>\n",
              "      <td>...</td>\n",
              "      <td>...</td>\n",
              "      <td>...</td>\n",
              "      <td>...</td>\n",
              "      <td>...</td>\n",
              "      <td>...</td>\n",
              "      <td>...</td>\n",
              "      <td>...</td>\n",
              "      <td>...</td>\n",
              "      <td>...</td>\n",
              "    </tr>\n",
              "    <tr>\n",
              "      <th>12260</th>\n",
              "      <td>2021-12-30</td>\n",
              "      <td>2022-10-04 12:34:00</td>\n",
              "      <td>COM VÍTIMA</td>\n",
              "      <td>FINALIZADA</td>\n",
              "      <td>PINA</td>\n",
              "      <td>COLISÃO LATERAL</td>\n",
              "      <td>1.0</td>\n",
              "      <td>1.0</td>\n",
              "      <td>0.0</td>\n",
              "      <td>0.0</td>\n",
              "      <td>...</td>\n",
              "      <td>Longo da via</td>\n",
              "      <td>Bom</td>\n",
              "      <td>Sem defeito</td>\n",
              "      <td>Perfeito estado</td>\n",
              "      <td>Seca</td>\n",
              "      <td>Perfeito estado</td>\n",
              "      <td>Não existe</td>\n",
              "      <td>Não há placas</td>\n",
              "      <td>Única</td>\n",
              "      <td>Não existe</td>\n",
              "    </tr>\n",
              "    <tr>\n",
              "      <th>12261</th>\n",
              "      <td>2021-12-31</td>\n",
              "      <td>2022-10-04 10:13:00</td>\n",
              "      <td>COM VÍTIMA</td>\n",
              "      <td>FINALIZADA</td>\n",
              "      <td>SAN MARTIN</td>\n",
              "      <td>COLISÃO COM CICLISTA</td>\n",
              "      <td>1.0</td>\n",
              "      <td>0.0</td>\n",
              "      <td>0.0</td>\n",
              "      <td>1.0</td>\n",
              "      <td>...</td>\n",
              "      <td>Longo da via</td>\n",
              "      <td>Bom</td>\n",
              "      <td>Sem defeito</td>\n",
              "      <td>Perfeito estado</td>\n",
              "      <td>Seca</td>\n",
              "      <td>Perfeito estado</td>\n",
              "      <td>Não existe</td>\n",
              "      <td>Não há placas</td>\n",
              "      <td>Dupla</td>\n",
              "      <td>Não existe</td>\n",
              "    </tr>\n",
              "    <tr>\n",
              "      <th>12262</th>\n",
              "      <td>2021-12-31</td>\n",
              "      <td>2022-10-04 11:36:00</td>\n",
              "      <td>COM VÍTIMA</td>\n",
              "      <td>FINALIZADA</td>\n",
              "      <td>ESTÂNCIA</td>\n",
              "      <td>COLISÃO TRASEIRA</td>\n",
              "      <td>1.0</td>\n",
              "      <td>1.0</td>\n",
              "      <td>0.0</td>\n",
              "      <td>0.0</td>\n",
              "      <td>...</td>\n",
              "      <td>Longo da via</td>\n",
              "      <td>Bom</td>\n",
              "      <td>Sem defeito</td>\n",
              "      <td>Perfeito estado</td>\n",
              "      <td>Seca</td>\n",
              "      <td>Perfeito estado</td>\n",
              "      <td>Não existe</td>\n",
              "      <td>R-6a</td>\n",
              "      <td>Dupla</td>\n",
              "      <td>Faixa contínua</td>\n",
              "    </tr>\n",
              "    <tr>\n",
              "      <th>12263</th>\n",
              "      <td>2021-12-31</td>\n",
              "      <td>2022-10-04 12:56:00</td>\n",
              "      <td>COM VÍTIMA</td>\n",
              "      <td>FINALIZADA</td>\n",
              "      <td>VÁRZEA</td>\n",
              "      <td>COLISÃO FRONTAL</td>\n",
              "      <td>0.0</td>\n",
              "      <td>1.0</td>\n",
              "      <td>0.0</td>\n",
              "      <td>0.0</td>\n",
              "      <td>...</td>\n",
              "      <td>Cruzamento</td>\n",
              "      <td>Bom</td>\n",
              "      <td>Não existe</td>\n",
              "      <td>Perfeito estado</td>\n",
              "      <td>Seca</td>\n",
              "      <td>Perfeito estado</td>\n",
              "      <td>Não existe</td>\n",
              "      <td>Não há placas</td>\n",
              "      <td>Dupla</td>\n",
              "      <td>Faixa seccionada</td>\n",
              "    </tr>\n",
              "    <tr>\n",
              "      <th>12264</th>\n",
              "      <td>2021-12-31</td>\n",
              "      <td>2022-10-04 15:00:00</td>\n",
              "      <td>COM VÍTIMA</td>\n",
              "      <td>FINALIZADA</td>\n",
              "      <td>TORREÃO</td>\n",
              "      <td>COLISÃO TRASEIRA</td>\n",
              "      <td>2.0</td>\n",
              "      <td>0.0</td>\n",
              "      <td>0.0</td>\n",
              "      <td>0.0</td>\n",
              "      <td>...</td>\n",
              "      <td>Cruzamento</td>\n",
              "      <td>Bom</td>\n",
              "      <td>Sem defeito</td>\n",
              "      <td>Perfeito estado</td>\n",
              "      <td>Seca</td>\n",
              "      <td>Perfeito estado</td>\n",
              "      <td>Faixa de pedestre</td>\n",
              "      <td>Outras</td>\n",
              "      <td>Dupla</td>\n",
              "      <td>Faixa contínua</td>\n",
              "    </tr>\n",
              "  </tbody>\n",
              "</table>\n",
              "<p>12265 rows × 27 columns</p>\n",
              "</div>\n",
              "      <button class=\"colab-df-convert\" onclick=\"convertToInteractive('df-2de56284-a51b-4aac-8cba-d66121f4dbdc')\"\n",
              "              title=\"Convert this dataframe to an interactive table.\"\n",
              "              style=\"display:none;\">\n",
              "        \n",
              "  <svg xmlns=\"http://www.w3.org/2000/svg\" height=\"24px\"viewBox=\"0 0 24 24\"\n",
              "       width=\"24px\">\n",
              "    <path d=\"M0 0h24v24H0V0z\" fill=\"none\"/>\n",
              "    <path d=\"M18.56 5.44l.94 2.06.94-2.06 2.06-.94-2.06-.94-.94-2.06-.94 2.06-2.06.94zm-11 1L8.5 8.5l.94-2.06 2.06-.94-2.06-.94L8.5 2.5l-.94 2.06-2.06.94zm10 10l.94 2.06.94-2.06 2.06-.94-2.06-.94-.94-2.06-.94 2.06-2.06.94z\"/><path d=\"M17.41 7.96l-1.37-1.37c-.4-.4-.92-.59-1.43-.59-.52 0-1.04.2-1.43.59L10.3 9.45l-7.72 7.72c-.78.78-.78 2.05 0 2.83L4 21.41c.39.39.9.59 1.41.59.51 0 1.02-.2 1.41-.59l7.78-7.78 2.81-2.81c.8-.78.8-2.07 0-2.86zM5.41 20L4 18.59l7.72-7.72 1.47 1.35L5.41 20z\"/>\n",
              "  </svg>\n",
              "      </button>\n",
              "      \n",
              "  <style>\n",
              "    .colab-df-container {\n",
              "      display:flex;\n",
              "      flex-wrap:wrap;\n",
              "      gap: 12px;\n",
              "    }\n",
              "\n",
              "    .colab-df-convert {\n",
              "      background-color: #E8F0FE;\n",
              "      border: none;\n",
              "      border-radius: 50%;\n",
              "      cursor: pointer;\n",
              "      display: none;\n",
              "      fill: #1967D2;\n",
              "      height: 32px;\n",
              "      padding: 0 0 0 0;\n",
              "      width: 32px;\n",
              "    }\n",
              "\n",
              "    .colab-df-convert:hover {\n",
              "      background-color: #E2EBFA;\n",
              "      box-shadow: 0px 1px 2px rgba(60, 64, 67, 0.3), 0px 1px 3px 1px rgba(60, 64, 67, 0.15);\n",
              "      fill: #174EA6;\n",
              "    }\n",
              "\n",
              "    [theme=dark] .colab-df-convert {\n",
              "      background-color: #3B4455;\n",
              "      fill: #D2E3FC;\n",
              "    }\n",
              "\n",
              "    [theme=dark] .colab-df-convert:hover {\n",
              "      background-color: #434B5C;\n",
              "      box-shadow: 0px 1px 3px 1px rgba(0, 0, 0, 0.15);\n",
              "      filter: drop-shadow(0px 1px 2px rgba(0, 0, 0, 0.3));\n",
              "      fill: #FFFFFF;\n",
              "    }\n",
              "  </style>\n",
              "\n",
              "      <script>\n",
              "        const buttonEl =\n",
              "          document.querySelector('#df-2de56284-a51b-4aac-8cba-d66121f4dbdc button.colab-df-convert');\n",
              "        buttonEl.style.display =\n",
              "          google.colab.kernel.accessAllowed ? 'block' : 'none';\n",
              "\n",
              "        async function convertToInteractive(key) {\n",
              "          const element = document.querySelector('#df-2de56284-a51b-4aac-8cba-d66121f4dbdc');\n",
              "          const dataTable =\n",
              "            await google.colab.kernel.invokeFunction('convertToInteractive',\n",
              "                                                     [key], {});\n",
              "          if (!dataTable) return;\n",
              "\n",
              "          const docLinkHtml = 'Like what you see? Visit the ' +\n",
              "            '<a target=\"_blank\" href=https://colab.research.google.com/notebooks/data_table.ipynb>data table notebook</a>'\n",
              "            + ' to learn more about interactive tables.';\n",
              "          element.innerHTML = '';\n",
              "          dataTable['output_type'] = 'display_data';\n",
              "          await google.colab.output.renderOutput(dataTable, element);\n",
              "          const docLink = document.createElement('div');\n",
              "          docLink.innerHTML = docLinkHtml;\n",
              "          element.appendChild(docLink);\n",
              "        }\n",
              "      </script>\n",
              "    </div>\n",
              "  </div>\n",
              "  "
            ]
          },
          "metadata": {},
          "execution_count": 14
        }
      ]
    },
    {
      "cell_type": "markdown",
      "source": [
        "#### Imputação de dados ausentes"
      ],
      "metadata": {
        "id": "8mneIcBFqeck"
      }
    },
    {
      "cell_type": "code",
      "source": [
        "clean_dataframe.isna().sum().to_frame().style"
      ],
      "metadata": {
        "id": "Mth1fdi-AnQC",
        "colab": {
          "base_uri": "https://localhost:8080/",
          "height": 896
        },
        "outputId": "9689a29b-1604-448b-e59b-c16357a12ce9"
      },
      "execution_count": 15,
      "outputs": [
        {
          "output_type": "execute_result",
          "data": {
            "text/plain": [
              "<pandas.io.formats.style.Styler at 0x7f4ccb55bcd0>"
            ],
            "text/html": [
              "<style type=\"text/css\">\n",
              "</style>\n",
              "<table id=\"T_0c781_\" class=\"dataframe\">\n",
              "  <thead>\n",
              "    <tr>\n",
              "      <th class=\"blank level0\" >&nbsp;</th>\n",
              "      <th class=\"col_heading level0 col0\" >0</th>\n",
              "    </tr>\n",
              "  </thead>\n",
              "  <tbody>\n",
              "    <tr>\n",
              "      <th id=\"T_0c781_level0_row0\" class=\"row_heading level0 row0\" >data</th>\n",
              "      <td id=\"T_0c781_row0_col0\" class=\"data row0 col0\" >0</td>\n",
              "    </tr>\n",
              "    <tr>\n",
              "      <th id=\"T_0c781_level0_row1\" class=\"row_heading level0 row1\" >hora</th>\n",
              "      <td id=\"T_0c781_row1_col0\" class=\"data row1 col0\" >0</td>\n",
              "    </tr>\n",
              "    <tr>\n",
              "      <th id=\"T_0c781_level0_row2\" class=\"row_heading level0 row2\" >natureza_acidente</th>\n",
              "      <td id=\"T_0c781_row2_col0\" class=\"data row2 col0\" >0</td>\n",
              "    </tr>\n",
              "    <tr>\n",
              "      <th id=\"T_0c781_level0_row3\" class=\"row_heading level0 row3\" >situacao</th>\n",
              "      <td id=\"T_0c781_row3_col0\" class=\"data row3 col0\" >0</td>\n",
              "    </tr>\n",
              "    <tr>\n",
              "      <th id=\"T_0c781_level0_row4\" class=\"row_heading level0 row4\" >bairro</th>\n",
              "      <td id=\"T_0c781_row4_col0\" class=\"data row4 col0\" >0</td>\n",
              "    </tr>\n",
              "    <tr>\n",
              "      <th id=\"T_0c781_level0_row5\" class=\"row_heading level0 row5\" >tipo</th>\n",
              "      <td id=\"T_0c781_row5_col0\" class=\"data row5 col0\" >0</td>\n",
              "    </tr>\n",
              "    <tr>\n",
              "      <th id=\"T_0c781_level0_row6\" class=\"row_heading level0 row6\" >auto</th>\n",
              "      <td id=\"T_0c781_row6_col0\" class=\"data row6 col0\" >1007</td>\n",
              "    </tr>\n",
              "    <tr>\n",
              "      <th id=\"T_0c781_level0_row7\" class=\"row_heading level0 row7\" >moto</th>\n",
              "      <td id=\"T_0c781_row7_col0\" class=\"data row7 col0\" >7614</td>\n",
              "    </tr>\n",
              "    <tr>\n",
              "      <th id=\"T_0c781_level0_row8\" class=\"row_heading level0 row8\" >ciclom</th>\n",
              "      <td id=\"T_0c781_row8_col0\" class=\"data row8 col0\" >10814</td>\n",
              "    </tr>\n",
              "    <tr>\n",
              "      <th id=\"T_0c781_level0_row9\" class=\"row_heading level0 row9\" >ciclista</th>\n",
              "      <td id=\"T_0c781_row9_col0\" class=\"data row9 col0\" >10572</td>\n",
              "    </tr>\n",
              "    <tr>\n",
              "      <th id=\"T_0c781_level0_row10\" class=\"row_heading level0 row10\" >pedestre</th>\n",
              "      <td id=\"T_0c781_row10_col0\" class=\"data row10 col0\" >10542</td>\n",
              "    </tr>\n",
              "    <tr>\n",
              "      <th id=\"T_0c781_level0_row11\" class=\"row_heading level0 row11\" >onibus</th>\n",
              "      <td id=\"T_0c781_row11_col0\" class=\"data row11 col0\" >9307</td>\n",
              "    </tr>\n",
              "    <tr>\n",
              "      <th id=\"T_0c781_level0_row12\" class=\"row_heading level0 row12\" >caminhao</th>\n",
              "      <td id=\"T_0c781_row12_col0\" class=\"data row12 col0\" >9860</td>\n",
              "    </tr>\n",
              "    <tr>\n",
              "      <th id=\"T_0c781_level0_row13\" class=\"row_heading level0 row13\" >viatura</th>\n",
              "      <td id=\"T_0c781_row13_col0\" class=\"data row13 col0\" >10718</td>\n",
              "    </tr>\n",
              "    <tr>\n",
              "      <th id=\"T_0c781_level0_row14\" class=\"row_heading level0 row14\" >outros</th>\n",
              "      <td id=\"T_0c781_row14_col0\" class=\"data row14 col0\" >10668</td>\n",
              "    </tr>\n",
              "    <tr>\n",
              "      <th id=\"T_0c781_level0_row15\" class=\"row_heading level0 row15\" >vitimas</th>\n",
              "      <td id=\"T_0c781_row15_col0\" class=\"data row15 col0\" >18</td>\n",
              "    </tr>\n",
              "    <tr>\n",
              "      <th id=\"T_0c781_level0_row16\" class=\"row_heading level0 row16\" >vitimasfatais</th>\n",
              "      <td id=\"T_0c781_row16_col0\" class=\"data row16 col0\" >10829</td>\n",
              "    </tr>\n",
              "    <tr>\n",
              "      <th id=\"T_0c781_level0_row17\" class=\"row_heading level0 row17\" >acidente_verificado</th>\n",
              "      <td id=\"T_0c781_row17_col0\" class=\"data row17 col0\" >0</td>\n",
              "    </tr>\n",
              "    <tr>\n",
              "      <th id=\"T_0c781_level0_row18\" class=\"row_heading level0 row18\" >tempo_clima</th>\n",
              "      <td id=\"T_0c781_row18_col0\" class=\"data row18 col0\" >0</td>\n",
              "    </tr>\n",
              "    <tr>\n",
              "      <th id=\"T_0c781_level0_row19\" class=\"row_heading level0 row19\" >situacao_semaforo</th>\n",
              "      <td id=\"T_0c781_row19_col0\" class=\"data row19 col0\" >0</td>\n",
              "    </tr>\n",
              "    <tr>\n",
              "      <th id=\"T_0c781_level0_row20\" class=\"row_heading level0 row20\" >sinalizacao</th>\n",
              "      <td id=\"T_0c781_row20_col0\" class=\"data row20 col0\" >0</td>\n",
              "    </tr>\n",
              "    <tr>\n",
              "      <th id=\"T_0c781_level0_row21\" class=\"row_heading level0 row21\" >condicao_via</th>\n",
              "      <td id=\"T_0c781_row21_col0\" class=\"data row21 col0\" >0</td>\n",
              "    </tr>\n",
              "    <tr>\n",
              "      <th id=\"T_0c781_level0_row22\" class=\"row_heading level0 row22\" >conservacao_via</th>\n",
              "      <td id=\"T_0c781_row22_col0\" class=\"data row22 col0\" >0</td>\n",
              "    </tr>\n",
              "    <tr>\n",
              "      <th id=\"T_0c781_level0_row23\" class=\"row_heading level0 row23\" >ponto_controle</th>\n",
              "      <td id=\"T_0c781_row23_col0\" class=\"data row23 col0\" >0</td>\n",
              "    </tr>\n",
              "    <tr>\n",
              "      <th id=\"T_0c781_level0_row24\" class=\"row_heading level0 row24\" >situacao_placa</th>\n",
              "      <td id=\"T_0c781_row24_col0\" class=\"data row24 col0\" >0</td>\n",
              "    </tr>\n",
              "    <tr>\n",
              "      <th id=\"T_0c781_level0_row25\" class=\"row_heading level0 row25\" >mao_direcao</th>\n",
              "      <td id=\"T_0c781_row25_col0\" class=\"data row25 col0\" >0</td>\n",
              "    </tr>\n",
              "    <tr>\n",
              "      <th id=\"T_0c781_level0_row26\" class=\"row_heading level0 row26\" >divisao_via1</th>\n",
              "      <td id=\"T_0c781_row26_col0\" class=\"data row26 col0\" >0</td>\n",
              "    </tr>\n",
              "  </tbody>\n",
              "</table>\n"
            ]
          },
          "metadata": {},
          "execution_count": 15
        }
      ]
    },
    {
      "cell_type": "code",
      "source": [
        "#clean_dataframe['auto'] = clean_dataframe['auto'].fillna(0)\n",
        "results = clean_dataframe.apply(lambda col: col.fillna(0) if col.dtype == float else col)\n",
        "results.isna().sum().to_frame().style\n",
        "#clean_dataframe = clean_dataframe.select_dtypes(float).apply(lambda col: col.fillna(0))"
      ],
      "metadata": {
        "id": "E4_4juvQZ1xX",
        "colab": {
          "base_uri": "https://localhost:8080/",
          "height": 896
        },
        "outputId": "c264ca65-4041-4e30-a5c7-f7f8649a3034"
      },
      "execution_count": 16,
      "outputs": [
        {
          "output_type": "execute_result",
          "data": {
            "text/plain": [
              "<pandas.io.formats.style.Styler at 0x7f4ccb539c10>"
            ],
            "text/html": [
              "<style type=\"text/css\">\n",
              "</style>\n",
              "<table id=\"T_320ec_\" class=\"dataframe\">\n",
              "  <thead>\n",
              "    <tr>\n",
              "      <th class=\"blank level0\" >&nbsp;</th>\n",
              "      <th class=\"col_heading level0 col0\" >0</th>\n",
              "    </tr>\n",
              "  </thead>\n",
              "  <tbody>\n",
              "    <tr>\n",
              "      <th id=\"T_320ec_level0_row0\" class=\"row_heading level0 row0\" >data</th>\n",
              "      <td id=\"T_320ec_row0_col0\" class=\"data row0 col0\" >0</td>\n",
              "    </tr>\n",
              "    <tr>\n",
              "      <th id=\"T_320ec_level0_row1\" class=\"row_heading level0 row1\" >hora</th>\n",
              "      <td id=\"T_320ec_row1_col0\" class=\"data row1 col0\" >0</td>\n",
              "    </tr>\n",
              "    <tr>\n",
              "      <th id=\"T_320ec_level0_row2\" class=\"row_heading level0 row2\" >natureza_acidente</th>\n",
              "      <td id=\"T_320ec_row2_col0\" class=\"data row2 col0\" >0</td>\n",
              "    </tr>\n",
              "    <tr>\n",
              "      <th id=\"T_320ec_level0_row3\" class=\"row_heading level0 row3\" >situacao</th>\n",
              "      <td id=\"T_320ec_row3_col0\" class=\"data row3 col0\" >0</td>\n",
              "    </tr>\n",
              "    <tr>\n",
              "      <th id=\"T_320ec_level0_row4\" class=\"row_heading level0 row4\" >bairro</th>\n",
              "      <td id=\"T_320ec_row4_col0\" class=\"data row4 col0\" >0</td>\n",
              "    </tr>\n",
              "    <tr>\n",
              "      <th id=\"T_320ec_level0_row5\" class=\"row_heading level0 row5\" >tipo</th>\n",
              "      <td id=\"T_320ec_row5_col0\" class=\"data row5 col0\" >0</td>\n",
              "    </tr>\n",
              "    <tr>\n",
              "      <th id=\"T_320ec_level0_row6\" class=\"row_heading level0 row6\" >auto</th>\n",
              "      <td id=\"T_320ec_row6_col0\" class=\"data row6 col0\" >0</td>\n",
              "    </tr>\n",
              "    <tr>\n",
              "      <th id=\"T_320ec_level0_row7\" class=\"row_heading level0 row7\" >moto</th>\n",
              "      <td id=\"T_320ec_row7_col0\" class=\"data row7 col0\" >0</td>\n",
              "    </tr>\n",
              "    <tr>\n",
              "      <th id=\"T_320ec_level0_row8\" class=\"row_heading level0 row8\" >ciclom</th>\n",
              "      <td id=\"T_320ec_row8_col0\" class=\"data row8 col0\" >0</td>\n",
              "    </tr>\n",
              "    <tr>\n",
              "      <th id=\"T_320ec_level0_row9\" class=\"row_heading level0 row9\" >ciclista</th>\n",
              "      <td id=\"T_320ec_row9_col0\" class=\"data row9 col0\" >0</td>\n",
              "    </tr>\n",
              "    <tr>\n",
              "      <th id=\"T_320ec_level0_row10\" class=\"row_heading level0 row10\" >pedestre</th>\n",
              "      <td id=\"T_320ec_row10_col0\" class=\"data row10 col0\" >0</td>\n",
              "    </tr>\n",
              "    <tr>\n",
              "      <th id=\"T_320ec_level0_row11\" class=\"row_heading level0 row11\" >onibus</th>\n",
              "      <td id=\"T_320ec_row11_col0\" class=\"data row11 col0\" >0</td>\n",
              "    </tr>\n",
              "    <tr>\n",
              "      <th id=\"T_320ec_level0_row12\" class=\"row_heading level0 row12\" >caminhao</th>\n",
              "      <td id=\"T_320ec_row12_col0\" class=\"data row12 col0\" >0</td>\n",
              "    </tr>\n",
              "    <tr>\n",
              "      <th id=\"T_320ec_level0_row13\" class=\"row_heading level0 row13\" >viatura</th>\n",
              "      <td id=\"T_320ec_row13_col0\" class=\"data row13 col0\" >0</td>\n",
              "    </tr>\n",
              "    <tr>\n",
              "      <th id=\"T_320ec_level0_row14\" class=\"row_heading level0 row14\" >outros</th>\n",
              "      <td id=\"T_320ec_row14_col0\" class=\"data row14 col0\" >0</td>\n",
              "    </tr>\n",
              "    <tr>\n",
              "      <th id=\"T_320ec_level0_row15\" class=\"row_heading level0 row15\" >vitimas</th>\n",
              "      <td id=\"T_320ec_row15_col0\" class=\"data row15 col0\" >0</td>\n",
              "    </tr>\n",
              "    <tr>\n",
              "      <th id=\"T_320ec_level0_row16\" class=\"row_heading level0 row16\" >vitimasfatais</th>\n",
              "      <td id=\"T_320ec_row16_col0\" class=\"data row16 col0\" >0</td>\n",
              "    </tr>\n",
              "    <tr>\n",
              "      <th id=\"T_320ec_level0_row17\" class=\"row_heading level0 row17\" >acidente_verificado</th>\n",
              "      <td id=\"T_320ec_row17_col0\" class=\"data row17 col0\" >0</td>\n",
              "    </tr>\n",
              "    <tr>\n",
              "      <th id=\"T_320ec_level0_row18\" class=\"row_heading level0 row18\" >tempo_clima</th>\n",
              "      <td id=\"T_320ec_row18_col0\" class=\"data row18 col0\" >0</td>\n",
              "    </tr>\n",
              "    <tr>\n",
              "      <th id=\"T_320ec_level0_row19\" class=\"row_heading level0 row19\" >situacao_semaforo</th>\n",
              "      <td id=\"T_320ec_row19_col0\" class=\"data row19 col0\" >0</td>\n",
              "    </tr>\n",
              "    <tr>\n",
              "      <th id=\"T_320ec_level0_row20\" class=\"row_heading level0 row20\" >sinalizacao</th>\n",
              "      <td id=\"T_320ec_row20_col0\" class=\"data row20 col0\" >0</td>\n",
              "    </tr>\n",
              "    <tr>\n",
              "      <th id=\"T_320ec_level0_row21\" class=\"row_heading level0 row21\" >condicao_via</th>\n",
              "      <td id=\"T_320ec_row21_col0\" class=\"data row21 col0\" >0</td>\n",
              "    </tr>\n",
              "    <tr>\n",
              "      <th id=\"T_320ec_level0_row22\" class=\"row_heading level0 row22\" >conservacao_via</th>\n",
              "      <td id=\"T_320ec_row22_col0\" class=\"data row22 col0\" >0</td>\n",
              "    </tr>\n",
              "    <tr>\n",
              "      <th id=\"T_320ec_level0_row23\" class=\"row_heading level0 row23\" >ponto_controle</th>\n",
              "      <td id=\"T_320ec_row23_col0\" class=\"data row23 col0\" >0</td>\n",
              "    </tr>\n",
              "    <tr>\n",
              "      <th id=\"T_320ec_level0_row24\" class=\"row_heading level0 row24\" >situacao_placa</th>\n",
              "      <td id=\"T_320ec_row24_col0\" class=\"data row24 col0\" >0</td>\n",
              "    </tr>\n",
              "    <tr>\n",
              "      <th id=\"T_320ec_level0_row25\" class=\"row_heading level0 row25\" >mao_direcao</th>\n",
              "      <td id=\"T_320ec_row25_col0\" class=\"data row25 col0\" >0</td>\n",
              "    </tr>\n",
              "    <tr>\n",
              "      <th id=\"T_320ec_level0_row26\" class=\"row_heading level0 row26\" >divisao_via1</th>\n",
              "      <td id=\"T_320ec_row26_col0\" class=\"data row26 col0\" >0</td>\n",
              "    </tr>\n",
              "  </tbody>\n",
              "</table>\n"
            ]
          },
          "metadata": {},
          "execution_count": 16
        }
      ]
    },
    {
      "cell_type": "code",
      "source": [
        "results.head().style"
      ],
      "metadata": {
        "colab": {
          "base_uri": "https://localhost:8080/",
          "height": 400
        },
        "id": "dWIPnKwdiA0J",
        "outputId": "abd411fe-5c2a-4a56-a671-8538b1b3a509"
      },
      "execution_count": 17,
      "outputs": [
        {
          "output_type": "execute_result",
          "data": {
            "text/plain": [
              "<pandas.io.formats.style.Styler at 0x7f4ccb549d10>"
            ],
            "text/html": [
              "<style type=\"text/css\">\n",
              "</style>\n",
              "<table id=\"T_d4475_\" class=\"dataframe\">\n",
              "  <thead>\n",
              "    <tr>\n",
              "      <th class=\"blank level0\" >&nbsp;</th>\n",
              "      <th class=\"col_heading level0 col0\" >data</th>\n",
              "      <th class=\"col_heading level0 col1\" >hora</th>\n",
              "      <th class=\"col_heading level0 col2\" >natureza_acidente</th>\n",
              "      <th class=\"col_heading level0 col3\" >situacao</th>\n",
              "      <th class=\"col_heading level0 col4\" >bairro</th>\n",
              "      <th class=\"col_heading level0 col5\" >tipo</th>\n",
              "      <th class=\"col_heading level0 col6\" >auto</th>\n",
              "      <th class=\"col_heading level0 col7\" >moto</th>\n",
              "      <th class=\"col_heading level0 col8\" >ciclom</th>\n",
              "      <th class=\"col_heading level0 col9\" >ciclista</th>\n",
              "      <th class=\"col_heading level0 col10\" >pedestre</th>\n",
              "      <th class=\"col_heading level0 col11\" >onibus</th>\n",
              "      <th class=\"col_heading level0 col12\" >caminhao</th>\n",
              "      <th class=\"col_heading level0 col13\" >viatura</th>\n",
              "      <th class=\"col_heading level0 col14\" >outros</th>\n",
              "      <th class=\"col_heading level0 col15\" >vitimas</th>\n",
              "      <th class=\"col_heading level0 col16\" >vitimasfatais</th>\n",
              "      <th class=\"col_heading level0 col17\" >acidente_verificado</th>\n",
              "      <th class=\"col_heading level0 col18\" >tempo_clima</th>\n",
              "      <th class=\"col_heading level0 col19\" >situacao_semaforo</th>\n",
              "      <th class=\"col_heading level0 col20\" >sinalizacao</th>\n",
              "      <th class=\"col_heading level0 col21\" >condicao_via</th>\n",
              "      <th class=\"col_heading level0 col22\" >conservacao_via</th>\n",
              "      <th class=\"col_heading level0 col23\" >ponto_controle</th>\n",
              "      <th class=\"col_heading level0 col24\" >situacao_placa</th>\n",
              "      <th class=\"col_heading level0 col25\" >mao_direcao</th>\n",
              "      <th class=\"col_heading level0 col26\" >divisao_via1</th>\n",
              "    </tr>\n",
              "  </thead>\n",
              "  <tbody>\n",
              "    <tr>\n",
              "      <th id=\"T_d4475_level0_row0\" class=\"row_heading level0 row0\" >0</th>\n",
              "      <td id=\"T_d4475_row0_col0\" class=\"data row0 col0\" >2018-10-12 00:00:00</td>\n",
              "      <td id=\"T_d4475_row0_col1\" class=\"data row0 col1\" >2022-10-04 11:32:00</td>\n",
              "      <td id=\"T_d4475_row0_col2\" class=\"data row0 col2\" >SEM VÍTIMA</td>\n",
              "      <td id=\"T_d4475_row0_col3\" class=\"data row0 col3\" >FINALIZADA</td>\n",
              "      <td id=\"T_d4475_row0_col4\" class=\"data row0 col4\" >TEJIPIÓ</td>\n",
              "      <td id=\"T_d4475_row0_col5\" class=\"data row0 col5\" >COLISÃO TRASEIRA</td>\n",
              "      <td id=\"T_d4475_row0_col6\" class=\"data row0 col6\" >2.000000</td>\n",
              "      <td id=\"T_d4475_row0_col7\" class=\"data row0 col7\" >0.000000</td>\n",
              "      <td id=\"T_d4475_row0_col8\" class=\"data row0 col8\" >0.000000</td>\n",
              "      <td id=\"T_d4475_row0_col9\" class=\"data row0 col9\" >0.000000</td>\n",
              "      <td id=\"T_d4475_row0_col10\" class=\"data row0 col10\" >0.000000</td>\n",
              "      <td id=\"T_d4475_row0_col11\" class=\"data row0 col11\" >0.000000</td>\n",
              "      <td id=\"T_d4475_row0_col12\" class=\"data row0 col12\" >0.000000</td>\n",
              "      <td id=\"T_d4475_row0_col13\" class=\"data row0 col13\" >0.000000</td>\n",
              "      <td id=\"T_d4475_row0_col14\" class=\"data row0 col14\" >0.000000</td>\n",
              "      <td id=\"T_d4475_row0_col15\" class=\"data row0 col15\" >0.000000</td>\n",
              "      <td id=\"T_d4475_row0_col16\" class=\"data row0 col16\" >0.000000</td>\n",
              "      <td id=\"T_d4475_row0_col17\" class=\"data row0 col17\" >Longo da via</td>\n",
              "      <td id=\"T_d4475_row0_col18\" class=\"data row0 col18\" >Bom</td>\n",
              "      <td id=\"T_d4475_row0_col19\" class=\"data row0 col19\" >Não existe</td>\n",
              "      <td id=\"T_d4475_row0_col20\" class=\"data row0 col20\" >Não existente</td>\n",
              "      <td id=\"T_d4475_row0_col21\" class=\"data row0 col21\" >Seca</td>\n",
              "      <td id=\"T_d4475_row0_col22\" class=\"data row0 col22\" >Perfeito estado</td>\n",
              "      <td id=\"T_d4475_row0_col23\" class=\"data row0 col23\" >Não existe</td>\n",
              "      <td id=\"T_d4475_row0_col24\" class=\"data row0 col24\" >Não há placas</td>\n",
              "      <td id=\"T_d4475_row0_col25\" class=\"data row0 col25\" >Dupla</td>\n",
              "      <td id=\"T_d4475_row0_col26\" class=\"data row0 col26\" >Faixa contínua</td>\n",
              "    </tr>\n",
              "    <tr>\n",
              "      <th id=\"T_d4475_level0_row1\" class=\"row_heading level0 row1\" >1</th>\n",
              "      <td id=\"T_d4475_row1_col0\" class=\"data row1 col0\" >2018-10-12 00:00:00</td>\n",
              "      <td id=\"T_d4475_row1_col1\" class=\"data row1 col1\" >2022-10-04 12:50:00</td>\n",
              "      <td id=\"T_d4475_row1_col2\" class=\"data row1 col2\" >SEM VÍTIMA</td>\n",
              "      <td id=\"T_d4475_row1_col3\" class=\"data row1 col3\" >FINALIZADA</td>\n",
              "      <td id=\"T_d4475_row1_col4\" class=\"data row1 col4\" >IMBIRIBEIRA</td>\n",
              "      <td id=\"T_d4475_row1_col5\" class=\"data row1 col5\" >ABALROAMENTO LONGITUDINAL</td>\n",
              "      <td id=\"T_d4475_row1_col6\" class=\"data row1 col6\" >0.000000</td>\n",
              "      <td id=\"T_d4475_row1_col7\" class=\"data row1 col7\" >0.000000</td>\n",
              "      <td id=\"T_d4475_row1_col8\" class=\"data row1 col8\" >0.000000</td>\n",
              "      <td id=\"T_d4475_row1_col9\" class=\"data row1 col9\" >0.000000</td>\n",
              "      <td id=\"T_d4475_row1_col10\" class=\"data row1 col10\" >0.000000</td>\n",
              "      <td id=\"T_d4475_row1_col11\" class=\"data row1 col11\" >1.000000</td>\n",
              "      <td id=\"T_d4475_row1_col12\" class=\"data row1 col12\" >1.000000</td>\n",
              "      <td id=\"T_d4475_row1_col13\" class=\"data row1 col13\" >0.000000</td>\n",
              "      <td id=\"T_d4475_row1_col14\" class=\"data row1 col14\" >0.000000</td>\n",
              "      <td id=\"T_d4475_row1_col15\" class=\"data row1 col15\" >0.000000</td>\n",
              "      <td id=\"T_d4475_row1_col16\" class=\"data row1 col16\" >0.000000</td>\n",
              "      <td id=\"T_d4475_row1_col17\" class=\"data row1 col17\" >Longo da via</td>\n",
              "      <td id=\"T_d4475_row1_col18\" class=\"data row1 col18\" >Bom</td>\n",
              "      <td id=\"T_d4475_row1_col19\" class=\"data row1 col19\" >Não existe</td>\n",
              "      <td id=\"T_d4475_row1_col20\" class=\"data row1 col20\" >Perfeito estado</td>\n",
              "      <td id=\"T_d4475_row1_col21\" class=\"data row1 col21\" >Seca</td>\n",
              "      <td id=\"T_d4475_row1_col22\" class=\"data row1 col22\" >Perfeito estado</td>\n",
              "      <td id=\"T_d4475_row1_col23\" class=\"data row1 col23\" >Não existe</td>\n",
              "      <td id=\"T_d4475_row1_col24\" class=\"data row1 col24\" >Não há placas</td>\n",
              "      <td id=\"T_d4475_row1_col25\" class=\"data row1 col25\" >Dupla</td>\n",
              "      <td id=\"T_d4475_row1_col26\" class=\"data row1 col26\" >Canteiro central</td>\n",
              "    </tr>\n",
              "    <tr>\n",
              "      <th id=\"T_d4475_level0_row2\" class=\"row_heading level0 row2\" >2</th>\n",
              "      <td id=\"T_d4475_row2_col0\" class=\"data row2 col0\" >2018-10-12 00:00:00</td>\n",
              "      <td id=\"T_d4475_row2_col1\" class=\"data row2 col1\" >2022-10-04 13:23:00</td>\n",
              "      <td id=\"T_d4475_row2_col2\" class=\"data row2 col2\" >SEM VÍTIMA</td>\n",
              "      <td id=\"T_d4475_row2_col3\" class=\"data row2 col3\" >FINALIZADA</td>\n",
              "      <td id=\"T_d4475_row2_col4\" class=\"data row2 col4\" >CAMPO GRANDE</td>\n",
              "      <td id=\"T_d4475_row2_col5\" class=\"data row2 col5\" >CHOQUE VEÍCULO PARADO</td>\n",
              "      <td id=\"T_d4475_row2_col6\" class=\"data row2 col6\" >2.000000</td>\n",
              "      <td id=\"T_d4475_row2_col7\" class=\"data row2 col7\" >0.000000</td>\n",
              "      <td id=\"T_d4475_row2_col8\" class=\"data row2 col8\" >0.000000</td>\n",
              "      <td id=\"T_d4475_row2_col9\" class=\"data row2 col9\" >0.000000</td>\n",
              "      <td id=\"T_d4475_row2_col10\" class=\"data row2 col10\" >0.000000</td>\n",
              "      <td id=\"T_d4475_row2_col11\" class=\"data row2 col11\" >0.000000</td>\n",
              "      <td id=\"T_d4475_row2_col12\" class=\"data row2 col12\" >0.000000</td>\n",
              "      <td id=\"T_d4475_row2_col13\" class=\"data row2 col13\" >0.000000</td>\n",
              "      <td id=\"T_d4475_row2_col14\" class=\"data row2 col14\" >0.000000</td>\n",
              "      <td id=\"T_d4475_row2_col15\" class=\"data row2 col15\" >0.000000</td>\n",
              "      <td id=\"T_d4475_row2_col16\" class=\"data row2 col16\" >0.000000</td>\n",
              "      <td id=\"T_d4475_row2_col17\" class=\"data row2 col17\" >Outros</td>\n",
              "      <td id=\"T_d4475_row2_col18\" class=\"data row2 col18\" >Bom</td>\n",
              "      <td id=\"T_d4475_row2_col19\" class=\"data row2 col19\" >Não existe</td>\n",
              "      <td id=\"T_d4475_row2_col20\" class=\"data row2 col20\" >Não existente</td>\n",
              "      <td id=\"T_d4475_row2_col21\" class=\"data row2 col21\" >Seca</td>\n",
              "      <td id=\"T_d4475_row2_col22\" class=\"data row2 col22\" >Perfeito estado</td>\n",
              "      <td id=\"T_d4475_row2_col23\" class=\"data row2 col23\" >Não existe</td>\n",
              "      <td id=\"T_d4475_row2_col24\" class=\"data row2 col24\" >Não há placas</td>\n",
              "      <td id=\"T_d4475_row2_col25\" class=\"data row2 col25\" >Única</td>\n",
              "      <td id=\"T_d4475_row2_col26\" class=\"data row2 col26\" >Não existe</td>\n",
              "    </tr>\n",
              "    <tr>\n",
              "      <th id=\"T_d4475_level0_row3\" class=\"row_heading level0 row3\" >3</th>\n",
              "      <td id=\"T_d4475_row3_col0\" class=\"data row3 col0\" >2018-10-12 00:00:00</td>\n",
              "      <td id=\"T_d4475_row3_col1\" class=\"data row3 col1\" >2022-10-04 17:53:00</td>\n",
              "      <td id=\"T_d4475_row3_col2\" class=\"data row3 col2\" >SEM VÍTIMA</td>\n",
              "      <td id=\"T_d4475_row3_col3\" class=\"data row3 col3\" >FINALIZADA</td>\n",
              "      <td id=\"T_d4475_row3_col4\" class=\"data row3 col4\" >DERBY</td>\n",
              "      <td id=\"T_d4475_row3_col5\" class=\"data row3 col5\" >ABALROAMENTO LONGITUDINAL</td>\n",
              "      <td id=\"T_d4475_row3_col6\" class=\"data row3 col6\" >1.000000</td>\n",
              "      <td id=\"T_d4475_row3_col7\" class=\"data row3 col7\" >0.000000</td>\n",
              "      <td id=\"T_d4475_row3_col8\" class=\"data row3 col8\" >0.000000</td>\n",
              "      <td id=\"T_d4475_row3_col9\" class=\"data row3 col9\" >0.000000</td>\n",
              "      <td id=\"T_d4475_row3_col10\" class=\"data row3 col10\" >0.000000</td>\n",
              "      <td id=\"T_d4475_row3_col11\" class=\"data row3 col11\" >1.000000</td>\n",
              "      <td id=\"T_d4475_row3_col12\" class=\"data row3 col12\" >0.000000</td>\n",
              "      <td id=\"T_d4475_row3_col13\" class=\"data row3 col13\" >0.000000</td>\n",
              "      <td id=\"T_d4475_row3_col14\" class=\"data row3 col14\" >0.000000</td>\n",
              "      <td id=\"T_d4475_row3_col15\" class=\"data row3 col15\" >0.000000</td>\n",
              "      <td id=\"T_d4475_row3_col16\" class=\"data row3 col16\" >0.000000</td>\n",
              "      <td id=\"T_d4475_row3_col17\" class=\"data row3 col17\" >Outros</td>\n",
              "      <td id=\"T_d4475_row3_col18\" class=\"data row3 col18\" >Bom</td>\n",
              "      <td id=\"T_d4475_row3_col19\" class=\"data row3 col19\" >Não existe</td>\n",
              "      <td id=\"T_d4475_row3_col20\" class=\"data row3 col20\" >Perfeito estado</td>\n",
              "      <td id=\"T_d4475_row3_col21\" class=\"data row3 col21\" >Seca</td>\n",
              "      <td id=\"T_d4475_row3_col22\" class=\"data row3 col22\" >Perfeito estado</td>\n",
              "      <td id=\"T_d4475_row3_col23\" class=\"data row3 col23\" >Não existe</td>\n",
              "      <td id=\"T_d4475_row3_col24\" class=\"data row3 col24\" >Placas \"Pare\"</td>\n",
              "      <td id=\"T_d4475_row3_col25\" class=\"data row3 col25\" >Única</td>\n",
              "      <td id=\"T_d4475_row3_col26\" class=\"data row3 col26\" >Não existe</td>\n",
              "    </tr>\n",
              "    <tr>\n",
              "      <th id=\"T_d4475_level0_row4\" class=\"row_heading level0 row4\" >4</th>\n",
              "      <td id=\"T_d4475_row4_col0\" class=\"data row4 col0\" >2018-10-12 00:00:00</td>\n",
              "      <td id=\"T_d4475_row4_col1\" class=\"data row4 col1\" >2022-10-04 18:25:00</td>\n",
              "      <td id=\"T_d4475_row4_col2\" class=\"data row4 col2\" >SEM VÍTIMA</td>\n",
              "      <td id=\"T_d4475_row4_col3\" class=\"data row4 col3\" >FINALIZADA</td>\n",
              "      <td id=\"T_d4475_row4_col4\" class=\"data row4 col4\" >GRAÇAS</td>\n",
              "      <td id=\"T_d4475_row4_col5\" class=\"data row4 col5\" >ABALROAMENTO LONGITUDINAL</td>\n",
              "      <td id=\"T_d4475_row4_col6\" class=\"data row4 col6\" >1.000000</td>\n",
              "      <td id=\"T_d4475_row4_col7\" class=\"data row4 col7\" >1.000000</td>\n",
              "      <td id=\"T_d4475_row4_col8\" class=\"data row4 col8\" >0.000000</td>\n",
              "      <td id=\"T_d4475_row4_col9\" class=\"data row4 col9\" >0.000000</td>\n",
              "      <td id=\"T_d4475_row4_col10\" class=\"data row4 col10\" >0.000000</td>\n",
              "      <td id=\"T_d4475_row4_col11\" class=\"data row4 col11\" >0.000000</td>\n",
              "      <td id=\"T_d4475_row4_col12\" class=\"data row4 col12\" >0.000000</td>\n",
              "      <td id=\"T_d4475_row4_col13\" class=\"data row4 col13\" >0.000000</td>\n",
              "      <td id=\"T_d4475_row4_col14\" class=\"data row4 col14\" >0.000000</td>\n",
              "      <td id=\"T_d4475_row4_col15\" class=\"data row4 col15\" >0.000000</td>\n",
              "      <td id=\"T_d4475_row4_col16\" class=\"data row4 col16\" >0.000000</td>\n",
              "      <td id=\"T_d4475_row4_col17\" class=\"data row4 col17\" >Cruzamento</td>\n",
              "      <td id=\"T_d4475_row4_col18\" class=\"data row4 col18\" >Bom</td>\n",
              "      <td id=\"T_d4475_row4_col19\" class=\"data row4 col19\" >Sem defeito</td>\n",
              "      <td id=\"T_d4475_row4_col20\" class=\"data row4 col20\" >Perfeito estado</td>\n",
              "      <td id=\"T_d4475_row4_col21\" class=\"data row4 col21\" >Seca</td>\n",
              "      <td id=\"T_d4475_row4_col22\" class=\"data row4 col22\" >Perfeito estado</td>\n",
              "      <td id=\"T_d4475_row4_col23\" class=\"data row4 col23\" >Não existe</td>\n",
              "      <td id=\"T_d4475_row4_col24\" class=\"data row4 col24\" >Não há placas</td>\n",
              "      <td id=\"T_d4475_row4_col25\" class=\"data row4 col25\" >Única</td>\n",
              "      <td id=\"T_d4475_row4_col26\" class=\"data row4 col26\" >Faixa seccionada</td>\n",
              "    </tr>\n",
              "  </tbody>\n",
              "</table>\n"
            ]
          },
          "metadata": {},
          "execution_count": 17
        }
      ]
    },
    {
      "cell_type": "markdown",
      "source": [
        "#### Remoção de outliers"
      ],
      "metadata": {
        "id": "5EoGi0TNVjLr"
      }
    },
    {
      "cell_type": "markdown",
      "source": [
        "#####Tratamento do dataset para poder aplicar os métodos"
      ],
      "metadata": {
        "id": "XXzDp6WxcPRN"
      }
    },
    {
      "cell_type": "code",
      "source": [
        "dataframeCodes = results.copy()"
      ],
      "metadata": {
        "id": "ihH-2sghWud8"
      },
      "execution_count": 18,
      "outputs": []
    },
    {
      "cell_type": "code",
      "source": [
        "dataframeCodes.drop(['data', 'hora'], axis=1, inplace=True)"
      ],
      "metadata": {
        "id": "6LsTRjnkX8bn"
      },
      "execution_count": 19,
      "outputs": []
    },
    {
      "cell_type": "code",
      "source": [
        "dataframeCodes.head().style"
      ],
      "metadata": {
        "colab": {
          "base_uri": "https://localhost:8080/",
          "height": 330
        },
        "id": "XUAzrmuEYGev",
        "outputId": "d17aece5-27b5-45fb-e918-ca3021485634"
      },
      "execution_count": 20,
      "outputs": [
        {
          "output_type": "execute_result",
          "data": {
            "text/plain": [
              "<pandas.io.formats.style.Styler at 0x7f4ccb4eb210>"
            ],
            "text/html": [
              "<style type=\"text/css\">\n",
              "</style>\n",
              "<table id=\"T_69af0_\" class=\"dataframe\">\n",
              "  <thead>\n",
              "    <tr>\n",
              "      <th class=\"blank level0\" >&nbsp;</th>\n",
              "      <th class=\"col_heading level0 col0\" >natureza_acidente</th>\n",
              "      <th class=\"col_heading level0 col1\" >situacao</th>\n",
              "      <th class=\"col_heading level0 col2\" >bairro</th>\n",
              "      <th class=\"col_heading level0 col3\" >tipo</th>\n",
              "      <th class=\"col_heading level0 col4\" >auto</th>\n",
              "      <th class=\"col_heading level0 col5\" >moto</th>\n",
              "      <th class=\"col_heading level0 col6\" >ciclom</th>\n",
              "      <th class=\"col_heading level0 col7\" >ciclista</th>\n",
              "      <th class=\"col_heading level0 col8\" >pedestre</th>\n",
              "      <th class=\"col_heading level0 col9\" >onibus</th>\n",
              "      <th class=\"col_heading level0 col10\" >caminhao</th>\n",
              "      <th class=\"col_heading level0 col11\" >viatura</th>\n",
              "      <th class=\"col_heading level0 col12\" >outros</th>\n",
              "      <th class=\"col_heading level0 col13\" >vitimas</th>\n",
              "      <th class=\"col_heading level0 col14\" >vitimasfatais</th>\n",
              "      <th class=\"col_heading level0 col15\" >acidente_verificado</th>\n",
              "      <th class=\"col_heading level0 col16\" >tempo_clima</th>\n",
              "      <th class=\"col_heading level0 col17\" >situacao_semaforo</th>\n",
              "      <th class=\"col_heading level0 col18\" >sinalizacao</th>\n",
              "      <th class=\"col_heading level0 col19\" >condicao_via</th>\n",
              "      <th class=\"col_heading level0 col20\" >conservacao_via</th>\n",
              "      <th class=\"col_heading level0 col21\" >ponto_controle</th>\n",
              "      <th class=\"col_heading level0 col22\" >situacao_placa</th>\n",
              "      <th class=\"col_heading level0 col23\" >mao_direcao</th>\n",
              "      <th class=\"col_heading level0 col24\" >divisao_via1</th>\n",
              "    </tr>\n",
              "  </thead>\n",
              "  <tbody>\n",
              "    <tr>\n",
              "      <th id=\"T_69af0_level0_row0\" class=\"row_heading level0 row0\" >0</th>\n",
              "      <td id=\"T_69af0_row0_col0\" class=\"data row0 col0\" >SEM VÍTIMA</td>\n",
              "      <td id=\"T_69af0_row0_col1\" class=\"data row0 col1\" >FINALIZADA</td>\n",
              "      <td id=\"T_69af0_row0_col2\" class=\"data row0 col2\" >TEJIPIÓ</td>\n",
              "      <td id=\"T_69af0_row0_col3\" class=\"data row0 col3\" >COLISÃO TRASEIRA</td>\n",
              "      <td id=\"T_69af0_row0_col4\" class=\"data row0 col4\" >2.000000</td>\n",
              "      <td id=\"T_69af0_row0_col5\" class=\"data row0 col5\" >0.000000</td>\n",
              "      <td id=\"T_69af0_row0_col6\" class=\"data row0 col6\" >0.000000</td>\n",
              "      <td id=\"T_69af0_row0_col7\" class=\"data row0 col7\" >0.000000</td>\n",
              "      <td id=\"T_69af0_row0_col8\" class=\"data row0 col8\" >0.000000</td>\n",
              "      <td id=\"T_69af0_row0_col9\" class=\"data row0 col9\" >0.000000</td>\n",
              "      <td id=\"T_69af0_row0_col10\" class=\"data row0 col10\" >0.000000</td>\n",
              "      <td id=\"T_69af0_row0_col11\" class=\"data row0 col11\" >0.000000</td>\n",
              "      <td id=\"T_69af0_row0_col12\" class=\"data row0 col12\" >0.000000</td>\n",
              "      <td id=\"T_69af0_row0_col13\" class=\"data row0 col13\" >0.000000</td>\n",
              "      <td id=\"T_69af0_row0_col14\" class=\"data row0 col14\" >0.000000</td>\n",
              "      <td id=\"T_69af0_row0_col15\" class=\"data row0 col15\" >Longo da via</td>\n",
              "      <td id=\"T_69af0_row0_col16\" class=\"data row0 col16\" >Bom</td>\n",
              "      <td id=\"T_69af0_row0_col17\" class=\"data row0 col17\" >Não existe</td>\n",
              "      <td id=\"T_69af0_row0_col18\" class=\"data row0 col18\" >Não existente</td>\n",
              "      <td id=\"T_69af0_row0_col19\" class=\"data row0 col19\" >Seca</td>\n",
              "      <td id=\"T_69af0_row0_col20\" class=\"data row0 col20\" >Perfeito estado</td>\n",
              "      <td id=\"T_69af0_row0_col21\" class=\"data row0 col21\" >Não existe</td>\n",
              "      <td id=\"T_69af0_row0_col22\" class=\"data row0 col22\" >Não há placas</td>\n",
              "      <td id=\"T_69af0_row0_col23\" class=\"data row0 col23\" >Dupla</td>\n",
              "      <td id=\"T_69af0_row0_col24\" class=\"data row0 col24\" >Faixa contínua</td>\n",
              "    </tr>\n",
              "    <tr>\n",
              "      <th id=\"T_69af0_level0_row1\" class=\"row_heading level0 row1\" >1</th>\n",
              "      <td id=\"T_69af0_row1_col0\" class=\"data row1 col0\" >SEM VÍTIMA</td>\n",
              "      <td id=\"T_69af0_row1_col1\" class=\"data row1 col1\" >FINALIZADA</td>\n",
              "      <td id=\"T_69af0_row1_col2\" class=\"data row1 col2\" >IMBIRIBEIRA</td>\n",
              "      <td id=\"T_69af0_row1_col3\" class=\"data row1 col3\" >ABALROAMENTO LONGITUDINAL</td>\n",
              "      <td id=\"T_69af0_row1_col4\" class=\"data row1 col4\" >0.000000</td>\n",
              "      <td id=\"T_69af0_row1_col5\" class=\"data row1 col5\" >0.000000</td>\n",
              "      <td id=\"T_69af0_row1_col6\" class=\"data row1 col6\" >0.000000</td>\n",
              "      <td id=\"T_69af0_row1_col7\" class=\"data row1 col7\" >0.000000</td>\n",
              "      <td id=\"T_69af0_row1_col8\" class=\"data row1 col8\" >0.000000</td>\n",
              "      <td id=\"T_69af0_row1_col9\" class=\"data row1 col9\" >1.000000</td>\n",
              "      <td id=\"T_69af0_row1_col10\" class=\"data row1 col10\" >1.000000</td>\n",
              "      <td id=\"T_69af0_row1_col11\" class=\"data row1 col11\" >0.000000</td>\n",
              "      <td id=\"T_69af0_row1_col12\" class=\"data row1 col12\" >0.000000</td>\n",
              "      <td id=\"T_69af0_row1_col13\" class=\"data row1 col13\" >0.000000</td>\n",
              "      <td id=\"T_69af0_row1_col14\" class=\"data row1 col14\" >0.000000</td>\n",
              "      <td id=\"T_69af0_row1_col15\" class=\"data row1 col15\" >Longo da via</td>\n",
              "      <td id=\"T_69af0_row1_col16\" class=\"data row1 col16\" >Bom</td>\n",
              "      <td id=\"T_69af0_row1_col17\" class=\"data row1 col17\" >Não existe</td>\n",
              "      <td id=\"T_69af0_row1_col18\" class=\"data row1 col18\" >Perfeito estado</td>\n",
              "      <td id=\"T_69af0_row1_col19\" class=\"data row1 col19\" >Seca</td>\n",
              "      <td id=\"T_69af0_row1_col20\" class=\"data row1 col20\" >Perfeito estado</td>\n",
              "      <td id=\"T_69af0_row1_col21\" class=\"data row1 col21\" >Não existe</td>\n",
              "      <td id=\"T_69af0_row1_col22\" class=\"data row1 col22\" >Não há placas</td>\n",
              "      <td id=\"T_69af0_row1_col23\" class=\"data row1 col23\" >Dupla</td>\n",
              "      <td id=\"T_69af0_row1_col24\" class=\"data row1 col24\" >Canteiro central</td>\n",
              "    </tr>\n",
              "    <tr>\n",
              "      <th id=\"T_69af0_level0_row2\" class=\"row_heading level0 row2\" >2</th>\n",
              "      <td id=\"T_69af0_row2_col0\" class=\"data row2 col0\" >SEM VÍTIMA</td>\n",
              "      <td id=\"T_69af0_row2_col1\" class=\"data row2 col1\" >FINALIZADA</td>\n",
              "      <td id=\"T_69af0_row2_col2\" class=\"data row2 col2\" >CAMPO GRANDE</td>\n",
              "      <td id=\"T_69af0_row2_col3\" class=\"data row2 col3\" >CHOQUE VEÍCULO PARADO</td>\n",
              "      <td id=\"T_69af0_row2_col4\" class=\"data row2 col4\" >2.000000</td>\n",
              "      <td id=\"T_69af0_row2_col5\" class=\"data row2 col5\" >0.000000</td>\n",
              "      <td id=\"T_69af0_row2_col6\" class=\"data row2 col6\" >0.000000</td>\n",
              "      <td id=\"T_69af0_row2_col7\" class=\"data row2 col7\" >0.000000</td>\n",
              "      <td id=\"T_69af0_row2_col8\" class=\"data row2 col8\" >0.000000</td>\n",
              "      <td id=\"T_69af0_row2_col9\" class=\"data row2 col9\" >0.000000</td>\n",
              "      <td id=\"T_69af0_row2_col10\" class=\"data row2 col10\" >0.000000</td>\n",
              "      <td id=\"T_69af0_row2_col11\" class=\"data row2 col11\" >0.000000</td>\n",
              "      <td id=\"T_69af0_row2_col12\" class=\"data row2 col12\" >0.000000</td>\n",
              "      <td id=\"T_69af0_row2_col13\" class=\"data row2 col13\" >0.000000</td>\n",
              "      <td id=\"T_69af0_row2_col14\" class=\"data row2 col14\" >0.000000</td>\n",
              "      <td id=\"T_69af0_row2_col15\" class=\"data row2 col15\" >Outros</td>\n",
              "      <td id=\"T_69af0_row2_col16\" class=\"data row2 col16\" >Bom</td>\n",
              "      <td id=\"T_69af0_row2_col17\" class=\"data row2 col17\" >Não existe</td>\n",
              "      <td id=\"T_69af0_row2_col18\" class=\"data row2 col18\" >Não existente</td>\n",
              "      <td id=\"T_69af0_row2_col19\" class=\"data row2 col19\" >Seca</td>\n",
              "      <td id=\"T_69af0_row2_col20\" class=\"data row2 col20\" >Perfeito estado</td>\n",
              "      <td id=\"T_69af0_row2_col21\" class=\"data row2 col21\" >Não existe</td>\n",
              "      <td id=\"T_69af0_row2_col22\" class=\"data row2 col22\" >Não há placas</td>\n",
              "      <td id=\"T_69af0_row2_col23\" class=\"data row2 col23\" >Única</td>\n",
              "      <td id=\"T_69af0_row2_col24\" class=\"data row2 col24\" >Não existe</td>\n",
              "    </tr>\n",
              "    <tr>\n",
              "      <th id=\"T_69af0_level0_row3\" class=\"row_heading level0 row3\" >3</th>\n",
              "      <td id=\"T_69af0_row3_col0\" class=\"data row3 col0\" >SEM VÍTIMA</td>\n",
              "      <td id=\"T_69af0_row3_col1\" class=\"data row3 col1\" >FINALIZADA</td>\n",
              "      <td id=\"T_69af0_row3_col2\" class=\"data row3 col2\" >DERBY</td>\n",
              "      <td id=\"T_69af0_row3_col3\" class=\"data row3 col3\" >ABALROAMENTO LONGITUDINAL</td>\n",
              "      <td id=\"T_69af0_row3_col4\" class=\"data row3 col4\" >1.000000</td>\n",
              "      <td id=\"T_69af0_row3_col5\" class=\"data row3 col5\" >0.000000</td>\n",
              "      <td id=\"T_69af0_row3_col6\" class=\"data row3 col6\" >0.000000</td>\n",
              "      <td id=\"T_69af0_row3_col7\" class=\"data row3 col7\" >0.000000</td>\n",
              "      <td id=\"T_69af0_row3_col8\" class=\"data row3 col8\" >0.000000</td>\n",
              "      <td id=\"T_69af0_row3_col9\" class=\"data row3 col9\" >1.000000</td>\n",
              "      <td id=\"T_69af0_row3_col10\" class=\"data row3 col10\" >0.000000</td>\n",
              "      <td id=\"T_69af0_row3_col11\" class=\"data row3 col11\" >0.000000</td>\n",
              "      <td id=\"T_69af0_row3_col12\" class=\"data row3 col12\" >0.000000</td>\n",
              "      <td id=\"T_69af0_row3_col13\" class=\"data row3 col13\" >0.000000</td>\n",
              "      <td id=\"T_69af0_row3_col14\" class=\"data row3 col14\" >0.000000</td>\n",
              "      <td id=\"T_69af0_row3_col15\" class=\"data row3 col15\" >Outros</td>\n",
              "      <td id=\"T_69af0_row3_col16\" class=\"data row3 col16\" >Bom</td>\n",
              "      <td id=\"T_69af0_row3_col17\" class=\"data row3 col17\" >Não existe</td>\n",
              "      <td id=\"T_69af0_row3_col18\" class=\"data row3 col18\" >Perfeito estado</td>\n",
              "      <td id=\"T_69af0_row3_col19\" class=\"data row3 col19\" >Seca</td>\n",
              "      <td id=\"T_69af0_row3_col20\" class=\"data row3 col20\" >Perfeito estado</td>\n",
              "      <td id=\"T_69af0_row3_col21\" class=\"data row3 col21\" >Não existe</td>\n",
              "      <td id=\"T_69af0_row3_col22\" class=\"data row3 col22\" >Placas \"Pare\"</td>\n",
              "      <td id=\"T_69af0_row3_col23\" class=\"data row3 col23\" >Única</td>\n",
              "      <td id=\"T_69af0_row3_col24\" class=\"data row3 col24\" >Não existe</td>\n",
              "    </tr>\n",
              "    <tr>\n",
              "      <th id=\"T_69af0_level0_row4\" class=\"row_heading level0 row4\" >4</th>\n",
              "      <td id=\"T_69af0_row4_col0\" class=\"data row4 col0\" >SEM VÍTIMA</td>\n",
              "      <td id=\"T_69af0_row4_col1\" class=\"data row4 col1\" >FINALIZADA</td>\n",
              "      <td id=\"T_69af0_row4_col2\" class=\"data row4 col2\" >GRAÇAS</td>\n",
              "      <td id=\"T_69af0_row4_col3\" class=\"data row4 col3\" >ABALROAMENTO LONGITUDINAL</td>\n",
              "      <td id=\"T_69af0_row4_col4\" class=\"data row4 col4\" >1.000000</td>\n",
              "      <td id=\"T_69af0_row4_col5\" class=\"data row4 col5\" >1.000000</td>\n",
              "      <td id=\"T_69af0_row4_col6\" class=\"data row4 col6\" >0.000000</td>\n",
              "      <td id=\"T_69af0_row4_col7\" class=\"data row4 col7\" >0.000000</td>\n",
              "      <td id=\"T_69af0_row4_col8\" class=\"data row4 col8\" >0.000000</td>\n",
              "      <td id=\"T_69af0_row4_col9\" class=\"data row4 col9\" >0.000000</td>\n",
              "      <td id=\"T_69af0_row4_col10\" class=\"data row4 col10\" >0.000000</td>\n",
              "      <td id=\"T_69af0_row4_col11\" class=\"data row4 col11\" >0.000000</td>\n",
              "      <td id=\"T_69af0_row4_col12\" class=\"data row4 col12\" >0.000000</td>\n",
              "      <td id=\"T_69af0_row4_col13\" class=\"data row4 col13\" >0.000000</td>\n",
              "      <td id=\"T_69af0_row4_col14\" class=\"data row4 col14\" >0.000000</td>\n",
              "      <td id=\"T_69af0_row4_col15\" class=\"data row4 col15\" >Cruzamento</td>\n",
              "      <td id=\"T_69af0_row4_col16\" class=\"data row4 col16\" >Bom</td>\n",
              "      <td id=\"T_69af0_row4_col17\" class=\"data row4 col17\" >Sem defeito</td>\n",
              "      <td id=\"T_69af0_row4_col18\" class=\"data row4 col18\" >Perfeito estado</td>\n",
              "      <td id=\"T_69af0_row4_col19\" class=\"data row4 col19\" >Seca</td>\n",
              "      <td id=\"T_69af0_row4_col20\" class=\"data row4 col20\" >Perfeito estado</td>\n",
              "      <td id=\"T_69af0_row4_col21\" class=\"data row4 col21\" >Não existe</td>\n",
              "      <td id=\"T_69af0_row4_col22\" class=\"data row4 col22\" >Não há placas</td>\n",
              "      <td id=\"T_69af0_row4_col23\" class=\"data row4 col23\" >Única</td>\n",
              "      <td id=\"T_69af0_row4_col24\" class=\"data row4 col24\" >Faixa seccionada</td>\n",
              "    </tr>\n",
              "  </tbody>\n",
              "</table>\n"
            ]
          },
          "metadata": {},
          "execution_count": 20
        }
      ]
    },
    {
      "cell_type": "code",
      "source": [
        "dataframeCodes['natureza_acidente'] = dataframeCodes['natureza_acidente'].cat.codes\n",
        "dataframeCodes['situacao'] = dataframeCodes['situacao'].cat.codes\n",
        "dataframeCodes['bairro'] = dataframeCodes['bairro'].cat.codes\n",
        "dataframeCodes['tipo'] = dataframeCodes['tipo'].cat.codes\n",
        "dataframeCodes['acidente_verificado'] = dataframeCodes['acidente_verificado'].cat.codes\n",
        "dataframeCodes['tempo_clima'] = dataframeCodes['tempo_clima'].cat.codes\n",
        "dataframeCodes['situacao_semaforo'] = dataframeCodes['situacao_semaforo'].cat.codes\n",
        "dataframeCodes['sinalizacao'] = dataframeCodes['sinalizacao'].cat.codes\n",
        "dataframeCodes['condicao_via'] = dataframeCodes['condicao_via'].cat.codes\n",
        "dataframeCodes['conservacao_via'] = dataframeCodes['conservacao_via'].cat.codes\n",
        "dataframeCodes['ponto_controle'] = dataframeCodes['ponto_controle'].cat.codes\n",
        "dataframeCodes['situacao_placa'] = dataframeCodes['situacao_placa'].cat.codes\n",
        "dataframeCodes['mao_direcao'] = dataframeCodes['mao_direcao'].cat.codes\n",
        "dataframeCodes['divisao_via1'] = dataframeCodes['divisao_via1'].cat.codes"
      ],
      "metadata": {
        "id": "HWkyvrGPXayr"
      },
      "execution_count": 21,
      "outputs": []
    },
    {
      "cell_type": "markdown",
      "source": [
        "##### Isolation Forests"
      ],
      "metadata": {
        "id": "a-L70PFCacF0"
      }
    },
    {
      "cell_type": "code",
      "source": [
        "dataframeTest = dataframeCodes.copy()"
      ],
      "metadata": {
        "id": "xNLt3sklbjnH"
      },
      "execution_count": 22,
      "outputs": []
    },
    {
      "cell_type": "code",
      "source": [
        "from sklearn.ensemble import IsolationForest\n",
        "rng = np.random.RandomState(42)\n",
        "clf = IsolationForest(max_samples=100, random_state=rng)\n",
        "clf.fit(dataframeTest)"
      ],
      "metadata": {
        "colab": {
          "base_uri": "https://localhost:8080/"
        },
        "id": "EaydFsDBVqIe",
        "outputId": "5279b286-fc97-4d22-b640-d99120b8aa82"
      },
      "execution_count": 23,
      "outputs": [
        {
          "output_type": "execute_result",
          "data": {
            "text/plain": [
              "IsolationForest(max_samples=100,\n",
              "                random_state=RandomState(MT19937) at 0x7F4CC731CC00)"
            ]
          },
          "metadata": {},
          "execution_count": 23
        }
      ]
    },
    {
      "cell_type": "code",
      "source": [
        "scores = clf.predict(dataframeTest)\n",
        "print(scores)"
      ],
      "metadata": {
        "colab": {
          "base_uri": "https://localhost:8080/"
        },
        "id": "QMM8cR8RVxes",
        "outputId": "99e98de4-389e-4259-cc81-f6890f23e0ac"
      },
      "execution_count": 24,
      "outputs": [
        {
          "output_type": "stream",
          "name": "stdout",
          "text": [
            "[1 1 1 ... 1 1 1]\n"
          ]
        }
      ]
    },
    {
      "cell_type": "code",
      "source": [
        "dataframeTest['outlier'] = scores\n",
        "dataframeTest.head().style"
      ],
      "metadata": {
        "colab": {
          "base_uri": "https://localhost:8080/",
          "height": 226
        },
        "id": "0uMStZuyY26T",
        "outputId": "971d9c5b-a202-41fb-aeda-e6c4f1e9981b"
      },
      "execution_count": 25,
      "outputs": [
        {
          "output_type": "execute_result",
          "data": {
            "text/plain": [
              "<pandas.io.formats.style.Styler at 0x7f4cd3f6ca50>"
            ],
            "text/html": [
              "<style type=\"text/css\">\n",
              "</style>\n",
              "<table id=\"T_34db9_\" class=\"dataframe\">\n",
              "  <thead>\n",
              "    <tr>\n",
              "      <th class=\"blank level0\" >&nbsp;</th>\n",
              "      <th class=\"col_heading level0 col0\" >natureza_acidente</th>\n",
              "      <th class=\"col_heading level0 col1\" >situacao</th>\n",
              "      <th class=\"col_heading level0 col2\" >bairro</th>\n",
              "      <th class=\"col_heading level0 col3\" >tipo</th>\n",
              "      <th class=\"col_heading level0 col4\" >auto</th>\n",
              "      <th class=\"col_heading level0 col5\" >moto</th>\n",
              "      <th class=\"col_heading level0 col6\" >ciclom</th>\n",
              "      <th class=\"col_heading level0 col7\" >ciclista</th>\n",
              "      <th class=\"col_heading level0 col8\" >pedestre</th>\n",
              "      <th class=\"col_heading level0 col9\" >onibus</th>\n",
              "      <th class=\"col_heading level0 col10\" >caminhao</th>\n",
              "      <th class=\"col_heading level0 col11\" >viatura</th>\n",
              "      <th class=\"col_heading level0 col12\" >outros</th>\n",
              "      <th class=\"col_heading level0 col13\" >vitimas</th>\n",
              "      <th class=\"col_heading level0 col14\" >vitimasfatais</th>\n",
              "      <th class=\"col_heading level0 col15\" >acidente_verificado</th>\n",
              "      <th class=\"col_heading level0 col16\" >tempo_clima</th>\n",
              "      <th class=\"col_heading level0 col17\" >situacao_semaforo</th>\n",
              "      <th class=\"col_heading level0 col18\" >sinalizacao</th>\n",
              "      <th class=\"col_heading level0 col19\" >condicao_via</th>\n",
              "      <th class=\"col_heading level0 col20\" >conservacao_via</th>\n",
              "      <th class=\"col_heading level0 col21\" >ponto_controle</th>\n",
              "      <th class=\"col_heading level0 col22\" >situacao_placa</th>\n",
              "      <th class=\"col_heading level0 col23\" >mao_direcao</th>\n",
              "      <th class=\"col_heading level0 col24\" >divisao_via1</th>\n",
              "      <th class=\"col_heading level0 col25\" >outlier</th>\n",
              "    </tr>\n",
              "  </thead>\n",
              "  <tbody>\n",
              "    <tr>\n",
              "      <th id=\"T_34db9_level0_row0\" class=\"row_heading level0 row0\" >0</th>\n",
              "      <td id=\"T_34db9_row0_col0\" class=\"data row0 col0\" >4</td>\n",
              "      <td id=\"T_34db9_row0_col1\" class=\"data row0 col1\" >6</td>\n",
              "      <td id=\"T_34db9_row0_col2\" class=\"data row0 col2\" >86</td>\n",
              "      <td id=\"T_34db9_row0_col3\" class=\"data row0 col3\" >19</td>\n",
              "      <td id=\"T_34db9_row0_col4\" class=\"data row0 col4\" >2.000000</td>\n",
              "      <td id=\"T_34db9_row0_col5\" class=\"data row0 col5\" >0.000000</td>\n",
              "      <td id=\"T_34db9_row0_col6\" class=\"data row0 col6\" >0.000000</td>\n",
              "      <td id=\"T_34db9_row0_col7\" class=\"data row0 col7\" >0.000000</td>\n",
              "      <td id=\"T_34db9_row0_col8\" class=\"data row0 col8\" >0.000000</td>\n",
              "      <td id=\"T_34db9_row0_col9\" class=\"data row0 col9\" >0.000000</td>\n",
              "      <td id=\"T_34db9_row0_col10\" class=\"data row0 col10\" >0.000000</td>\n",
              "      <td id=\"T_34db9_row0_col11\" class=\"data row0 col11\" >0.000000</td>\n",
              "      <td id=\"T_34db9_row0_col12\" class=\"data row0 col12\" >0.000000</td>\n",
              "      <td id=\"T_34db9_row0_col13\" class=\"data row0 col13\" >0.000000</td>\n",
              "      <td id=\"T_34db9_row0_col14\" class=\"data row0 col14\" >0.000000</td>\n",
              "      <td id=\"T_34db9_row0_col15\" class=\"data row0 col15\" >3</td>\n",
              "      <td id=\"T_34db9_row0_col16\" class=\"data row0 col16\" >0</td>\n",
              "      <td id=\"T_34db9_row0_col17\" class=\"data row0 col17\" >3</td>\n",
              "      <td id=\"T_34db9_row0_col18\" class=\"data row0 col18\" >2</td>\n",
              "      <td id=\"T_34db9_row0_col19\" class=\"data row0 col19\" >3</td>\n",
              "      <td id=\"T_34db9_row0_col20\" class=\"data row0 col20\" >4</td>\n",
              "      <td id=\"T_34db9_row0_col21\" class=\"data row0 col21\" >3</td>\n",
              "      <td id=\"T_34db9_row0_col22\" class=\"data row0 col22\" >1</td>\n",
              "      <td id=\"T_34db9_row0_col23\" class=\"data row0 col23\" >0</td>\n",
              "      <td id=\"T_34db9_row0_col24\" class=\"data row0 col24\" >6</td>\n",
              "      <td id=\"T_34db9_row0_col25\" class=\"data row0 col25\" >1</td>\n",
              "    </tr>\n",
              "    <tr>\n",
              "      <th id=\"T_34db9_level0_row1\" class=\"row_heading level0 row1\" >1</th>\n",
              "      <td id=\"T_34db9_row1_col0\" class=\"data row1 col0\" >4</td>\n",
              "      <td id=\"T_34db9_row1_col1\" class=\"data row1 col1\" >6</td>\n",
              "      <td id=\"T_34db9_row1_col2\" class=\"data row1 col2\" >50</td>\n",
              "      <td id=\"T_34db9_row1_col3\" class=\"data row1 col3\" >1</td>\n",
              "      <td id=\"T_34db9_row1_col4\" class=\"data row1 col4\" >0.000000</td>\n",
              "      <td id=\"T_34db9_row1_col5\" class=\"data row1 col5\" >0.000000</td>\n",
              "      <td id=\"T_34db9_row1_col6\" class=\"data row1 col6\" >0.000000</td>\n",
              "      <td id=\"T_34db9_row1_col7\" class=\"data row1 col7\" >0.000000</td>\n",
              "      <td id=\"T_34db9_row1_col8\" class=\"data row1 col8\" >0.000000</td>\n",
              "      <td id=\"T_34db9_row1_col9\" class=\"data row1 col9\" >1.000000</td>\n",
              "      <td id=\"T_34db9_row1_col10\" class=\"data row1 col10\" >1.000000</td>\n",
              "      <td id=\"T_34db9_row1_col11\" class=\"data row1 col11\" >0.000000</td>\n",
              "      <td id=\"T_34db9_row1_col12\" class=\"data row1 col12\" >0.000000</td>\n",
              "      <td id=\"T_34db9_row1_col13\" class=\"data row1 col13\" >0.000000</td>\n",
              "      <td id=\"T_34db9_row1_col14\" class=\"data row1 col14\" >0.000000</td>\n",
              "      <td id=\"T_34db9_row1_col15\" class=\"data row1 col15\" >3</td>\n",
              "      <td id=\"T_34db9_row1_col16\" class=\"data row1 col16\" >0</td>\n",
              "      <td id=\"T_34db9_row1_col17\" class=\"data row1 col17\" >3</td>\n",
              "      <td id=\"T_34db9_row1_col18\" class=\"data row1 col18\" >3</td>\n",
              "      <td id=\"T_34db9_row1_col19\" class=\"data row1 col19\" >3</td>\n",
              "      <td id=\"T_34db9_row1_col20\" class=\"data row1 col20\" >4</td>\n",
              "      <td id=\"T_34db9_row1_col21\" class=\"data row1 col21\" >3</td>\n",
              "      <td id=\"T_34db9_row1_col22\" class=\"data row1 col22\" >1</td>\n",
              "      <td id=\"T_34db9_row1_col23\" class=\"data row1 col23\" >0</td>\n",
              "      <td id=\"T_34db9_row1_col24\" class=\"data row1 col24\" >3</td>\n",
              "      <td id=\"T_34db9_row1_col25\" class=\"data row1 col25\" >1</td>\n",
              "    </tr>\n",
              "    <tr>\n",
              "      <th id=\"T_34db9_level0_row2\" class=\"row_heading level0 row2\" >2</th>\n",
              "      <td id=\"T_34db9_row2_col0\" class=\"data row2 col0\" >4</td>\n",
              "      <td id=\"T_34db9_row2_col1\" class=\"data row2 col1\" >6</td>\n",
              "      <td id=\"T_34db9_row2_col2\" class=\"data row2 col2\" >23</td>\n",
              "      <td id=\"T_34db9_row2_col3\" class=\"data row2 col3\" >13</td>\n",
              "      <td id=\"T_34db9_row2_col4\" class=\"data row2 col4\" >2.000000</td>\n",
              "      <td id=\"T_34db9_row2_col5\" class=\"data row2 col5\" >0.000000</td>\n",
              "      <td id=\"T_34db9_row2_col6\" class=\"data row2 col6\" >0.000000</td>\n",
              "      <td id=\"T_34db9_row2_col7\" class=\"data row2 col7\" >0.000000</td>\n",
              "      <td id=\"T_34db9_row2_col8\" class=\"data row2 col8\" >0.000000</td>\n",
              "      <td id=\"T_34db9_row2_col9\" class=\"data row2 col9\" >0.000000</td>\n",
              "      <td id=\"T_34db9_row2_col10\" class=\"data row2 col10\" >0.000000</td>\n",
              "      <td id=\"T_34db9_row2_col11\" class=\"data row2 col11\" >0.000000</td>\n",
              "      <td id=\"T_34db9_row2_col12\" class=\"data row2 col12\" >0.000000</td>\n",
              "      <td id=\"T_34db9_row2_col13\" class=\"data row2 col13\" >0.000000</td>\n",
              "      <td id=\"T_34db9_row2_col14\" class=\"data row2 col14\" >0.000000</td>\n",
              "      <td id=\"T_34db9_row2_col15\" class=\"data row2 col15\" >5</td>\n",
              "      <td id=\"T_34db9_row2_col16\" class=\"data row2 col16\" >0</td>\n",
              "      <td id=\"T_34db9_row2_col17\" class=\"data row2 col17\" >3</td>\n",
              "      <td id=\"T_34db9_row2_col18\" class=\"data row2 col18\" >2</td>\n",
              "      <td id=\"T_34db9_row2_col19\" class=\"data row2 col19\" >3</td>\n",
              "      <td id=\"T_34db9_row2_col20\" class=\"data row2 col20\" >4</td>\n",
              "      <td id=\"T_34db9_row2_col21\" class=\"data row2 col21\" >3</td>\n",
              "      <td id=\"T_34db9_row2_col22\" class=\"data row2 col22\" >1</td>\n",
              "      <td id=\"T_34db9_row2_col23\" class=\"data row2 col23\" >2</td>\n",
              "      <td id=\"T_34db9_row2_col24\" class=\"data row2 col24\" >8</td>\n",
              "      <td id=\"T_34db9_row2_col25\" class=\"data row2 col25\" >1</td>\n",
              "    </tr>\n",
              "    <tr>\n",
              "      <th id=\"T_34db9_level0_row3\" class=\"row_heading level0 row3\" >3</th>\n",
              "      <td id=\"T_34db9_row3_col0\" class=\"data row3 col0\" >4</td>\n",
              "      <td id=\"T_34db9_row3_col1\" class=\"data row3 col1\" >6</td>\n",
              "      <td id=\"T_34db9_row3_col2\" class=\"data row3 col2\" >35</td>\n",
              "      <td id=\"T_34db9_row3_col3\" class=\"data row3 col3\" >1</td>\n",
              "      <td id=\"T_34db9_row3_col4\" class=\"data row3 col4\" >1.000000</td>\n",
              "      <td id=\"T_34db9_row3_col5\" class=\"data row3 col5\" >0.000000</td>\n",
              "      <td id=\"T_34db9_row3_col6\" class=\"data row3 col6\" >0.000000</td>\n",
              "      <td id=\"T_34db9_row3_col7\" class=\"data row3 col7\" >0.000000</td>\n",
              "      <td id=\"T_34db9_row3_col8\" class=\"data row3 col8\" >0.000000</td>\n",
              "      <td id=\"T_34db9_row3_col9\" class=\"data row3 col9\" >1.000000</td>\n",
              "      <td id=\"T_34db9_row3_col10\" class=\"data row3 col10\" >0.000000</td>\n",
              "      <td id=\"T_34db9_row3_col11\" class=\"data row3 col11\" >0.000000</td>\n",
              "      <td id=\"T_34db9_row3_col12\" class=\"data row3 col12\" >0.000000</td>\n",
              "      <td id=\"T_34db9_row3_col13\" class=\"data row3 col13\" >0.000000</td>\n",
              "      <td id=\"T_34db9_row3_col14\" class=\"data row3 col14\" >0.000000</td>\n",
              "      <td id=\"T_34db9_row3_col15\" class=\"data row3 col15\" >5</td>\n",
              "      <td id=\"T_34db9_row3_col16\" class=\"data row3 col16\" >0</td>\n",
              "      <td id=\"T_34db9_row3_col17\" class=\"data row3 col17\" >3</td>\n",
              "      <td id=\"T_34db9_row3_col18\" class=\"data row3 col18\" >3</td>\n",
              "      <td id=\"T_34db9_row3_col19\" class=\"data row3 col19\" >3</td>\n",
              "      <td id=\"T_34db9_row3_col20\" class=\"data row3 col20\" >4</td>\n",
              "      <td id=\"T_34db9_row3_col21\" class=\"data row3 col21\" >3</td>\n",
              "      <td id=\"T_34db9_row3_col22\" class=\"data row3 col22\" >6</td>\n",
              "      <td id=\"T_34db9_row3_col23\" class=\"data row3 col23\" >2</td>\n",
              "      <td id=\"T_34db9_row3_col24\" class=\"data row3 col24\" >8</td>\n",
              "      <td id=\"T_34db9_row3_col25\" class=\"data row3 col25\" >1</td>\n",
              "    </tr>\n",
              "    <tr>\n",
              "      <th id=\"T_34db9_level0_row4\" class=\"row_heading level0 row4\" >4</th>\n",
              "      <td id=\"T_34db9_row4_col0\" class=\"data row4 col0\" >4</td>\n",
              "      <td id=\"T_34db9_row4_col1\" class=\"data row4 col1\" >6</td>\n",
              "      <td id=\"T_34db9_row4_col2\" class=\"data row4 col2\" >43</td>\n",
              "      <td id=\"T_34db9_row4_col3\" class=\"data row4 col3\" >1</td>\n",
              "      <td id=\"T_34db9_row4_col4\" class=\"data row4 col4\" >1.000000</td>\n",
              "      <td id=\"T_34db9_row4_col5\" class=\"data row4 col5\" >1.000000</td>\n",
              "      <td id=\"T_34db9_row4_col6\" class=\"data row4 col6\" >0.000000</td>\n",
              "      <td id=\"T_34db9_row4_col7\" class=\"data row4 col7\" >0.000000</td>\n",
              "      <td id=\"T_34db9_row4_col8\" class=\"data row4 col8\" >0.000000</td>\n",
              "      <td id=\"T_34db9_row4_col9\" class=\"data row4 col9\" >0.000000</td>\n",
              "      <td id=\"T_34db9_row4_col10\" class=\"data row4 col10\" >0.000000</td>\n",
              "      <td id=\"T_34db9_row4_col11\" class=\"data row4 col11\" >0.000000</td>\n",
              "      <td id=\"T_34db9_row4_col12\" class=\"data row4 col12\" >0.000000</td>\n",
              "      <td id=\"T_34db9_row4_col13\" class=\"data row4 col13\" >0.000000</td>\n",
              "      <td id=\"T_34db9_row4_col14\" class=\"data row4 col14\" >0.000000</td>\n",
              "      <td id=\"T_34db9_row4_col15\" class=\"data row4 col15\" >1</td>\n",
              "      <td id=\"T_34db9_row4_col16\" class=\"data row4 col16\" >0</td>\n",
              "      <td id=\"T_34db9_row4_col17\" class=\"data row4 col17\" >4</td>\n",
              "      <td id=\"T_34db9_row4_col18\" class=\"data row4 col18\" >3</td>\n",
              "      <td id=\"T_34db9_row4_col19\" class=\"data row4 col19\" >3</td>\n",
              "      <td id=\"T_34db9_row4_col20\" class=\"data row4 col20\" >4</td>\n",
              "      <td id=\"T_34db9_row4_col21\" class=\"data row4 col21\" >3</td>\n",
              "      <td id=\"T_34db9_row4_col22\" class=\"data row4 col22\" >1</td>\n",
              "      <td id=\"T_34db9_row4_col23\" class=\"data row4 col23\" >2</td>\n",
              "      <td id=\"T_34db9_row4_col24\" class=\"data row4 col24\" >7</td>\n",
              "      <td id=\"T_34db9_row4_col25\" class=\"data row4 col25\" >1</td>\n",
              "    </tr>\n",
              "  </tbody>\n",
              "</table>\n"
            ]
          },
          "metadata": {},
          "execution_count": 25
        }
      ]
    },
    {
      "cell_type": "code",
      "source": [
        "dataframeTest[dataframeTest['outlier'] == -1]"
      ],
      "metadata": {
        "colab": {
          "base_uri": "https://localhost:8080/",
          "height": 424
        },
        "id": "P7ghnqygZDq3",
        "outputId": "3de534b0-c428-4c30-e021-49bbbb9de910"
      },
      "execution_count": 26,
      "outputs": [
        {
          "output_type": "execute_result",
          "data": {
            "text/plain": [
              "       natureza_acidente  situacao  bairro  tipo  auto  moto  ciclom  \\\n",
              "29                     4         6      71    19   2.0   0.0     0.0   \n",
              "64                     4         6      12    19   1.0   1.0     0.0   \n",
              "80                     1         6       7    15   1.0   0.0     0.0   \n",
              "86                     1         6      26     6   0.0   1.0     0.0   \n",
              "89                     1         6      40    15   1.0   0.0     0.0   \n",
              "...                  ...       ...     ...   ...   ...   ...     ...   \n",
              "12249                  1         6      12    18   1.0   1.0     0.0   \n",
              "12250                  1         6      85    18   1.0   0.0     0.0   \n",
              "12251                  1         6      90    16   1.0   1.0     0.0   \n",
              "12254                  1         6      94     9   0.0   0.0     0.0   \n",
              "12261                  1         6      77    15   1.0   0.0     0.0   \n",
              "\n",
              "       ciclista  pedestre  onibus  ...  tempo_clima  situacao_semaforo  \\\n",
              "29          0.0       0.0     0.0  ...            0                  4   \n",
              "64          0.0       0.0     1.0  ...            0                  3   \n",
              "80          1.0       0.0     0.0  ...            0                  3   \n",
              "86          0.0       1.0     0.0  ...            0                  4   \n",
              "89          1.0       0.0     0.0  ...            0                  0   \n",
              "...         ...       ...     ...  ...          ...                ...   \n",
              "12249       0.0       0.0     0.0  ...            1                  4   \n",
              "12250       0.0       0.0     1.0  ...            1                  4   \n",
              "12251       0.0       0.0     0.0  ...            1                  3   \n",
              "12254       0.0       1.0     1.0  ...            0                  3   \n",
              "12261       1.0       0.0     0.0  ...            0                  4   \n",
              "\n",
              "       sinalizacao  condicao_via  conservacao_via  ponto_controle  \\\n",
              "29               0             3                4               1   \n",
              "64               3             3                4               3   \n",
              "80               3             3                4               3   \n",
              "86               3             3                4               1   \n",
              "89               3             3                4               3   \n",
              "...            ...           ...              ...             ...   \n",
              "12249            3             0                4               2   \n",
              "12250            3             0                4               1   \n",
              "12251            1             0                4               3   \n",
              "12254            3             3                4               1   \n",
              "12261            3             3                4               3   \n",
              "\n",
              "       situacao_placa  mao_direcao  divisao_via1  outlier  \n",
              "29                  1            2             3       -1  \n",
              "64                  1            2             7       -1  \n",
              "80                  4            0             3       -1  \n",
              "86                  4            0             3       -1  \n",
              "89                 36            0             3       -1  \n",
              "...               ...          ...           ...      ...  \n",
              "12249               1            2             7       -1  \n",
              "12250               4            0             3       -1  \n",
              "12251               1            0             8       -1  \n",
              "12254              24            0             6       -1  \n",
              "12261               1            0             8       -1  \n",
              "\n",
              "[2163 rows x 26 columns]"
            ],
            "text/html": [
              "\n",
              "  <div id=\"df-6c510425-15c7-40d4-a010-e6f3c9b3f8da\">\n",
              "    <div class=\"colab-df-container\">\n",
              "      <div>\n",
              "<style scoped>\n",
              "    .dataframe tbody tr th:only-of-type {\n",
              "        vertical-align: middle;\n",
              "    }\n",
              "\n",
              "    .dataframe tbody tr th {\n",
              "        vertical-align: top;\n",
              "    }\n",
              "\n",
              "    .dataframe thead th {\n",
              "        text-align: right;\n",
              "    }\n",
              "</style>\n",
              "<table border=\"1\" class=\"dataframe\">\n",
              "  <thead>\n",
              "    <tr style=\"text-align: right;\">\n",
              "      <th></th>\n",
              "      <th>natureza_acidente</th>\n",
              "      <th>situacao</th>\n",
              "      <th>bairro</th>\n",
              "      <th>tipo</th>\n",
              "      <th>auto</th>\n",
              "      <th>moto</th>\n",
              "      <th>ciclom</th>\n",
              "      <th>ciclista</th>\n",
              "      <th>pedestre</th>\n",
              "      <th>onibus</th>\n",
              "      <th>...</th>\n",
              "      <th>tempo_clima</th>\n",
              "      <th>situacao_semaforo</th>\n",
              "      <th>sinalizacao</th>\n",
              "      <th>condicao_via</th>\n",
              "      <th>conservacao_via</th>\n",
              "      <th>ponto_controle</th>\n",
              "      <th>situacao_placa</th>\n",
              "      <th>mao_direcao</th>\n",
              "      <th>divisao_via1</th>\n",
              "      <th>outlier</th>\n",
              "    </tr>\n",
              "  </thead>\n",
              "  <tbody>\n",
              "    <tr>\n",
              "      <th>29</th>\n",
              "      <td>4</td>\n",
              "      <td>6</td>\n",
              "      <td>71</td>\n",
              "      <td>19</td>\n",
              "      <td>2.0</td>\n",
              "      <td>0.0</td>\n",
              "      <td>0.0</td>\n",
              "      <td>0.0</td>\n",
              "      <td>0.0</td>\n",
              "      <td>0.0</td>\n",
              "      <td>...</td>\n",
              "      <td>0</td>\n",
              "      <td>4</td>\n",
              "      <td>0</td>\n",
              "      <td>3</td>\n",
              "      <td>4</td>\n",
              "      <td>1</td>\n",
              "      <td>1</td>\n",
              "      <td>2</td>\n",
              "      <td>3</td>\n",
              "      <td>-1</td>\n",
              "    </tr>\n",
              "    <tr>\n",
              "      <th>64</th>\n",
              "      <td>4</td>\n",
              "      <td>6</td>\n",
              "      <td>12</td>\n",
              "      <td>19</td>\n",
              "      <td>1.0</td>\n",
              "      <td>1.0</td>\n",
              "      <td>0.0</td>\n",
              "      <td>0.0</td>\n",
              "      <td>0.0</td>\n",
              "      <td>1.0</td>\n",
              "      <td>...</td>\n",
              "      <td>0</td>\n",
              "      <td>3</td>\n",
              "      <td>3</td>\n",
              "      <td>3</td>\n",
              "      <td>4</td>\n",
              "      <td>3</td>\n",
              "      <td>1</td>\n",
              "      <td>2</td>\n",
              "      <td>7</td>\n",
              "      <td>-1</td>\n",
              "    </tr>\n",
              "    <tr>\n",
              "      <th>80</th>\n",
              "      <td>1</td>\n",
              "      <td>6</td>\n",
              "      <td>7</td>\n",
              "      <td>15</td>\n",
              "      <td>1.0</td>\n",
              "      <td>0.0</td>\n",
              "      <td>0.0</td>\n",
              "      <td>1.0</td>\n",
              "      <td>0.0</td>\n",
              "      <td>0.0</td>\n",
              "      <td>...</td>\n",
              "      <td>0</td>\n",
              "      <td>3</td>\n",
              "      <td>3</td>\n",
              "      <td>3</td>\n",
              "      <td>4</td>\n",
              "      <td>3</td>\n",
              "      <td>4</td>\n",
              "      <td>0</td>\n",
              "      <td>3</td>\n",
              "      <td>-1</td>\n",
              "    </tr>\n",
              "    <tr>\n",
              "      <th>86</th>\n",
              "      <td>1</td>\n",
              "      <td>6</td>\n",
              "      <td>26</td>\n",
              "      <td>6</td>\n",
              "      <td>0.0</td>\n",
              "      <td>1.0</td>\n",
              "      <td>0.0</td>\n",
              "      <td>0.0</td>\n",
              "      <td>1.0</td>\n",
              "      <td>0.0</td>\n",
              "      <td>...</td>\n",
              "      <td>0</td>\n",
              "      <td>4</td>\n",
              "      <td>3</td>\n",
              "      <td>3</td>\n",
              "      <td>4</td>\n",
              "      <td>1</td>\n",
              "      <td>4</td>\n",
              "      <td>0</td>\n",
              "      <td>3</td>\n",
              "      <td>-1</td>\n",
              "    </tr>\n",
              "    <tr>\n",
              "      <th>89</th>\n",
              "      <td>1</td>\n",
              "      <td>6</td>\n",
              "      <td>40</td>\n",
              "      <td>15</td>\n",
              "      <td>1.0</td>\n",
              "      <td>0.0</td>\n",
              "      <td>0.0</td>\n",
              "      <td>1.0</td>\n",
              "      <td>0.0</td>\n",
              "      <td>0.0</td>\n",
              "      <td>...</td>\n",
              "      <td>0</td>\n",
              "      <td>0</td>\n",
              "      <td>3</td>\n",
              "      <td>3</td>\n",
              "      <td>4</td>\n",
              "      <td>3</td>\n",
              "      <td>36</td>\n",
              "      <td>0</td>\n",
              "      <td>3</td>\n",
              "      <td>-1</td>\n",
              "    </tr>\n",
              "    <tr>\n",
              "      <th>...</th>\n",
              "      <td>...</td>\n",
              "      <td>...</td>\n",
              "      <td>...</td>\n",
              "      <td>...</td>\n",
              "      <td>...</td>\n",
              "      <td>...</td>\n",
              "      <td>...</td>\n",
              "      <td>...</td>\n",
              "      <td>...</td>\n",
              "      <td>...</td>\n",
              "      <td>...</td>\n",
              "      <td>...</td>\n",
              "      <td>...</td>\n",
              "      <td>...</td>\n",
              "      <td>...</td>\n",
              "      <td>...</td>\n",
              "      <td>...</td>\n",
              "      <td>...</td>\n",
              "      <td>...</td>\n",
              "      <td>...</td>\n",
              "      <td>...</td>\n",
              "    </tr>\n",
              "    <tr>\n",
              "      <th>12249</th>\n",
              "      <td>1</td>\n",
              "      <td>6</td>\n",
              "      <td>12</td>\n",
              "      <td>18</td>\n",
              "      <td>1.0</td>\n",
              "      <td>1.0</td>\n",
              "      <td>0.0</td>\n",
              "      <td>0.0</td>\n",
              "      <td>0.0</td>\n",
              "      <td>0.0</td>\n",
              "      <td>...</td>\n",
              "      <td>1</td>\n",
              "      <td>4</td>\n",
              "      <td>3</td>\n",
              "      <td>0</td>\n",
              "      <td>4</td>\n",
              "      <td>2</td>\n",
              "      <td>1</td>\n",
              "      <td>2</td>\n",
              "      <td>7</td>\n",
              "      <td>-1</td>\n",
              "    </tr>\n",
              "    <tr>\n",
              "      <th>12250</th>\n",
              "      <td>1</td>\n",
              "      <td>6</td>\n",
              "      <td>85</td>\n",
              "      <td>18</td>\n",
              "      <td>1.0</td>\n",
              "      <td>0.0</td>\n",
              "      <td>0.0</td>\n",
              "      <td>0.0</td>\n",
              "      <td>0.0</td>\n",
              "      <td>1.0</td>\n",
              "      <td>...</td>\n",
              "      <td>1</td>\n",
              "      <td>4</td>\n",
              "      <td>3</td>\n",
              "      <td>0</td>\n",
              "      <td>4</td>\n",
              "      <td>1</td>\n",
              "      <td>4</td>\n",
              "      <td>0</td>\n",
              "      <td>3</td>\n",
              "      <td>-1</td>\n",
              "    </tr>\n",
              "    <tr>\n",
              "      <th>12251</th>\n",
              "      <td>1</td>\n",
              "      <td>6</td>\n",
              "      <td>90</td>\n",
              "      <td>16</td>\n",
              "      <td>1.0</td>\n",
              "      <td>1.0</td>\n",
              "      <td>0.0</td>\n",
              "      <td>0.0</td>\n",
              "      <td>0.0</td>\n",
              "      <td>0.0</td>\n",
              "      <td>...</td>\n",
              "      <td>1</td>\n",
              "      <td>3</td>\n",
              "      <td>1</td>\n",
              "      <td>0</td>\n",
              "      <td>4</td>\n",
              "      <td>3</td>\n",
              "      <td>1</td>\n",
              "      <td>0</td>\n",
              "      <td>8</td>\n",
              "      <td>-1</td>\n",
              "    </tr>\n",
              "    <tr>\n",
              "      <th>12254</th>\n",
              "      <td>1</td>\n",
              "      <td>6</td>\n",
              "      <td>94</td>\n",
              "      <td>9</td>\n",
              "      <td>0.0</td>\n",
              "      <td>0.0</td>\n",
              "      <td>0.0</td>\n",
              "      <td>0.0</td>\n",
              "      <td>1.0</td>\n",
              "      <td>1.0</td>\n",
              "      <td>...</td>\n",
              "      <td>0</td>\n",
              "      <td>3</td>\n",
              "      <td>3</td>\n",
              "      <td>3</td>\n",
              "      <td>4</td>\n",
              "      <td>1</td>\n",
              "      <td>24</td>\n",
              "      <td>0</td>\n",
              "      <td>6</td>\n",
              "      <td>-1</td>\n",
              "    </tr>\n",
              "    <tr>\n",
              "      <th>12261</th>\n",
              "      <td>1</td>\n",
              "      <td>6</td>\n",
              "      <td>77</td>\n",
              "      <td>15</td>\n",
              "      <td>1.0</td>\n",
              "      <td>0.0</td>\n",
              "      <td>0.0</td>\n",
              "      <td>1.0</td>\n",
              "      <td>0.0</td>\n",
              "      <td>0.0</td>\n",
              "      <td>...</td>\n",
              "      <td>0</td>\n",
              "      <td>4</td>\n",
              "      <td>3</td>\n",
              "      <td>3</td>\n",
              "      <td>4</td>\n",
              "      <td>3</td>\n",
              "      <td>1</td>\n",
              "      <td>0</td>\n",
              "      <td>8</td>\n",
              "      <td>-1</td>\n",
              "    </tr>\n",
              "  </tbody>\n",
              "</table>\n",
              "<p>2163 rows × 26 columns</p>\n",
              "</div>\n",
              "      <button class=\"colab-df-convert\" onclick=\"convertToInteractive('df-6c510425-15c7-40d4-a010-e6f3c9b3f8da')\"\n",
              "              title=\"Convert this dataframe to an interactive table.\"\n",
              "              style=\"display:none;\">\n",
              "        \n",
              "  <svg xmlns=\"http://www.w3.org/2000/svg\" height=\"24px\"viewBox=\"0 0 24 24\"\n",
              "       width=\"24px\">\n",
              "    <path d=\"M0 0h24v24H0V0z\" fill=\"none\"/>\n",
              "    <path d=\"M18.56 5.44l.94 2.06.94-2.06 2.06-.94-2.06-.94-.94-2.06-.94 2.06-2.06.94zm-11 1L8.5 8.5l.94-2.06 2.06-.94-2.06-.94L8.5 2.5l-.94 2.06-2.06.94zm10 10l.94 2.06.94-2.06 2.06-.94-2.06-.94-.94-2.06-.94 2.06-2.06.94z\"/><path d=\"M17.41 7.96l-1.37-1.37c-.4-.4-.92-.59-1.43-.59-.52 0-1.04.2-1.43.59L10.3 9.45l-7.72 7.72c-.78.78-.78 2.05 0 2.83L4 21.41c.39.39.9.59 1.41.59.51 0 1.02-.2 1.41-.59l7.78-7.78 2.81-2.81c.8-.78.8-2.07 0-2.86zM5.41 20L4 18.59l7.72-7.72 1.47 1.35L5.41 20z\"/>\n",
              "  </svg>\n",
              "      </button>\n",
              "      \n",
              "  <style>\n",
              "    .colab-df-container {\n",
              "      display:flex;\n",
              "      flex-wrap:wrap;\n",
              "      gap: 12px;\n",
              "    }\n",
              "\n",
              "    .colab-df-convert {\n",
              "      background-color: #E8F0FE;\n",
              "      border: none;\n",
              "      border-radius: 50%;\n",
              "      cursor: pointer;\n",
              "      display: none;\n",
              "      fill: #1967D2;\n",
              "      height: 32px;\n",
              "      padding: 0 0 0 0;\n",
              "      width: 32px;\n",
              "    }\n",
              "\n",
              "    .colab-df-convert:hover {\n",
              "      background-color: #E2EBFA;\n",
              "      box-shadow: 0px 1px 2px rgba(60, 64, 67, 0.3), 0px 1px 3px 1px rgba(60, 64, 67, 0.15);\n",
              "      fill: #174EA6;\n",
              "    }\n",
              "\n",
              "    [theme=dark] .colab-df-convert {\n",
              "      background-color: #3B4455;\n",
              "      fill: #D2E3FC;\n",
              "    }\n",
              "\n",
              "    [theme=dark] .colab-df-convert:hover {\n",
              "      background-color: #434B5C;\n",
              "      box-shadow: 0px 1px 3px 1px rgba(0, 0, 0, 0.15);\n",
              "      filter: drop-shadow(0px 1px 2px rgba(0, 0, 0, 0.3));\n",
              "      fill: #FFFFFF;\n",
              "    }\n",
              "  </style>\n",
              "\n",
              "      <script>\n",
              "        const buttonEl =\n",
              "          document.querySelector('#df-6c510425-15c7-40d4-a010-e6f3c9b3f8da button.colab-df-convert');\n",
              "        buttonEl.style.display =\n",
              "          google.colab.kernel.accessAllowed ? 'block' : 'none';\n",
              "\n",
              "        async function convertToInteractive(key) {\n",
              "          const element = document.querySelector('#df-6c510425-15c7-40d4-a010-e6f3c9b3f8da');\n",
              "          const dataTable =\n",
              "            await google.colab.kernel.invokeFunction('convertToInteractive',\n",
              "                                                     [key], {});\n",
              "          if (!dataTable) return;\n",
              "\n",
              "          const docLinkHtml = 'Like what you see? Visit the ' +\n",
              "            '<a target=\"_blank\" href=https://colab.research.google.com/notebooks/data_table.ipynb>data table notebook</a>'\n",
              "            + ' to learn more about interactive tables.';\n",
              "          element.innerHTML = '';\n",
              "          dataTable['output_type'] = 'display_data';\n",
              "          await google.colab.output.renderOutput(dataTable, element);\n",
              "          const docLink = document.createElement('div');\n",
              "          docLink.innerHTML = docLinkHtml;\n",
              "          element.appendChild(docLink);\n",
              "        }\n",
              "      </script>\n",
              "    </div>\n",
              "  </div>\n",
              "  "
            ]
          },
          "metadata": {},
          "execution_count": 26
        }
      ]
    },
    {
      "cell_type": "code",
      "source": [
        "dataframeTest = dataframeTest[dataframeTest['outlier'] != -1]\n",
        "len(dataframeTest)"
      ],
      "metadata": {
        "colab": {
          "base_uri": "https://localhost:8080/"
        },
        "id": "70VSyVvVZN1O",
        "outputId": "5ea06f62-2a60-4ada-b7ea-1f2208decd3b"
      },
      "execution_count": 27,
      "outputs": [
        {
          "output_type": "execute_result",
          "data": {
            "text/plain": [
              "10102"
            ]
          },
          "metadata": {},
          "execution_count": 27
        }
      ]
    },
    {
      "cell_type": "markdown",
      "source": [
        "#### Ajustes no dataset para implementação dos Algoritmos\n",
        "\n",
        "Vamos partir da seguinte legenda para criamos uma nova coluna (gravidade) a partir dos dados presentes na coluna \"vitimas\"\n",
        "- 0: Sem Gravidade\n",
        "- 1: Gravidade Moderada\n",
        "- 2: Muito Grave"
      ],
      "metadata": {
        "id": "QBNbnQXVFzpn"
      }
    },
    {
      "cell_type": "markdown",
      "source": [
        "##### Remoção da coluna \"outlier\" gerada no passo anterior e geração da coluna \"gravidade\""
      ],
      "metadata": {
        "id": "c3B8toJOhuPe"
      }
    },
    {
      "cell_type": "code",
      "source": [
        "dataframeTest.drop(['outlier'], axis=1, inplace=True)\n",
        "dataframeTest.head().style"
      ],
      "metadata": {
        "colab": {
          "base_uri": "https://localhost:8080/",
          "height": 313
        },
        "id": "0rDGkft9Fg2k",
        "outputId": "90fd2ab9-9859-4e23-ab9c-bc4cb95f981b"
      },
      "execution_count": 28,
      "outputs": [
        {
          "output_type": "stream",
          "name": "stderr",
          "text": [
            "/usr/local/lib/python3.7/dist-packages/pandas/core/frame.py:4913: SettingWithCopyWarning: \n",
            "A value is trying to be set on a copy of a slice from a DataFrame\n",
            "\n",
            "See the caveats in the documentation: https://pandas.pydata.org/pandas-docs/stable/user_guide/indexing.html#returning-a-view-versus-a-copy\n",
            "  errors=errors,\n"
          ]
        },
        {
          "output_type": "execute_result",
          "data": {
            "text/plain": [
              "<pandas.io.formats.style.Styler at 0x7f4cc6028710>"
            ],
            "text/html": [
              "<style type=\"text/css\">\n",
              "</style>\n",
              "<table id=\"T_8a5f4_\" class=\"dataframe\">\n",
              "  <thead>\n",
              "    <tr>\n",
              "      <th class=\"blank level0\" >&nbsp;</th>\n",
              "      <th class=\"col_heading level0 col0\" >natureza_acidente</th>\n",
              "      <th class=\"col_heading level0 col1\" >situacao</th>\n",
              "      <th class=\"col_heading level0 col2\" >bairro</th>\n",
              "      <th class=\"col_heading level0 col3\" >tipo</th>\n",
              "      <th class=\"col_heading level0 col4\" >auto</th>\n",
              "      <th class=\"col_heading level0 col5\" >moto</th>\n",
              "      <th class=\"col_heading level0 col6\" >ciclom</th>\n",
              "      <th class=\"col_heading level0 col7\" >ciclista</th>\n",
              "      <th class=\"col_heading level0 col8\" >pedestre</th>\n",
              "      <th class=\"col_heading level0 col9\" >onibus</th>\n",
              "      <th class=\"col_heading level0 col10\" >caminhao</th>\n",
              "      <th class=\"col_heading level0 col11\" >viatura</th>\n",
              "      <th class=\"col_heading level0 col12\" >outros</th>\n",
              "      <th class=\"col_heading level0 col13\" >vitimas</th>\n",
              "      <th class=\"col_heading level0 col14\" >vitimasfatais</th>\n",
              "      <th class=\"col_heading level0 col15\" >acidente_verificado</th>\n",
              "      <th class=\"col_heading level0 col16\" >tempo_clima</th>\n",
              "      <th class=\"col_heading level0 col17\" >situacao_semaforo</th>\n",
              "      <th class=\"col_heading level0 col18\" >sinalizacao</th>\n",
              "      <th class=\"col_heading level0 col19\" >condicao_via</th>\n",
              "      <th class=\"col_heading level0 col20\" >conservacao_via</th>\n",
              "      <th class=\"col_heading level0 col21\" >ponto_controle</th>\n",
              "      <th class=\"col_heading level0 col22\" >situacao_placa</th>\n",
              "      <th class=\"col_heading level0 col23\" >mao_direcao</th>\n",
              "      <th class=\"col_heading level0 col24\" >divisao_via1</th>\n",
              "    </tr>\n",
              "  </thead>\n",
              "  <tbody>\n",
              "    <tr>\n",
              "      <th id=\"T_8a5f4_level0_row0\" class=\"row_heading level0 row0\" >0</th>\n",
              "      <td id=\"T_8a5f4_row0_col0\" class=\"data row0 col0\" >4</td>\n",
              "      <td id=\"T_8a5f4_row0_col1\" class=\"data row0 col1\" >6</td>\n",
              "      <td id=\"T_8a5f4_row0_col2\" class=\"data row0 col2\" >86</td>\n",
              "      <td id=\"T_8a5f4_row0_col3\" class=\"data row0 col3\" >19</td>\n",
              "      <td id=\"T_8a5f4_row0_col4\" class=\"data row0 col4\" >2.000000</td>\n",
              "      <td id=\"T_8a5f4_row0_col5\" class=\"data row0 col5\" >0.000000</td>\n",
              "      <td id=\"T_8a5f4_row0_col6\" class=\"data row0 col6\" >0.000000</td>\n",
              "      <td id=\"T_8a5f4_row0_col7\" class=\"data row0 col7\" >0.000000</td>\n",
              "      <td id=\"T_8a5f4_row0_col8\" class=\"data row0 col8\" >0.000000</td>\n",
              "      <td id=\"T_8a5f4_row0_col9\" class=\"data row0 col9\" >0.000000</td>\n",
              "      <td id=\"T_8a5f4_row0_col10\" class=\"data row0 col10\" >0.000000</td>\n",
              "      <td id=\"T_8a5f4_row0_col11\" class=\"data row0 col11\" >0.000000</td>\n",
              "      <td id=\"T_8a5f4_row0_col12\" class=\"data row0 col12\" >0.000000</td>\n",
              "      <td id=\"T_8a5f4_row0_col13\" class=\"data row0 col13\" >0.000000</td>\n",
              "      <td id=\"T_8a5f4_row0_col14\" class=\"data row0 col14\" >0.000000</td>\n",
              "      <td id=\"T_8a5f4_row0_col15\" class=\"data row0 col15\" >3</td>\n",
              "      <td id=\"T_8a5f4_row0_col16\" class=\"data row0 col16\" >0</td>\n",
              "      <td id=\"T_8a5f4_row0_col17\" class=\"data row0 col17\" >3</td>\n",
              "      <td id=\"T_8a5f4_row0_col18\" class=\"data row0 col18\" >2</td>\n",
              "      <td id=\"T_8a5f4_row0_col19\" class=\"data row0 col19\" >3</td>\n",
              "      <td id=\"T_8a5f4_row0_col20\" class=\"data row0 col20\" >4</td>\n",
              "      <td id=\"T_8a5f4_row0_col21\" class=\"data row0 col21\" >3</td>\n",
              "      <td id=\"T_8a5f4_row0_col22\" class=\"data row0 col22\" >1</td>\n",
              "      <td id=\"T_8a5f4_row0_col23\" class=\"data row0 col23\" >0</td>\n",
              "      <td id=\"T_8a5f4_row0_col24\" class=\"data row0 col24\" >6</td>\n",
              "    </tr>\n",
              "    <tr>\n",
              "      <th id=\"T_8a5f4_level0_row1\" class=\"row_heading level0 row1\" >1</th>\n",
              "      <td id=\"T_8a5f4_row1_col0\" class=\"data row1 col0\" >4</td>\n",
              "      <td id=\"T_8a5f4_row1_col1\" class=\"data row1 col1\" >6</td>\n",
              "      <td id=\"T_8a5f4_row1_col2\" class=\"data row1 col2\" >50</td>\n",
              "      <td id=\"T_8a5f4_row1_col3\" class=\"data row1 col3\" >1</td>\n",
              "      <td id=\"T_8a5f4_row1_col4\" class=\"data row1 col4\" >0.000000</td>\n",
              "      <td id=\"T_8a5f4_row1_col5\" class=\"data row1 col5\" >0.000000</td>\n",
              "      <td id=\"T_8a5f4_row1_col6\" class=\"data row1 col6\" >0.000000</td>\n",
              "      <td id=\"T_8a5f4_row1_col7\" class=\"data row1 col7\" >0.000000</td>\n",
              "      <td id=\"T_8a5f4_row1_col8\" class=\"data row1 col8\" >0.000000</td>\n",
              "      <td id=\"T_8a5f4_row1_col9\" class=\"data row1 col9\" >1.000000</td>\n",
              "      <td id=\"T_8a5f4_row1_col10\" class=\"data row1 col10\" >1.000000</td>\n",
              "      <td id=\"T_8a5f4_row1_col11\" class=\"data row1 col11\" >0.000000</td>\n",
              "      <td id=\"T_8a5f4_row1_col12\" class=\"data row1 col12\" >0.000000</td>\n",
              "      <td id=\"T_8a5f4_row1_col13\" class=\"data row1 col13\" >0.000000</td>\n",
              "      <td id=\"T_8a5f4_row1_col14\" class=\"data row1 col14\" >0.000000</td>\n",
              "      <td id=\"T_8a5f4_row1_col15\" class=\"data row1 col15\" >3</td>\n",
              "      <td id=\"T_8a5f4_row1_col16\" class=\"data row1 col16\" >0</td>\n",
              "      <td id=\"T_8a5f4_row1_col17\" class=\"data row1 col17\" >3</td>\n",
              "      <td id=\"T_8a5f4_row1_col18\" class=\"data row1 col18\" >3</td>\n",
              "      <td id=\"T_8a5f4_row1_col19\" class=\"data row1 col19\" >3</td>\n",
              "      <td id=\"T_8a5f4_row1_col20\" class=\"data row1 col20\" >4</td>\n",
              "      <td id=\"T_8a5f4_row1_col21\" class=\"data row1 col21\" >3</td>\n",
              "      <td id=\"T_8a5f4_row1_col22\" class=\"data row1 col22\" >1</td>\n",
              "      <td id=\"T_8a5f4_row1_col23\" class=\"data row1 col23\" >0</td>\n",
              "      <td id=\"T_8a5f4_row1_col24\" class=\"data row1 col24\" >3</td>\n",
              "    </tr>\n",
              "    <tr>\n",
              "      <th id=\"T_8a5f4_level0_row2\" class=\"row_heading level0 row2\" >2</th>\n",
              "      <td id=\"T_8a5f4_row2_col0\" class=\"data row2 col0\" >4</td>\n",
              "      <td id=\"T_8a5f4_row2_col1\" class=\"data row2 col1\" >6</td>\n",
              "      <td id=\"T_8a5f4_row2_col2\" class=\"data row2 col2\" >23</td>\n",
              "      <td id=\"T_8a5f4_row2_col3\" class=\"data row2 col3\" >13</td>\n",
              "      <td id=\"T_8a5f4_row2_col4\" class=\"data row2 col4\" >2.000000</td>\n",
              "      <td id=\"T_8a5f4_row2_col5\" class=\"data row2 col5\" >0.000000</td>\n",
              "      <td id=\"T_8a5f4_row2_col6\" class=\"data row2 col6\" >0.000000</td>\n",
              "      <td id=\"T_8a5f4_row2_col7\" class=\"data row2 col7\" >0.000000</td>\n",
              "      <td id=\"T_8a5f4_row2_col8\" class=\"data row2 col8\" >0.000000</td>\n",
              "      <td id=\"T_8a5f4_row2_col9\" class=\"data row2 col9\" >0.000000</td>\n",
              "      <td id=\"T_8a5f4_row2_col10\" class=\"data row2 col10\" >0.000000</td>\n",
              "      <td id=\"T_8a5f4_row2_col11\" class=\"data row2 col11\" >0.000000</td>\n",
              "      <td id=\"T_8a5f4_row2_col12\" class=\"data row2 col12\" >0.000000</td>\n",
              "      <td id=\"T_8a5f4_row2_col13\" class=\"data row2 col13\" >0.000000</td>\n",
              "      <td id=\"T_8a5f4_row2_col14\" class=\"data row2 col14\" >0.000000</td>\n",
              "      <td id=\"T_8a5f4_row2_col15\" class=\"data row2 col15\" >5</td>\n",
              "      <td id=\"T_8a5f4_row2_col16\" class=\"data row2 col16\" >0</td>\n",
              "      <td id=\"T_8a5f4_row2_col17\" class=\"data row2 col17\" >3</td>\n",
              "      <td id=\"T_8a5f4_row2_col18\" class=\"data row2 col18\" >2</td>\n",
              "      <td id=\"T_8a5f4_row2_col19\" class=\"data row2 col19\" >3</td>\n",
              "      <td id=\"T_8a5f4_row2_col20\" class=\"data row2 col20\" >4</td>\n",
              "      <td id=\"T_8a5f4_row2_col21\" class=\"data row2 col21\" >3</td>\n",
              "      <td id=\"T_8a5f4_row2_col22\" class=\"data row2 col22\" >1</td>\n",
              "      <td id=\"T_8a5f4_row2_col23\" class=\"data row2 col23\" >2</td>\n",
              "      <td id=\"T_8a5f4_row2_col24\" class=\"data row2 col24\" >8</td>\n",
              "    </tr>\n",
              "    <tr>\n",
              "      <th id=\"T_8a5f4_level0_row3\" class=\"row_heading level0 row3\" >3</th>\n",
              "      <td id=\"T_8a5f4_row3_col0\" class=\"data row3 col0\" >4</td>\n",
              "      <td id=\"T_8a5f4_row3_col1\" class=\"data row3 col1\" >6</td>\n",
              "      <td id=\"T_8a5f4_row3_col2\" class=\"data row3 col2\" >35</td>\n",
              "      <td id=\"T_8a5f4_row3_col3\" class=\"data row3 col3\" >1</td>\n",
              "      <td id=\"T_8a5f4_row3_col4\" class=\"data row3 col4\" >1.000000</td>\n",
              "      <td id=\"T_8a5f4_row3_col5\" class=\"data row3 col5\" >0.000000</td>\n",
              "      <td id=\"T_8a5f4_row3_col6\" class=\"data row3 col6\" >0.000000</td>\n",
              "      <td id=\"T_8a5f4_row3_col7\" class=\"data row3 col7\" >0.000000</td>\n",
              "      <td id=\"T_8a5f4_row3_col8\" class=\"data row3 col8\" >0.000000</td>\n",
              "      <td id=\"T_8a5f4_row3_col9\" class=\"data row3 col9\" >1.000000</td>\n",
              "      <td id=\"T_8a5f4_row3_col10\" class=\"data row3 col10\" >0.000000</td>\n",
              "      <td id=\"T_8a5f4_row3_col11\" class=\"data row3 col11\" >0.000000</td>\n",
              "      <td id=\"T_8a5f4_row3_col12\" class=\"data row3 col12\" >0.000000</td>\n",
              "      <td id=\"T_8a5f4_row3_col13\" class=\"data row3 col13\" >0.000000</td>\n",
              "      <td id=\"T_8a5f4_row3_col14\" class=\"data row3 col14\" >0.000000</td>\n",
              "      <td id=\"T_8a5f4_row3_col15\" class=\"data row3 col15\" >5</td>\n",
              "      <td id=\"T_8a5f4_row3_col16\" class=\"data row3 col16\" >0</td>\n",
              "      <td id=\"T_8a5f4_row3_col17\" class=\"data row3 col17\" >3</td>\n",
              "      <td id=\"T_8a5f4_row3_col18\" class=\"data row3 col18\" >3</td>\n",
              "      <td id=\"T_8a5f4_row3_col19\" class=\"data row3 col19\" >3</td>\n",
              "      <td id=\"T_8a5f4_row3_col20\" class=\"data row3 col20\" >4</td>\n",
              "      <td id=\"T_8a5f4_row3_col21\" class=\"data row3 col21\" >3</td>\n",
              "      <td id=\"T_8a5f4_row3_col22\" class=\"data row3 col22\" >6</td>\n",
              "      <td id=\"T_8a5f4_row3_col23\" class=\"data row3 col23\" >2</td>\n",
              "      <td id=\"T_8a5f4_row3_col24\" class=\"data row3 col24\" >8</td>\n",
              "    </tr>\n",
              "    <tr>\n",
              "      <th id=\"T_8a5f4_level0_row4\" class=\"row_heading level0 row4\" >4</th>\n",
              "      <td id=\"T_8a5f4_row4_col0\" class=\"data row4 col0\" >4</td>\n",
              "      <td id=\"T_8a5f4_row4_col1\" class=\"data row4 col1\" >6</td>\n",
              "      <td id=\"T_8a5f4_row4_col2\" class=\"data row4 col2\" >43</td>\n",
              "      <td id=\"T_8a5f4_row4_col3\" class=\"data row4 col3\" >1</td>\n",
              "      <td id=\"T_8a5f4_row4_col4\" class=\"data row4 col4\" >1.000000</td>\n",
              "      <td id=\"T_8a5f4_row4_col5\" class=\"data row4 col5\" >1.000000</td>\n",
              "      <td id=\"T_8a5f4_row4_col6\" class=\"data row4 col6\" >0.000000</td>\n",
              "      <td id=\"T_8a5f4_row4_col7\" class=\"data row4 col7\" >0.000000</td>\n",
              "      <td id=\"T_8a5f4_row4_col8\" class=\"data row4 col8\" >0.000000</td>\n",
              "      <td id=\"T_8a5f4_row4_col9\" class=\"data row4 col9\" >0.000000</td>\n",
              "      <td id=\"T_8a5f4_row4_col10\" class=\"data row4 col10\" >0.000000</td>\n",
              "      <td id=\"T_8a5f4_row4_col11\" class=\"data row4 col11\" >0.000000</td>\n",
              "      <td id=\"T_8a5f4_row4_col12\" class=\"data row4 col12\" >0.000000</td>\n",
              "      <td id=\"T_8a5f4_row4_col13\" class=\"data row4 col13\" >0.000000</td>\n",
              "      <td id=\"T_8a5f4_row4_col14\" class=\"data row4 col14\" >0.000000</td>\n",
              "      <td id=\"T_8a5f4_row4_col15\" class=\"data row4 col15\" >1</td>\n",
              "      <td id=\"T_8a5f4_row4_col16\" class=\"data row4 col16\" >0</td>\n",
              "      <td id=\"T_8a5f4_row4_col17\" class=\"data row4 col17\" >4</td>\n",
              "      <td id=\"T_8a5f4_row4_col18\" class=\"data row4 col18\" >3</td>\n",
              "      <td id=\"T_8a5f4_row4_col19\" class=\"data row4 col19\" >3</td>\n",
              "      <td id=\"T_8a5f4_row4_col20\" class=\"data row4 col20\" >4</td>\n",
              "      <td id=\"T_8a5f4_row4_col21\" class=\"data row4 col21\" >3</td>\n",
              "      <td id=\"T_8a5f4_row4_col22\" class=\"data row4 col22\" >1</td>\n",
              "      <td id=\"T_8a5f4_row4_col23\" class=\"data row4 col23\" >2</td>\n",
              "      <td id=\"T_8a5f4_row4_col24\" class=\"data row4 col24\" >7</td>\n",
              "    </tr>\n",
              "  </tbody>\n",
              "</table>\n"
            ]
          },
          "metadata": {},
          "execution_count": 28
        }
      ]
    },
    {
      "cell_type": "code",
      "source": [
        "# Criação da lista com as condições especificas\n",
        "conditions = [\n",
        "    (dataframeTest['vitimas'] == 0),\n",
        "    (dataframeTest['vitimas'] == 1),\n",
        "    (dataframeTest['vitimas'] >= 2)\n",
        "    ]\n",
        "\n",
        "# Criação de uma lista dos valores que queremos associar para cada condição\n",
        "# values = ['Sem Gravidade', 'Gravidade Moderada', 'Muito Grave']\n",
        "values = [    0   ,     1   ,     2   ]\n",
        "\n",
        "# Criação de uma nova coluna usando o np.select para associar os valores com a lista de argumentos\n",
        "dataframeTest['gravidade'] = np.select(conditions, values)"
      ],
      "metadata": {
        "id": "UqbNJAAYu4cI",
        "colab": {
          "base_uri": "https://localhost:8080/"
        },
        "outputId": "bd9697ee-ad0d-4b14-ce95-1458a4565ebb"
      },
      "execution_count": 29,
      "outputs": [
        {
          "output_type": "stream",
          "name": "stderr",
          "text": [
            "/usr/local/lib/python3.7/dist-packages/ipykernel_launcher.py:13: SettingWithCopyWarning: \n",
            "A value is trying to be set on a copy of a slice from a DataFrame.\n",
            "Try using .loc[row_indexer,col_indexer] = value instead\n",
            "\n",
            "See the caveats in the documentation: https://pandas.pydata.org/pandas-docs/stable/user_guide/indexing.html#returning-a-view-versus-a-copy\n",
            "  del sys.path[0]\n"
          ]
        }
      ]
    },
    {
      "cell_type": "code",
      "source": [
        "dataframeTest.head().style"
      ],
      "metadata": {
        "colab": {
          "base_uri": "https://localhost:8080/",
          "height": 226
        },
        "id": "r_0J7EgCwIKh",
        "outputId": "28306c17-df74-4232-f21e-fa79e0f7e6ab"
      },
      "execution_count": 30,
      "outputs": [
        {
          "output_type": "execute_result",
          "data": {
            "text/plain": [
              "<pandas.io.formats.style.Styler at 0x7f4cc601b550>"
            ],
            "text/html": [
              "<style type=\"text/css\">\n",
              "</style>\n",
              "<table id=\"T_4bb6f_\" class=\"dataframe\">\n",
              "  <thead>\n",
              "    <tr>\n",
              "      <th class=\"blank level0\" >&nbsp;</th>\n",
              "      <th class=\"col_heading level0 col0\" >natureza_acidente</th>\n",
              "      <th class=\"col_heading level0 col1\" >situacao</th>\n",
              "      <th class=\"col_heading level0 col2\" >bairro</th>\n",
              "      <th class=\"col_heading level0 col3\" >tipo</th>\n",
              "      <th class=\"col_heading level0 col4\" >auto</th>\n",
              "      <th class=\"col_heading level0 col5\" >moto</th>\n",
              "      <th class=\"col_heading level0 col6\" >ciclom</th>\n",
              "      <th class=\"col_heading level0 col7\" >ciclista</th>\n",
              "      <th class=\"col_heading level0 col8\" >pedestre</th>\n",
              "      <th class=\"col_heading level0 col9\" >onibus</th>\n",
              "      <th class=\"col_heading level0 col10\" >caminhao</th>\n",
              "      <th class=\"col_heading level0 col11\" >viatura</th>\n",
              "      <th class=\"col_heading level0 col12\" >outros</th>\n",
              "      <th class=\"col_heading level0 col13\" >vitimas</th>\n",
              "      <th class=\"col_heading level0 col14\" >vitimasfatais</th>\n",
              "      <th class=\"col_heading level0 col15\" >acidente_verificado</th>\n",
              "      <th class=\"col_heading level0 col16\" >tempo_clima</th>\n",
              "      <th class=\"col_heading level0 col17\" >situacao_semaforo</th>\n",
              "      <th class=\"col_heading level0 col18\" >sinalizacao</th>\n",
              "      <th class=\"col_heading level0 col19\" >condicao_via</th>\n",
              "      <th class=\"col_heading level0 col20\" >conservacao_via</th>\n",
              "      <th class=\"col_heading level0 col21\" >ponto_controle</th>\n",
              "      <th class=\"col_heading level0 col22\" >situacao_placa</th>\n",
              "      <th class=\"col_heading level0 col23\" >mao_direcao</th>\n",
              "      <th class=\"col_heading level0 col24\" >divisao_via1</th>\n",
              "      <th class=\"col_heading level0 col25\" >gravidade</th>\n",
              "    </tr>\n",
              "  </thead>\n",
              "  <tbody>\n",
              "    <tr>\n",
              "      <th id=\"T_4bb6f_level0_row0\" class=\"row_heading level0 row0\" >0</th>\n",
              "      <td id=\"T_4bb6f_row0_col0\" class=\"data row0 col0\" >4</td>\n",
              "      <td id=\"T_4bb6f_row0_col1\" class=\"data row0 col1\" >6</td>\n",
              "      <td id=\"T_4bb6f_row0_col2\" class=\"data row0 col2\" >86</td>\n",
              "      <td id=\"T_4bb6f_row0_col3\" class=\"data row0 col3\" >19</td>\n",
              "      <td id=\"T_4bb6f_row0_col4\" class=\"data row0 col4\" >2.000000</td>\n",
              "      <td id=\"T_4bb6f_row0_col5\" class=\"data row0 col5\" >0.000000</td>\n",
              "      <td id=\"T_4bb6f_row0_col6\" class=\"data row0 col6\" >0.000000</td>\n",
              "      <td id=\"T_4bb6f_row0_col7\" class=\"data row0 col7\" >0.000000</td>\n",
              "      <td id=\"T_4bb6f_row0_col8\" class=\"data row0 col8\" >0.000000</td>\n",
              "      <td id=\"T_4bb6f_row0_col9\" class=\"data row0 col9\" >0.000000</td>\n",
              "      <td id=\"T_4bb6f_row0_col10\" class=\"data row0 col10\" >0.000000</td>\n",
              "      <td id=\"T_4bb6f_row0_col11\" class=\"data row0 col11\" >0.000000</td>\n",
              "      <td id=\"T_4bb6f_row0_col12\" class=\"data row0 col12\" >0.000000</td>\n",
              "      <td id=\"T_4bb6f_row0_col13\" class=\"data row0 col13\" >0.000000</td>\n",
              "      <td id=\"T_4bb6f_row0_col14\" class=\"data row0 col14\" >0.000000</td>\n",
              "      <td id=\"T_4bb6f_row0_col15\" class=\"data row0 col15\" >3</td>\n",
              "      <td id=\"T_4bb6f_row0_col16\" class=\"data row0 col16\" >0</td>\n",
              "      <td id=\"T_4bb6f_row0_col17\" class=\"data row0 col17\" >3</td>\n",
              "      <td id=\"T_4bb6f_row0_col18\" class=\"data row0 col18\" >2</td>\n",
              "      <td id=\"T_4bb6f_row0_col19\" class=\"data row0 col19\" >3</td>\n",
              "      <td id=\"T_4bb6f_row0_col20\" class=\"data row0 col20\" >4</td>\n",
              "      <td id=\"T_4bb6f_row0_col21\" class=\"data row0 col21\" >3</td>\n",
              "      <td id=\"T_4bb6f_row0_col22\" class=\"data row0 col22\" >1</td>\n",
              "      <td id=\"T_4bb6f_row0_col23\" class=\"data row0 col23\" >0</td>\n",
              "      <td id=\"T_4bb6f_row0_col24\" class=\"data row0 col24\" >6</td>\n",
              "      <td id=\"T_4bb6f_row0_col25\" class=\"data row0 col25\" >0</td>\n",
              "    </tr>\n",
              "    <tr>\n",
              "      <th id=\"T_4bb6f_level0_row1\" class=\"row_heading level0 row1\" >1</th>\n",
              "      <td id=\"T_4bb6f_row1_col0\" class=\"data row1 col0\" >4</td>\n",
              "      <td id=\"T_4bb6f_row1_col1\" class=\"data row1 col1\" >6</td>\n",
              "      <td id=\"T_4bb6f_row1_col2\" class=\"data row1 col2\" >50</td>\n",
              "      <td id=\"T_4bb6f_row1_col3\" class=\"data row1 col3\" >1</td>\n",
              "      <td id=\"T_4bb6f_row1_col4\" class=\"data row1 col4\" >0.000000</td>\n",
              "      <td id=\"T_4bb6f_row1_col5\" class=\"data row1 col5\" >0.000000</td>\n",
              "      <td id=\"T_4bb6f_row1_col6\" class=\"data row1 col6\" >0.000000</td>\n",
              "      <td id=\"T_4bb6f_row1_col7\" class=\"data row1 col7\" >0.000000</td>\n",
              "      <td id=\"T_4bb6f_row1_col8\" class=\"data row1 col8\" >0.000000</td>\n",
              "      <td id=\"T_4bb6f_row1_col9\" class=\"data row1 col9\" >1.000000</td>\n",
              "      <td id=\"T_4bb6f_row1_col10\" class=\"data row1 col10\" >1.000000</td>\n",
              "      <td id=\"T_4bb6f_row1_col11\" class=\"data row1 col11\" >0.000000</td>\n",
              "      <td id=\"T_4bb6f_row1_col12\" class=\"data row1 col12\" >0.000000</td>\n",
              "      <td id=\"T_4bb6f_row1_col13\" class=\"data row1 col13\" >0.000000</td>\n",
              "      <td id=\"T_4bb6f_row1_col14\" class=\"data row1 col14\" >0.000000</td>\n",
              "      <td id=\"T_4bb6f_row1_col15\" class=\"data row1 col15\" >3</td>\n",
              "      <td id=\"T_4bb6f_row1_col16\" class=\"data row1 col16\" >0</td>\n",
              "      <td id=\"T_4bb6f_row1_col17\" class=\"data row1 col17\" >3</td>\n",
              "      <td id=\"T_4bb6f_row1_col18\" class=\"data row1 col18\" >3</td>\n",
              "      <td id=\"T_4bb6f_row1_col19\" class=\"data row1 col19\" >3</td>\n",
              "      <td id=\"T_4bb6f_row1_col20\" class=\"data row1 col20\" >4</td>\n",
              "      <td id=\"T_4bb6f_row1_col21\" class=\"data row1 col21\" >3</td>\n",
              "      <td id=\"T_4bb6f_row1_col22\" class=\"data row1 col22\" >1</td>\n",
              "      <td id=\"T_4bb6f_row1_col23\" class=\"data row1 col23\" >0</td>\n",
              "      <td id=\"T_4bb6f_row1_col24\" class=\"data row1 col24\" >3</td>\n",
              "      <td id=\"T_4bb6f_row1_col25\" class=\"data row1 col25\" >0</td>\n",
              "    </tr>\n",
              "    <tr>\n",
              "      <th id=\"T_4bb6f_level0_row2\" class=\"row_heading level0 row2\" >2</th>\n",
              "      <td id=\"T_4bb6f_row2_col0\" class=\"data row2 col0\" >4</td>\n",
              "      <td id=\"T_4bb6f_row2_col1\" class=\"data row2 col1\" >6</td>\n",
              "      <td id=\"T_4bb6f_row2_col2\" class=\"data row2 col2\" >23</td>\n",
              "      <td id=\"T_4bb6f_row2_col3\" class=\"data row2 col3\" >13</td>\n",
              "      <td id=\"T_4bb6f_row2_col4\" class=\"data row2 col4\" >2.000000</td>\n",
              "      <td id=\"T_4bb6f_row2_col5\" class=\"data row2 col5\" >0.000000</td>\n",
              "      <td id=\"T_4bb6f_row2_col6\" class=\"data row2 col6\" >0.000000</td>\n",
              "      <td id=\"T_4bb6f_row2_col7\" class=\"data row2 col7\" >0.000000</td>\n",
              "      <td id=\"T_4bb6f_row2_col8\" class=\"data row2 col8\" >0.000000</td>\n",
              "      <td id=\"T_4bb6f_row2_col9\" class=\"data row2 col9\" >0.000000</td>\n",
              "      <td id=\"T_4bb6f_row2_col10\" class=\"data row2 col10\" >0.000000</td>\n",
              "      <td id=\"T_4bb6f_row2_col11\" class=\"data row2 col11\" >0.000000</td>\n",
              "      <td id=\"T_4bb6f_row2_col12\" class=\"data row2 col12\" >0.000000</td>\n",
              "      <td id=\"T_4bb6f_row2_col13\" class=\"data row2 col13\" >0.000000</td>\n",
              "      <td id=\"T_4bb6f_row2_col14\" class=\"data row2 col14\" >0.000000</td>\n",
              "      <td id=\"T_4bb6f_row2_col15\" class=\"data row2 col15\" >5</td>\n",
              "      <td id=\"T_4bb6f_row2_col16\" class=\"data row2 col16\" >0</td>\n",
              "      <td id=\"T_4bb6f_row2_col17\" class=\"data row2 col17\" >3</td>\n",
              "      <td id=\"T_4bb6f_row2_col18\" class=\"data row2 col18\" >2</td>\n",
              "      <td id=\"T_4bb6f_row2_col19\" class=\"data row2 col19\" >3</td>\n",
              "      <td id=\"T_4bb6f_row2_col20\" class=\"data row2 col20\" >4</td>\n",
              "      <td id=\"T_4bb6f_row2_col21\" class=\"data row2 col21\" >3</td>\n",
              "      <td id=\"T_4bb6f_row2_col22\" class=\"data row2 col22\" >1</td>\n",
              "      <td id=\"T_4bb6f_row2_col23\" class=\"data row2 col23\" >2</td>\n",
              "      <td id=\"T_4bb6f_row2_col24\" class=\"data row2 col24\" >8</td>\n",
              "      <td id=\"T_4bb6f_row2_col25\" class=\"data row2 col25\" >0</td>\n",
              "    </tr>\n",
              "    <tr>\n",
              "      <th id=\"T_4bb6f_level0_row3\" class=\"row_heading level0 row3\" >3</th>\n",
              "      <td id=\"T_4bb6f_row3_col0\" class=\"data row3 col0\" >4</td>\n",
              "      <td id=\"T_4bb6f_row3_col1\" class=\"data row3 col1\" >6</td>\n",
              "      <td id=\"T_4bb6f_row3_col2\" class=\"data row3 col2\" >35</td>\n",
              "      <td id=\"T_4bb6f_row3_col3\" class=\"data row3 col3\" >1</td>\n",
              "      <td id=\"T_4bb6f_row3_col4\" class=\"data row3 col4\" >1.000000</td>\n",
              "      <td id=\"T_4bb6f_row3_col5\" class=\"data row3 col5\" >0.000000</td>\n",
              "      <td id=\"T_4bb6f_row3_col6\" class=\"data row3 col6\" >0.000000</td>\n",
              "      <td id=\"T_4bb6f_row3_col7\" class=\"data row3 col7\" >0.000000</td>\n",
              "      <td id=\"T_4bb6f_row3_col8\" class=\"data row3 col8\" >0.000000</td>\n",
              "      <td id=\"T_4bb6f_row3_col9\" class=\"data row3 col9\" >1.000000</td>\n",
              "      <td id=\"T_4bb6f_row3_col10\" class=\"data row3 col10\" >0.000000</td>\n",
              "      <td id=\"T_4bb6f_row3_col11\" class=\"data row3 col11\" >0.000000</td>\n",
              "      <td id=\"T_4bb6f_row3_col12\" class=\"data row3 col12\" >0.000000</td>\n",
              "      <td id=\"T_4bb6f_row3_col13\" class=\"data row3 col13\" >0.000000</td>\n",
              "      <td id=\"T_4bb6f_row3_col14\" class=\"data row3 col14\" >0.000000</td>\n",
              "      <td id=\"T_4bb6f_row3_col15\" class=\"data row3 col15\" >5</td>\n",
              "      <td id=\"T_4bb6f_row3_col16\" class=\"data row3 col16\" >0</td>\n",
              "      <td id=\"T_4bb6f_row3_col17\" class=\"data row3 col17\" >3</td>\n",
              "      <td id=\"T_4bb6f_row3_col18\" class=\"data row3 col18\" >3</td>\n",
              "      <td id=\"T_4bb6f_row3_col19\" class=\"data row3 col19\" >3</td>\n",
              "      <td id=\"T_4bb6f_row3_col20\" class=\"data row3 col20\" >4</td>\n",
              "      <td id=\"T_4bb6f_row3_col21\" class=\"data row3 col21\" >3</td>\n",
              "      <td id=\"T_4bb6f_row3_col22\" class=\"data row3 col22\" >6</td>\n",
              "      <td id=\"T_4bb6f_row3_col23\" class=\"data row3 col23\" >2</td>\n",
              "      <td id=\"T_4bb6f_row3_col24\" class=\"data row3 col24\" >8</td>\n",
              "      <td id=\"T_4bb6f_row3_col25\" class=\"data row3 col25\" >0</td>\n",
              "    </tr>\n",
              "    <tr>\n",
              "      <th id=\"T_4bb6f_level0_row4\" class=\"row_heading level0 row4\" >4</th>\n",
              "      <td id=\"T_4bb6f_row4_col0\" class=\"data row4 col0\" >4</td>\n",
              "      <td id=\"T_4bb6f_row4_col1\" class=\"data row4 col1\" >6</td>\n",
              "      <td id=\"T_4bb6f_row4_col2\" class=\"data row4 col2\" >43</td>\n",
              "      <td id=\"T_4bb6f_row4_col3\" class=\"data row4 col3\" >1</td>\n",
              "      <td id=\"T_4bb6f_row4_col4\" class=\"data row4 col4\" >1.000000</td>\n",
              "      <td id=\"T_4bb6f_row4_col5\" class=\"data row4 col5\" >1.000000</td>\n",
              "      <td id=\"T_4bb6f_row4_col6\" class=\"data row4 col6\" >0.000000</td>\n",
              "      <td id=\"T_4bb6f_row4_col7\" class=\"data row4 col7\" >0.000000</td>\n",
              "      <td id=\"T_4bb6f_row4_col8\" class=\"data row4 col8\" >0.000000</td>\n",
              "      <td id=\"T_4bb6f_row4_col9\" class=\"data row4 col9\" >0.000000</td>\n",
              "      <td id=\"T_4bb6f_row4_col10\" class=\"data row4 col10\" >0.000000</td>\n",
              "      <td id=\"T_4bb6f_row4_col11\" class=\"data row4 col11\" >0.000000</td>\n",
              "      <td id=\"T_4bb6f_row4_col12\" class=\"data row4 col12\" >0.000000</td>\n",
              "      <td id=\"T_4bb6f_row4_col13\" class=\"data row4 col13\" >0.000000</td>\n",
              "      <td id=\"T_4bb6f_row4_col14\" class=\"data row4 col14\" >0.000000</td>\n",
              "      <td id=\"T_4bb6f_row4_col15\" class=\"data row4 col15\" >1</td>\n",
              "      <td id=\"T_4bb6f_row4_col16\" class=\"data row4 col16\" >0</td>\n",
              "      <td id=\"T_4bb6f_row4_col17\" class=\"data row4 col17\" >4</td>\n",
              "      <td id=\"T_4bb6f_row4_col18\" class=\"data row4 col18\" >3</td>\n",
              "      <td id=\"T_4bb6f_row4_col19\" class=\"data row4 col19\" >3</td>\n",
              "      <td id=\"T_4bb6f_row4_col20\" class=\"data row4 col20\" >4</td>\n",
              "      <td id=\"T_4bb6f_row4_col21\" class=\"data row4 col21\" >3</td>\n",
              "      <td id=\"T_4bb6f_row4_col22\" class=\"data row4 col22\" >1</td>\n",
              "      <td id=\"T_4bb6f_row4_col23\" class=\"data row4 col23\" >2</td>\n",
              "      <td id=\"T_4bb6f_row4_col24\" class=\"data row4 col24\" >7</td>\n",
              "      <td id=\"T_4bb6f_row4_col25\" class=\"data row4 col25\" >0</td>\n",
              "    </tr>\n",
              "  </tbody>\n",
              "</table>\n"
            ]
          },
          "metadata": {},
          "execution_count": 30
        }
      ]
    },
    {
      "cell_type": "markdown",
      "source": [
        "### Implementação dos modelos\n",
        "\n"
      ],
      "metadata": {
        "id": "9H5kqhw_jDpn"
      }
    },
    {
      "cell_type": "markdown",
      "source": [
        "#### Separação do dataset em treinamento (60%), validação (20%) e testes (20%) "
      ],
      "metadata": {
        "id": "KlHDJj7eh8tp"
      }
    },
    {
      "cell_type": "code",
      "source": [
        "from sklearn.model_selection import train_test_split\n",
        "\n",
        "x = dataframeTest.drop(['vitimas', 'gravidade'], axis=1)\n",
        "y = dataframeTest['gravidade']\n",
        "\n",
        "x_train, x_test, y_train, y_test = train_test_split(x, y, test_size=0.4, random_state=7)\n",
        "x_test, x_val, y_test, y_val = train_test_split(x_test, y_test, test_size=0.5, random_state=7)"
      ],
      "metadata": {
        "id": "Wy9mfhC8xSnW"
      },
      "execution_count": 31,
      "outputs": []
    },
    {
      "cell_type": "markdown",
      "source": [
        "#### Imports usados nos modelos"
      ],
      "metadata": {
        "id": "0x4ArKzHipDV"
      }
    },
    {
      "cell_type": "code",
      "source": [
        "import optuna\n",
        "import mlflow\n",
        "from pyngrok import ngrok"
      ],
      "metadata": {
        "id": "pMj6exRHX1lx"
      },
      "execution_count": 32,
      "outputs": []
    },
    {
      "cell_type": "code",
      "source": [
        "from sklearn.naive_bayes import GaussianNB\n",
        "from sklearn.svm import SVC\n",
        "from sklearn.neural_network import MLPClassifier\n",
        "from sklearn.linear_model import LogisticRegression\n",
        "\n",
        "from sklearn.metrics import accuracy_score\n",
        "from sklearn.metrics import f1_score\n",
        "from sklearn.metrics import recall_score\n",
        "from sklearn.metrics import precision_score\n",
        "\n",
        "from optuna.integration.mlflow import MLflowCallback\n",
        "from sklearn.pipeline import Pipeline\n",
        "from sklearn.preprocessing import StandardScaler"
      ],
      "metadata": {
        "id": "bxbeTEMtTUI8"
      },
      "execution_count": 33,
      "outputs": []
    },
    {
      "cell_type": "code",
      "source": [
        "def eval_metrics(actual, pred):\n",
        "  accuracy = accuracy_score(actual, pred)\n",
        "  f1score = f1_score(actual, pred, average='macro')\n",
        "  recallscore = recall_score(actual, pred, average='macro')\n",
        "  precisionscore = precision_score(actual, pred, average='macro')\n",
        "\n",
        "  return accuracy, f1score, recallscore, precisionscore"
      ],
      "metadata": {
        "id": "G9eOfD8NTo_u"
      },
      "execution_count": 34,
      "outputs": []
    },
    {
      "cell_type": "code",
      "source": [
        "get_ipython().system_raw(\"mlflow ui --port 5000 &\")\n",
        "ngrok.kill()\n",
        "NGROK_AUTH_TOKEN = ''\n",
        "ngrok.set_auth_token(NGROK_AUTH_TOKEN)\n",
        "ngrok_tunnel = ngrok.connect(addr=\"5000\", proto=\"http\", bind_tls=True)\n",
        "print(\"MLflow Tracking UI:\", ngrok_tunnel.public_url)"
      ],
      "metadata": {
        "colab": {
          "base_uri": "https://localhost:8080/"
        },
        "id": "s--3yZrKUCev",
        "outputId": "40f41cc6-6fc3-4507-bb83-5ec45d2bd430"
      },
      "execution_count": 35,
      "outputs": [
        {
          "output_type": "stream",
          "name": "stdout",
          "text": [
            "MLflow Tracking UI: https://0762-34-143-128-204.ngrok.io\n"
          ]
        }
      ]
    },
    {
      "cell_type": "markdown",
      "source": [
        "#### Algoritmos utilizados:\n",
        "\n"
      ],
      "metadata": {
        "id": "TiHdA2hA1oMP"
      }
    },
    {
      "cell_type": "markdown",
      "source": [
        "- Naive Bayes\n",
        "- MLP (Multilayer Perceptron)\n",
        "- SMV (Support vector machines)\n",
        "- Logistic regression"
      ],
      "metadata": {
        "id": "LT8YpXpEpYNs"
      }
    },
    {
      "cell_type": "markdown",
      "source": [
        "#### Naive Bayes"
      ],
      "metadata": {
        "id": "_sJ3r_CPjmAG"
      }
    },
    {
      "cell_type": "code",
      "source": [
        "def gaussianNaiveBayes(trial):\n",
        "  var_smoothing = trial.suggest_float('var_smoothing', 1e-11, 1e-8)\n",
        "\n",
        "  with mlflow.start_run(run_name = str('gaussianBayes')):\n",
        "    model = GaussianNB(var_smoothing = var_smoothing)\n",
        "    model.fit(x_train, y_train)\n",
        "\n",
        "    y_model = model.predict(x_val)\n",
        "\n",
        "    (accuracy, f1score, recallscore, precisionscore) = eval_metrics(y_val, y_model)\n",
        "\n",
        "    print('GaussianBayes model (var_smoothing=%s):'%(var_smoothing))\n",
        "    print('accuracy: %s'%(accuracy))\n",
        "    print('f1 score: %s'%(f1score))\n",
        "    print('recall: %s'%(recallscore))\n",
        "    print('precision: %s'%(precisionscore))\n",
        "\n",
        "    mlflow.log_param(\"var_smoothing\", var_smoothing)\n",
        "    mlflow.log_metric(\"accuracy\", accuracy)\n",
        "    mlflow.log_metric(\"f1 score\", f1score)\n",
        "    mlflow.log_metric(\"recall\", recallscore)\n",
        "    mlflow.log_metric(\"precision\", precisionscore)\n",
        "\n",
        "    mlflow.end_run()\n",
        "\n",
        "  return accuracy"
      ],
      "metadata": {
        "id": "zr0t1pF_U9zu"
      },
      "execution_count": 36,
      "outputs": []
    },
    {
      "cell_type": "code",
      "source": [
        "studyNB = optuna.create_study(direction=\"maximize\")\n",
        "studyNB.optimize(gaussianNaiveBayes, n_trials=50)"
      ],
      "metadata": {
        "colab": {
          "base_uri": "https://localhost:8080/"
        },
        "id": "BbrzHGpfXSX9",
        "outputId": "95c2671f-cd08-4385-fe7e-ff3a9e3ef118"
      },
      "execution_count": 37,
      "outputs": [
        {
          "output_type": "stream",
          "name": "stderr",
          "text": [
            "\u001b[32m[I 2022-10-04 00:01:18,788]\u001b[0m A new study created in memory with name: no-name-3fbd22a6-d284-4ba2-adbf-38acf4bc06ae\u001b[0m\n"
          ]
        },
        {
          "output_type": "stream",
          "name": "stdout",
          "text": [
            "GaussianBayes model (var_smoothing=6.703694781102883e-09):\n",
            "accuracy: 0.7723899059871351\n",
            "f1 score: 0.4758132721515555\n",
            "recall: 0.6757251056476873\n",
            "precision: 0.6651780698797888\n"
          ]
        },
        {
          "output_type": "stream",
          "name": "stderr",
          "text": [
            "\u001b[32m[I 2022-10-04 00:01:18,949]\u001b[0m Trial 0 finished with value: 0.7723899059871351 and parameters: {'var_smoothing': 6.703694781102883e-09}. Best is trial 0 with value: 0.7723899059871351.\u001b[0m\n",
            "\u001b[32m[I 2022-10-04 00:01:19,010]\u001b[0m Trial 1 finished with value: 0.7738743196437408 and parameters: {'var_smoothing': 8.900601574850796e-09}. Best is trial 1 with value: 0.7738743196437408.\u001b[0m\n",
            "\u001b[32m[I 2022-10-04 00:01:19,058]\u001b[0m Trial 2 finished with value: 0.7714002968827314 and parameters: {'var_smoothing': 2.8029126713899185e-09}. Best is trial 1 with value: 0.7738743196437408.\u001b[0m\n",
            "\u001b[32m[I 2022-10-04 00:01:19,101]\u001b[0m Trial 3 finished with value: 0.7738743196437408 and parameters: {'var_smoothing': 8.011412110684684e-09}. Best is trial 1 with value: 0.7738743196437408.\u001b[0m\n"
          ]
        },
        {
          "output_type": "stream",
          "name": "stdout",
          "text": [
            "GaussianBayes model (var_smoothing=8.900601574850796e-09):\n",
            "accuracy: 0.7738743196437408\n",
            "f1 score: 0.47654031558141147\n",
            "recall: 0.6764161906511427\n",
            "precision: 0.6654236234709155\n",
            "GaussianBayes model (var_smoothing=2.8029126713899185e-09):\n",
            "accuracy: 0.7714002968827314\n",
            "f1 score: 0.47533032022830835\n",
            "recall: 0.6752643823120503\n",
            "precision: 0.6650159476246432\n",
            "GaussianBayes model (var_smoothing=8.011412110684684e-09):\n",
            "accuracy: 0.7738743196437408\n",
            "f1 score: 0.47654031558141147\n",
            "recall: 0.6764161906511427\n",
            "precision: 0.6654236234709155\n"
          ]
        },
        {
          "output_type": "stream",
          "name": "stderr",
          "text": [
            "\u001b[32m[I 2022-10-04 00:01:19,163]\u001b[0m Trial 4 finished with value: 0.7714002968827314 and parameters: {'var_smoothing': 3.4700249997113263e-09}. Best is trial 1 with value: 0.7738743196437408.\u001b[0m\n"
          ]
        },
        {
          "output_type": "stream",
          "name": "stdout",
          "text": [
            "GaussianBayes model (var_smoothing=3.4700249997113263e-09):\n",
            "accuracy: 0.7714002968827314\n",
            "f1 score: 0.47533032022830835\n",
            "recall: 0.6752643823120503\n",
            "precision: 0.6650159476246432\n",
            "GaussianBayes model (var_smoothing=2.6517160560409724e-09):"
          ]
        },
        {
          "output_type": "stream",
          "name": "stderr",
          "text": [
            "\u001b[32m[I 2022-10-04 00:01:19,216]\u001b[0m Trial 5 finished with value: 0.7714002968827314 and parameters: {'var_smoothing': 2.6517160560409724e-09}. Best is trial 1 with value: 0.7738743196437408.\u001b[0m\n",
            "\u001b[32m[I 2022-10-04 00:01:19,263]\u001b[0m Trial 6 finished with value: 0.7738743196437408 and parameters: {'var_smoothing': 8.391968669081178e-09}. Best is trial 1 with value: 0.7738743196437408.\u001b[0m\n",
            "\u001b[32m[I 2022-10-04 00:01:19,314]\u001b[0m Trial 7 finished with value: 0.7714002968827314 and parameters: {'var_smoothing': 4.0280429192957226e-09}. Best is trial 1 with value: 0.7738743196437408.\u001b[0m\n"
          ]
        },
        {
          "output_type": "stream",
          "name": "stdout",
          "text": [
            "\n",
            "accuracy: 0.7714002968827314\n",
            "f1 score: 0.47533032022830835\n",
            "recall: 0.6752643823120503\n",
            "precision: 0.6650159476246432\n",
            "GaussianBayes model (var_smoothing=8.391968669081178e-09):\n",
            "accuracy: 0.7738743196437408\n",
            "f1 score: 0.47654031558141147\n",
            "recall: 0.6764161906511427\n",
            "precision: 0.6654236234709155\n",
            "GaussianBayes model (var_smoothing=4.0280429192957226e-09):\n",
            "accuracy: 0.7714002968827314\n",
            "f1 score: 0.47533032022830835\n",
            "recall: 0.6752643823120503\n",
            "precision: 0.6650159476246432\n",
            "GaussianBayes model (var_smoothing=1.1366147336077812e-09):\n",
            "accuracy: 0.7714002968827314\n",
            "f1 score: 0.47533032022830835\n",
            "recall: 0.6752643823120503\n"
          ]
        },
        {
          "output_type": "stream",
          "name": "stderr",
          "text": [
            "\u001b[32m[I 2022-10-04 00:01:19,365]\u001b[0m Trial 8 finished with value: 0.7714002968827314 and parameters: {'var_smoothing': 1.1366147336077812e-09}. Best is trial 1 with value: 0.7738743196437408.\u001b[0m\n"
          ]
        },
        {
          "output_type": "stream",
          "name": "stdout",
          "text": [
            "precision: 0.6650159476246432\n",
            "GaussianBayes model (var_smoothing=2.194275428472088e-09):\n",
            "accuracy: 0.7714002968827314\n",
            "f1 score: 0.47533032022830835\n",
            "recall: 0.6752643823120503\n",
            "precision: 0.6650159476246432\n"
          ]
        },
        {
          "output_type": "stream",
          "name": "stderr",
          "text": [
            "\u001b[32m[I 2022-10-04 00:01:19,417]\u001b[0m Trial 9 finished with value: 0.7714002968827314 and parameters: {'var_smoothing': 2.194275428472088e-09}. Best is trial 1 with value: 0.7738743196437408.\u001b[0m\n",
            "\u001b[32m[I 2022-10-04 00:01:19,474]\u001b[0m Trial 10 finished with value: 0.7743691241959426 and parameters: {'var_smoothing': 9.589617519348033e-09}. Best is trial 10 with value: 0.7743691241959426.\u001b[0m\n",
            "\u001b[32m[I 2022-10-04 00:01:19,526]\u001b[0m Trial 11 finished with value: 0.7743691241959426 and parameters: {'var_smoothing': 9.797522289196476e-09}. Best is trial 10 with value: 0.7743691241959426.\u001b[0m\n"
          ]
        },
        {
          "output_type": "stream",
          "name": "stdout",
          "text": [
            "GaussianBayes model (var_smoothing=9.589617519348033e-09):\n",
            "accuracy: 0.7743691241959426\n",
            "f1 score: 0.4767833700394104\n",
            "recall: 0.6766465523189611\n",
            "precision: 0.6655061141304347\n",
            "GaussianBayes model (var_smoothing=9.797522289196476e-09):\n",
            "accuracy: 0.7743691241959426\n",
            "f1 score: 0.4767833700394104\n",
            "recall: 0.6766465523189611\n",
            "precision: 0.6655061141304347\n"
          ]
        },
        {
          "output_type": "stream",
          "name": "stderr",
          "text": [
            "\u001b[32m[I 2022-10-04 00:01:19,587]\u001b[0m Trial 12 finished with value: 0.7743691241959426 and parameters: {'var_smoothing': 9.61641507637299e-09}. Best is trial 10 with value: 0.7743691241959426.\u001b[0m\n",
            "\u001b[32m[I 2022-10-04 00:01:19,642]\u001b[0m Trial 13 finished with value: 0.7718951014349332 and parameters: {'var_smoothing': 5.905667660346748e-09}. Best is trial 10 with value: 0.7743691241959426.\u001b[0m\n"
          ]
        },
        {
          "output_type": "stream",
          "name": "stdout",
          "text": [
            "GaussianBayes model (var_smoothing=9.61641507637299e-09):\n",
            "accuracy: 0.7743691241959426\n",
            "f1 score: 0.4767833700394104\n",
            "recall: 0.6766465523189611\n",
            "precision: 0.6655061141304347\n",
            "GaussianBayes model (var_smoothing=5.905667660346748e-09):\n",
            "accuracy: 0.7718951014349332\n",
            "f1 score: 0.47557162333607267\n",
            "recall: 0.6754947439798688\n",
            "precision: 0.6650968519608668\n"
          ]
        },
        {
          "output_type": "stream",
          "name": "stderr",
          "text": [
            "\u001b[32m[I 2022-10-04 00:01:19,699]\u001b[0m Trial 14 finished with value: 0.7728847105393369 and parameters: {'var_smoothing': 7.292923384873077e-09}. Best is trial 10 with value: 0.7743691241959426.\u001b[0m\n",
            "\u001b[32m[I 2022-10-04 00:01:19,752]\u001b[0m Trial 15 finished with value: 0.7743691241959426 and parameters: {'var_smoothing': 9.900170433440881e-09}. Best is trial 10 with value: 0.7743691241959426.\u001b[0m\n"
          ]
        },
        {
          "output_type": "stream",
          "name": "stdout",
          "text": [
            "GaussianBayes model (var_smoothing=7.292923384873077e-09):\n",
            "accuracy: 0.7728847105393369\n",
            "f1 score: 0.47605526894105044\n",
            "recall: 0.6759554673155056\n",
            "precision: 0.6652596032081046\n",
            "GaussianBayes model (var_smoothing=9.900170433440881e-09):\n",
            "accuracy: 0.7743691241959426\n",
            "f1 score: 0.4767833700394104\n",
            "recall: 0.6766465523189611\n",
            "precision: 0.6655061141304347\n"
          ]
        },
        {
          "output_type": "stream",
          "name": "stderr",
          "text": [
            "\u001b[32m[I 2022-10-04 00:01:19,809]\u001b[0m Trial 16 finished with value: 0.7714002968827314 and parameters: {'var_smoothing': 5.23927614553305e-09}. Best is trial 10 with value: 0.7743691241959426.\u001b[0m\n",
            "\u001b[32m[I 2022-10-04 00:01:19,858]\u001b[0m Trial 17 finished with value: 0.7728847105393369 and parameters: {'var_smoothing': 7.2351491776413225e-09}. Best is trial 10 with value: 0.7743691241959426.\u001b[0m\n"
          ]
        },
        {
          "output_type": "stream",
          "name": "stdout",
          "text": [
            "GaussianBayes model (var_smoothing=5.23927614553305e-09):\n",
            "accuracy: 0.7714002968827314\n",
            "f1 score: 0.47533032022830835\n",
            "recall: 0.6752643823120503\n",
            "precision: 0.6650159476246432\n",
            "GaussianBayes model (var_smoothing=7.2351491776413225e-09):\n",
            "accuracy: 0.7728847105393369\n",
            "f1 score: 0.47605526894105044\n",
            "recall: 0.6759554673155056\n",
            "precision: 0.6652596032081046\n"
          ]
        },
        {
          "output_type": "stream",
          "name": "stderr",
          "text": [
            "\u001b[32m[I 2022-10-04 00:01:19,921]\u001b[0m Trial 18 finished with value: 0.7743691241959426 and parameters: {'var_smoothing': 9.711901597318052e-09}. Best is trial 10 with value: 0.7743691241959426.\u001b[0m\n",
            "\u001b[32m[I 2022-10-04 00:01:19,973]\u001b[0m Trial 19 finished with value: 0.7738743196437408 and parameters: {'var_smoothing': 8.602465688545164e-09}. Best is trial 10 with value: 0.7743691241959426.\u001b[0m\n"
          ]
        },
        {
          "output_type": "stream",
          "name": "stdout",
          "text": [
            "GaussianBayes model (var_smoothing=9.711901597318052e-09):\n",
            "accuracy: 0.7743691241959426\n",
            "f1 score: 0.4767833700394104\n",
            "recall: 0.6766465523189611\n",
            "precision: 0.6655061141304347\n",
            "GaussianBayes model (var_smoothing=8.602465688545164e-09):\n",
            "accuracy: 0.7738743196437408\n",
            "f1 score: 0.47654031558141147\n",
            "recall: 0.6764161906511427\n",
            "precision: 0.6654236234709155\n"
          ]
        },
        {
          "output_type": "stream",
          "name": "stderr",
          "text": [
            "\u001b[32m[I 2022-10-04 00:01:20,026]\u001b[0m Trial 20 finished with value: 0.7718951014349332 and parameters: {'var_smoothing': 5.824071866038026e-09}. Best is trial 10 with value: 0.7743691241959426.\u001b[0m\n",
            "\u001b[32m[I 2022-10-04 00:01:20,080]\u001b[0m Trial 21 finished with value: 0.7743691241959426 and parameters: {'var_smoothing': 9.98032852462582e-09}. Best is trial 10 with value: 0.7743691241959426.\u001b[0m\n"
          ]
        },
        {
          "output_type": "stream",
          "name": "stdout",
          "text": [
            "GaussianBayes model (var_smoothing=5.824071866038026e-09):\n",
            "accuracy: 0.7718951014349332\n",
            "f1 score: 0.47557162333607267\n",
            "recall: 0.6754947439798688\n",
            "precision: 0.6650968519608668\n",
            "GaussianBayes model (var_smoothing=9.98032852462582e-09):\n",
            "accuracy: 0.7743691241959426\n",
            "f1 score: 0.4767833700394104\n",
            "recall: 0.6766465523189611\n",
            "precision: 0.6655061141304347\n"
          ]
        },
        {
          "output_type": "stream",
          "name": "stderr",
          "text": [
            "\u001b[32m[I 2022-10-04 00:01:20,140]\u001b[0m Trial 22 finished with value: 0.7743691241959426 and parameters: {'var_smoothing': 9.203534932498801e-09}. Best is trial 10 with value: 0.7743691241959426.\u001b[0m\n",
            "\u001b[32m[I 2022-10-04 00:01:20,194]\u001b[0m Trial 23 finished with value: 0.7733795150915388 and parameters: {'var_smoothing': 7.570715775105289e-09}. Best is trial 10 with value: 0.7743691241959426.\u001b[0m\n"
          ]
        },
        {
          "output_type": "stream",
          "name": "stdout",
          "text": [
            "GaussianBayes model (var_smoothing=9.203534932498801e-09):\n",
            "accuracy: 0.7743691241959426\n",
            "f1 score: 0.4767833700394104\n",
            "recall: 0.6766465523189611\n",
            "precision: 0.6655061141304347\n",
            "GaussianBayes model (var_smoothing=7.570715775105289e-09):\n",
            "accuracy: 0.7733795150915388\n",
            "f1 score: 0.47629761598565756\n",
            "recall: 0.6761858289833241\n",
            "precision: 0.6653414537867253\n"
          ]
        },
        {
          "output_type": "stream",
          "name": "stderr",
          "text": [
            "\u001b[32m[I 2022-10-04 00:01:20,258]\u001b[0m Trial 24 finished with value: 0.7060860959920832 and parameters: {'var_smoothing': 9.854060651230915e-11}. Best is trial 10 with value: 0.7743691241959426.\u001b[0m\n",
            "\u001b[32m[I 2022-10-04 00:01:20,320]\u001b[0m Trial 25 finished with value: 0.7738743196437408 and parameters: {'var_smoothing': 8.971356503346539e-09}. Best is trial 10 with value: 0.7743691241959426.\u001b[0m\n"
          ]
        },
        {
          "output_type": "stream",
          "name": "stdout",
          "text": [
            "GaussianBayes model (var_smoothing=9.854060651230915e-11):\n",
            "accuracy: 0.7060860959920832\n",
            "f1 score: 0.4457829627653076\n",
            "recall: 0.6448566421600116\n",
            "precision: 0.6565217391304348\n",
            "GaussianBayes model (var_smoothing=8.971356503346539e-09):\n",
            "accuracy: 0.7738743196437408\n",
            "f1 score: 0.47654031558141147\n",
            "recall: 0.6764161906511427\n",
            "precision: 0.6654236234709155\n"
          ]
        },
        {
          "output_type": "stream",
          "name": "stderr",
          "text": [
            "\u001b[32m[I 2022-10-04 00:01:20,382]\u001b[0m Trial 26 finished with value: 0.7738743196437408 and parameters: {'var_smoothing': 9.05029521324717e-09}. Best is trial 10 with value: 0.7743691241959426.\u001b[0m\n",
            "\u001b[32m[I 2022-10-04 00:01:20,435]\u001b[0m Trial 27 finished with value: 0.7738743196437408 and parameters: {'var_smoothing': 8.050082312548901e-09}. Best is trial 10 with value: 0.7743691241959426.\u001b[0m\n"
          ]
        },
        {
          "output_type": "stream",
          "name": "stdout",
          "text": [
            "GaussianBayes model (var_smoothing=9.05029521324717e-09):\n",
            "accuracy: 0.7738743196437408\n",
            "f1 score: 0.47654031558141147\n",
            "recall: 0.6764161906511427\n",
            "precision: 0.6654236234709155\n",
            "GaussianBayes model (var_smoothing=8.050082312548901e-09):\n",
            "accuracy: 0.7738743196437408\n",
            "f1 score: 0.47654031558141147\n",
            "recall: 0.6764161906511427\n",
            "precision: 0.6654236234709155\n"
          ]
        },
        {
          "output_type": "stream",
          "name": "stderr",
          "text": [
            "\u001b[32m[I 2022-10-04 00:01:20,494]\u001b[0m Trial 28 finished with value: 0.7718951014349332 and parameters: {'var_smoothing': 6.461573505227886e-09}. Best is trial 10 with value: 0.7743691241959426.\u001b[0m\n",
            "\u001b[32m[I 2022-10-04 00:01:20,563]\u001b[0m Trial 29 finished with value: 0.7743691241959426 and parameters: {'var_smoothing': 9.967702130890684e-09}. Best is trial 10 with value: 0.7743691241959426.\u001b[0m\n"
          ]
        },
        {
          "output_type": "stream",
          "name": "stdout",
          "text": [
            "GaussianBayes model (var_smoothing=6.461573505227886e-09):\n",
            "accuracy: 0.7718951014349332\n",
            "f1 score: 0.47557162333607267\n",
            "recall: 0.6754947439798688\n",
            "precision: 0.6650968519608668\n",
            "GaussianBayes model (var_smoothing=9.967702130890684e-09):\n",
            "accuracy: 0.7743691241959426\n",
            "f1 score: 0.4767833700394104\n",
            "recall: 0.6766465523189611\n",
            "precision: 0.6655061141304347\n"
          ]
        },
        {
          "output_type": "stream",
          "name": "stderr",
          "text": [
            "\u001b[32m[I 2022-10-04 00:01:20,630]\u001b[0m Trial 30 finished with value: 0.7723899059871351 and parameters: {'var_smoothing': 6.84142100940648e-09}. Best is trial 10 with value: 0.7743691241959426.\u001b[0m\n"
          ]
        },
        {
          "output_type": "stream",
          "name": "stdout",
          "text": [
            "GaussianBayes model (var_smoothing=6.84142100940648e-09):\n",
            "accuracy: 0.7723899059871351\n",
            "f1 score: 0.4758132721515555\n",
            "recall: 0.6757251056476873\n",
            "precision: 0.6651780698797888\n",
            "GaussianBayes model (var_smoothing=9.65521587168594e-09):\n",
            "accuracy: 0.7743691241959426\n",
            "f1 score: 0.4767833700394104\n",
            "recall: 0.6766465523189611\n",
            "precision: 0.6655061141304347\n"
          ]
        },
        {
          "output_type": "stream",
          "name": "stderr",
          "text": [
            "\u001b[32m[I 2022-10-04 00:01:20,690]\u001b[0m Trial 31 finished with value: 0.7743691241959426 and parameters: {'var_smoothing': 9.65521587168594e-09}. Best is trial 10 with value: 0.7743691241959426.\u001b[0m\n",
            "\u001b[32m[I 2022-10-04 00:01:20,783]\u001b[0m Trial 32 finished with value: 0.7743691241959426 and parameters: {'var_smoothing': 9.958594213022407e-09}. Best is trial 10 with value: 0.7743691241959426.\u001b[0m\n"
          ]
        },
        {
          "output_type": "stream",
          "name": "stdout",
          "text": [
            "GaussianBayes model (var_smoothing=9.958594213022407e-09):\n",
            "accuracy: 0.7743691241959426\n",
            "f1 score: 0.4767833700394104\n",
            "recall: 0.6766465523189611\n",
            "precision: 0.6655061141304347\n"
          ]
        },
        {
          "output_type": "stream",
          "name": "stderr",
          "text": [
            "\u001b[32m[I 2022-10-04 00:01:20,846]\u001b[0m Trial 33 finished with value: 0.7738743196437408 and parameters: {'var_smoothing': 8.345099394819336e-09}. Best is trial 10 with value: 0.7743691241959426.\u001b[0m\n",
            "\u001b[32m[I 2022-10-04 00:01:20,913]\u001b[0m Trial 34 finished with value: 0.7743691241959426 and parameters: {'var_smoothing': 9.127417749978898e-09}. Best is trial 10 with value: 0.7743691241959426.\u001b[0m\n"
          ]
        },
        {
          "output_type": "stream",
          "name": "stdout",
          "text": [
            "GaussianBayes model (var_smoothing=8.345099394819336e-09):\n",
            "accuracy: 0.7738743196437408\n",
            "f1 score: 0.47654031558141147\n",
            "recall: 0.6764161906511427\n",
            "precision: 0.6654236234709155\n",
            "GaussianBayes model (var_smoothing=9.127417749978898e-09):\n",
            "accuracy: 0.7743691241959426\n",
            "f1 score: 0.4767833700394104\n",
            "recall: 0.6766465523189611\n",
            "precision: 0.6655061141304347\n"
          ]
        },
        {
          "output_type": "stream",
          "name": "stderr",
          "text": [
            "\u001b[32m[I 2022-10-04 00:01:21,011]\u001b[0m Trial 35 finished with value: 0.7738743196437408 and parameters: {'var_smoothing': 9.07443170898216e-09}. Best is trial 10 with value: 0.7743691241959426.\u001b[0m\n"
          ]
        },
        {
          "output_type": "stream",
          "name": "stdout",
          "text": [
            "GaussianBayes model (var_smoothing=9.07443170898216e-09):\n",
            "accuracy: 0.7738743196437408\n",
            "f1 score: 0.47654031558141147\n",
            "recall: 0.6764161906511427\n",
            "precision: 0.6654236234709155\n"
          ]
        },
        {
          "output_type": "stream",
          "name": "stderr",
          "text": [
            "\u001b[32m[I 2022-10-04 00:01:21,101]\u001b[0m Trial 36 finished with value: 0.7743691241959426 and parameters: {'var_smoothing': 9.244271735919796e-09}. Best is trial 10 with value: 0.7743691241959426.\u001b[0m\n"
          ]
        },
        {
          "output_type": "stream",
          "name": "stdout",
          "text": [
            "GaussianBayes model (var_smoothing=9.244271735919796e-09):\n",
            "accuracy: 0.7743691241959426\n",
            "f1 score: 0.4767833700394104\n",
            "recall: 0.6766465523189611\n",
            "precision: 0.6655061141304347\n",
            "GaussianBayes model (var_smoothing=7.818580646338563e-09):\n",
            "accuracy: 0.7738743196437408\n",
            "f1 score: 0.47654031558141147\n",
            "recall: 0.6764161906511427\n",
            "precision: 0.6654236234709155\n"
          ]
        },
        {
          "output_type": "stream",
          "name": "stderr",
          "text": [
            "\u001b[32m[I 2022-10-04 00:01:21,205]\u001b[0m Trial 37 finished with value: 0.7738743196437408 and parameters: {'var_smoothing': 7.818580646338563e-09}. Best is trial 10 with value: 0.7743691241959426.\u001b[0m\n",
            "\u001b[32m[I 2022-10-04 00:01:21,274]\u001b[0m Trial 38 finished with value: 0.7738743196437408 and parameters: {'var_smoothing': 8.672518868893259e-09}. Best is trial 10 with value: 0.7743691241959426.\u001b[0m\n"
          ]
        },
        {
          "output_type": "stream",
          "name": "stdout",
          "text": [
            "GaussianBayes model (var_smoothing=8.672518868893259e-09):\n",
            "accuracy: 0.7738743196437408\n",
            "f1 score: 0.47654031558141147\n",
            "recall: 0.6764161906511427\n",
            "precision: 0.6654236234709155\n"
          ]
        },
        {
          "output_type": "stream",
          "name": "stderr",
          "text": [
            "\u001b[32m[I 2022-10-04 00:01:21,330]\u001b[0m Trial 39 finished with value: 0.7714002968827314 and parameters: {'var_smoothing': 4.415443405110991e-09}. Best is trial 10 with value: 0.7743691241959426.\u001b[0m\n",
            "\u001b[32m[I 2022-10-04 00:01:21,378]\u001b[0m Trial 40 finished with value: 0.7738743196437408 and parameters: {'var_smoothing': 8.176883345820719e-09}. Best is trial 10 with value: 0.7743691241959426.\u001b[0m\n",
            "\u001b[32m[I 2022-10-04 00:01:21,431]\u001b[0m Trial 41 finished with value: 0.7743691241959426 and parameters: {'var_smoothing': 9.099752663688845e-09}. Best is trial 10 with value: 0.7743691241959426.\u001b[0m\n"
          ]
        },
        {
          "output_type": "stream",
          "name": "stdout",
          "text": [
            "GaussianBayes model (var_smoothing=4.415443405110991e-09):\n",
            "accuracy: 0.7714002968827314\n",
            "f1 score: 0.47533032022830835\n",
            "recall: 0.6752643823120503\n",
            "precision: 0.6650159476246432\n",
            "GaussianBayes model (var_smoothing=8.176883345820719e-09):\n",
            "accuracy: 0.7738743196437408\n",
            "f1 score: 0.47654031558141147\n",
            "recall: 0.6764161906511427\n",
            "precision: 0.6654236234709155\n",
            "GaussianBayes model (var_smoothing=9.099752663688845e-09):\n",
            "accuracy: 0.7743691241959426\n",
            "f1 score: 0.4767833700394104\n",
            "recall: 0.6766465523189611\n",
            "precision: 0.6655061141304347\n"
          ]
        },
        {
          "output_type": "stream",
          "name": "stderr",
          "text": [
            "\u001b[32m[I 2022-10-04 00:01:21,494]\u001b[0m Trial 42 finished with value: 0.7743691241959426 and parameters: {'var_smoothing': 9.351793496140263e-09}. Best is trial 10 with value: 0.7743691241959426.\u001b[0m\n"
          ]
        },
        {
          "output_type": "stream",
          "name": "stdout",
          "text": [
            "GaussianBayes model (var_smoothing=9.351793496140263e-09):\n",
            "accuracy: 0.7743691241959426\n",
            "f1 score: 0.4767833700394104\n",
            "recall: 0.6766465523189611\n",
            "precision: 0.6655061141304347\n"
          ]
        },
        {
          "output_type": "stream",
          "name": "stderr",
          "text": [
            "\u001b[32m[I 2022-10-04 00:01:21,550]\u001b[0m Trial 43 finished with value: 0.7738743196437408 and parameters: {'var_smoothing': 8.714050849835403e-09}. Best is trial 10 with value: 0.7743691241959426.\u001b[0m\n",
            "\u001b[32m[I 2022-10-04 00:01:21,596]\u001b[0m Trial 44 finished with value: 0.7743691241959426 and parameters: {'var_smoothing': 9.879577323887923e-09}. Best is trial 10 with value: 0.7743691241959426.\u001b[0m\n",
            "\u001b[32m[I 2022-10-04 00:01:21,647]\u001b[0m Trial 45 finished with value: 0.7743691241959426 and parameters: {'var_smoothing': 9.317765598442688e-09}. Best is trial 10 with value: 0.7743691241959426.\u001b[0m\n"
          ]
        },
        {
          "output_type": "stream",
          "name": "stdout",
          "text": [
            "GaussianBayes model (var_smoothing=8.714050849835403e-09):\n",
            "accuracy: 0.7738743196437408\n",
            "f1 score: 0.47654031558141147\n",
            "recall: 0.6764161906511427\n",
            "precision: 0.6654236234709155\n",
            "GaussianBayes model (var_smoothing=9.879577323887923e-09):\n",
            "accuracy: 0.7743691241959426\n",
            "f1 score: 0.4767833700394104\n",
            "recall: 0.6766465523189611\n",
            "precision: 0.6655061141304347\n",
            "GaussianBayes model (var_smoothing=9.317765598442688e-09):\n",
            "accuracy: 0.7743691241959426\n",
            "f1 score: 0.4767833700394104\n",
            "recall: 0.6766465523189611\n",
            "precision: 0.6655061141304347\n"
          ]
        },
        {
          "output_type": "stream",
          "name": "stderr",
          "text": [
            "\u001b[32m[I 2022-10-04 00:01:21,702]\u001b[0m Trial 46 finished with value: 0.7743691241959426 and parameters: {'var_smoothing': 9.278072525842196e-09}. Best is trial 10 with value: 0.7743691241959426.\u001b[0m\n"
          ]
        },
        {
          "output_type": "stream",
          "name": "stdout",
          "text": [
            "GaussianBayes model (var_smoothing=9.278072525842196e-09):\n",
            "accuracy: 0.7743691241959426\n",
            "f1 score: 0.4767833700394104\n",
            "recall: 0.6766465523189611\n",
            "precision: 0.6655061141304347\n"
          ]
        },
        {
          "output_type": "stream",
          "name": "stderr",
          "text": [
            "\u001b[32m[I 2022-10-04 00:01:21,764]\u001b[0m Trial 47 finished with value: 0.7738743196437408 and parameters: {'var_smoothing': 8.316715480056127e-09}. Best is trial 10 with value: 0.7743691241959426.\u001b[0m\n",
            "\u001b[32m[I 2022-10-04 00:01:21,816]\u001b[0m Trial 48 finished with value: 0.7743691241959426 and parameters: {'var_smoothing': 9.918121797923147e-09}. Best is trial 10 with value: 0.7743691241959426.\u001b[0m\n",
            "\u001b[32m[I 2022-10-04 00:01:21,867]\u001b[0m Trial 49 finished with value: 0.7743691241959426 and parameters: {'var_smoothing': 9.937654125786925e-09}. Best is trial 10 with value: 0.7743691241959426.\u001b[0m\n"
          ]
        },
        {
          "output_type": "stream",
          "name": "stdout",
          "text": [
            "GaussianBayes model (var_smoothing=8.316715480056127e-09):\n",
            "accuracy: 0.7738743196437408\n",
            "f1 score: 0.47654031558141147\n",
            "recall: 0.6764161906511427\n",
            "precision: 0.6654236234709155\n",
            "GaussianBayes model (var_smoothing=9.918121797923147e-09):\n",
            "accuracy: 0.7743691241959426\n",
            "f1 score: 0.4767833700394104\n",
            "recall: 0.6766465523189611\n",
            "precision: 0.6655061141304347\n",
            "GaussianBayes model (var_smoothing=9.937654125786925e-09):\n",
            "accuracy: 0.7743691241959426\n",
            "f1 score: 0.4767833700394104\n",
            "recall: 0.6766465523189611\n",
            "precision: 0.6655061141304347\n"
          ]
        }
      ]
    },
    {
      "cell_type": "markdown",
      "source": [
        "#### MLP - Multilayer Perceptron"
      ],
      "metadata": {
        "id": "Pvi4m9OpjsAu"
      }
    },
    {
      "cell_type": "code",
      "source": [
        "def MLP(trial):\n",
        "  lr = trial.suggest_categorical('learning_rate', ['constant', 'invscaling', 'adaptive'])\n",
        "\n",
        "  max_iter = trial.suggest_int('max_iter', 200, 300, 50)\n",
        "\n",
        "  with mlflow.start_run(run_name = str('Multilayer Perceptron')):\n",
        "    model = MLPClassifier(max_iter=max_iter, learning_rate=lr, random_state=1)\n",
        "    model.fit(x_train, y_train)\n",
        "\n",
        "    y_pred = model.predict(x_val)\n",
        "\n",
        "    (accuracy, f1score, recallscore, precisionscore) = eval_metrics(y_val, y_pred)\n",
        "\n",
        "    print('Multilayer Perceptron model (lr=%s):'%(lr))\n",
        "    print('Multilayer Perceptron model (max_iter=%f):'%(max_iter))\n",
        "\n",
        "    print('accuracy: %s'%(accuracy))\n",
        "    print('f1 score: %s'%(f1score))\n",
        "    print('recall: %s'%(recallscore))\n",
        "    print('precision: %s'%(precisionscore))\n",
        "\n",
        "    mlflow.log_param(\"lr\", lr)\n",
        "    mlflow.log_param(\"max_iter\", max_iter)\n",
        "\n",
        "    mlflow.log_metric(\"accuracy\", accuracy)\n",
        "    mlflow.log_metric(\"f1 score\", f1score)\n",
        "    mlflow.log_metric(\"recall\", recallscore)\n",
        "    mlflow.log_metric(\"precision\", precisionscore)\n",
        "\n",
        "    mlflow.end_run()\n",
        "\n",
        "  return accuracy"
      ],
      "metadata": {
        "id": "AVvZh1G9Z8kr"
      },
      "execution_count": 38,
      "outputs": []
    },
    {
      "cell_type": "code",
      "source": [
        "studyPerceptron = optuna.create_study(direction='maximize')\n",
        "studyPerceptron.optimize(MLP, n_trials=50)"
      ],
      "metadata": {
        "colab": {
          "base_uri": "https://localhost:8080/"
        },
        "id": "ef9LptMObiEQ",
        "outputId": "46769273-9391-4390-e59e-b3f494eb930a"
      },
      "execution_count": 39,
      "outputs": [
        {
          "output_type": "stream",
          "name": "stderr",
          "text": [
            "\u001b[32m[I 2022-10-04 00:01:21,897]\u001b[0m A new study created in memory with name: no-name-56beec29-ae03-424b-84fd-36479b40418e\u001b[0m\n",
            "\u001b[32m[I 2022-10-04 00:01:24,859]\u001b[0m Trial 0 finished with value: 0.9638792676892627 and parameters: {'learning_rate': 'invscaling', 'max_iter': 300}. Best is trial 0 with value: 0.9638792676892627.\u001b[0m\n"
          ]
        },
        {
          "output_type": "stream",
          "name": "stdout",
          "text": [
            "Multilayer Perceptron model (lr=invscaling):\n",
            "Multilayer Perceptron model (max_iter=300.000000):\n",
            "accuracy: 0.9638792676892627\n",
            "f1 score: 0.6439158667041543\n",
            "recall: 0.6653412856196156\n",
            "precision: 0.6250611727131065\n"
          ]
        },
        {
          "output_type": "stream",
          "name": "stderr",
          "text": [
            "\u001b[32m[I 2022-10-04 00:01:30,183]\u001b[0m Trial 1 finished with value: 0.9638792676892627 and parameters: {'learning_rate': 'adaptive', 'max_iter': 250}. Best is trial 0 with value: 0.9638792676892627.\u001b[0m\n"
          ]
        },
        {
          "output_type": "stream",
          "name": "stdout",
          "text": [
            "Multilayer Perceptron model (lr=adaptive):\n",
            "Multilayer Perceptron model (max_iter=250.000000):\n",
            "accuracy: 0.9638792676892627\n",
            "f1 score: 0.6439158667041543\n",
            "recall: 0.6653412856196156\n",
            "precision: 0.6250611727131065\n"
          ]
        },
        {
          "output_type": "stream",
          "name": "stderr",
          "text": [
            "\u001b[32m[I 2022-10-04 00:01:37,757]\u001b[0m Trial 2 finished with value: 0.9638792676892627 and parameters: {'learning_rate': 'invscaling', 'max_iter': 300}. Best is trial 0 with value: 0.9638792676892627.\u001b[0m\n"
          ]
        },
        {
          "output_type": "stream",
          "name": "stdout",
          "text": [
            "Multilayer Perceptron model (lr=invscaling):\n",
            "Multilayer Perceptron model (max_iter=300.000000):\n",
            "accuracy: 0.9638792676892627\n",
            "f1 score: 0.6439158667041543\n",
            "recall: 0.6653412856196156\n",
            "precision: 0.6250611727131065\n"
          ]
        },
        {
          "output_type": "stream",
          "name": "stderr",
          "text": [
            "\u001b[32m[I 2022-10-04 00:01:45,145]\u001b[0m Trial 3 finished with value: 0.9638792676892627 and parameters: {'learning_rate': 'adaptive', 'max_iter': 200}. Best is trial 0 with value: 0.9638792676892627.\u001b[0m\n"
          ]
        },
        {
          "output_type": "stream",
          "name": "stdout",
          "text": [
            "Multilayer Perceptron model (lr=adaptive):\n",
            "Multilayer Perceptron model (max_iter=200.000000):\n",
            "accuracy: 0.9638792676892627\n",
            "f1 score: 0.6439158667041543\n",
            "recall: 0.6653412856196156\n",
            "precision: 0.6250611727131065\n"
          ]
        },
        {
          "output_type": "stream",
          "name": "stderr",
          "text": [
            "\u001b[32m[I 2022-10-04 00:01:52,322]\u001b[0m Trial 4 finished with value: 0.9638792676892627 and parameters: {'learning_rate': 'constant', 'max_iter': 200}. Best is trial 0 with value: 0.9638792676892627.\u001b[0m\n"
          ]
        },
        {
          "output_type": "stream",
          "name": "stdout",
          "text": [
            "Multilayer Perceptron model (lr=constant):\n",
            "Multilayer Perceptron model (max_iter=200.000000):\n",
            "accuracy: 0.9638792676892627\n",
            "f1 score: 0.6439158667041543\n",
            "recall: 0.6653412856196156\n",
            "precision: 0.6250611727131065\n"
          ]
        },
        {
          "output_type": "stream",
          "name": "stderr",
          "text": [
            "\u001b[32m[I 2022-10-04 00:01:55,233]\u001b[0m Trial 5 finished with value: 0.9638792676892627 and parameters: {'learning_rate': 'invscaling', 'max_iter': 300}. Best is trial 0 with value: 0.9638792676892627.\u001b[0m\n"
          ]
        },
        {
          "output_type": "stream",
          "name": "stdout",
          "text": [
            "Multilayer Perceptron model (lr=invscaling):\n",
            "Multilayer Perceptron model (max_iter=300.000000):\n",
            "accuracy: 0.9638792676892627\n",
            "f1 score: 0.6439158667041543\n",
            "recall: 0.6653412856196156\n",
            "precision: 0.6250611727131065\n"
          ]
        },
        {
          "output_type": "stream",
          "name": "stderr",
          "text": [
            "\u001b[32m[I 2022-10-04 00:01:58,150]\u001b[0m Trial 6 finished with value: 0.9638792676892627 and parameters: {'learning_rate': 'constant', 'max_iter': 250}. Best is trial 0 with value: 0.9638792676892627.\u001b[0m\n"
          ]
        },
        {
          "output_type": "stream",
          "name": "stdout",
          "text": [
            "Multilayer Perceptron model (lr=constant):\n",
            "Multilayer Perceptron model (max_iter=250.000000):\n",
            "accuracy: 0.9638792676892627\n",
            "f1 score: 0.6439158667041543\n",
            "recall: 0.6653412856196156\n",
            "precision: 0.6250611727131065\n"
          ]
        },
        {
          "output_type": "stream",
          "name": "stderr",
          "text": [
            "\u001b[32m[I 2022-10-04 00:02:01,079]\u001b[0m Trial 7 finished with value: 0.9638792676892627 and parameters: {'learning_rate': 'constant', 'max_iter': 250}. Best is trial 0 with value: 0.9638792676892627.\u001b[0m\n"
          ]
        },
        {
          "output_type": "stream",
          "name": "stdout",
          "text": [
            "Multilayer Perceptron model (lr=constant):\n",
            "Multilayer Perceptron model (max_iter=250.000000):\n",
            "accuracy: 0.9638792676892627\n",
            "f1 score: 0.6439158667041543\n",
            "recall: 0.6653412856196156\n",
            "precision: 0.6250611727131065\n"
          ]
        },
        {
          "output_type": "stream",
          "name": "stderr",
          "text": [
            "\u001b[32m[I 2022-10-04 00:02:03,996]\u001b[0m Trial 8 finished with value: 0.9638792676892627 and parameters: {'learning_rate': 'constant', 'max_iter': 300}. Best is trial 0 with value: 0.9638792676892627.\u001b[0m\n"
          ]
        },
        {
          "output_type": "stream",
          "name": "stdout",
          "text": [
            "Multilayer Perceptron model (lr=constant):\n",
            "Multilayer Perceptron model (max_iter=300.000000):\n",
            "accuracy: 0.9638792676892627\n",
            "f1 score: 0.6439158667041543\n",
            "recall: 0.6653412856196156\n",
            "precision: 0.6250611727131065\n"
          ]
        },
        {
          "output_type": "stream",
          "name": "stderr",
          "text": [
            "\u001b[32m[I 2022-10-04 00:02:06,890]\u001b[0m Trial 9 finished with value: 0.9638792676892627 and parameters: {'learning_rate': 'constant', 'max_iter': 300}. Best is trial 0 with value: 0.9638792676892627.\u001b[0m\n"
          ]
        },
        {
          "output_type": "stream",
          "name": "stdout",
          "text": [
            "Multilayer Perceptron model (lr=constant):\n",
            "Multilayer Perceptron model (max_iter=300.000000):\n",
            "accuracy: 0.9638792676892627\n",
            "f1 score: 0.6439158667041543\n",
            "recall: 0.6653412856196156\n",
            "precision: 0.6250611727131065\n"
          ]
        },
        {
          "output_type": "stream",
          "name": "stderr",
          "text": [
            "\u001b[32m[I 2022-10-04 00:02:09,872]\u001b[0m Trial 10 finished with value: 0.9638792676892627 and parameters: {'learning_rate': 'invscaling', 'max_iter': 300}. Best is trial 0 with value: 0.9638792676892627.\u001b[0m\n"
          ]
        },
        {
          "output_type": "stream",
          "name": "stdout",
          "text": [
            "Multilayer Perceptron model (lr=invscaling):\n",
            "Multilayer Perceptron model (max_iter=300.000000):\n",
            "accuracy: 0.9638792676892627\n",
            "f1 score: 0.6439158667041543\n",
            "recall: 0.6653412856196156\n",
            "precision: 0.6250611727131065\n"
          ]
        },
        {
          "output_type": "stream",
          "name": "stderr",
          "text": [
            "\u001b[32m[I 2022-10-04 00:02:12,812]\u001b[0m Trial 11 finished with value: 0.9638792676892627 and parameters: {'learning_rate': 'adaptive', 'max_iter': 250}. Best is trial 0 with value: 0.9638792676892627.\u001b[0m\n"
          ]
        },
        {
          "output_type": "stream",
          "name": "stdout",
          "text": [
            "Multilayer Perceptron model (lr=adaptive):\n",
            "Multilayer Perceptron model (max_iter=250.000000):\n",
            "accuracy: 0.9638792676892627\n",
            "f1 score: 0.6439158667041543\n",
            "recall: 0.6653412856196156\n",
            "precision: 0.6250611727131065\n"
          ]
        },
        {
          "output_type": "stream",
          "name": "stderr",
          "text": [
            "\u001b[32m[I 2022-10-04 00:02:15,709]\u001b[0m Trial 12 finished with value: 0.9638792676892627 and parameters: {'learning_rate': 'adaptive', 'max_iter': 250}. Best is trial 0 with value: 0.9638792676892627.\u001b[0m\n"
          ]
        },
        {
          "output_type": "stream",
          "name": "stdout",
          "text": [
            "Multilayer Perceptron model (lr=adaptive):\n",
            "Multilayer Perceptron model (max_iter=250.000000):\n",
            "accuracy: 0.9638792676892627\n",
            "f1 score: 0.6439158667041543\n",
            "recall: 0.6653412856196156\n",
            "precision: 0.6250611727131065\n"
          ]
        },
        {
          "output_type": "stream",
          "name": "stderr",
          "text": [
            "\u001b[32m[I 2022-10-04 00:02:18,661]\u001b[0m Trial 13 finished with value: 0.9638792676892627 and parameters: {'learning_rate': 'adaptive', 'max_iter': 200}. Best is trial 0 with value: 0.9638792676892627.\u001b[0m\n"
          ]
        },
        {
          "output_type": "stream",
          "name": "stdout",
          "text": [
            "Multilayer Perceptron model (lr=adaptive):\n",
            "Multilayer Perceptron model (max_iter=200.000000):\n",
            "accuracy: 0.9638792676892627\n",
            "f1 score: 0.6439158667041543\n",
            "recall: 0.6653412856196156\n",
            "precision: 0.6250611727131065\n"
          ]
        },
        {
          "output_type": "stream",
          "name": "stderr",
          "text": [
            "\u001b[32m[I 2022-10-04 00:02:21,551]\u001b[0m Trial 14 finished with value: 0.9638792676892627 and parameters: {'learning_rate': 'invscaling', 'max_iter': 250}. Best is trial 0 with value: 0.9638792676892627.\u001b[0m\n"
          ]
        },
        {
          "output_type": "stream",
          "name": "stdout",
          "text": [
            "Multilayer Perceptron model (lr=invscaling):\n",
            "Multilayer Perceptron model (max_iter=250.000000):\n",
            "accuracy: 0.9638792676892627\n",
            "f1 score: 0.6439158667041543\n",
            "recall: 0.6653412856196156\n",
            "precision: 0.6250611727131065\n"
          ]
        },
        {
          "output_type": "stream",
          "name": "stderr",
          "text": [
            "\u001b[32m[I 2022-10-04 00:02:24,454]\u001b[0m Trial 15 finished with value: 0.9638792676892627 and parameters: {'learning_rate': 'adaptive', 'max_iter': 250}. Best is trial 0 with value: 0.9638792676892627.\u001b[0m\n"
          ]
        },
        {
          "output_type": "stream",
          "name": "stdout",
          "text": [
            "Multilayer Perceptron model (lr=adaptive):\n",
            "Multilayer Perceptron model (max_iter=250.000000):\n",
            "accuracy: 0.9638792676892627\n",
            "f1 score: 0.6439158667041543\n",
            "recall: 0.6653412856196156\n",
            "precision: 0.6250611727131065\n"
          ]
        },
        {
          "output_type": "stream",
          "name": "stderr",
          "text": [
            "\u001b[32m[I 2022-10-04 00:02:27,302]\u001b[0m Trial 16 finished with value: 0.9638792676892627 and parameters: {'learning_rate': 'invscaling', 'max_iter': 300}. Best is trial 0 with value: 0.9638792676892627.\u001b[0m\n"
          ]
        },
        {
          "output_type": "stream",
          "name": "stdout",
          "text": [
            "Multilayer Perceptron model (lr=invscaling):\n",
            "Multilayer Perceptron model (max_iter=300.000000):\n",
            "accuracy: 0.9638792676892627\n",
            "f1 score: 0.6439158667041543\n",
            "recall: 0.6653412856196156\n",
            "precision: 0.6250611727131065\n"
          ]
        },
        {
          "output_type": "stream",
          "name": "stderr",
          "text": [
            "\u001b[32m[I 2022-10-04 00:02:30,247]\u001b[0m Trial 17 finished with value: 0.9638792676892627 and parameters: {'learning_rate': 'invscaling', 'max_iter': 200}. Best is trial 0 with value: 0.9638792676892627.\u001b[0m\n"
          ]
        },
        {
          "output_type": "stream",
          "name": "stdout",
          "text": [
            "Multilayer Perceptron model (lr=invscaling):\n",
            "Multilayer Perceptron model (max_iter=200.000000):\n",
            "accuracy: 0.9638792676892627\n",
            "f1 score: 0.6439158667041543\n",
            "recall: 0.6653412856196156\n",
            "precision: 0.6250611727131065\n"
          ]
        },
        {
          "output_type": "stream",
          "name": "stderr",
          "text": [
            "\u001b[32m[I 2022-10-04 00:02:33,139]\u001b[0m Trial 18 finished with value: 0.9638792676892627 and parameters: {'learning_rate': 'adaptive', 'max_iter': 250}. Best is trial 0 with value: 0.9638792676892627.\u001b[0m\n"
          ]
        },
        {
          "output_type": "stream",
          "name": "stdout",
          "text": [
            "Multilayer Perceptron model (lr=adaptive):\n",
            "Multilayer Perceptron model (max_iter=250.000000):\n",
            "accuracy: 0.9638792676892627\n",
            "f1 score: 0.6439158667041543\n",
            "recall: 0.6653412856196156\n",
            "precision: 0.6250611727131065\n"
          ]
        },
        {
          "output_type": "stream",
          "name": "stderr",
          "text": [
            "\u001b[32m[I 2022-10-04 00:02:36,036]\u001b[0m Trial 19 finished with value: 0.9638792676892627 and parameters: {'learning_rate': 'invscaling', 'max_iter': 300}. Best is trial 0 with value: 0.9638792676892627.\u001b[0m\n"
          ]
        },
        {
          "output_type": "stream",
          "name": "stdout",
          "text": [
            "Multilayer Perceptron model (lr=invscaling):\n",
            "Multilayer Perceptron model (max_iter=300.000000):\n",
            "accuracy: 0.9638792676892627\n",
            "f1 score: 0.6439158667041543\n",
            "recall: 0.6653412856196156\n",
            "precision: 0.6250611727131065\n"
          ]
        },
        {
          "output_type": "stream",
          "name": "stderr",
          "text": [
            "\u001b[32m[I 2022-10-04 00:02:38,954]\u001b[0m Trial 20 finished with value: 0.9638792676892627 and parameters: {'learning_rate': 'invscaling', 'max_iter': 200}. Best is trial 0 with value: 0.9638792676892627.\u001b[0m\n"
          ]
        },
        {
          "output_type": "stream",
          "name": "stdout",
          "text": [
            "Multilayer Perceptron model (lr=invscaling):\n",
            "Multilayer Perceptron model (max_iter=200.000000):\n",
            "accuracy: 0.9638792676892627\n",
            "f1 score: 0.6439158667041543\n",
            "recall: 0.6653412856196156\n",
            "precision: 0.6250611727131065\n"
          ]
        },
        {
          "output_type": "stream",
          "name": "stderr",
          "text": [
            "\u001b[32m[I 2022-10-04 00:02:41,877]\u001b[0m Trial 21 finished with value: 0.9638792676892627 and parameters: {'learning_rate': 'invscaling', 'max_iter': 200}. Best is trial 0 with value: 0.9638792676892627.\u001b[0m\n"
          ]
        },
        {
          "output_type": "stream",
          "name": "stdout",
          "text": [
            "Multilayer Perceptron model (lr=invscaling):\n",
            "Multilayer Perceptron model (max_iter=200.000000):\n",
            "accuracy: 0.9638792676892627\n",
            "f1 score: 0.6439158667041543\n",
            "recall: 0.6653412856196156\n",
            "precision: 0.6250611727131065\n"
          ]
        },
        {
          "output_type": "stream",
          "name": "stderr",
          "text": [
            "\u001b[32m[I 2022-10-04 00:02:44,759]\u001b[0m Trial 22 finished with value: 0.9638792676892627 and parameters: {'learning_rate': 'invscaling', 'max_iter': 300}. Best is trial 0 with value: 0.9638792676892627.\u001b[0m\n"
          ]
        },
        {
          "output_type": "stream",
          "name": "stdout",
          "text": [
            "Multilayer Perceptron model (lr=invscaling):\n",
            "Multilayer Perceptron model (max_iter=300.000000):\n",
            "accuracy: 0.9638792676892627\n",
            "f1 score: 0.6439158667041543\n",
            "recall: 0.6653412856196156\n",
            "precision: 0.6250611727131065\n"
          ]
        },
        {
          "output_type": "stream",
          "name": "stderr",
          "text": [
            "\u001b[32m[I 2022-10-04 00:02:47,591]\u001b[0m Trial 23 finished with value: 0.9638792676892627 and parameters: {'learning_rate': 'invscaling', 'max_iter': 300}. Best is trial 0 with value: 0.9638792676892627.\u001b[0m\n"
          ]
        },
        {
          "output_type": "stream",
          "name": "stdout",
          "text": [
            "Multilayer Perceptron model (lr=invscaling):\n",
            "Multilayer Perceptron model (max_iter=300.000000):\n",
            "accuracy: 0.9638792676892627\n",
            "f1 score: 0.6439158667041543\n",
            "recall: 0.6653412856196156\n",
            "precision: 0.6250611727131065\n"
          ]
        },
        {
          "output_type": "stream",
          "name": "stderr",
          "text": [
            "\u001b[32m[I 2022-10-04 00:02:50,568]\u001b[0m Trial 24 finished with value: 0.9638792676892627 and parameters: {'learning_rate': 'invscaling', 'max_iter': 200}. Best is trial 0 with value: 0.9638792676892627.\u001b[0m\n"
          ]
        },
        {
          "output_type": "stream",
          "name": "stdout",
          "text": [
            "Multilayer Perceptron model (lr=invscaling):\n",
            "Multilayer Perceptron model (max_iter=200.000000):\n",
            "accuracy: 0.9638792676892627\n",
            "f1 score: 0.6439158667041543\n",
            "recall: 0.6653412856196156\n",
            "precision: 0.6250611727131065\n"
          ]
        },
        {
          "output_type": "stream",
          "name": "stderr",
          "text": [
            "\u001b[32m[I 2022-10-04 00:02:53,522]\u001b[0m Trial 25 finished with value: 0.9638792676892627 and parameters: {'learning_rate': 'invscaling', 'max_iter': 300}. Best is trial 0 with value: 0.9638792676892627.\u001b[0m\n"
          ]
        },
        {
          "output_type": "stream",
          "name": "stdout",
          "text": [
            "Multilayer Perceptron model (lr=invscaling):\n",
            "Multilayer Perceptron model (max_iter=300.000000):\n",
            "accuracy: 0.9638792676892627\n",
            "f1 score: 0.6439158667041543\n",
            "recall: 0.6653412856196156\n",
            "precision: 0.6250611727131065\n"
          ]
        },
        {
          "output_type": "stream",
          "name": "stderr",
          "text": [
            "\u001b[32m[I 2022-10-04 00:02:56,429]\u001b[0m Trial 26 finished with value: 0.9638792676892627 and parameters: {'learning_rate': 'invscaling', 'max_iter': 300}. Best is trial 0 with value: 0.9638792676892627.\u001b[0m\n"
          ]
        },
        {
          "output_type": "stream",
          "name": "stdout",
          "text": [
            "Multilayer Perceptron model (lr=invscaling):\n",
            "Multilayer Perceptron model (max_iter=300.000000):\n",
            "accuracy: 0.9638792676892627\n",
            "f1 score: 0.6439158667041543\n",
            "recall: 0.6653412856196156\n",
            "precision: 0.6250611727131065\n"
          ]
        },
        {
          "output_type": "stream",
          "name": "stderr",
          "text": [
            "\u001b[32m[I 2022-10-04 00:02:59,283]\u001b[0m Trial 27 finished with value: 0.9638792676892627 and parameters: {'learning_rate': 'invscaling', 'max_iter': 300}. Best is trial 0 with value: 0.9638792676892627.\u001b[0m\n"
          ]
        },
        {
          "output_type": "stream",
          "name": "stdout",
          "text": [
            "Multilayer Perceptron model (lr=invscaling):\n",
            "Multilayer Perceptron model (max_iter=300.000000):\n",
            "accuracy: 0.9638792676892627\n",
            "f1 score: 0.6439158667041543\n",
            "recall: 0.6653412856196156\n",
            "precision: 0.6250611727131065\n"
          ]
        },
        {
          "output_type": "stream",
          "name": "stderr",
          "text": [
            "\u001b[32m[I 2022-10-04 00:03:02,281]\u001b[0m Trial 28 finished with value: 0.9638792676892627 and parameters: {'learning_rate': 'invscaling', 'max_iter': 200}. Best is trial 0 with value: 0.9638792676892627.\u001b[0m\n"
          ]
        },
        {
          "output_type": "stream",
          "name": "stdout",
          "text": [
            "Multilayer Perceptron model (lr=invscaling):\n",
            "Multilayer Perceptron model (max_iter=200.000000):\n",
            "accuracy: 0.9638792676892627\n",
            "f1 score: 0.6439158667041543\n",
            "recall: 0.6653412856196156\n",
            "precision: 0.6250611727131065\n"
          ]
        },
        {
          "output_type": "stream",
          "name": "stderr",
          "text": [
            "\u001b[32m[I 2022-10-04 00:03:09,079]\u001b[0m Trial 29 finished with value: 0.9638792676892627 and parameters: {'learning_rate': 'invscaling', 'max_iter': 300}. Best is trial 0 with value: 0.9638792676892627.\u001b[0m\n"
          ]
        },
        {
          "output_type": "stream",
          "name": "stdout",
          "text": [
            "Multilayer Perceptron model (lr=invscaling):\n",
            "Multilayer Perceptron model (max_iter=300.000000):\n",
            "accuracy: 0.9638792676892627\n",
            "f1 score: 0.6439158667041543\n",
            "recall: 0.6653412856196156\n",
            "precision: 0.6250611727131065\n"
          ]
        },
        {
          "output_type": "stream",
          "name": "stderr",
          "text": [
            "\u001b[32m[I 2022-10-04 00:03:11,934]\u001b[0m Trial 30 finished with value: 0.9638792676892627 and parameters: {'learning_rate': 'invscaling', 'max_iter': 300}. Best is trial 0 with value: 0.9638792676892627.\u001b[0m\n"
          ]
        },
        {
          "output_type": "stream",
          "name": "stdout",
          "text": [
            "Multilayer Perceptron model (lr=invscaling):\n",
            "Multilayer Perceptron model (max_iter=300.000000):\n",
            "accuracy: 0.9638792676892627\n",
            "f1 score: 0.6439158667041543\n",
            "recall: 0.6653412856196156\n",
            "precision: 0.6250611727131065\n"
          ]
        },
        {
          "output_type": "stream",
          "name": "stderr",
          "text": [
            "\u001b[32m[I 2022-10-04 00:03:14,828]\u001b[0m Trial 31 finished with value: 0.9638792676892627 and parameters: {'learning_rate': 'invscaling', 'max_iter': 300}. Best is trial 0 with value: 0.9638792676892627.\u001b[0m\n"
          ]
        },
        {
          "output_type": "stream",
          "name": "stdout",
          "text": [
            "Multilayer Perceptron model (lr=invscaling):\n",
            "Multilayer Perceptron model (max_iter=300.000000):\n",
            "accuracy: 0.9638792676892627\n",
            "f1 score: 0.6439158667041543\n",
            "recall: 0.6653412856196156\n",
            "precision: 0.6250611727131065\n"
          ]
        },
        {
          "output_type": "stream",
          "name": "stderr",
          "text": [
            "\u001b[32m[I 2022-10-04 00:03:17,697]\u001b[0m Trial 32 finished with value: 0.9638792676892627 and parameters: {'learning_rate': 'invscaling', 'max_iter': 300}. Best is trial 0 with value: 0.9638792676892627.\u001b[0m\n"
          ]
        },
        {
          "output_type": "stream",
          "name": "stdout",
          "text": [
            "Multilayer Perceptron model (lr=invscaling):\n",
            "Multilayer Perceptron model (max_iter=300.000000):\n",
            "accuracy: 0.9638792676892627\n",
            "f1 score: 0.6439158667041543\n",
            "recall: 0.6653412856196156\n",
            "precision: 0.6250611727131065\n"
          ]
        },
        {
          "output_type": "stream",
          "name": "stderr",
          "text": [
            "\u001b[32m[I 2022-10-04 00:03:20,602]\u001b[0m Trial 33 finished with value: 0.9638792676892627 and parameters: {'learning_rate': 'invscaling', 'max_iter': 300}. Best is trial 0 with value: 0.9638792676892627.\u001b[0m\n"
          ]
        },
        {
          "output_type": "stream",
          "name": "stdout",
          "text": [
            "Multilayer Perceptron model (lr=invscaling):\n",
            "Multilayer Perceptron model (max_iter=300.000000):\n",
            "accuracy: 0.9638792676892627\n",
            "f1 score: 0.6439158667041543\n",
            "recall: 0.6653412856196156\n",
            "precision: 0.6250611727131065\n"
          ]
        },
        {
          "output_type": "stream",
          "name": "stderr",
          "text": [
            "\u001b[32m[I 2022-10-04 00:03:23,501]\u001b[0m Trial 34 finished with value: 0.9638792676892627 and parameters: {'learning_rate': 'invscaling', 'max_iter': 300}. Best is trial 0 with value: 0.9638792676892627.\u001b[0m\n"
          ]
        },
        {
          "output_type": "stream",
          "name": "stdout",
          "text": [
            "Multilayer Perceptron model (lr=invscaling):\n",
            "Multilayer Perceptron model (max_iter=300.000000):\n",
            "accuracy: 0.9638792676892627\n",
            "f1 score: 0.6439158667041543\n",
            "recall: 0.6653412856196156\n",
            "precision: 0.6250611727131065\n"
          ]
        },
        {
          "output_type": "stream",
          "name": "stderr",
          "text": [
            "\u001b[32m[I 2022-10-04 00:03:26,338]\u001b[0m Trial 35 finished with value: 0.9638792676892627 and parameters: {'learning_rate': 'invscaling', 'max_iter': 200}. Best is trial 0 with value: 0.9638792676892627.\u001b[0m\n"
          ]
        },
        {
          "output_type": "stream",
          "name": "stdout",
          "text": [
            "Multilayer Perceptron model (lr=invscaling):\n",
            "Multilayer Perceptron model (max_iter=200.000000):\n",
            "accuracy: 0.9638792676892627\n",
            "f1 score: 0.6439158667041543\n",
            "recall: 0.6653412856196156\n",
            "precision: 0.6250611727131065\n"
          ]
        },
        {
          "output_type": "stream",
          "name": "stderr",
          "text": [
            "\u001b[32m[I 2022-10-04 00:03:29,179]\u001b[0m Trial 36 finished with value: 0.9638792676892627 and parameters: {'learning_rate': 'invscaling', 'max_iter': 200}. Best is trial 0 with value: 0.9638792676892627.\u001b[0m\n"
          ]
        },
        {
          "output_type": "stream",
          "name": "stdout",
          "text": [
            "Multilayer Perceptron model (lr=invscaling):\n",
            "Multilayer Perceptron model (max_iter=200.000000):\n",
            "accuracy: 0.9638792676892627\n",
            "f1 score: 0.6439158667041543\n",
            "recall: 0.6653412856196156\n",
            "precision: 0.6250611727131065\n"
          ]
        },
        {
          "output_type": "stream",
          "name": "stderr",
          "text": [
            "\u001b[32m[I 2022-10-04 00:03:31,996]\u001b[0m Trial 37 finished with value: 0.9638792676892627 and parameters: {'learning_rate': 'invscaling', 'max_iter': 200}. Best is trial 0 with value: 0.9638792676892627.\u001b[0m\n"
          ]
        },
        {
          "output_type": "stream",
          "name": "stdout",
          "text": [
            "Multilayer Perceptron model (lr=invscaling):\n",
            "Multilayer Perceptron model (max_iter=200.000000):\n",
            "accuracy: 0.9638792676892627\n",
            "f1 score: 0.6439158667041543\n",
            "recall: 0.6653412856196156\n",
            "precision: 0.6250611727131065\n"
          ]
        },
        {
          "output_type": "stream",
          "name": "stderr",
          "text": [
            "\u001b[32m[I 2022-10-04 00:03:34,882]\u001b[0m Trial 38 finished with value: 0.9638792676892627 and parameters: {'learning_rate': 'constant', 'max_iter': 250}. Best is trial 0 with value: 0.9638792676892627.\u001b[0m\n"
          ]
        },
        {
          "output_type": "stream",
          "name": "stdout",
          "text": [
            "Multilayer Perceptron model (lr=constant):\n",
            "Multilayer Perceptron model (max_iter=250.000000):\n",
            "accuracy: 0.9638792676892627\n",
            "f1 score: 0.6439158667041543\n",
            "recall: 0.6653412856196156\n",
            "precision: 0.6250611727131065\n"
          ]
        },
        {
          "output_type": "stream",
          "name": "stderr",
          "text": [
            "\u001b[32m[I 2022-10-04 00:03:37,705]\u001b[0m Trial 39 finished with value: 0.9638792676892627 and parameters: {'learning_rate': 'invscaling', 'max_iter': 250}. Best is trial 0 with value: 0.9638792676892627.\u001b[0m\n"
          ]
        },
        {
          "output_type": "stream",
          "name": "stdout",
          "text": [
            "Multilayer Perceptron model (lr=invscaling):\n",
            "Multilayer Perceptron model (max_iter=250.000000):\n",
            "accuracy: 0.9638792676892627\n",
            "f1 score: 0.6439158667041543\n",
            "recall: 0.6653412856196156\n",
            "precision: 0.6250611727131065\n"
          ]
        },
        {
          "output_type": "stream",
          "name": "stderr",
          "text": [
            "\u001b[32m[I 2022-10-04 00:03:40,553]\u001b[0m Trial 40 finished with value: 0.9638792676892627 and parameters: {'learning_rate': 'constant', 'max_iter': 300}. Best is trial 0 with value: 0.9638792676892627.\u001b[0m\n"
          ]
        },
        {
          "output_type": "stream",
          "name": "stdout",
          "text": [
            "Multilayer Perceptron model (lr=constant):\n",
            "Multilayer Perceptron model (max_iter=300.000000):\n",
            "accuracy: 0.9638792676892627\n",
            "f1 score: 0.6439158667041543\n",
            "recall: 0.6653412856196156\n",
            "precision: 0.6250611727131065\n"
          ]
        },
        {
          "output_type": "stream",
          "name": "stderr",
          "text": [
            "\u001b[32m[I 2022-10-04 00:03:43,402]\u001b[0m Trial 41 finished with value: 0.9638792676892627 and parameters: {'learning_rate': 'invscaling', 'max_iter': 300}. Best is trial 0 with value: 0.9638792676892627.\u001b[0m\n"
          ]
        },
        {
          "output_type": "stream",
          "name": "stdout",
          "text": [
            "Multilayer Perceptron model (lr=invscaling):\n",
            "Multilayer Perceptron model (max_iter=300.000000):\n",
            "accuracy: 0.9638792676892627\n",
            "f1 score: 0.6439158667041543\n",
            "recall: 0.6653412856196156\n",
            "precision: 0.6250611727131065\n"
          ]
        },
        {
          "output_type": "stream",
          "name": "stderr",
          "text": [
            "\u001b[32m[I 2022-10-04 00:03:46,240]\u001b[0m Trial 42 finished with value: 0.9638792676892627 and parameters: {'learning_rate': 'invscaling', 'max_iter': 300}. Best is trial 0 with value: 0.9638792676892627.\u001b[0m\n"
          ]
        },
        {
          "output_type": "stream",
          "name": "stdout",
          "text": [
            "Multilayer Perceptron model (lr=invscaling):\n",
            "Multilayer Perceptron model (max_iter=300.000000):\n",
            "accuracy: 0.9638792676892627\n",
            "f1 score: 0.6439158667041543\n",
            "recall: 0.6653412856196156\n",
            "precision: 0.6250611727131065\n"
          ]
        },
        {
          "output_type": "stream",
          "name": "stderr",
          "text": [
            "\u001b[32m[I 2022-10-04 00:03:49,093]\u001b[0m Trial 43 finished with value: 0.9638792676892627 and parameters: {'learning_rate': 'invscaling', 'max_iter': 300}. Best is trial 0 with value: 0.9638792676892627.\u001b[0m\n"
          ]
        },
        {
          "output_type": "stream",
          "name": "stdout",
          "text": [
            "Multilayer Perceptron model (lr=invscaling):\n",
            "Multilayer Perceptron model (max_iter=300.000000):\n",
            "accuracy: 0.9638792676892627\n",
            "f1 score: 0.6439158667041543\n",
            "recall: 0.6653412856196156\n",
            "precision: 0.6250611727131065\n"
          ]
        },
        {
          "output_type": "stream",
          "name": "stderr",
          "text": [
            "\u001b[32m[I 2022-10-04 00:03:51,999]\u001b[0m Trial 44 finished with value: 0.9638792676892627 and parameters: {'learning_rate': 'invscaling', 'max_iter': 300}. Best is trial 0 with value: 0.9638792676892627.\u001b[0m\n"
          ]
        },
        {
          "output_type": "stream",
          "name": "stdout",
          "text": [
            "Multilayer Perceptron model (lr=invscaling):\n",
            "Multilayer Perceptron model (max_iter=300.000000):\n",
            "accuracy: 0.9638792676892627\n",
            "f1 score: 0.6439158667041543\n",
            "recall: 0.6653412856196156\n",
            "precision: 0.6250611727131065\n"
          ]
        },
        {
          "output_type": "stream",
          "name": "stderr",
          "text": [
            "\u001b[32m[I 2022-10-04 00:03:54,877]\u001b[0m Trial 45 finished with value: 0.9638792676892627 and parameters: {'learning_rate': 'invscaling', 'max_iter': 250}. Best is trial 0 with value: 0.9638792676892627.\u001b[0m\n"
          ]
        },
        {
          "output_type": "stream",
          "name": "stdout",
          "text": [
            "Multilayer Perceptron model (lr=invscaling):\n",
            "Multilayer Perceptron model (max_iter=250.000000):\n",
            "accuracy: 0.9638792676892627\n",
            "f1 score: 0.6439158667041543\n",
            "recall: 0.6653412856196156\n",
            "precision: 0.6250611727131065\n"
          ]
        },
        {
          "output_type": "stream",
          "name": "stderr",
          "text": [
            "\u001b[32m[I 2022-10-04 00:03:57,767]\u001b[0m Trial 46 finished with value: 0.9638792676892627 and parameters: {'learning_rate': 'constant', 'max_iter': 300}. Best is trial 0 with value: 0.9638792676892627.\u001b[0m\n"
          ]
        },
        {
          "output_type": "stream",
          "name": "stdout",
          "text": [
            "Multilayer Perceptron model (lr=constant):\n",
            "Multilayer Perceptron model (max_iter=300.000000):\n",
            "accuracy: 0.9638792676892627\n",
            "f1 score: 0.6439158667041543\n",
            "recall: 0.6653412856196156\n",
            "precision: 0.6250611727131065\n"
          ]
        },
        {
          "output_type": "stream",
          "name": "stderr",
          "text": [
            "\u001b[32m[I 2022-10-04 00:04:00,693]\u001b[0m Trial 47 finished with value: 0.9638792676892627 and parameters: {'learning_rate': 'adaptive', 'max_iter': 300}. Best is trial 0 with value: 0.9638792676892627.\u001b[0m\n"
          ]
        },
        {
          "output_type": "stream",
          "name": "stdout",
          "text": [
            "Multilayer Perceptron model (lr=adaptive):\n",
            "Multilayer Perceptron model (max_iter=300.000000):\n",
            "accuracy: 0.9638792676892627\n",
            "f1 score: 0.6439158667041543\n",
            "recall: 0.6653412856196156\n",
            "precision: 0.6250611727131065\n"
          ]
        },
        {
          "output_type": "stream",
          "name": "stderr",
          "text": [
            "\u001b[32m[I 2022-10-04 00:04:03,651]\u001b[0m Trial 48 finished with value: 0.9638792676892627 and parameters: {'learning_rate': 'invscaling', 'max_iter': 300}. Best is trial 0 with value: 0.9638792676892627.\u001b[0m\n"
          ]
        },
        {
          "output_type": "stream",
          "name": "stdout",
          "text": [
            "Multilayer Perceptron model (lr=invscaling):\n",
            "Multilayer Perceptron model (max_iter=300.000000):\n",
            "accuracy: 0.9638792676892627\n",
            "f1 score: 0.6439158667041543\n",
            "recall: 0.6653412856196156\n",
            "precision: 0.6250611727131065\n"
          ]
        },
        {
          "output_type": "stream",
          "name": "stderr",
          "text": [
            "\u001b[32m[I 2022-10-04 00:04:06,615]\u001b[0m Trial 49 finished with value: 0.9638792676892627 and parameters: {'learning_rate': 'invscaling', 'max_iter': 300}. Best is trial 0 with value: 0.9638792676892627.\u001b[0m\n"
          ]
        },
        {
          "output_type": "stream",
          "name": "stdout",
          "text": [
            "Multilayer Perceptron model (lr=invscaling):\n",
            "Multilayer Perceptron model (max_iter=300.000000):\n",
            "accuracy: 0.9638792676892627\n",
            "f1 score: 0.6439158667041543\n",
            "recall: 0.6653412856196156\n",
            "precision: 0.6250611727131065\n"
          ]
        }
      ]
    },
    {
      "cell_type": "markdown",
      "source": [
        "#### SVM - Support vector machines"
      ],
      "metadata": {
        "id": "41ichDeDjvmU"
      }
    },
    {
      "cell_type": "code",
      "source": [
        "def SVM(trial):\n",
        "  c = trial.suggest_int('c', 1, 101, 10)\n",
        "  max_iter = trial.suggest_int('max_iter', 1, 101, 10)\n",
        "\n",
        "  with mlflow.start_run(run_name = str('SMV')):\n",
        "    model = SVC(C = c, max_iter = max_iter)\n",
        "    model.fit(x_train, y_train)\n",
        "\n",
        "    y_model = model.predict(x_val)\n",
        "\n",
        "    (accuracy, f1score, recallscore, precisionscore) = eval_metrics(y_val, y_model)\n",
        "\n",
        "    print('SVM model (c=%f):'%(c))\n",
        "    print('SMV model (max_iter=%f):'%(max_iter))\n",
        "\n",
        "    print('accuracy: %s'%(accuracy))\n",
        "    print('f1 score: %s'%(f1score))\n",
        "    print('recall: %s'%(recallscore))\n",
        "    print('precision: %s'%(precisionscore))\n",
        "\n",
        "    mlflow.log_param(\"c\", c)\n",
        "    mlflow.log_param(\"max_iter\", max_iter)\n",
        "\n",
        "    mlflow.log_metric(\"accuracy\", accuracy)\n",
        "    mlflow.log_metric(\"f1 score\", f1score)\n",
        "    mlflow.log_metric(\"recall\", recallscore)\n",
        "    mlflow.log_metric(\"precision\", precisionscore)\n",
        "\n",
        "    mlflow.end_run()\n",
        "\n",
        "  return accuracy"
      ],
      "metadata": {
        "id": "btUKkCV_cqvq"
      },
      "execution_count": 40,
      "outputs": []
    },
    {
      "cell_type": "code",
      "source": [
        "studySVM = optuna.create_study(direction=\"maximize\")\n",
        "studySVM.optimize(SVM, n_trials=50)"
      ],
      "metadata": {
        "colab": {
          "base_uri": "https://localhost:8080/"
        },
        "id": "T_-MaCkyeADm",
        "outputId": "0cf87c7a-1cb9-4b7f-be3c-3791f13bee2e"
      },
      "execution_count": 41,
      "outputs": [
        {
          "output_type": "stream",
          "name": "stderr",
          "text": [
            "\u001b[32m[I 2022-10-04 00:04:06,651]\u001b[0m A new study created in memory with name: no-name-96932e58-7768-4d35-800f-64c88516e411\u001b[0m\n",
            "/usr/local/lib/python3.7/dist-packages/sklearn/svm/_base.py:258: ConvergenceWarning: Solver terminated early (max_iter=61).  Consider pre-processing your data with StandardScaler or MinMaxScaler.\n",
            "  % self.max_iter, ConvergenceWarning)\n",
            "\u001b[32m[I 2022-10-04 00:04:06,822]\u001b[0m Trial 0 finished with value: 0.8941118258287977 and parameters: {'c': 71, 'max_iter': 61}. Best is trial 0 with value: 0.8941118258287977.\u001b[0m\n",
            "/usr/local/lib/python3.7/dist-packages/sklearn/svm/_base.py:258: ConvergenceWarning: Solver terminated early (max_iter=21).  Consider pre-processing your data with StandardScaler or MinMaxScaler.\n",
            "  % self.max_iter, ConvergenceWarning)\n",
            "\u001b[32m[I 2022-10-04 00:04:06,896]\u001b[0m Trial 1 finished with value: 0.5710044532409698 and parameters: {'c': 71, 'max_iter': 21}. Best is trial 0 with value: 0.8941118258287977.\u001b[0m\n",
            "/usr/local/lib/python3.7/dist-packages/sklearn/svm/_base.py:258: ConvergenceWarning: Solver terminated early (max_iter=1).  Consider pre-processing your data with StandardScaler or MinMaxScaler.\n",
            "  % self.max_iter, ConvergenceWarning)\n",
            "\u001b[32m[I 2022-10-04 00:04:06,932]\u001b[0m Trial 2 finished with value: 0.5809005442850074 and parameters: {'c': 101, 'max_iter': 1}. Best is trial 0 with value: 0.8941118258287977.\u001b[0m\n"
          ]
        },
        {
          "output_type": "stream",
          "name": "stdout",
          "text": [
            "SVM model (c=71.000000):\n",
            "SMV model (max_iter=61.000000):\n",
            "accuracy: 0.8941118258287977\n",
            "f1 score: 0.6551415047543342\n",
            "recall: 0.6819256421588699\n",
            "precision: 0.6712006214842218\n",
            "SVM model (c=71.000000):\n",
            "SMV model (max_iter=21.000000):\n",
            "accuracy: 0.5710044532409698\n",
            "f1 score: 0.40003538642122827\n",
            "recall: 0.44259845922985824\n",
            "precision: 0.40451758257072506\n",
            "SVM model (c=101.000000):\n",
            "SMV model (max_iter=1.000000):\n",
            "accuracy: 0.5809005442850074\n",
            "f1 score: 0.33204470276853404\n",
            "recall: 0.3930146276788655\n",
            "precision: 0.3610033495861394\n"
          ]
        },
        {
          "output_type": "stream",
          "name": "stderr",
          "text": [
            "/usr/local/lib/python3.7/dist-packages/sklearn/svm/_base.py:258: ConvergenceWarning: Solver terminated early (max_iter=91).  Consider pre-processing your data with StandardScaler or MinMaxScaler.\n",
            "  % self.max_iter, ConvergenceWarning)\n",
            "\u001b[32m[I 2022-10-04 00:04:07,103]\u001b[0m Trial 3 finished with value: 0.8545274616526473 and parameters: {'c': 41, 'max_iter': 91}. Best is trial 0 with value: 0.8941118258287977.\u001b[0m\n",
            "/usr/local/lib/python3.7/dist-packages/sklearn/svm/_base.py:258: ConvergenceWarning: Solver terminated early (max_iter=11).  Consider pre-processing your data with StandardScaler or MinMaxScaler.\n",
            "  % self.max_iter, ConvergenceWarning)\n",
            "\u001b[32m[I 2022-10-04 00:04:07,163]\u001b[0m Trial 4 finished with value: 0.627906976744186 and parameters: {'c': 41, 'max_iter': 11}. Best is trial 0 with value: 0.8941118258287977.\u001b[0m\n"
          ]
        },
        {
          "output_type": "stream",
          "name": "stdout",
          "text": [
            "SVM model (c=41.000000):\n",
            "SMV model (max_iter=91.000000):\n",
            "accuracy: 0.8545274616526473\n",
            "f1 score: 0.6103437283587613\n",
            "recall: 0.6761403410522778\n",
            "precision: 0.670697758349692\n",
            "SVM model (c=41.000000):\n",
            "SMV model (max_iter=11.000000):\n",
            "accuracy: 0.627906976744186\n",
            "f1 score: 0.43554414177133965\n",
            "recall: 0.5019207265983575\n",
            "precision: 0.45305193298062624\n"
          ]
        },
        {
          "output_type": "stream",
          "name": "stderr",
          "text": [
            "/usr/local/lib/python3.7/dist-packages/sklearn/svm/_base.py:258: ConvergenceWarning: Solver terminated early (max_iter=51).  Consider pre-processing your data with StandardScaler or MinMaxScaler.\n",
            "  % self.max_iter, ConvergenceWarning)\n",
            "\u001b[32m[I 2022-10-04 00:04:07,311]\u001b[0m Trial 5 finished with value: 0.5502226620484908 and parameters: {'c': 11, 'max_iter': 51}. Best is trial 0 with value: 0.8941118258287977.\u001b[0m\n",
            "/usr/local/lib/python3.7/dist-packages/sklearn/svm/_base.py:258: ConvergenceWarning: Solver terminated early (max_iter=1).  Consider pre-processing your data with StandardScaler or MinMaxScaler.\n",
            "  % self.max_iter, ConvergenceWarning)\n",
            "\u001b[32m[I 2022-10-04 00:04:07,350]\u001b[0m Trial 6 finished with value: 0.5809005442850074 and parameters: {'c': 21, 'max_iter': 1}. Best is trial 0 with value: 0.8941118258287977.\u001b[0m\n",
            "/usr/local/lib/python3.7/dist-packages/sklearn/svm/_base.py:258: ConvergenceWarning: Solver terminated early (max_iter=71).  Consider pre-processing your data with StandardScaler or MinMaxScaler.\n",
            "  % self.max_iter, ConvergenceWarning)\n",
            "\u001b[32m[I 2022-10-04 00:04:07,498]\u001b[0m Trial 7 finished with value: 0.8827313211281543 and parameters: {'c': 61, 'max_iter': 71}. Best is trial 0 with value: 0.8941118258287977.\u001b[0m\n"
          ]
        },
        {
          "output_type": "stream",
          "name": "stdout",
          "text": [
            "SVM model (c=11.000000):\n",
            "SMV model (max_iter=51.000000):\n",
            "accuracy: 0.5502226620484908\n",
            "f1 score: 0.40482386756308736\n",
            "recall: 0.4856322996252606\n",
            "precision: 0.4276667279637889\n",
            "SVM model (c=21.000000):\n",
            "SMV model (max_iter=1.000000):\n",
            "accuracy: 0.5809005442850074\n",
            "f1 score: 0.33204470276853404\n",
            "recall: 0.3930146276788655\n",
            "precision: 0.3610033495861394\n",
            "SVM model (c=61.000000):\n",
            "SMV model (max_iter=71.000000):\n",
            "accuracy: 0.8827313211281543\n",
            "f1 score: 0.638080805439439\n",
            "recall: 0.6695601041637499\n",
            "precision: 0.6679490446450961\n"
          ]
        },
        {
          "output_type": "stream",
          "name": "stderr",
          "text": [
            "/usr/local/lib/python3.7/dist-packages/sklearn/svm/_base.py:258: ConvergenceWarning: Solver terminated early (max_iter=21).  Consider pre-processing your data with StandardScaler or MinMaxScaler.\n",
            "  % self.max_iter, ConvergenceWarning)\n",
            "\u001b[32m[I 2022-10-04 00:04:07,577]\u001b[0m Trial 8 finished with value: 0.636318654131618 and parameters: {'c': 51, 'max_iter': 21}. Best is trial 0 with value: 0.8941118258287977.\u001b[0m\n",
            "/usr/local/lib/python3.7/dist-packages/sklearn/svm/_base.py:258: ConvergenceWarning: Solver terminated early (max_iter=1).  Consider pre-processing your data with StandardScaler or MinMaxScaler.\n",
            "  % self.max_iter, ConvergenceWarning)\n",
            "\u001b[32m[I 2022-10-04 00:04:07,613]\u001b[0m Trial 9 finished with value: 0.5809005442850074 and parameters: {'c': 91, 'max_iter': 1}. Best is trial 0 with value: 0.8941118258287977.\u001b[0m\n",
            "/usr/local/lib/python3.7/dist-packages/sklearn/svm/_base.py:258: ConvergenceWarning: Solver terminated early (max_iter=51).  Consider pre-processing your data with StandardScaler or MinMaxScaler.\n",
            "  % self.max_iter, ConvergenceWarning)\n",
            "\u001b[32m[I 2022-10-04 00:04:07,739]\u001b[0m Trial 10 finished with value: 0.822365165759525 and parameters: {'c': 81, 'max_iter': 51}. Best is trial 0 with value: 0.8941118258287977.\u001b[0m\n"
          ]
        },
        {
          "output_type": "stream",
          "name": "stdout",
          "text": [
            "SVM model (c=51.000000):\n",
            "SMV model (max_iter=21.000000):\n",
            "accuracy: 0.636318654131618\n",
            "f1 score: 0.42221998850058834\n",
            "recall: 0.4263585454061373\n",
            "precision: 0.4292812632095668\n",
            "SVM model (c=91.000000):\n",
            "SMV model (max_iter=1.000000):\n",
            "accuracy: 0.5809005442850074\n",
            "f1 score: 0.33204470276853404\n",
            "recall: 0.3930146276788655\n",
            "precision: 0.3610033495861394\n",
            "SVM model (c=81.000000):\n",
            "SMV model (max_iter=51.000000):\n",
            "accuracy: 0.822365165759525\n",
            "f1 score: 0.5907561206728229\n",
            "recall: 0.651955513706487\n",
            "precision: 0.6059241641885715\n"
          ]
        },
        {
          "output_type": "stream",
          "name": "stderr",
          "text": [
            "/usr/local/lib/python3.7/dist-packages/sklearn/svm/_base.py:258: ConvergenceWarning: Solver terminated early (max_iter=81).  Consider pre-processing your data with StandardScaler or MinMaxScaler.\n",
            "  % self.max_iter, ConvergenceWarning)\n",
            "\u001b[32m[I 2022-10-04 00:04:07,908]\u001b[0m Trial 11 finished with value: 0.8189015338941118 and parameters: {'c': 71, 'max_iter': 81}. Best is trial 0 with value: 0.8941118258287977.\u001b[0m\n",
            "/usr/local/lib/python3.7/dist-packages/sklearn/svm/_base.py:258: ConvergenceWarning: Solver terminated early (max_iter=71).  Consider pre-processing your data with StandardScaler or MinMaxScaler.\n",
            "  % self.max_iter, ConvergenceWarning)\n",
            "\u001b[32m[I 2022-10-04 00:04:08,062]\u001b[0m Trial 12 finished with value: 0.8827313211281543 and parameters: {'c': 61, 'max_iter': 71}. Best is trial 0 with value: 0.8941118258287977.\u001b[0m\n"
          ]
        },
        {
          "output_type": "stream",
          "name": "stdout",
          "text": [
            "SVM model (c=71.000000):\n",
            "SMV model (max_iter=81.000000):\n",
            "accuracy: 0.8189015338941118\n",
            "f1 score: 0.557490286997681\n",
            "recall: 0.6606837846162462\n",
            "precision: 0.6635712277180068\n",
            "SVM model (c=61.000000):\n",
            "SMV model (max_iter=71.000000):\n",
            "accuracy: 0.8827313211281543\n",
            "f1 score: 0.638080805439439\n",
            "recall: 0.6695601041637499\n",
            "precision: 0.6679490446450961\n"
          ]
        },
        {
          "output_type": "stream",
          "name": "stderr",
          "text": [
            "/usr/local/lib/python3.7/dist-packages/sklearn/svm/_base.py:258: ConvergenceWarning: Solver terminated early (max_iter=61).  Consider pre-processing your data with StandardScaler or MinMaxScaler.\n",
            "  % self.max_iter, ConvergenceWarning)\n",
            "\u001b[32m[I 2022-10-04 00:04:08,201]\u001b[0m Trial 13 finished with value: 0.8322612568035626 and parameters: {'c': 51, 'max_iter': 61}. Best is trial 0 with value: 0.8941118258287977.\u001b[0m\n",
            "/usr/local/lib/python3.7/dist-packages/sklearn/svm/_base.py:258: ConvergenceWarning: Solver terminated early (max_iter=101).  Consider pre-processing your data with StandardScaler or MinMaxScaler.\n",
            "  % self.max_iter, ConvergenceWarning)\n"
          ]
        },
        {
          "output_type": "stream",
          "name": "stdout",
          "text": [
            "SVM model (c=51.000000):\n",
            "SMV model (max_iter=61.000000):\n",
            "accuracy: 0.8322612568035626\n",
            "f1 score: 0.5810404317744559\n",
            "recall: 0.678576428751435\n",
            "precision: 0.6720985836375188\n",
            "SVM model (c=31.000000):\n",
            "SMV model (max_iter=101.000000):\n",
            "accuracy: 0.8367144977733795\n",
            "f1 score: 0.5870516698660441\n",
            "recall: 0.6764763531487133\n",
            "precision: 0.6710213938457413\n"
          ]
        },
        {
          "output_type": "stream",
          "name": "stderr",
          "text": [
            "\u001b[32m[I 2022-10-04 00:04:08,396]\u001b[0m Trial 14 finished with value: 0.8367144977733795 and parameters: {'c': 31, 'max_iter': 101}. Best is trial 0 with value: 0.8941118258287977.\u001b[0m\n",
            "/usr/local/lib/python3.7/dist-packages/sklearn/svm/_base.py:258: ConvergenceWarning: Solver terminated early (max_iter=41).  Consider pre-processing your data with StandardScaler or MinMaxScaler.\n",
            "  % self.max_iter, ConvergenceWarning)\n",
            "\u001b[32m[I 2022-10-04 00:04:08,516]\u001b[0m Trial 15 finished with value: 0.7961405244928254 and parameters: {'c': 71, 'max_iter': 41}. Best is trial 0 with value: 0.8941118258287977.\u001b[0m\n",
            "/usr/local/lib/python3.7/dist-packages/sklearn/svm/_base.py:258: ConvergenceWarning: Solver terminated early (max_iter=71).  Consider pre-processing your data with StandardScaler or MinMaxScaler.\n",
            "  % self.max_iter, ConvergenceWarning)\n"
          ]
        },
        {
          "output_type": "stream",
          "name": "stdout",
          "text": [
            "SVM model (c=71.000000):\n",
            "SMV model (max_iter=41.000000):\n",
            "accuracy: 0.7961405244928254\n",
            "f1 score: 0.5389717908943051\n",
            "recall: 0.6749947186073819\n",
            "precision: 0.6724235477546735\n"
          ]
        },
        {
          "output_type": "stream",
          "name": "stderr",
          "text": [
            "\u001b[32m[I 2022-10-04 00:04:08,721]\u001b[0m Trial 16 finished with value: 0.293419099455715 and parameters: {'c': 1, 'max_iter': 71}. Best is trial 0 with value: 0.8941118258287977.\u001b[0m\n",
            "/usr/local/lib/python3.7/dist-packages/sklearn/svm/_base.py:258: ConvergenceWarning: Solver terminated early (max_iter=41).  Consider pre-processing your data with StandardScaler or MinMaxScaler.\n",
            "  % self.max_iter, ConvergenceWarning)\n",
            "\u001b[32m[I 2022-10-04 00:04:08,860]\u001b[0m Trial 17 finished with value: 0.830776843146957 and parameters: {'c': 91, 'max_iter': 41}. Best is trial 0 with value: 0.8941118258287977.\u001b[0m\n"
          ]
        },
        {
          "output_type": "stream",
          "name": "stdout",
          "text": [
            "SVM model (c=1.000000):\n",
            "SMV model (max_iter=71.000000):\n",
            "accuracy: 0.293419099455715\n",
            "f1 score: 0.2666236963174911\n",
            "recall: 0.41446033591418\n",
            "precision: 0.4348764646340564\n",
            "SVM model (c=91.000000):\n",
            "SMV model (max_iter=41.000000):\n",
            "accuracy: 0.830776843146957\n",
            "f1 score: 0.580466627314663\n",
            "recall: 0.6493779567356753\n",
            "precision: 0.6383799653231342\n"
          ]
        },
        {
          "output_type": "stream",
          "name": "stderr",
          "text": [
            "/usr/local/lib/python3.7/dist-packages/sklearn/svm/_base.py:258: ConvergenceWarning: Solver terminated early (max_iter=81).  Consider pre-processing your data with StandardScaler or MinMaxScaler.\n",
            "  % self.max_iter, ConvergenceWarning)\n",
            "\u001b[32m[I 2022-10-04 00:04:09,033]\u001b[0m Trial 18 finished with value: 0.793666501731816 and parameters: {'c': 61, 'max_iter': 81}. Best is trial 0 with value: 0.8941118258287977.\u001b[0m\n",
            "/usr/local/lib/python3.7/dist-packages/sklearn/svm/_base.py:258: ConvergenceWarning: Solver terminated early (max_iter=61).  Consider pre-processing your data with StandardScaler or MinMaxScaler.\n",
            "  % self.max_iter, ConvergenceWarning)\n",
            "\u001b[32m[I 2022-10-04 00:04:09,169]\u001b[0m Trial 19 finished with value: 0.830776843146957 and parameters: {'c': 81, 'max_iter': 61}. Best is trial 0 with value: 0.8941118258287977.\u001b[0m\n"
          ]
        },
        {
          "output_type": "stream",
          "name": "stdout",
          "text": [
            "SVM model (c=61.000000):\n",
            "SMV model (max_iter=81.000000):\n",
            "accuracy: 0.793666501731816\n",
            "f1 score: 0.512966008356414\n",
            "recall: 0.6672080194887017\n",
            "precision: 0.6668951270857605\n",
            "SVM model (c=81.000000):\n",
            "SMV model (max_iter=61.000000):\n",
            "accuracy: 0.830776843146957\n",
            "f1 score: 0.5742725051021064\n",
            "recall: 0.6528278150932115\n",
            "precision: 0.6602170175295607\n"
          ]
        },
        {
          "output_type": "stream",
          "name": "stderr",
          "text": [
            "/usr/local/lib/python3.7/dist-packages/sklearn/svm/_base.py:258: ConvergenceWarning: Solver terminated early (max_iter=101).  Consider pre-processing your data with StandardScaler or MinMaxScaler.\n",
            "  % self.max_iter, ConvergenceWarning)\n",
            "\u001b[32m[I 2022-10-04 00:04:09,356]\u001b[0m Trial 20 finished with value: 0.813953488372093 and parameters: {'c': 61, 'max_iter': 101}. Best is trial 0 with value: 0.8941118258287977.\u001b[0m\n",
            "/usr/local/lib/python3.7/dist-packages/sklearn/svm/_base.py:258: ConvergenceWarning: Solver terminated early (max_iter=71).  Consider pre-processing your data with StandardScaler or MinMaxScaler.\n",
            "  % self.max_iter, ConvergenceWarning)\n",
            "\u001b[32m[I 2022-10-04 00:04:09,521]\u001b[0m Trial 21 finished with value: 0.8827313211281543 and parameters: {'c': 61, 'max_iter': 71}. Best is trial 0 with value: 0.8941118258287977.\u001b[0m\n"
          ]
        },
        {
          "output_type": "stream",
          "name": "stdout",
          "text": [
            "SVM model (c=61.000000):\n",
            "SMV model (max_iter=101.000000):\n",
            "accuracy: 0.813953488372093\n",
            "f1 score: 0.5507656749977748\n",
            "recall: 0.6701854600098938\n",
            "precision: 0.6683882255900251\n",
            "SVM model (c=61.000000):\n",
            "SMV model (max_iter=71.000000):\n",
            "accuracy: 0.8827313211281543\n",
            "f1 score: 0.638080805439439\n",
            "recall: 0.6695601041637499\n",
            "precision: 0.6679490446450961\n"
          ]
        },
        {
          "output_type": "stream",
          "name": "stderr",
          "text": [
            "/usr/local/lib/python3.7/dist-packages/sklearn/svm/_base.py:258: ConvergenceWarning: Solver terminated early (max_iter=71).  Consider pre-processing your data with StandardScaler or MinMaxScaler.\n",
            "  % self.max_iter, ConvergenceWarning)\n",
            "\u001b[32m[I 2022-10-04 00:04:09,676]\u001b[0m Trial 22 finished with value: 0.901039089559624 and parameters: {'c': 41, 'max_iter': 71}. Best is trial 22 with value: 0.901039089559624.\u001b[0m\n",
            "/usr/local/lib/python3.7/dist-packages/sklearn/svm/_base.py:258: ConvergenceWarning: Solver terminated early (max_iter=81).  Consider pre-processing your data with StandardScaler or MinMaxScaler.\n",
            "  % self.max_iter, ConvergenceWarning)\n",
            "\u001b[32m[I 2022-10-04 00:04:09,840]\u001b[0m Trial 23 finished with value: 0.7941613062840178 and parameters: {'c': 41, 'max_iter': 81}. Best is trial 22 with value: 0.901039089559624.\u001b[0m\n"
          ]
        },
        {
          "output_type": "stream",
          "name": "stdout",
          "text": [
            "SVM model (c=41.000000):\n",
            "SMV model (max_iter=71.000000):\n",
            "accuracy: 0.901039089559624\n",
            "f1 score: 0.6510592946338105\n",
            "recall: 0.6658546374336143\n",
            "precision: 0.6662564417072369\n",
            "SVM model (c=41.000000):\n",
            "SMV model (max_iter=81.000000):\n",
            "accuracy: 0.7941613062840178\n",
            "f1 score: 0.5585582398709914\n",
            "recall: 0.651909632303547\n",
            "precision: 0.6604876589074834\n"
          ]
        },
        {
          "output_type": "stream",
          "name": "stderr",
          "text": [
            "/usr/local/lib/python3.7/dist-packages/sklearn/svm/_base.py:258: ConvergenceWarning: Solver terminated early (max_iter=61).  Consider pre-processing your data with StandardScaler or MinMaxScaler.\n",
            "  % self.max_iter, ConvergenceWarning)\n",
            "\u001b[32m[I 2022-10-04 00:04:09,995]\u001b[0m Trial 24 finished with value: 0.8446313706086096 and parameters: {'c': 31, 'max_iter': 61}. Best is trial 22 with value: 0.901039089559624.\u001b[0m\n",
            "/usr/local/lib/python3.7/dist-packages/sklearn/svm/_base.py:258: ConvergenceWarning: Solver terminated early (max_iter=41).  Consider pre-processing your data with StandardScaler or MinMaxScaler.\n",
            "  % self.max_iter, ConvergenceWarning)\n",
            "\u001b[32m[I 2022-10-04 00:04:10,116]\u001b[0m Trial 25 finished with value: 0.863928748144483 and parameters: {'c': 31, 'max_iter': 41}. Best is trial 22 with value: 0.901039089559624.\u001b[0m\n"
          ]
        },
        {
          "output_type": "stream",
          "name": "stdout",
          "text": [
            "SVM model (c=31.000000):\n",
            "SMV model (max_iter=61.000000):\n",
            "accuracy: 0.8446313706086096\n",
            "f1 score: 0.5965654406920494\n",
            "recall: 0.6709508208962189\n",
            "precision: 0.6684568914769643\n",
            "SVM model (c=31.000000):\n",
            "SMV model (max_iter=41.000000):\n",
            "accuracy: 0.863928748144483\n",
            "f1 score: 0.6189566931270254\n",
            "recall: 0.6685707352131343\n",
            "precision: 0.6674180301954497\n"
          ]
        },
        {
          "output_type": "stream",
          "name": "stderr",
          "text": [
            "/usr/local/lib/python3.7/dist-packages/sklearn/svm/_base.py:258: ConvergenceWarning: Solver terminated early (max_iter=61).  Consider pre-processing your data with StandardScaler or MinMaxScaler.\n",
            "  % self.max_iter, ConvergenceWarning)\n",
            "\u001b[32m[I 2022-10-04 00:04:10,256]\u001b[0m Trial 26 finished with value: 0.8322612568035626 and parameters: {'c': 51, 'max_iter': 61}. Best is trial 22 with value: 0.901039089559624.\u001b[0m\n",
            "/usr/local/lib/python3.7/dist-packages/sklearn/svm/_base.py:258: ConvergenceWarning: Solver terminated early (max_iter=91).  Consider pre-processing your data with StandardScaler or MinMaxScaler.\n",
            "  % self.max_iter, ConvergenceWarning)\n",
            "\u001b[32m[I 2022-10-04 00:04:10,429]\u001b[0m Trial 27 finished with value: 0.8985650667986146 and parameters: {'c': 81, 'max_iter': 91}. Best is trial 22 with value: 0.901039089559624.\u001b[0m\n"
          ]
        },
        {
          "output_type": "stream",
          "name": "stdout",
          "text": [
            "SVM model (c=51.000000):\n",
            "SMV model (max_iter=61.000000):\n",
            "accuracy: 0.8322612568035626\n",
            "f1 score: 0.5810404317744559\n",
            "recall: 0.678576428751435\n",
            "precision: 0.6720985836375188\n",
            "SVM model (c=81.000000):\n",
            "SMV model (max_iter=91.000000):\n",
            "accuracy: 0.8985650667986146\n",
            "f1 score: 0.6455226540372093\n",
            "recall: 0.6585090396587611\n",
            "precision: 0.6624721095604594\n"
          ]
        },
        {
          "output_type": "stream",
          "name": "stderr",
          "text": [
            "/usr/local/lib/python3.7/dist-packages/sklearn/svm/_base.py:258: ConvergenceWarning: Solver terminated early (max_iter=91).  Consider pre-processing your data with StandardScaler or MinMaxScaler.\n",
            "  % self.max_iter, ConvergenceWarning)\n",
            "\u001b[32m[I 2022-10-04 00:04:10,606]\u001b[0m Trial 28 finished with value: 0.8451261751608115 and parameters: {'c': 101, 'max_iter': 91}. Best is trial 22 with value: 0.901039089559624.\u001b[0m\n",
            "/usr/local/lib/python3.7/dist-packages/sklearn/svm/_base.py:258: ConvergenceWarning: Solver terminated early (max_iter=91).  Consider pre-processing your data with StandardScaler or MinMaxScaler.\n",
            "  % self.max_iter, ConvergenceWarning)\n",
            "\u001b[32m[I 2022-10-04 00:04:10,777]\u001b[0m Trial 29 finished with value: 0.8985650667986146 and parameters: {'c': 81, 'max_iter': 91}. Best is trial 22 with value: 0.901039089559624.\u001b[0m\n"
          ]
        },
        {
          "output_type": "stream",
          "name": "stdout",
          "text": [
            "SVM model (c=101.000000):\n",
            "SMV model (max_iter=91.000000):\n",
            "accuracy: 0.8451261751608115\n",
            "f1 score: 0.5943820495946334\n",
            "recall: 0.6595170759480674\n",
            "precision: 0.6634256530999646\n",
            "SVM model (c=81.000000):\n",
            "SMV model (max_iter=91.000000):\n",
            "accuracy: 0.8985650667986146\n",
            "f1 score: 0.6455226540372093\n",
            "recall: 0.6585090396587611\n",
            "precision: 0.6624721095604594\n"
          ]
        },
        {
          "output_type": "stream",
          "name": "stderr",
          "text": [
            "/usr/local/lib/python3.7/dist-packages/sklearn/svm/_base.py:258: ConvergenceWarning: Solver terminated early (max_iter=91).  Consider pre-processing your data with StandardScaler or MinMaxScaler.\n",
            "  % self.max_iter, ConvergenceWarning)\n",
            "\u001b[32m[I 2022-10-04 00:04:10,952]\u001b[0m Trial 30 finished with value: 0.8985650667986146 and parameters: {'c': 81, 'max_iter': 91}. Best is trial 22 with value: 0.901039089559624.\u001b[0m\n",
            "/usr/local/lib/python3.7/dist-packages/sklearn/svm/_base.py:258: ConvergenceWarning: Solver terminated early (max_iter=91).  Consider pre-processing your data with StandardScaler or MinMaxScaler.\n",
            "  % self.max_iter, ConvergenceWarning)\n",
            "\u001b[32m[I 2022-10-04 00:04:11,115]\u001b[0m Trial 31 finished with value: 0.8985650667986146 and parameters: {'c': 81, 'max_iter': 91}. Best is trial 22 with value: 0.901039089559624.\u001b[0m\n"
          ]
        },
        {
          "output_type": "stream",
          "name": "stdout",
          "text": [
            "SVM model (c=81.000000):\n",
            "SMV model (max_iter=91.000000):\n",
            "accuracy: 0.8985650667986146\n",
            "f1 score: 0.6455226540372093\n",
            "recall: 0.6585090396587611\n",
            "precision: 0.6624721095604594\n",
            "SVM model (c=81.000000):\n",
            "SMV model (max_iter=91.000000):\n",
            "accuracy: 0.8985650667986146\n",
            "f1 score: 0.6455226540372093\n",
            "recall: 0.6585090396587611\n",
            "precision: 0.6624721095604594\n"
          ]
        },
        {
          "output_type": "stream",
          "name": "stderr",
          "text": [
            "/usr/local/lib/python3.7/dist-packages/sklearn/svm/_base.py:258: ConvergenceWarning: Solver terminated early (max_iter=101).  Consider pre-processing your data with StandardScaler or MinMaxScaler.\n",
            "  % self.max_iter, ConvergenceWarning)\n",
            "\u001b[32m[I 2022-10-04 00:04:11,296]\u001b[0m Trial 32 finished with value: 0.8861949529935675 and parameters: {'c': 91, 'max_iter': 101}. Best is trial 22 with value: 0.901039089559624.\u001b[0m\n",
            "/usr/local/lib/python3.7/dist-packages/sklearn/svm/_base.py:258: ConvergenceWarning: Solver terminated early (max_iter=91).  Consider pre-processing your data with StandardScaler or MinMaxScaler.\n",
            "  % self.max_iter, ConvergenceWarning)\n",
            "\u001b[32m[I 2022-10-04 00:04:11,469]\u001b[0m Trial 33 finished with value: 0.8985650667986146 and parameters: {'c': 81, 'max_iter': 91}. Best is trial 22 with value: 0.901039089559624.\u001b[0m\n"
          ]
        },
        {
          "output_type": "stream",
          "name": "stdout",
          "text": [
            "SVM model (c=91.000000):\n",
            "SMV model (max_iter=101.000000):\n",
            "accuracy: 0.8861949529935675\n",
            "f1 score: 0.6379630292884512\n",
            "recall: 0.6621025023567515\n",
            "precision: 0.664491434232409\n",
            "SVM model (c=81.000000):\n",
            "SMV model (max_iter=91.000000):\n",
            "accuracy: 0.8985650667986146\n",
            "f1 score: 0.6455226540372093\n",
            "recall: 0.6585090396587611\n",
            "precision: 0.6624721095604594\n"
          ]
        },
        {
          "output_type": "stream",
          "name": "stderr",
          "text": [
            "/usr/local/lib/python3.7/dist-packages/sklearn/svm/_base.py:258: ConvergenceWarning: Solver terminated early (max_iter=81).  Consider pre-processing your data with StandardScaler or MinMaxScaler.\n",
            "  % self.max_iter, ConvergenceWarning)\n",
            "\u001b[32m[I 2022-10-04 00:04:11,638]\u001b[0m Trial 34 finished with value: 0.8787728847105394 and parameters: {'c': 91, 'max_iter': 81}. Best is trial 22 with value: 0.901039089559624.\u001b[0m\n",
            "/usr/local/lib/python3.7/dist-packages/sklearn/svm/_base.py:258: ConvergenceWarning: Solver terminated early (max_iter=91).  Consider pre-processing your data with StandardScaler or MinMaxScaler.\n",
            "  % self.max_iter, ConvergenceWarning)\n",
            "\u001b[32m[I 2022-10-04 00:04:11,809]\u001b[0m Trial 35 finished with value: 0.8451261751608115 and parameters: {'c': 101, 'max_iter': 91}. Best is trial 22 with value: 0.901039089559624.\u001b[0m\n"
          ]
        },
        {
          "output_type": "stream",
          "name": "stdout",
          "text": [
            "SVM model (c=91.000000):\n",
            "SMV model (max_iter=81.000000):\n",
            "accuracy: 0.8787728847105394\n",
            "f1 score: 0.6258294769660485\n",
            "recall: 0.6481299993466432\n",
            "precision: 0.6581279833534465\n",
            "SVM model (c=101.000000):\n",
            "SMV model (max_iter=91.000000):\n",
            "accuracy: 0.8451261751608115\n",
            "f1 score: 0.5943820495946334\n",
            "recall: 0.6595170759480674\n",
            "precision: 0.6634256530999646\n"
          ]
        },
        {
          "output_type": "stream",
          "name": "stderr",
          "text": [
            "/usr/local/lib/python3.7/dist-packages/sklearn/svm/_base.py:258: ConvergenceWarning: Solver terminated early (max_iter=101).  Consider pre-processing your data with StandardScaler or MinMaxScaler.\n",
            "  % self.max_iter, ConvergenceWarning)\n",
            "\u001b[32m[I 2022-10-04 00:04:11,992]\u001b[0m Trial 36 finished with value: 0.8367144977733795 and parameters: {'c': 71, 'max_iter': 101}. Best is trial 22 with value: 0.901039089559624.\u001b[0m\n",
            "/usr/local/lib/python3.7/dist-packages/sklearn/svm/_base.py:258: ConvergenceWarning: Solver terminated early (max_iter=81).  Consider pre-processing your data with StandardScaler or MinMaxScaler.\n",
            "  % self.max_iter, ConvergenceWarning)\n",
            "\u001b[32m[I 2022-10-04 00:04:12,151]\u001b[0m Trial 37 finished with value: 0.8476001979218208 and parameters: {'c': 81, 'max_iter': 81}. Best is trial 22 with value: 0.901039089559624.\u001b[0m\n"
          ]
        },
        {
          "output_type": "stream",
          "name": "stdout",
          "text": [
            "SVM model (c=71.000000):\n",
            "SMV model (max_iter=101.000000):\n",
            "accuracy: 0.8367144977733795\n",
            "f1 score: 0.5870516698660441\n",
            "recall: 0.6764763531487133\n",
            "precision: 0.6710213938457413\n",
            "SVM model (c=81.000000):\n",
            "SMV model (max_iter=81.000000):\n",
            "accuracy: 0.8476001979218208\n",
            "f1 score: 0.5983155453218799\n",
            "recall: 0.662830528565695\n",
            "precision: 0.6648891608169566\n"
          ]
        },
        {
          "output_type": "stream",
          "name": "stderr",
          "text": [
            "/usr/local/lib/python3.7/dist-packages/sklearn/svm/_base.py:258: ConvergenceWarning: Solver terminated early (max_iter=91).  Consider pre-processing your data with StandardScaler or MinMaxScaler.\n",
            "  % self.max_iter, ConvergenceWarning)\n",
            "\u001b[32m[I 2022-10-04 00:04:12,348]\u001b[0m Trial 38 finished with value: 0.8476001979218208 and parameters: {'c': 21, 'max_iter': 91}. Best is trial 22 with value: 0.901039089559624.\u001b[0m\n",
            "/usr/local/lib/python3.7/dist-packages/sklearn/svm/_base.py:258: ConvergenceWarning: Solver terminated early (max_iter=101).  Consider pre-processing your data with StandardScaler or MinMaxScaler.\n",
            "  % self.max_iter, ConvergenceWarning)\n"
          ]
        },
        {
          "output_type": "stream",
          "name": "stdout",
          "text": [
            "SVM model (c=21.000000):\n",
            "SMV model (max_iter=91.000000):\n",
            "accuracy: 0.8476001979218208\n",
            "f1 score: 0.601373012732629\n",
            "recall: 0.674926964037372\n",
            "precision: 0.6701977170172423\n",
            "SVM model (c=71.000000):\n",
            "SMV model (max_iter=101.000000):\n",
            "accuracy: 0.8367144977733795\n",
            "f1 score: 0.5870516698660441\n",
            "recall: 0.6764763531487133\n",
            "precision: 0.6710213938457413\n"
          ]
        },
        {
          "output_type": "stream",
          "name": "stderr",
          "text": [
            "\u001b[32m[I 2022-10-04 00:04:12,543]\u001b[0m Trial 39 finished with value: 0.8367144977733795 and parameters: {'c': 71, 'max_iter': 101}. Best is trial 22 with value: 0.901039089559624.\u001b[0m\n",
            "/usr/local/lib/python3.7/dist-packages/sklearn/svm/_base.py:258: ConvergenceWarning: Solver terminated early (max_iter=81).  Consider pre-processing your data with StandardScaler or MinMaxScaler.\n",
            "  % self.max_iter, ConvergenceWarning)\n",
            "\u001b[32m[I 2022-10-04 00:04:12,710]\u001b[0m Trial 40 finished with value: 0.7941613062840178 and parameters: {'c': 41, 'max_iter': 81}. Best is trial 22 with value: 0.901039089559624.\u001b[0m\n",
            "/usr/local/lib/python3.7/dist-packages/sklearn/svm/_base.py:258: ConvergenceWarning: Solver terminated early (max_iter=91).  Consider pre-processing your data with StandardScaler or MinMaxScaler.\n",
            "  % self.max_iter, ConvergenceWarning)\n",
            "\u001b[32m[I 2022-10-04 00:04:12,881]\u001b[0m Trial 41 finished with value: 0.8985650667986146 and parameters: {'c': 81, 'max_iter': 91}. Best is trial 22 with value: 0.901039089559624.\u001b[0m\n"
          ]
        },
        {
          "output_type": "stream",
          "name": "stdout",
          "text": [
            "SVM model (c=41.000000):\n",
            "SMV model (max_iter=81.000000):\n",
            "accuracy: 0.7941613062840178\n",
            "f1 score: 0.5585582398709914\n",
            "recall: 0.651909632303547\n",
            "precision: 0.6604876589074834\n",
            "SVM model (c=81.000000):\n",
            "SMV model (max_iter=91.000000):\n",
            "accuracy: 0.8985650667986146\n",
            "f1 score: 0.6455226540372093\n",
            "recall: 0.6585090396587611\n",
            "precision: 0.6624721095604594\n"
          ]
        },
        {
          "output_type": "stream",
          "name": "stderr",
          "text": [
            "/usr/local/lib/python3.7/dist-packages/sklearn/svm/_base.py:258: ConvergenceWarning: Solver terminated early (max_iter=91).  Consider pre-processing your data with StandardScaler or MinMaxScaler.\n",
            "  % self.max_iter, ConvergenceWarning)\n",
            "\u001b[32m[I 2022-10-04 00:04:13,055]\u001b[0m Trial 42 finished with value: 0.8198911429985156 and parameters: {'c': 91, 'max_iter': 91}. Best is trial 22 with value: 0.901039089559624.\u001b[0m\n",
            "/usr/local/lib/python3.7/dist-packages/sklearn/svm/_base.py:258: ConvergenceWarning: Solver terminated early (max_iter=71).  Consider pre-processing your data with StandardScaler or MinMaxScaler.\n",
            "  % self.max_iter, ConvergenceWarning)\n",
            "\u001b[32m[I 2022-10-04 00:04:13,206]\u001b[0m Trial 43 finished with value: 0.8421573478476002 and parameters: {'c': 101, 'max_iter': 71}. Best is trial 22 with value: 0.901039089559624.\u001b[0m\n"
          ]
        },
        {
          "output_type": "stream",
          "name": "stdout",
          "text": [
            "SVM model (c=91.000000):\n",
            "SMV model (max_iter=91.000000):\n",
            "accuracy: 0.8198911429985156\n",
            "f1 score: 0.5611578518496266\n",
            "recall: 0.6741056011349742\n",
            "precision: 0.6702794377419475\n",
            "SVM model (c=101.000000):\n",
            "SMV model (max_iter=71.000000):\n",
            "accuracy: 0.8421573478476002\n",
            "f1 score: 0.5961632658524477\n",
            "recall: 0.6742634865700593\n",
            "precision: 0.6634827842176924\n"
          ]
        },
        {
          "output_type": "stream",
          "name": "stderr",
          "text": [
            "/usr/local/lib/python3.7/dist-packages/sklearn/svm/_base.py:258: ConvergenceWarning: Solver terminated early (max_iter=91).  Consider pre-processing your data with StandardScaler or MinMaxScaler.\n",
            "  % self.max_iter, ConvergenceWarning)\n",
            "\u001b[32m[I 2022-10-04 00:04:13,384]\u001b[0m Trial 44 finished with value: 0.8985650667986146 and parameters: {'c': 81, 'max_iter': 91}. Best is trial 22 with value: 0.901039089559624.\u001b[0m\n",
            "/usr/local/lib/python3.7/dist-packages/sklearn/svm/_base.py:258: ConvergenceWarning: Solver terminated early (max_iter=81).  Consider pre-processing your data with StandardScaler or MinMaxScaler.\n",
            "  % self.max_iter, ConvergenceWarning)\n",
            "\u001b[32m[I 2022-10-04 00:04:13,556]\u001b[0m Trial 45 finished with value: 0.8189015338941118 and parameters: {'c': 71, 'max_iter': 81}. Best is trial 22 with value: 0.901039089559624.\u001b[0m\n"
          ]
        },
        {
          "output_type": "stream",
          "name": "stdout",
          "text": [
            "SVM model (c=81.000000):\n",
            "SMV model (max_iter=91.000000):\n",
            "accuracy: 0.8985650667986146\n",
            "f1 score: 0.6455226540372093\n",
            "recall: 0.6585090396587611\n",
            "precision: 0.6624721095604594\n",
            "SVM model (c=71.000000):\n",
            "SMV model (max_iter=81.000000):\n",
            "accuracy: 0.8189015338941118\n",
            "f1 score: 0.557490286997681\n",
            "recall: 0.6606837846162462\n",
            "precision: 0.6635712277180068\n"
          ]
        },
        {
          "output_type": "stream",
          "name": "stderr",
          "text": [
            "/usr/local/lib/python3.7/dist-packages/sklearn/svm/_base.py:258: ConvergenceWarning: Solver terminated early (max_iter=101).  Consider pre-processing your data with StandardScaler or MinMaxScaler.\n",
            "  % self.max_iter, ConvergenceWarning)\n",
            "\u001b[32m[I 2022-10-04 00:04:13,745]\u001b[0m Trial 46 finished with value: 0.8861949529935675 and parameters: {'c': 91, 'max_iter': 101}. Best is trial 22 with value: 0.901039089559624.\u001b[0m\n",
            "/usr/local/lib/python3.7/dist-packages/sklearn/svm/_base.py:258: ConvergenceWarning: Solver terminated early (max_iter=71).  Consider pre-processing your data with StandardScaler or MinMaxScaler.\n",
            "  % self.max_iter, ConvergenceWarning)\n",
            "\u001b[32m[I 2022-10-04 00:04:13,897]\u001b[0m Trial 47 finished with value: 0.847105393369619 and parameters: {'c': 51, 'max_iter': 71}. Best is trial 22 with value: 0.901039089559624.\u001b[0m\n"
          ]
        },
        {
          "output_type": "stream",
          "name": "stdout",
          "text": [
            "SVM model (c=91.000000):\n",
            "SMV model (max_iter=101.000000):\n",
            "accuracy: 0.8861949529935675\n",
            "f1 score: 0.6379630292884512\n",
            "recall: 0.6621025023567515\n",
            "precision: 0.664491434232409\n",
            "SVM model (c=51.000000):\n",
            "SMV model (max_iter=71.000000):\n",
            "accuracy: 0.847105393369619\n",
            "f1 score: 0.5985608125538542\n",
            "recall: 0.6661999831993951\n",
            "precision: 0.666362636107593\n"
          ]
        },
        {
          "output_type": "stream",
          "name": "stderr",
          "text": [
            "/usr/local/lib/python3.7/dist-packages/sklearn/svm/_base.py:258: ConvergenceWarning: Solver terminated early (max_iter=21).  Consider pre-processing your data with StandardScaler or MinMaxScaler.\n",
            "  % self.max_iter, ConvergenceWarning)\n",
            "\u001b[32m[I 2022-10-04 00:04:13,986]\u001b[0m Trial 48 finished with value: 0.8535378525482434 and parameters: {'c': 41, 'max_iter': 21}. Best is trial 22 with value: 0.901039089559624.\u001b[0m\n",
            "/usr/local/lib/python3.7/dist-packages/sklearn/svm/_base.py:258: ConvergenceWarning: Solver terminated early (max_iter=81).  Consider pre-processing your data with StandardScaler or MinMaxScaler.\n",
            "  % self.max_iter, ConvergenceWarning)\n",
            "\u001b[32m[I 2022-10-04 00:04:14,148]\u001b[0m Trial 49 finished with value: 0.8189015338941118 and parameters: {'c': 71, 'max_iter': 81}. Best is trial 22 with value: 0.901039089559624.\u001b[0m\n"
          ]
        },
        {
          "output_type": "stream",
          "name": "stdout",
          "text": [
            "SVM model (c=41.000000):\n",
            "SMV model (max_iter=21.000000):\n",
            "accuracy: 0.8535378525482434\n",
            "f1 score: 0.5971317868225084\n",
            "recall: 0.5874310705777438\n",
            "precision: 0.6199089095568705\n",
            "SVM model (c=71.000000):\n",
            "SMV model (max_iter=81.000000):\n",
            "accuracy: 0.8189015338941118\n",
            "f1 score: 0.557490286997681\n",
            "recall: 0.6606837846162462\n",
            "precision: 0.6635712277180068\n"
          ]
        }
      ]
    },
    {
      "cell_type": "markdown",
      "source": [
        "#### Logistic regression"
      ],
      "metadata": {
        "id": "kwLScxQAjyyl"
      }
    },
    {
      "cell_type": "code",
      "source": [
        "def Logistic(trial):\n",
        "  c = trial.suggest_int('c', 1, 2001, 100)\n",
        "  max_iter = trial.suggest_int('max_iter', 1, 1001, 100)\n",
        "  solver = trial.suggest_categorical('solver', ['sag', 'saga', 'lbfgs', 'liblinear'])\n",
        "\n",
        "  with mlflow.start_run(run_name = str('Logistic Regression')):\n",
        "    model = LogisticRegression(C = c, max_iter = max_iter, solver = solver)\n",
        "    model.fit(x_train, y_train)\n",
        "\n",
        "    y_model = model.predict(x_val)\n",
        "\n",
        "    (accuracy, f1score, recallscore, precisionscore) = eval_metrics(y_val, y_model)\n",
        "\n",
        "    print('Logistic model (c=%f):'%(c))\n",
        "    print('Logistic model (max_iter=%f):'%(max_iter))\n",
        "    print('Logistic model (solver=%s):'%(solver))    \n",
        "\n",
        "    print('accuracy: %s'%(accuracy))\n",
        "    print('f1 score: %s'%(f1score))\n",
        "    print('recall: %s'%(recallscore))\n",
        "    print('precision: %s'%(precisionscore))\n",
        "\n",
        "    mlflow.log_param(\"c\", c)\n",
        "    mlflow.log_param(\"max_iter\", max_iter)\n",
        "    mlflow.log_param(\"solver\", solver)\n",
        "\n",
        "    mlflow.log_metric(\"accuracy\", accuracy)\n",
        "    mlflow.log_metric(\"f1 score\", f1score)\n",
        "    mlflow.log_metric(\"recall\", recallscore)\n",
        "    mlflow.log_metric(\"precision\", precisionscore)\n",
        "\n",
        "    mlflow.end_run()\n",
        "\n",
        "  return accuracy"
      ],
      "metadata": {
        "id": "YUxid8vQkbOO"
      },
      "execution_count": 42,
      "outputs": []
    },
    {
      "cell_type": "code",
      "source": [
        "studyLR = optuna.create_study(direction=\"maximize\")\n",
        "studyLR.optimize(Logistic, n_trials=50)"
      ],
      "metadata": {
        "colab": {
          "base_uri": "https://localhost:8080/"
        },
        "id": "uTseLHQ7lXAN",
        "outputId": "859758fe-07c5-4d4e-946d-4ada9a2ef645"
      },
      "execution_count": 43,
      "outputs": [
        {
          "output_type": "stream",
          "name": "stderr",
          "text": [
            "\u001b[32m[I 2022-10-04 00:04:14,176]\u001b[0m A new study created in memory with name: no-name-649f790d-109b-4b19-81ac-5514ddba4cb4\u001b[0m\n",
            "/usr/local/lib/python3.7/dist-packages/sklearn/linear_model/_logistic.py:765: ConvergenceWarning: lbfgs failed to converge (status=1):\n",
            "STOP: TOTAL NO. of ITERATIONS REACHED LIMIT.\n",
            "\n",
            "Increase the number of iterations (max_iter) or scale the data as shown in:\n",
            "    https://scikit-learn.org/stable/modules/preprocessing.html\n",
            "Please also refer to the documentation for alternative solver options:\n",
            "    https://scikit-learn.org/stable/modules/linear_model.html#logistic-regression\n",
            "  extra_warning_msg=_LOGISTIC_SOLVER_CONVERGENCE_MSG)\n",
            "/usr/local/lib/python3.7/dist-packages/sklearn/metrics/_classification.py:1248: UndefinedMetricWarning: Precision is ill-defined and being set to 0.0 in labels with no predicted samples. Use `zero_division` parameter to control this behavior.\n",
            "  _warn_prf(average, modifier, msg_start, len(result))\n",
            "\u001b[32m[I 2022-10-04 00:04:15,962]\u001b[0m Trial 0 finished with value: 0.9648688767936665 and parameters: {'c': 501, 'max_iter': 501, 'solver': 'lbfgs'}. Best is trial 0 with value: 0.9648688767936665.\u001b[0m\n"
          ]
        },
        {
          "output_type": "stream",
          "name": "stdout",
          "text": [
            "Logistic model (c=501.000000):\n",
            "Logistic model (max_iter=501.000000):\n",
            "Logistic model (solver=lbfgs):\n",
            "accuracy: 0.9648688767936665\n",
            "f1 score: 0.6448662715916217\n",
            "recall: 0.6666666666666666\n",
            "precision: 0.6257151144665246\n"
          ]
        },
        {
          "output_type": "stream",
          "name": "stderr",
          "text": [
            "/usr/local/lib/python3.7/dist-packages/sklearn/linear_model/_logistic.py:765: ConvergenceWarning: lbfgs failed to converge (status=1):\n",
            "STOP: TOTAL NO. of ITERATIONS REACHED LIMIT.\n",
            "\n",
            "Increase the number of iterations (max_iter) or scale the data as shown in:\n",
            "    https://scikit-learn.org/stable/modules/preprocessing.html\n",
            "Please also refer to the documentation for alternative solver options:\n",
            "    https://scikit-learn.org/stable/modules/linear_model.html#logistic-regression\n",
            "  extra_warning_msg=_LOGISTIC_SOLVER_CONVERGENCE_MSG)\n",
            "/usr/local/lib/python3.7/dist-packages/sklearn/metrics/_classification.py:1248: UndefinedMetricWarning: Precision is ill-defined and being set to 0.0 in labels with no predicted samples. Use `zero_division` parameter to control this behavior.\n",
            "  _warn_prf(average, modifier, msg_start, len(result))\n",
            "\u001b[32m[I 2022-10-04 00:04:18,107]\u001b[0m Trial 1 finished with value: 0.9643740722414647 and parameters: {'c': 1801, 'max_iter': 601, 'solver': 'lbfgs'}. Best is trial 0 with value: 0.9648688767936665.\u001b[0m\n"
          ]
        },
        {
          "output_type": "stream",
          "name": "stdout",
          "text": [
            "Logistic model (c=1801.000000):\n",
            "Logistic model (max_iter=601.000000):\n",
            "Logistic model (solver=lbfgs):\n",
            "accuracy: 0.9643740722414647\n",
            "f1 score: 0.6444209602124288\n",
            "recall: 0.6660039761431412\n",
            "precision: 0.6254140384575168\n"
          ]
        },
        {
          "output_type": "stream",
          "name": "stderr",
          "text": [
            "/usr/local/lib/python3.7/dist-packages/sklearn/linear_model/_logistic.py:765: ConvergenceWarning: lbfgs failed to converge (status=1):\n",
            "STOP: TOTAL NO. of ITERATIONS REACHED LIMIT.\n",
            "\n",
            "Increase the number of iterations (max_iter) or scale the data as shown in:\n",
            "    https://scikit-learn.org/stable/modules/preprocessing.html\n",
            "Please also refer to the documentation for alternative solver options:\n",
            "    https://scikit-learn.org/stable/modules/linear_model.html#logistic-regression\n",
            "  extra_warning_msg=_LOGISTIC_SOLVER_CONVERGENCE_MSG)\n",
            "/usr/local/lib/python3.7/dist-packages/sklearn/metrics/_classification.py:1248: UndefinedMetricWarning: Precision is ill-defined and being set to 0.0 in labels with no predicted samples. Use `zero_division` parameter to control this behavior.\n",
            "  _warn_prf(average, modifier, msg_start, len(result))\n",
            "\u001b[32m[I 2022-10-04 00:04:19,882]\u001b[0m Trial 2 finished with value: 0.9648688767936665 and parameters: {'c': 501, 'max_iter': 501, 'solver': 'lbfgs'}. Best is trial 0 with value: 0.9648688767936665.\u001b[0m\n"
          ]
        },
        {
          "output_type": "stream",
          "name": "stdout",
          "text": [
            "Logistic model (c=501.000000):\n",
            "Logistic model (max_iter=501.000000):\n",
            "Logistic model (solver=lbfgs):\n",
            "accuracy: 0.9648688767936665\n",
            "f1 score: 0.6448662715916217\n",
            "recall: 0.6666666666666666\n",
            "precision: 0.6257151144665246\n"
          ]
        },
        {
          "output_type": "stream",
          "name": "stderr",
          "text": [
            "/usr/local/lib/python3.7/dist-packages/sklearn/metrics/_classification.py:1248: UndefinedMetricWarning: Precision is ill-defined and being set to 0.0 in labels with no predicted samples. Use `zero_division` parameter to control this behavior.\n",
            "  _warn_prf(average, modifier, msg_start, len(result))\n",
            "\u001b[32m[I 2022-10-04 00:04:20,165]\u001b[0m Trial 3 finished with value: 0.9648688767936665 and parameters: {'c': 901, 'max_iter': 901, 'solver': 'liblinear'}. Best is trial 0 with value: 0.9648688767936665.\u001b[0m\n"
          ]
        },
        {
          "output_type": "stream",
          "name": "stdout",
          "text": [
            "Logistic model (c=901.000000):\n",
            "Logistic model (max_iter=901.000000):\n",
            "Logistic model (solver=liblinear):\n",
            "accuracy: 0.9648688767936665\n",
            "f1 score: 0.644692045806252\n",
            "recall: 0.6666666666666666\n",
            "precision: 0.6254355400696864\n"
          ]
        },
        {
          "output_type": "stream",
          "name": "stderr",
          "text": [
            "/usr/local/lib/python3.7/dist-packages/sklearn/linear_model/_logistic.py:765: ConvergenceWarning: lbfgs failed to converge (status=1):\n",
            "STOP: TOTAL NO. of ITERATIONS REACHED LIMIT.\n",
            "\n",
            "Increase the number of iterations (max_iter) or scale the data as shown in:\n",
            "    https://scikit-learn.org/stable/modules/preprocessing.html\n",
            "Please also refer to the documentation for alternative solver options:\n",
            "    https://scikit-learn.org/stable/modules/linear_model.html#logistic-regression\n",
            "  extra_warning_msg=_LOGISTIC_SOLVER_CONVERGENCE_MSG)\n",
            "\u001b[32m[I 2022-10-04 00:04:20,559]\u001b[0m Trial 4 finished with value: 0.9648688767936665 and parameters: {'c': 301, 'max_iter': 101, 'solver': 'lbfgs'}. Best is trial 0 with value: 0.9648688767936665.\u001b[0m\n"
          ]
        },
        {
          "output_type": "stream",
          "name": "stdout",
          "text": [
            "Logistic model (c=301.000000):\n",
            "Logistic model (max_iter=101.000000):\n",
            "Logistic model (solver=lbfgs):\n",
            "accuracy: 0.9648688767936665\n",
            "f1 score: 0.6537952810021733\n",
            "recall: 0.6706988118238923\n",
            "precision: 0.9589772566291903\n"
          ]
        },
        {
          "output_type": "stream",
          "name": "stderr",
          "text": [
            "/usr/local/lib/python3.7/dist-packages/sklearn/linear_model/_logistic.py:765: ConvergenceWarning: lbfgs failed to converge (status=1):\n",
            "STOP: TOTAL NO. of ITERATIONS REACHED LIMIT.\n",
            "\n",
            "Increase the number of iterations (max_iter) or scale the data as shown in:\n",
            "    https://scikit-learn.org/stable/modules/preprocessing.html\n",
            "Please also refer to the documentation for alternative solver options:\n",
            "    https://scikit-learn.org/stable/modules/linear_model.html#logistic-regression\n",
            "  extra_warning_msg=_LOGISTIC_SOLVER_CONVERGENCE_MSG)\n",
            "\u001b[32m[I 2022-10-04 00:04:20,973]\u001b[0m Trial 5 finished with value: 0.9643740722414647 and parameters: {'c': 901, 'max_iter': 101, 'solver': 'lbfgs'}. Best is trial 0 with value: 0.9648688767936665.\u001b[0m\n",
            "/usr/local/lib/python3.7/dist-packages/sklearn/svm/_base.py:986: ConvergenceWarning: Liblinear failed to converge, increase the number of iterations.\n",
            "  \"the number of iterations.\", ConvergenceWarning)\n",
            "/usr/local/lib/python3.7/dist-packages/sklearn/metrics/_classification.py:1248: UndefinedMetricWarning: Precision is ill-defined and being set to 0.0 in labels with no predicted samples. Use `zero_division` parameter to control this behavior.\n",
            "  _warn_prf(average, modifier, msg_start, len(result))\n",
            "\u001b[32m[I 2022-10-04 00:04:21,036]\u001b[0m Trial 6 finished with value: 0.7159821870361207 and parameters: {'c': 801, 'max_iter': 1, 'solver': 'liblinear'}. Best is trial 0 with value: 0.9648688767936665.\u001b[0m\n"
          ]
        },
        {
          "output_type": "stream",
          "name": "stdout",
          "text": [
            "Logistic model (c=901.000000):\n",
            "Logistic model (max_iter=101.000000):\n",
            "Logistic model (solver=lbfgs):\n",
            "accuracy: 0.9643740722414647\n",
            "f1 score: 0.6533375769951235\n",
            "recall: 0.6700361213003668\n",
            "precision: 0.7922391494357416\n",
            "Logistic model (c=801.000000):\n",
            "Logistic model (max_iter=1.000000):\n",
            "Logistic model (solver=liblinear):\n",
            "accuracy: 0.7159821870361207\n",
            "f1 score: 0.27816224529027295\n",
            "recall: 0.3333333333333333\n",
            "precision: 0.23866072901204025\n"
          ]
        },
        {
          "output_type": "stream",
          "name": "stderr",
          "text": [
            "/usr/local/lib/python3.7/dist-packages/sklearn/metrics/_classification.py:1248: UndefinedMetricWarning: Precision is ill-defined and being set to 0.0 in labels with no predicted samples. Use `zero_division` parameter to control this behavior.\n",
            "  _warn_prf(average, modifier, msg_start, len(result))\n",
            "\u001b[32m[I 2022-10-04 00:04:21,297]\u001b[0m Trial 7 finished with value: 0.9648688767936665 and parameters: {'c': 301, 'max_iter': 301, 'solver': 'liblinear'}. Best is trial 0 with value: 0.9648688767936665.\u001b[0m\n"
          ]
        },
        {
          "output_type": "stream",
          "name": "stdout",
          "text": [
            "Logistic model (c=301.000000):\n",
            "Logistic model (max_iter=301.000000):\n",
            "Logistic model (solver=liblinear):\n",
            "accuracy: 0.9648688767936665\n",
            "f1 score: 0.644692045806252\n",
            "recall: 0.6666666666666666\n",
            "precision: 0.6254355400696864\n"
          ]
        },
        {
          "output_type": "stream",
          "name": "stderr",
          "text": [
            "/usr/local/lib/python3.7/dist-packages/sklearn/linear_model/_sag.py:329: ConvergenceWarning: The max_iter was reached which means the coef_ did not converge\n",
            "  \"the coef_ did not converge\", ConvergenceWarning)\n",
            "/usr/local/lib/python3.7/dist-packages/sklearn/metrics/_classification.py:1248: UndefinedMetricWarning: Precision is ill-defined and being set to 0.0 in labels with no predicted samples. Use `zero_division` parameter to control this behavior.\n",
            "  _warn_prf(average, modifier, msg_start, len(result))\n",
            "\u001b[32m[I 2022-10-04 00:04:21,653]\u001b[0m Trial 8 finished with value: 0.9643740722414647 and parameters: {'c': 101, 'max_iter': 101, 'solver': 'sag'}. Best is trial 0 with value: 0.9648688767936665.\u001b[0m\n"
          ]
        },
        {
          "output_type": "stream",
          "name": "stdout",
          "text": [
            "Logistic model (c=101.000000):\n",
            "Logistic model (max_iter=101.000000):\n",
            "Logistic model (solver=sag):\n",
            "accuracy: 0.9643740722414647\n",
            "f1 score: 0.6442466929051284\n",
            "recall: 0.6660039761431412\n",
            "precision: 0.6251333809004979\n"
          ]
        },
        {
          "output_type": "stream",
          "name": "stderr",
          "text": [
            "/usr/local/lib/python3.7/dist-packages/sklearn/linear_model/_sag.py:329: ConvergenceWarning: The max_iter was reached which means the coef_ did not converge\n",
            "  \"the coef_ did not converge\", ConvergenceWarning)\n",
            "/usr/local/lib/python3.7/dist-packages/sklearn/metrics/_classification.py:1248: UndefinedMetricWarning: Precision is ill-defined and being set to 0.0 in labels with no predicted samples. Use `zero_division` parameter to control this behavior.\n",
            "  _warn_prf(average, modifier, msg_start, len(result))\n",
            "\u001b[32m[I 2022-10-04 00:04:24,199]\u001b[0m Trial 9 finished with value: 0.9643740722414647 and parameters: {'c': 1801, 'max_iter': 801, 'solver': 'sag'}. Best is trial 0 with value: 0.9648688767936665.\u001b[0m\n"
          ]
        },
        {
          "output_type": "stream",
          "name": "stdout",
          "text": [
            "Logistic model (c=1801.000000):\n",
            "Logistic model (max_iter=801.000000):\n",
            "Logistic model (solver=sag):\n",
            "accuracy: 0.9643740722414647\n",
            "f1 score: 0.6442466929051284\n",
            "recall: 0.6660039761431412\n",
            "precision: 0.6251333809004979\n"
          ]
        },
        {
          "output_type": "stream",
          "name": "stderr",
          "text": [
            "/usr/local/lib/python3.7/dist-packages/sklearn/linear_model/_sag.py:329: ConvergenceWarning: The max_iter was reached which means the coef_ did not converge\n",
            "  \"the coef_ did not converge\", ConvergenceWarning)\n",
            "/usr/local/lib/python3.7/dist-packages/sklearn/metrics/_classification.py:1248: UndefinedMetricWarning: Precision is ill-defined and being set to 0.0 in labels with no predicted samples. Use `zero_division` parameter to control this behavior.\n",
            "  _warn_prf(average, modifier, msg_start, len(result))\n",
            "\u001b[32m[I 2022-10-04 00:04:26,041]\u001b[0m Trial 10 finished with value: 0.9643740722414647 and parameters: {'c': 1401, 'max_iter': 501, 'solver': 'saga'}. Best is trial 0 with value: 0.9648688767936665.\u001b[0m\n"
          ]
        },
        {
          "output_type": "stream",
          "name": "stdout",
          "text": [
            "Logistic model (c=1401.000000):\n",
            "Logistic model (max_iter=501.000000):\n",
            "Logistic model (solver=saga):\n",
            "accuracy: 0.9643740722414647\n",
            "f1 score: 0.6442466929051284\n",
            "recall: 0.6660039761431412\n",
            "precision: 0.6251333809004979\n"
          ]
        },
        {
          "output_type": "stream",
          "name": "stderr",
          "text": [
            "/usr/local/lib/python3.7/dist-packages/sklearn/linear_model/_logistic.py:765: ConvergenceWarning: lbfgs failed to converge (status=1):\n",
            "STOP: TOTAL NO. of ITERATIONS REACHED LIMIT.\n",
            "\n",
            "Increase the number of iterations (max_iter) or scale the data as shown in:\n",
            "    https://scikit-learn.org/stable/modules/preprocessing.html\n",
            "Please also refer to the documentation for alternative solver options:\n",
            "    https://scikit-learn.org/stable/modules/linear_model.html#logistic-regression\n",
            "  extra_warning_msg=_LOGISTIC_SOLVER_CONVERGENCE_MSG)\n",
            "/usr/local/lib/python3.7/dist-packages/sklearn/metrics/_classification.py:1248: UndefinedMetricWarning: Precision is ill-defined and being set to 0.0 in labels with no predicted samples. Use `zero_division` parameter to control this behavior.\n",
            "  _warn_prf(average, modifier, msg_start, len(result))\n",
            "\u001b[32m[I 2022-10-04 00:04:27,794]\u001b[0m Trial 11 finished with value: 0.9643740722414647 and parameters: {'c': 601, 'max_iter': 501, 'solver': 'lbfgs'}. Best is trial 0 with value: 0.9648688767936665.\u001b[0m\n"
          ]
        },
        {
          "output_type": "stream",
          "name": "stdout",
          "text": [
            "Logistic model (c=601.000000):\n",
            "Logistic model (max_iter=501.000000):\n",
            "Logistic model (solver=lbfgs):\n",
            "accuracy: 0.9643740722414647\n",
            "f1 score: 0.6444209602124288\n",
            "recall: 0.6660039761431412\n",
            "precision: 0.6254140384575168\n"
          ]
        },
        {
          "output_type": "stream",
          "name": "stderr",
          "text": [
            "/usr/local/lib/python3.7/dist-packages/sklearn/linear_model/_logistic.py:765: ConvergenceWarning: lbfgs failed to converge (status=1):\n",
            "STOP: TOTAL NO. of ITERATIONS REACHED LIMIT.\n",
            "\n",
            "Increase the number of iterations (max_iter) or scale the data as shown in:\n",
            "    https://scikit-learn.org/stable/modules/preprocessing.html\n",
            "Please also refer to the documentation for alternative solver options:\n",
            "    https://scikit-learn.org/stable/modules/linear_model.html#logistic-regression\n",
            "  extra_warning_msg=_LOGISTIC_SOLVER_CONVERGENCE_MSG)\n",
            "/usr/local/lib/python3.7/dist-packages/sklearn/metrics/_classification.py:1248: UndefinedMetricWarning: Precision is ill-defined and being set to 0.0 in labels with no predicted samples. Use `zero_division` parameter to control this behavior.\n",
            "  _warn_prf(average, modifier, msg_start, len(result))\n",
            "\u001b[32m[I 2022-10-04 00:04:30,230]\u001b[0m Trial 12 finished with value: 0.9643740722414647 and parameters: {'c': 501, 'max_iter': 701, 'solver': 'lbfgs'}. Best is trial 0 with value: 0.9648688767936665.\u001b[0m\n"
          ]
        },
        {
          "output_type": "stream",
          "name": "stdout",
          "text": [
            "Logistic model (c=501.000000):\n",
            "Logistic model (max_iter=701.000000):\n",
            "Logistic model (solver=lbfgs):\n",
            "accuracy: 0.9643740722414647\n",
            "f1 score: 0.6444209602124288\n",
            "recall: 0.6660039761431412\n",
            "precision: 0.6254140384575168\n"
          ]
        },
        {
          "output_type": "stream",
          "name": "stderr",
          "text": [
            "/usr/local/lib/python3.7/dist-packages/sklearn/linear_model/_sag.py:329: ConvergenceWarning: The max_iter was reached which means the coef_ did not converge\n",
            "  \"the coef_ did not converge\", ConvergenceWarning)\n",
            "/usr/local/lib/python3.7/dist-packages/sklearn/metrics/_classification.py:1248: UndefinedMetricWarning: Precision is ill-defined and being set to 0.0 in labels with no predicted samples. Use `zero_division` parameter to control this behavior.\n",
            "  _warn_prf(average, modifier, msg_start, len(result))\n",
            "\u001b[32m[I 2022-10-04 00:04:31,747]\u001b[0m Trial 13 finished with value: 0.9643740722414647 and parameters: {'c': 1301, 'max_iter': 401, 'solver': 'saga'}. Best is trial 0 with value: 0.9648688767936665.\u001b[0m\n"
          ]
        },
        {
          "output_type": "stream",
          "name": "stdout",
          "text": [
            "Logistic model (c=1301.000000):\n",
            "Logistic model (max_iter=401.000000):\n",
            "Logistic model (solver=saga):\n",
            "accuracy: 0.9643740722414647\n",
            "f1 score: 0.6442466929051284\n",
            "recall: 0.6660039761431412\n",
            "precision: 0.6251333809004979\n"
          ]
        },
        {
          "output_type": "stream",
          "name": "stderr",
          "text": [
            "/usr/local/lib/python3.7/dist-packages/sklearn/linear_model/_logistic.py:765: ConvergenceWarning: lbfgs failed to converge (status=1):\n",
            "STOP: TOTAL NO. of ITERATIONS REACHED LIMIT.\n",
            "\n",
            "Increase the number of iterations (max_iter) or scale the data as shown in:\n",
            "    https://scikit-learn.org/stable/modules/preprocessing.html\n",
            "Please also refer to the documentation for alternative solver options:\n",
            "    https://scikit-learn.org/stable/modules/linear_model.html#logistic-regression\n",
            "  extra_warning_msg=_LOGISTIC_SOLVER_CONVERGENCE_MSG)\n",
            "/usr/local/lib/python3.7/dist-packages/sklearn/metrics/_classification.py:1248: UndefinedMetricWarning: Precision is ill-defined and being set to 0.0 in labels with no predicted samples. Use `zero_division` parameter to control this behavior.\n",
            "  _warn_prf(average, modifier, msg_start, len(result))\n",
            "\u001b[32m[I 2022-10-04 00:04:32,819]\u001b[0m Trial 14 finished with value: 0.9643740722414647 and parameters: {'c': 1, 'max_iter': 301, 'solver': 'lbfgs'}. Best is trial 0 with value: 0.9648688767936665.\u001b[0m\n"
          ]
        },
        {
          "output_type": "stream",
          "name": "stdout",
          "text": [
            "Logistic model (c=1.000000):\n",
            "Logistic model (max_iter=301.000000):\n",
            "Logistic model (solver=lbfgs):\n",
            "accuracy: 0.9643740722414647\n",
            "f1 score: 0.6442466929051284\n",
            "recall: 0.6660039761431412\n",
            "precision: 0.6251333809004979\n"
          ]
        },
        {
          "output_type": "stream",
          "name": "stderr",
          "text": [
            "/usr/local/lib/python3.7/dist-packages/sklearn/linear_model/_logistic.py:765: ConvergenceWarning: lbfgs failed to converge (status=1):\n",
            "STOP: TOTAL NO. of ITERATIONS REACHED LIMIT.\n",
            "\n",
            "Increase the number of iterations (max_iter) or scale the data as shown in:\n",
            "    https://scikit-learn.org/stable/modules/preprocessing.html\n",
            "Please also refer to the documentation for alternative solver options:\n",
            "    https://scikit-learn.org/stable/modules/linear_model.html#logistic-regression\n",
            "  extra_warning_msg=_LOGISTIC_SOLVER_CONVERGENCE_MSG)\n",
            "/usr/local/lib/python3.7/dist-packages/sklearn/metrics/_classification.py:1248: UndefinedMetricWarning: Precision is ill-defined and being set to 0.0 in labels with no predicted samples. Use `zero_division` parameter to control this behavior.\n",
            "  _warn_prf(average, modifier, msg_start, len(result))\n",
            "\u001b[32m[I 2022-10-04 00:04:36,311]\u001b[0m Trial 15 finished with value: 0.9648688767936665 and parameters: {'c': 601, 'max_iter': 1001, 'solver': 'lbfgs'}. Best is trial 0 with value: 0.9648688767936665.\u001b[0m\n"
          ]
        },
        {
          "output_type": "stream",
          "name": "stdout",
          "text": [
            "Logistic model (c=601.000000):\n",
            "Logistic model (max_iter=1001.000000):\n",
            "Logistic model (solver=lbfgs):\n",
            "accuracy: 0.9648688767936665\n",
            "f1 score: 0.6448662715916217\n",
            "recall: 0.6666666666666666\n",
            "precision: 0.6257151144665246\n"
          ]
        },
        {
          "output_type": "stream",
          "name": "stderr",
          "text": [
            "/usr/local/lib/python3.7/dist-packages/sklearn/linear_model/_logistic.py:765: ConvergenceWarning: lbfgs failed to converge (status=1):\n",
            "STOP: TOTAL NO. of ITERATIONS REACHED LIMIT.\n",
            "\n",
            "Increase the number of iterations (max_iter) or scale the data as shown in:\n",
            "    https://scikit-learn.org/stable/modules/preprocessing.html\n",
            "Please also refer to the documentation for alternative solver options:\n",
            "    https://scikit-learn.org/stable/modules/linear_model.html#logistic-regression\n",
            "  extra_warning_msg=_LOGISTIC_SOLVER_CONVERGENCE_MSG)\n",
            "/usr/local/lib/python3.7/dist-packages/sklearn/metrics/_classification.py:1248: UndefinedMetricWarning: Precision is ill-defined and being set to 0.0 in labels with no predicted samples. Use `zero_division` parameter to control this behavior.\n",
            "  _warn_prf(average, modifier, msg_start, len(result))\n",
            "\u001b[32m[I 2022-10-04 00:04:38,793]\u001b[0m Trial 16 finished with value: 0.9643740722414647 and parameters: {'c': 1201, 'max_iter': 701, 'solver': 'lbfgs'}. Best is trial 0 with value: 0.9648688767936665.\u001b[0m\n"
          ]
        },
        {
          "output_type": "stream",
          "name": "stdout",
          "text": [
            "Logistic model (c=1201.000000):\n",
            "Logistic model (max_iter=701.000000):\n",
            "Logistic model (solver=lbfgs):\n",
            "accuracy: 0.9643740722414647\n",
            "f1 score: 0.6444209602124288\n",
            "recall: 0.6660039761431412\n",
            "precision: 0.6254140384575168\n"
          ]
        },
        {
          "output_type": "stream",
          "name": "stderr",
          "text": [
            "/usr/local/lib/python3.7/dist-packages/sklearn/linear_model/_sag.py:329: ConvergenceWarning: The max_iter was reached which means the coef_ did not converge\n",
            "  \"the coef_ did not converge\", ConvergenceWarning)\n",
            "/usr/local/lib/python3.7/dist-packages/sklearn/metrics/_classification.py:1248: UndefinedMetricWarning: Precision is ill-defined and being set to 0.0 in labels with no predicted samples. Use `zero_division` parameter to control this behavior.\n",
            "  _warn_prf(average, modifier, msg_start, len(result))\n",
            "\u001b[32m[I 2022-10-04 00:04:40,001]\u001b[0m Trial 17 finished with value: 0.9643740722414647 and parameters: {'c': 301, 'max_iter': 301, 'solver': 'saga'}. Best is trial 0 with value: 0.9648688767936665.\u001b[0m\n"
          ]
        },
        {
          "output_type": "stream",
          "name": "stdout",
          "text": [
            "Logistic model (c=301.000000):\n",
            "Logistic model (max_iter=301.000000):\n",
            "Logistic model (solver=saga):\n",
            "accuracy: 0.9643740722414647\n",
            "f1 score: 0.6442466929051284\n",
            "recall: 0.6660039761431412\n",
            "precision: 0.6251333809004979\n"
          ]
        },
        {
          "output_type": "stream",
          "name": "stderr",
          "text": [
            "/usr/local/lib/python3.7/dist-packages/sklearn/linear_model/_sag.py:329: ConvergenceWarning: The max_iter was reached which means the coef_ did not converge\n",
            "  \"the coef_ did not converge\", ConvergenceWarning)\n",
            "/usr/local/lib/python3.7/dist-packages/sklearn/metrics/_classification.py:1248: UndefinedMetricWarning: Precision is ill-defined and being set to 0.0 in labels with no predicted samples. Use `zero_division` parameter to control this behavior.\n",
            "  _warn_prf(average, modifier, msg_start, len(result))\n",
            "\u001b[32m[I 2022-10-04 00:04:43,138]\u001b[0m Trial 18 finished with value: 0.9643740722414647 and parameters: {'c': 701, 'max_iter': 1001, 'solver': 'sag'}. Best is trial 0 with value: 0.9648688767936665.\u001b[0m\n"
          ]
        },
        {
          "output_type": "stream",
          "name": "stdout",
          "text": [
            "Logistic model (c=701.000000):\n",
            "Logistic model (max_iter=1001.000000):\n",
            "Logistic model (solver=sag):\n",
            "accuracy: 0.9643740722414647\n",
            "f1 score: 0.6442466929051284\n",
            "recall: 0.6660039761431412\n",
            "precision: 0.6251333809004979\n"
          ]
        },
        {
          "output_type": "stream",
          "name": "stderr",
          "text": [
            "/usr/local/lib/python3.7/dist-packages/sklearn/linear_model/_logistic.py:765: ConvergenceWarning: lbfgs failed to converge (status=1):\n",
            "STOP: TOTAL NO. of ITERATIONS REACHED LIMIT.\n",
            "\n",
            "Increase the number of iterations (max_iter) or scale the data as shown in:\n",
            "    https://scikit-learn.org/stable/modules/preprocessing.html\n",
            "Please also refer to the documentation for alternative solver options:\n",
            "    https://scikit-learn.org/stable/modules/linear_model.html#logistic-regression\n",
            "  extra_warning_msg=_LOGISTIC_SOLVER_CONVERGENCE_MSG)\n",
            "/usr/local/lib/python3.7/dist-packages/sklearn/metrics/_classification.py:1248: UndefinedMetricWarning: Precision is ill-defined and being set to 0.0 in labels with no predicted samples. Use `zero_division` parameter to control this behavior.\n",
            "  _warn_prf(average, modifier, msg_start, len(result))\n",
            "\u001b[32m[I 2022-10-04 00:04:44,904]\u001b[0m Trial 19 finished with value: 0.9643740722414647 and parameters: {'c': 1101, 'max_iter': 501, 'solver': 'lbfgs'}. Best is trial 0 with value: 0.9648688767936665.\u001b[0m\n"
          ]
        },
        {
          "output_type": "stream",
          "name": "stdout",
          "text": [
            "Logistic model (c=1101.000000):\n",
            "Logistic model (max_iter=501.000000):\n",
            "Logistic model (solver=lbfgs):\n",
            "accuracy: 0.9643740722414647\n",
            "f1 score: 0.6444209602124288\n",
            "recall: 0.6660039761431412\n",
            "precision: 0.6254140384575168\n"
          ]
        },
        {
          "output_type": "stream",
          "name": "stderr",
          "text": [
            "/usr/local/lib/python3.7/dist-packages/sklearn/linear_model/_logistic.py:765: ConvergenceWarning: lbfgs failed to converge (status=1):\n",
            "STOP: TOTAL NO. of ITERATIONS REACHED LIMIT.\n",
            "\n",
            "Increase the number of iterations (max_iter) or scale the data as shown in:\n",
            "    https://scikit-learn.org/stable/modules/preprocessing.html\n",
            "Please also refer to the documentation for alternative solver options:\n",
            "    https://scikit-learn.org/stable/modules/linear_model.html#logistic-regression\n",
            "  extra_warning_msg=_LOGISTIC_SOLVER_CONVERGENCE_MSG)\n",
            "/usr/local/lib/python3.7/dist-packages/sklearn/metrics/_classification.py:1248: UndefinedMetricWarning: Precision is ill-defined and being set to 0.0 in labels with no predicted samples. Use `zero_division` parameter to control this behavior.\n",
            "  _warn_prf(average, modifier, msg_start, len(result))\n",
            "\u001b[32m[I 2022-10-04 00:04:47,383]\u001b[0m Trial 20 finished with value: 0.9648688767936665 and parameters: {'c': 1501, 'max_iter': 701, 'solver': 'lbfgs'}. Best is trial 0 with value: 0.9648688767936665.\u001b[0m\n"
          ]
        },
        {
          "output_type": "stream",
          "name": "stdout",
          "text": [
            "Logistic model (c=1501.000000):\n",
            "Logistic model (max_iter=701.000000):\n",
            "Logistic model (solver=lbfgs):\n",
            "accuracy: 0.9648688767936665\n",
            "f1 score: 0.644692045806252\n",
            "recall: 0.6666666666666666\n",
            "precision: 0.6254355400696864\n"
          ]
        },
        {
          "output_type": "stream",
          "name": "stderr",
          "text": [
            "/usr/local/lib/python3.7/dist-packages/sklearn/metrics/_classification.py:1248: UndefinedMetricWarning: Precision is ill-defined and being set to 0.0 in labels with no predicted samples. Use `zero_division` parameter to control this behavior.\n",
            "  _warn_prf(average, modifier, msg_start, len(result))\n",
            "\u001b[32m[I 2022-10-04 00:04:47,666]\u001b[0m Trial 21 finished with value: 0.9648688767936665 and parameters: {'c': 301, 'max_iter': 301, 'solver': 'liblinear'}. Best is trial 0 with value: 0.9648688767936665.\u001b[0m\n"
          ]
        },
        {
          "output_type": "stream",
          "name": "stdout",
          "text": [
            "Logistic model (c=301.000000):\n",
            "Logistic model (max_iter=301.000000):\n",
            "Logistic model (solver=liblinear):\n",
            "accuracy: 0.9648688767936665\n",
            "f1 score: 0.644692045806252\n",
            "recall: 0.6666666666666666\n",
            "precision: 0.6254355400696864\n"
          ]
        },
        {
          "output_type": "stream",
          "name": "stderr",
          "text": [
            "/usr/local/lib/python3.7/dist-packages/sklearn/linear_model/_logistic.py:765: ConvergenceWarning: lbfgs failed to converge (status=1):\n",
            "STOP: TOTAL NO. of ITERATIONS REACHED LIMIT.\n",
            "\n",
            "Increase the number of iterations (max_iter) or scale the data as shown in:\n",
            "    https://scikit-learn.org/stable/modules/preprocessing.html\n",
            "Please also refer to the documentation for alternative solver options:\n",
            "    https://scikit-learn.org/stable/modules/linear_model.html#logistic-regression\n",
            "  extra_warning_msg=_LOGISTIC_SOLVER_CONVERGENCE_MSG)\n",
            "/usr/local/lib/python3.7/dist-packages/sklearn/metrics/_classification.py:1248: UndefinedMetricWarning: Precision is ill-defined and being set to 0.0 in labels with no predicted samples. Use `zero_division` parameter to control this behavior.\n",
            "  _warn_prf(average, modifier, msg_start, len(result))\n",
            "\u001b[32m[I 2022-10-04 00:04:51,206]\u001b[0m Trial 22 finished with value: 0.9648688767936665 and parameters: {'c': 1501, 'max_iter': 1001, 'solver': 'lbfgs'}. Best is trial 0 with value: 0.9648688767936665.\u001b[0m\n"
          ]
        },
        {
          "output_type": "stream",
          "name": "stdout",
          "text": [
            "Logistic model (c=1501.000000):\n",
            "Logistic model (max_iter=1001.000000):\n",
            "Logistic model (solver=lbfgs):\n",
            "accuracy: 0.9648688767936665\n",
            "f1 score: 0.644692045806252\n",
            "recall: 0.6666666666666666\n",
            "precision: 0.6254355400696864\n"
          ]
        },
        {
          "output_type": "stream",
          "name": "stderr",
          "text": [
            "/usr/local/lib/python3.7/dist-packages/sklearn/linear_model/_logistic.py:765: ConvergenceWarning: lbfgs failed to converge (status=1):\n",
            "STOP: TOTAL NO. of ITERATIONS REACHED LIMIT.\n",
            "\n",
            "Increase the number of iterations (max_iter) or scale the data as shown in:\n",
            "    https://scikit-learn.org/stable/modules/preprocessing.html\n",
            "Please also refer to the documentation for alternative solver options:\n",
            "    https://scikit-learn.org/stable/modules/linear_model.html#logistic-regression\n",
            "  extra_warning_msg=_LOGISTIC_SOLVER_CONVERGENCE_MSG)\n",
            "/usr/local/lib/python3.7/dist-packages/sklearn/metrics/_classification.py:1248: UndefinedMetricWarning: Precision is ill-defined and being set to 0.0 in labels with no predicted samples. Use `zero_division` parameter to control this behavior.\n",
            "  _warn_prf(average, modifier, msg_start, len(result))\n",
            "\u001b[32m[I 2022-10-04 00:04:54,009]\u001b[0m Trial 23 finished with value: 0.9643740722414647 and parameters: {'c': 1001, 'max_iter': 801, 'solver': 'lbfgs'}. Best is trial 0 with value: 0.9648688767936665.\u001b[0m\n"
          ]
        },
        {
          "output_type": "stream",
          "name": "stdout",
          "text": [
            "Logistic model (c=1001.000000):\n",
            "Logistic model (max_iter=801.000000):\n",
            "Logistic model (solver=lbfgs):\n",
            "accuracy: 0.9643740722414647\n",
            "f1 score: 0.6442466929051284\n",
            "recall: 0.6660039761431412\n",
            "precision: 0.6251333809004979\n"
          ]
        },
        {
          "output_type": "stream",
          "name": "stderr",
          "text": [
            "/usr/local/lib/python3.7/dist-packages/sklearn/metrics/_classification.py:1248: UndefinedMetricWarning: Precision is ill-defined and being set to 0.0 in labels with no predicted samples. Use `zero_division` parameter to control this behavior.\n",
            "  _warn_prf(average, modifier, msg_start, len(result))\n",
            "\u001b[32m[I 2022-10-04 00:04:54,295]\u001b[0m Trial 24 finished with value: 0.9648688767936665 and parameters: {'c': 401, 'max_iter': 401, 'solver': 'liblinear'}. Best is trial 0 with value: 0.9648688767936665.\u001b[0m\n"
          ]
        },
        {
          "output_type": "stream",
          "name": "stdout",
          "text": [
            "Logistic model (c=401.000000):\n",
            "Logistic model (max_iter=401.000000):\n",
            "Logistic model (solver=liblinear):\n",
            "accuracy: 0.9648688767936665\n",
            "f1 score: 0.644692045806252\n",
            "recall: 0.6666666666666666\n",
            "precision: 0.6254355400696864\n"
          ]
        },
        {
          "output_type": "stream",
          "name": "stderr",
          "text": [
            "/usr/local/lib/python3.7/dist-packages/sklearn/metrics/_classification.py:1248: UndefinedMetricWarning: Precision is ill-defined and being set to 0.0 in labels with no predicted samples. Use `zero_division` parameter to control this behavior.\n",
            "  _warn_prf(average, modifier, msg_start, len(result))\n",
            "\u001b[32m[I 2022-10-04 00:04:54,549]\u001b[0m Trial 25 finished with value: 0.9648688767936665 and parameters: {'c': 1501, 'max_iter': 201, 'solver': 'liblinear'}. Best is trial 0 with value: 0.9648688767936665.\u001b[0m\n"
          ]
        },
        {
          "output_type": "stream",
          "name": "stdout",
          "text": [
            "Logistic model (c=1501.000000):\n",
            "Logistic model (max_iter=201.000000):\n",
            "Logistic model (solver=liblinear):\n",
            "accuracy: 0.9648688767936665\n",
            "f1 score: 0.644692045806252\n",
            "recall: 0.6666666666666666\n",
            "precision: 0.6254355400696864\n"
          ]
        },
        {
          "output_type": "stream",
          "name": "stderr",
          "text": [
            "/usr/local/lib/python3.7/dist-packages/sklearn/metrics/_classification.py:1248: UndefinedMetricWarning: Precision is ill-defined and being set to 0.0 in labels with no predicted samples. Use `zero_division` parameter to control this behavior.\n",
            "  _warn_prf(average, modifier, msg_start, len(result))\n",
            "\u001b[32m[I 2022-10-04 00:04:54,808]\u001b[0m Trial 26 finished with value: 0.9648688767936665 and parameters: {'c': 1901, 'max_iter': 601, 'solver': 'liblinear'}. Best is trial 0 with value: 0.9648688767936665.\u001b[0m\n"
          ]
        },
        {
          "output_type": "stream",
          "name": "stdout",
          "text": [
            "Logistic model (c=1901.000000):\n",
            "Logistic model (max_iter=601.000000):\n",
            "Logistic model (solver=liblinear):\n",
            "accuracy: 0.9648688767936665\n",
            "f1 score: 0.644692045806252\n",
            "recall: 0.6666666666666666\n",
            "precision: 0.6254355400696864\n"
          ]
        },
        {
          "output_type": "stream",
          "name": "stderr",
          "text": [
            "/usr/local/lib/python3.7/dist-packages/sklearn/metrics/_classification.py:1248: UndefinedMetricWarning: Precision is ill-defined and being set to 0.0 in labels with no predicted samples. Use `zero_division` parameter to control this behavior.\n",
            "  _warn_prf(average, modifier, msg_start, len(result))\n",
            "\u001b[32m[I 2022-10-04 00:04:55,078]\u001b[0m Trial 27 finished with value: 0.9648688767936665 and parameters: {'c': 1601, 'max_iter': 401, 'solver': 'liblinear'}. Best is trial 0 with value: 0.9648688767936665.\u001b[0m\n"
          ]
        },
        {
          "output_type": "stream",
          "name": "stdout",
          "text": [
            "Logistic model (c=1601.000000):\n",
            "Logistic model (max_iter=401.000000):\n",
            "Logistic model (solver=liblinear):\n",
            "accuracy: 0.9648688767936665\n",
            "f1 score: 0.644692045806252\n",
            "recall: 0.6666666666666666\n",
            "precision: 0.6254355400696864\n"
          ]
        },
        {
          "output_type": "stream",
          "name": "stderr",
          "text": [
            "/usr/local/lib/python3.7/dist-packages/sklearn/metrics/_classification.py:1248: UndefinedMetricWarning: Precision is ill-defined and being set to 0.0 in labels with no predicted samples. Use `zero_division` parameter to control this behavior.\n",
            "  _warn_prf(average, modifier, msg_start, len(result))\n",
            "\u001b[32m[I 2022-10-04 00:04:55,329]\u001b[0m Trial 28 finished with value: 0.9648688767936665 and parameters: {'c': 101, 'max_iter': 201, 'solver': 'liblinear'}. Best is trial 0 with value: 0.9648688767936665.\u001b[0m\n"
          ]
        },
        {
          "output_type": "stream",
          "name": "stdout",
          "text": [
            "Logistic model (c=101.000000):\n",
            "Logistic model (max_iter=201.000000):\n",
            "Logistic model (solver=liblinear):\n",
            "accuracy: 0.9648688767936665\n",
            "f1 score: 0.644692045806252\n",
            "recall: 0.6666666666666666\n",
            "precision: 0.6254355400696864\n"
          ]
        },
        {
          "output_type": "stream",
          "name": "stderr",
          "text": [
            "/usr/local/lib/python3.7/dist-packages/sklearn/metrics/_classification.py:1248: UndefinedMetricWarning: Precision is ill-defined and being set to 0.0 in labels with no predicted samples. Use `zero_division` parameter to control this behavior.\n",
            "  _warn_prf(average, modifier, msg_start, len(result))\n",
            "\u001b[32m[I 2022-10-04 00:04:55,599]\u001b[0m Trial 29 finished with value: 0.9648688767936665 and parameters: {'c': 1901, 'max_iter': 601, 'solver': 'liblinear'}. Best is trial 0 with value: 0.9648688767936665.\u001b[0m\n"
          ]
        },
        {
          "output_type": "stream",
          "name": "stdout",
          "text": [
            "Logistic model (c=1901.000000):\n",
            "Logistic model (max_iter=601.000000):\n",
            "Logistic model (solver=liblinear):\n",
            "accuracy: 0.9648688767936665\n",
            "f1 score: 0.644692045806252\n",
            "recall: 0.6666666666666666\n",
            "precision: 0.6254355400696864\n"
          ]
        },
        {
          "output_type": "stream",
          "name": "stderr",
          "text": [
            "/usr/local/lib/python3.7/dist-packages/sklearn/metrics/_classification.py:1248: UndefinedMetricWarning: Precision is ill-defined and being set to 0.0 in labels with no predicted samples. Use `zero_division` parameter to control this behavior.\n",
            "  _warn_prf(average, modifier, msg_start, len(result))\n",
            "\u001b[32m[I 2022-10-04 00:04:55,866]\u001b[0m Trial 30 finished with value: 0.9648688767936665 and parameters: {'c': 2001, 'max_iter': 601, 'solver': 'liblinear'}. Best is trial 0 with value: 0.9648688767936665.\u001b[0m\n"
          ]
        },
        {
          "output_type": "stream",
          "name": "stdout",
          "text": [
            "Logistic model (c=2001.000000):\n",
            "Logistic model (max_iter=601.000000):\n",
            "Logistic model (solver=liblinear):\n",
            "accuracy: 0.9648688767936665\n",
            "f1 score: 0.644692045806252\n",
            "recall: 0.6666666666666666\n",
            "precision: 0.6254355400696864\n"
          ]
        },
        {
          "output_type": "stream",
          "name": "stderr",
          "text": [
            "/usr/local/lib/python3.7/dist-packages/sklearn/metrics/_classification.py:1248: UndefinedMetricWarning: Precision is ill-defined and being set to 0.0 in labels with no predicted samples. Use `zero_division` parameter to control this behavior.\n",
            "  _warn_prf(average, modifier, msg_start, len(result))\n",
            "\u001b[32m[I 2022-10-04 00:04:56,145]\u001b[0m Trial 31 finished with value: 0.9648688767936665 and parameters: {'c': 1801, 'max_iter': 401, 'solver': 'liblinear'}. Best is trial 0 with value: 0.9648688767936665.\u001b[0m\n"
          ]
        },
        {
          "output_type": "stream",
          "name": "stdout",
          "text": [
            "Logistic model (c=1801.000000):\n",
            "Logistic model (max_iter=401.000000):\n",
            "Logistic model (solver=liblinear):\n",
            "accuracy: 0.9648688767936665\n",
            "f1 score: 0.644692045806252\n",
            "recall: 0.6666666666666666\n",
            "precision: 0.6254355400696864\n"
          ]
        },
        {
          "output_type": "stream",
          "name": "stderr",
          "text": [
            "/usr/local/lib/python3.7/dist-packages/sklearn/metrics/_classification.py:1248: UndefinedMetricWarning: Precision is ill-defined and being set to 0.0 in labels with no predicted samples. Use `zero_division` parameter to control this behavior.\n",
            "  _warn_prf(average, modifier, msg_start, len(result))\n",
            "\u001b[32m[I 2022-10-04 00:04:56,421]\u001b[0m Trial 32 finished with value: 0.9648688767936665 and parameters: {'c': 1701, 'max_iter': 201, 'solver': 'liblinear'}. Best is trial 0 with value: 0.9648688767936665.\u001b[0m\n"
          ]
        },
        {
          "output_type": "stream",
          "name": "stdout",
          "text": [
            "Logistic model (c=1701.000000):\n",
            "Logistic model (max_iter=201.000000):\n",
            "Logistic model (solver=liblinear):\n",
            "accuracy: 0.9648688767936665\n",
            "f1 score: 0.644692045806252\n",
            "recall: 0.6666666666666666\n",
            "precision: 0.6254355400696864\n"
          ]
        },
        {
          "output_type": "stream",
          "name": "stderr",
          "text": [
            "/usr/local/lib/python3.7/dist-packages/sklearn/metrics/_classification.py:1248: UndefinedMetricWarning: Precision is ill-defined and being set to 0.0 in labels with no predicted samples. Use `zero_division` parameter to control this behavior.\n",
            "  _warn_prf(average, modifier, msg_start, len(result))\n",
            "\u001b[32m[I 2022-10-04 00:04:56,685]\u001b[0m Trial 33 finished with value: 0.9648688767936665 and parameters: {'c': 2001, 'max_iter': 601, 'solver': 'liblinear'}. Best is trial 0 with value: 0.9648688767936665.\u001b[0m\n"
          ]
        },
        {
          "output_type": "stream",
          "name": "stdout",
          "text": [
            "Logistic model (c=2001.000000):\n",
            "Logistic model (max_iter=601.000000):\n",
            "Logistic model (solver=liblinear):\n",
            "accuracy: 0.9648688767936665\n",
            "f1 score: 0.644692045806252\n",
            "recall: 0.6666666666666666\n",
            "precision: 0.6254355400696864\n"
          ]
        },
        {
          "output_type": "stream",
          "name": "stderr",
          "text": [
            "/usr/local/lib/python3.7/dist-packages/sklearn/metrics/_classification.py:1248: UndefinedMetricWarning: Precision is ill-defined and being set to 0.0 in labels with no predicted samples. Use `zero_division` parameter to control this behavior.\n",
            "  _warn_prf(average, modifier, msg_start, len(result))\n",
            "\u001b[32m[I 2022-10-04 00:04:56,944]\u001b[0m Trial 34 finished with value: 0.9648688767936665 and parameters: {'c': 2001, 'max_iter': 601, 'solver': 'liblinear'}. Best is trial 0 with value: 0.9648688767936665.\u001b[0m\n"
          ]
        },
        {
          "output_type": "stream",
          "name": "stdout",
          "text": [
            "Logistic model (c=2001.000000):\n",
            "Logistic model (max_iter=601.000000):\n",
            "Logistic model (solver=liblinear):\n",
            "accuracy: 0.9648688767936665\n",
            "f1 score: 0.644692045806252\n",
            "recall: 0.6666666666666666\n",
            "precision: 0.6254355400696864\n"
          ]
        },
        {
          "output_type": "stream",
          "name": "stderr",
          "text": [
            "/usr/local/lib/python3.7/dist-packages/sklearn/metrics/_classification.py:1248: UndefinedMetricWarning: Precision is ill-defined and being set to 0.0 in labels with no predicted samples. Use `zero_division` parameter to control this behavior.\n",
            "  _warn_prf(average, modifier, msg_start, len(result))\n",
            "\u001b[32m[I 2022-10-04 00:04:57,221]\u001b[0m Trial 35 finished with value: 0.9648688767936665 and parameters: {'c': 1701, 'max_iter': 201, 'solver': 'liblinear'}. Best is trial 0 with value: 0.9648688767936665.\u001b[0m\n"
          ]
        },
        {
          "output_type": "stream",
          "name": "stdout",
          "text": [
            "Logistic model (c=1701.000000):\n",
            "Logistic model (max_iter=201.000000):\n",
            "Logistic model (solver=liblinear):\n",
            "accuracy: 0.9648688767936665\n",
            "f1 score: 0.644692045806252\n",
            "recall: 0.6666666666666666\n",
            "precision: 0.6254355400696864\n"
          ]
        },
        {
          "output_type": "stream",
          "name": "stderr",
          "text": [
            "/usr/local/lib/python3.7/dist-packages/sklearn/metrics/_classification.py:1248: UndefinedMetricWarning: Precision is ill-defined and being set to 0.0 in labels with no predicted samples. Use `zero_division` parameter to control this behavior.\n",
            "  _warn_prf(average, modifier, msg_start, len(result))\n",
            "\u001b[32m[I 2022-10-04 00:04:57,498]\u001b[0m Trial 36 finished with value: 0.9648688767936665 and parameters: {'c': 1701, 'max_iter': 401, 'solver': 'liblinear'}. Best is trial 0 with value: 0.9648688767936665.\u001b[0m\n"
          ]
        },
        {
          "output_type": "stream",
          "name": "stdout",
          "text": [
            "Logistic model (c=1701.000000):\n",
            "Logistic model (max_iter=401.000000):\n",
            "Logistic model (solver=liblinear):\n",
            "accuracy: 0.9648688767936665\n",
            "f1 score: 0.644692045806252\n",
            "recall: 0.6666666666666666\n",
            "precision: 0.6254355400696864\n"
          ]
        },
        {
          "output_type": "stream",
          "name": "stderr",
          "text": [
            "/usr/local/lib/python3.7/dist-packages/sklearn/metrics/_classification.py:1248: UndefinedMetricWarning: Precision is ill-defined and being set to 0.0 in labels with no predicted samples. Use `zero_division` parameter to control this behavior.\n",
            "  _warn_prf(average, modifier, msg_start, len(result))\n",
            "\u001b[32m[I 2022-10-04 00:04:57,756]\u001b[0m Trial 37 finished with value: 0.9648688767936665 and parameters: {'c': 2001, 'max_iter': 801, 'solver': 'liblinear'}. Best is trial 0 with value: 0.9648688767936665.\u001b[0m\n"
          ]
        },
        {
          "output_type": "stream",
          "name": "stdout",
          "text": [
            "Logistic model (c=2001.000000):\n",
            "Logistic model (max_iter=801.000000):\n",
            "Logistic model (solver=liblinear):\n",
            "accuracy: 0.9648688767936665\n",
            "f1 score: 0.644692045806252\n",
            "recall: 0.6666666666666666\n",
            "precision: 0.6254355400696864\n"
          ]
        },
        {
          "output_type": "stream",
          "name": "stderr",
          "text": [
            "/usr/local/lib/python3.7/dist-packages/sklearn/linear_model/_logistic.py:765: ConvergenceWarning: lbfgs failed to converge (status=1):\n",
            "STOP: TOTAL NO. of ITERATIONS REACHED LIMIT.\n",
            "\n",
            "Increase the number of iterations (max_iter) or scale the data as shown in:\n",
            "    https://scikit-learn.org/stable/modules/preprocessing.html\n",
            "Please also refer to the documentation for alternative solver options:\n",
            "    https://scikit-learn.org/stable/modules/linear_model.html#logistic-regression\n",
            "  extra_warning_msg=_LOGISTIC_SOLVER_CONVERGENCE_MSG)\n",
            "\u001b[32m[I 2022-10-04 00:04:58,838]\u001b[0m Trial 38 finished with value: 0.9633844631370608 and parameters: {'c': 401, 'max_iter': 301, 'solver': 'lbfgs'}. Best is trial 0 with value: 0.9648688767936665.\u001b[0m\n"
          ]
        },
        {
          "output_type": "stream",
          "name": "stdout",
          "text": [
            "Logistic model (c=401.000000):\n",
            "Logistic model (max_iter=301.000000):\n",
            "Logistic model (solver=lbfgs):\n",
            "accuracy: 0.9633844631370608\n",
            "f1 score: 0.6436436317288091\n",
            "recall: 0.6646785950960902\n",
            "precision: 0.625041338979633\n"
          ]
        },
        {
          "output_type": "stream",
          "name": "stderr",
          "text": [
            "/usr/local/lib/python3.7/dist-packages/sklearn/linear_model/_sag.py:329: ConvergenceWarning: The max_iter was reached which means the coef_ did not converge\n",
            "  \"the coef_ did not converge\", ConvergenceWarning)\n",
            "/usr/local/lib/python3.7/dist-packages/sklearn/metrics/_classification.py:1248: UndefinedMetricWarning: Precision is ill-defined and being set to 0.0 in labels with no predicted samples. Use `zero_division` parameter to control this behavior.\n",
            "  _warn_prf(average, modifier, msg_start, len(result))\n",
            "\u001b[32m[I 2022-10-04 00:05:01,415]\u001b[0m Trial 39 finished with value: 0.9643740722414647 and parameters: {'c': 801, 'max_iter': 801, 'solver': 'sag'}. Best is trial 0 with value: 0.9648688767936665.\u001b[0m\n",
            "/usr/local/lib/python3.7/dist-packages/sklearn/linear_model/_sag.py:329: ConvergenceWarning: The max_iter was reached which means the coef_ did not converge\n",
            "  \"the coef_ did not converge\", ConvergenceWarning)\n",
            "/usr/local/lib/python3.7/dist-packages/sklearn/metrics/_classification.py:1248: UndefinedMetricWarning: Precision is ill-defined and being set to 0.0 in labels with no predicted samples. Use `zero_division` parameter to control this behavior.\n",
            "  _warn_prf(average, modifier, msg_start, len(result))\n",
            "\u001b[32m[I 2022-10-04 00:05:01,464]\u001b[0m Trial 40 finished with value: 0.9614052449282533 and parameters: {'c': 1401, 'max_iter': 1, 'solver': 'saga'}. Best is trial 0 with value: 0.9648688767936665.\u001b[0m\n"
          ]
        },
        {
          "output_type": "stream",
          "name": "stdout",
          "text": [
            "Logistic model (c=801.000000):\n",
            "Logistic model (max_iter=801.000000):\n",
            "Logistic model (solver=sag):\n",
            "accuracy: 0.9643740722414647\n",
            "f1 score: 0.6442466929051284\n",
            "recall: 0.6660039761431412\n",
            "precision: 0.6251333809004979\n",
            "Logistic model (c=1401.000000):\n",
            "Logistic model (max_iter=1.000000):\n",
            "Logistic model (solver=saga):\n",
            "accuracy: 0.9614052449282533\n",
            "f1 score: 0.641563280896801\n",
            "recall: 0.6620278330019881\n",
            "precision: 0.6233217453605655\n"
          ]
        },
        {
          "output_type": "stream",
          "name": "stderr",
          "text": [
            "/usr/local/lib/python3.7/dist-packages/sklearn/metrics/_classification.py:1248: UndefinedMetricWarning: Precision is ill-defined and being set to 0.0 in labels with no predicted samples. Use `zero_division` parameter to control this behavior.\n",
            "  _warn_prf(average, modifier, msg_start, len(result))\n",
            "\u001b[32m[I 2022-10-04 00:05:01,742]\u001b[0m Trial 41 finished with value: 0.9648688767936665 and parameters: {'c': 1601, 'max_iter': 501, 'solver': 'liblinear'}. Best is trial 0 with value: 0.9648688767936665.\u001b[0m\n"
          ]
        },
        {
          "output_type": "stream",
          "name": "stdout",
          "text": [
            "Logistic model (c=1601.000000):\n",
            "Logistic model (max_iter=501.000000):\n",
            "Logistic model (solver=liblinear):\n",
            "accuracy: 0.9648688767936665\n",
            "f1 score: 0.644692045806252\n",
            "recall: 0.6666666666666666\n",
            "precision: 0.6254355400696864\n"
          ]
        },
        {
          "output_type": "stream",
          "name": "stderr",
          "text": [
            "/usr/local/lib/python3.7/dist-packages/sklearn/metrics/_classification.py:1248: UndefinedMetricWarning: Precision is ill-defined and being set to 0.0 in labels with no predicted samples. Use `zero_division` parameter to control this behavior.\n",
            "  _warn_prf(average, modifier, msg_start, len(result))\n",
            "\u001b[32m[I 2022-10-04 00:05:01,997]\u001b[0m Trial 42 finished with value: 0.9648688767936665 and parameters: {'c': 1501, 'max_iter': 401, 'solver': 'liblinear'}. Best is trial 0 with value: 0.9648688767936665.\u001b[0m\n"
          ]
        },
        {
          "output_type": "stream",
          "name": "stdout",
          "text": [
            "Logistic model (c=1501.000000):\n",
            "Logistic model (max_iter=401.000000):\n",
            "Logistic model (solver=liblinear):\n",
            "accuracy: 0.9648688767936665\n",
            "f1 score: 0.644692045806252\n",
            "recall: 0.6666666666666666\n",
            "precision: 0.6254355400696864\n"
          ]
        },
        {
          "output_type": "stream",
          "name": "stderr",
          "text": [
            "/usr/local/lib/python3.7/dist-packages/sklearn/linear_model/_logistic.py:765: ConvergenceWarning: lbfgs failed to converge (status=1):\n",
            "STOP: TOTAL NO. of ITERATIONS REACHED LIMIT.\n",
            "\n",
            "Increase the number of iterations (max_iter) or scale the data as shown in:\n",
            "    https://scikit-learn.org/stable/modules/preprocessing.html\n",
            "Please also refer to the documentation for alternative solver options:\n",
            "    https://scikit-learn.org/stable/modules/linear_model.html#logistic-regression\n",
            "  extra_warning_msg=_LOGISTIC_SOLVER_CONVERGENCE_MSG)\n",
            "/usr/local/lib/python3.7/dist-packages/sklearn/metrics/_classification.py:1248: UndefinedMetricWarning: Precision is ill-defined and being set to 0.0 in labels with no predicted samples. Use `zero_division` parameter to control this behavior.\n",
            "  _warn_prf(average, modifier, msg_start, len(result))\n",
            "\u001b[32m[I 2022-10-04 00:05:05,140]\u001b[0m Trial 43 finished with value: 0.9648688767936665 and parameters: {'c': 1201, 'max_iter': 901, 'solver': 'lbfgs'}. Best is trial 0 with value: 0.9648688767936665.\u001b[0m\n"
          ]
        },
        {
          "output_type": "stream",
          "name": "stdout",
          "text": [
            "Logistic model (c=1201.000000):\n",
            "Logistic model (max_iter=901.000000):\n",
            "Logistic model (solver=lbfgs):\n",
            "accuracy: 0.9648688767936665\n",
            "f1 score: 0.644692045806252\n",
            "recall: 0.6666666666666666\n",
            "precision: 0.6254355400696864\n"
          ]
        },
        {
          "output_type": "stream",
          "name": "stderr",
          "text": [
            "/usr/local/lib/python3.7/dist-packages/sklearn/linear_model/_sag.py:329: ConvergenceWarning: The max_iter was reached which means the coef_ did not converge\n",
            "  \"the coef_ did not converge\", ConvergenceWarning)\n",
            "/usr/local/lib/python3.7/dist-packages/sklearn/metrics/_classification.py:1248: UndefinedMetricWarning: Precision is ill-defined and being set to 0.0 in labels with no predicted samples. Use `zero_division` parameter to control this behavior.\n",
            "  _warn_prf(average, modifier, msg_start, len(result))\n",
            "\u001b[32m[I 2022-10-04 00:05:05,543]\u001b[0m Trial 44 finished with value: 0.9643740722414647 and parameters: {'c': 901, 'max_iter': 101, 'solver': 'sag'}. Best is trial 0 with value: 0.9648688767936665.\u001b[0m\n"
          ]
        },
        {
          "output_type": "stream",
          "name": "stdout",
          "text": [
            "Logistic model (c=901.000000):\n",
            "Logistic model (max_iter=101.000000):\n",
            "Logistic model (solver=sag):\n",
            "accuracy: 0.9643740722414647\n",
            "f1 score: 0.6442466929051284\n",
            "recall: 0.6660039761431412\n",
            "precision: 0.6251333809004979\n"
          ]
        },
        {
          "output_type": "stream",
          "name": "stderr",
          "text": [
            "/usr/local/lib/python3.7/dist-packages/sklearn/linear_model/_logistic.py:765: ConvergenceWarning: lbfgs failed to converge (status=1):\n",
            "STOP: TOTAL NO. of ITERATIONS REACHED LIMIT.\n",
            "\n",
            "Increase the number of iterations (max_iter) or scale the data as shown in:\n",
            "    https://scikit-learn.org/stable/modules/preprocessing.html\n",
            "Please also refer to the documentation for alternative solver options:\n",
            "    https://scikit-learn.org/stable/modules/linear_model.html#logistic-regression\n",
            "  extra_warning_msg=_LOGISTIC_SOLVER_CONVERGENCE_MSG)\n",
            "/usr/local/lib/python3.7/dist-packages/sklearn/metrics/_classification.py:1248: UndefinedMetricWarning: Precision is ill-defined and being set to 0.0 in labels with no predicted samples. Use `zero_division` parameter to control this behavior.\n",
            "  _warn_prf(average, modifier, msg_start, len(result))\n",
            "\u001b[32m[I 2022-10-04 00:05:08,640]\u001b[0m Trial 45 finished with value: 0.9648688767936665 and parameters: {'c': 1301, 'max_iter': 901, 'solver': 'lbfgs'}. Best is trial 0 with value: 0.9648688767936665.\u001b[0m\n"
          ]
        },
        {
          "output_type": "stream",
          "name": "stdout",
          "text": [
            "Logistic model (c=1301.000000):\n",
            "Logistic model (max_iter=901.000000):\n",
            "Logistic model (solver=lbfgs):\n",
            "accuracy: 0.9648688767936665\n",
            "f1 score: 0.644692045806252\n",
            "recall: 0.6666666666666666\n",
            "precision: 0.6254355400696864\n"
          ]
        },
        {
          "output_type": "stream",
          "name": "stderr",
          "text": [
            "/usr/local/lib/python3.7/dist-packages/sklearn/metrics/_classification.py:1248: UndefinedMetricWarning: Precision is ill-defined and being set to 0.0 in labels with no predicted samples. Use `zero_division` parameter to control this behavior.\n",
            "  _warn_prf(average, modifier, msg_start, len(result))\n",
            "\u001b[32m[I 2022-10-04 00:05:08,941]\u001b[0m Trial 46 finished with value: 0.9648688767936665 and parameters: {'c': 201, 'max_iter': 501, 'solver': 'liblinear'}. Best is trial 0 with value: 0.9648688767936665.\u001b[0m\n"
          ]
        },
        {
          "output_type": "stream",
          "name": "stdout",
          "text": [
            "Logistic model (c=201.000000):\n",
            "Logistic model (max_iter=501.000000):\n",
            "Logistic model (solver=liblinear):\n",
            "accuracy: 0.9648688767936665\n",
            "f1 score: 0.644692045806252\n",
            "recall: 0.6666666666666666\n",
            "precision: 0.6254355400696864\n"
          ]
        },
        {
          "output_type": "stream",
          "name": "stderr",
          "text": [
            "/usr/local/lib/python3.7/dist-packages/sklearn/linear_model/_sag.py:329: ConvergenceWarning: The max_iter was reached which means the coef_ did not converge\n",
            "  \"the coef_ did not converge\", ConvergenceWarning)\n",
            "/usr/local/lib/python3.7/dist-packages/sklearn/metrics/_classification.py:1248: UndefinedMetricWarning: Precision is ill-defined and being set to 0.0 in labels with no predicted samples. Use `zero_division` parameter to control this behavior.\n",
            "  _warn_prf(average, modifier, msg_start, len(result))\n",
            "\u001b[32m[I 2022-10-04 00:05:12,303]\u001b[0m Trial 47 finished with value: 0.9643740722414647 and parameters: {'c': 501, 'max_iter': 901, 'solver': 'saga'}. Best is trial 0 with value: 0.9648688767936665.\u001b[0m\n"
          ]
        },
        {
          "output_type": "stream",
          "name": "stdout",
          "text": [
            "Logistic model (c=501.000000):\n",
            "Logistic model (max_iter=901.000000):\n",
            "Logistic model (solver=saga):\n",
            "accuracy: 0.9643740722414647\n",
            "f1 score: 0.6442466929051284\n",
            "recall: 0.6660039761431412\n",
            "precision: 0.6251333809004979\n"
          ]
        },
        {
          "output_type": "stream",
          "name": "stderr",
          "text": [
            "/usr/local/lib/python3.7/dist-packages/sklearn/metrics/_classification.py:1248: UndefinedMetricWarning: Precision is ill-defined and being set to 0.0 in labels with no predicted samples. Use `zero_division` parameter to control this behavior.\n",
            "  _warn_prf(average, modifier, msg_start, len(result))\n",
            "\u001b[32m[I 2022-10-04 00:05:12,563]\u001b[0m Trial 48 finished with value: 0.9648688767936665 and parameters: {'c': 1901, 'max_iter': 401, 'solver': 'liblinear'}. Best is trial 0 with value: 0.9648688767936665.\u001b[0m\n",
            "/usr/local/lib/python3.7/dist-packages/sklearn/metrics/_classification.py:1248: UndefinedMetricWarning: Precision is ill-defined and being set to 0.0 in labels with no predicted samples. Use `zero_division` parameter to control this behavior.\n",
            "  _warn_prf(average, modifier, msg_start, len(result))\n",
            "\u001b[32m[I 2022-10-04 00:05:12,730]\u001b[0m Trial 49 finished with value: 0.9643740722414647 and parameters: {'c': 1, 'max_iter': 201, 'solver': 'liblinear'}. Best is trial 0 with value: 0.9648688767936665.\u001b[0m\n"
          ]
        },
        {
          "output_type": "stream",
          "name": "stdout",
          "text": [
            "Logistic model (c=1901.000000):\n",
            "Logistic model (max_iter=401.000000):\n",
            "Logistic model (solver=liblinear):\n",
            "accuracy: 0.9648688767936665\n",
            "f1 score: 0.644692045806252\n",
            "recall: 0.6666666666666666\n",
            "precision: 0.6254355400696864\n",
            "Logistic model (c=1.000000):\n",
            "Logistic model (max_iter=201.000000):\n",
            "Logistic model (solver=liblinear):\n",
            "accuracy: 0.9643740722414647\n",
            "f1 score: 0.6442466929051284\n",
            "recall: 0.6660039761431412\n",
            "precision: 0.6251333809004979\n"
          ]
        }
      ]
    },
    {
      "cell_type": "markdown",
      "source": [
        "### Seleção dos hiperparâmetros e escolha do melhor modelo geral"
      ],
      "metadata": {
        "id": "JyWH6b1yz8i2"
      }
    },
    {
      "cell_type": "code",
      "source": [
        "modelGaussian = GaussianNB(var_smoothing = 9.589617519348033e-09)\n",
        "modelGaussian.fit(x_train, y_train)\n",
        "y_modelGaussian = modelGaussian.predict(x_test)\n",
        "\n",
        "(accuracyNaive, f1scoreNaive, recallNaive, precisionNaive) = eval_metrics(y_test, y_modelGaussian)\n",
        "\n",
        "print(accuracyNaive)\n",
        "print(f1scoreNaive)\n",
        "print(recallNaive)\n",
        "print(precisionNaive)"
      ],
      "metadata": {
        "colab": {
          "base_uri": "https://localhost:8080/"
        },
        "id": "ius4qf6r1gbi",
        "outputId": "a232ee4b-67aa-4808-d485-3c72dff5d8df"
      },
      "execution_count": 53,
      "outputs": [
        {
          "output_type": "stream",
          "name": "stdout",
          "text": [
            "0.7742574257425743\n",
            "0.4615657820335682\n",
            "0.6813021310453916\n",
            "0.6639003648136068\n"
          ]
        }
      ]
    },
    {
      "cell_type": "code",
      "source": [
        "modelMLP = MLPClassifier(learning_rate = 'invscaling', max_iter = 300)\n",
        "modelMLP.fit(x_train, y_train)\n",
        "y_modelMLP = modelMLP.predict(x_test)\n",
        "\n",
        "(accuracyMLP, f1scoreMLP, recallMLP, precisionMLP) = eval_metrics(y_test, y_modelMLP)\n",
        "\n",
        "print(accuracyMLP)\n",
        "print(f1scoreMLP)\n",
        "print(recallMLP)\n",
        "print(precisionMLP)"
      ],
      "metadata": {
        "colab": {
          "base_uri": "https://localhost:8080/"
        },
        "id": "_fGDZx_-2W_2",
        "outputId": "424b7cf1-9e8d-44f2-f1fa-34b8526d44c7"
      },
      "execution_count": 57,
      "outputs": [
        {
          "output_type": "stream",
          "name": "stdout",
          "text": [
            "0.9663366336633663\n",
            "0.6546465363532699\n",
            "0.6699841735785254\n",
            "0.7935369898335777\n"
          ]
        }
      ]
    },
    {
      "cell_type": "code",
      "source": [
        "modelSVM = SVC(C = 41, max_iter = 71)\n",
        "modelSVM.fit(x_train, y_train)\n",
        "y_modelSVM = modelSVM.predict(x_test)\n",
        "\n",
        "(accuracySVM, f1scoreSVM, recallSVM, precisionSVM) = eval_metrics(y_test, y_modelSVM)\n",
        "\n",
        "print(accuracySVM)\n",
        "print(f1scoreSVM)\n",
        "print(recallSVM)\n",
        "print(precisionSVM)"
      ],
      "metadata": {
        "colab": {
          "base_uri": "https://localhost:8080/"
        },
        "id": "4a85igTN2hFM",
        "outputId": "bf3082e6-5dc6-4e31-ffc1-360af24faf6c"
      },
      "execution_count": 58,
      "outputs": [
        {
          "output_type": "stream",
          "name": "stdout",
          "text": [
            "0.9153465346534654\n",
            "0.6596994466490304\n",
            "0.6709624849547828\n",
            "0.6685199237997389\n"
          ]
        },
        {
          "output_type": "stream",
          "name": "stderr",
          "text": [
            "/usr/local/lib/python3.7/dist-packages/sklearn/svm/_base.py:258: ConvergenceWarning: Solver terminated early (max_iter=71).  Consider pre-processing your data with StandardScaler or MinMaxScaler.\n",
            "  % self.max_iter, ConvergenceWarning)\n"
          ]
        }
      ]
    },
    {
      "cell_type": "code",
      "source": [
        "modelLR = LogisticRegression(C = 501, max_iter = 501, solver = 'lbfgs')\n",
        "modelLR.fit(x_train, y_train)\n",
        "y_modelLR = modelLR.predict(x_test)\n",
        "\n",
        "(accuracyLR, f1scoreLR, recallLR, precisionLR) = eval_metrics(y_test, y_modelLR)\n",
        "\n",
        "print(accuracyLR)\n",
        "print(f1scoreLR)\n",
        "print(recallLR)\n",
        "print(precisionLR)"
      ],
      "metadata": {
        "colab": {
          "base_uri": "https://localhost:8080/"
        },
        "id": "c3O_PfNM2qWt",
        "outputId": "b7f91391-aff4-4d37-89a1-bf9198cb4ec7"
      },
      "execution_count": 59,
      "outputs": [
        {
          "output_type": "stream",
          "name": "stdout",
          "text": [
            "0.9663366336633663\n",
            "0.6447374847374848\n",
            "0.665533475225388\n",
            "0.6264147736280475\n"
          ]
        },
        {
          "output_type": "stream",
          "name": "stderr",
          "text": [
            "/usr/local/lib/python3.7/dist-packages/sklearn/linear_model/_logistic.py:765: ConvergenceWarning: lbfgs failed to converge (status=1):\n",
            "STOP: TOTAL NO. of ITERATIONS REACHED LIMIT.\n",
            "\n",
            "Increase the number of iterations (max_iter) or scale the data as shown in:\n",
            "    https://scikit-learn.org/stable/modules/preprocessing.html\n",
            "Please also refer to the documentation for alternative solver options:\n",
            "    https://scikit-learn.org/stable/modules/linear_model.html#logistic-regression\n",
            "  extra_warning_msg=_LOGISTIC_SOLVER_CONVERGENCE_MSG)\n",
            "/usr/local/lib/python3.7/dist-packages/sklearn/metrics/_classification.py:1248: UndefinedMetricWarning: Precision is ill-defined and being set to 0.0 in labels with no predicted samples. Use `zero_division` parameter to control this behavior.\n",
            "  _warn_prf(average, modifier, msg_start, len(result))\n"
          ]
        }
      ]
    },
    {
      "cell_type": "markdown",
      "source": [
        "### Diagnóstico e Aprimoramento"
      ],
      "metadata": {
        "id": "tY8XYaEhnhTR"
      }
    },
    {
      "cell_type": "markdown",
      "source": [
        "Como podemos notar com base nos testes acima, o melhor modelo foi o MLP"
      ],
      "metadata": {
        "id": "9zaoSWManuzG"
      }
    },
    {
      "cell_type": "code",
      "source": [
        "from sklearn.neural_network import MLPClassifier\n",
        "model = MLPClassifier(learning_rate = 'constant', max_iter = 300)\n",
        "model.fit(x_train, y_train)\n",
        "\n",
        "y_pred = model.predict(x_test)\n",
        "y_pred_train = model.predict(x_train)"
      ],
      "metadata": {
        "id": "ESuy7-xYyrPK"
      },
      "execution_count": 48,
      "outputs": []
    },
    {
      "cell_type": "code",
      "source": [
        "from sklearn.metrics import accuracy_score, f1_score, precision_score, recall_score\n",
        "\n",
        "print(10*'-','Train',10*'-')\n",
        "\n",
        "accuracy_treino =accuracy_score(y_train, y_pred_train)\n",
        "precision_treino =precision_score(y_train, y_pred_train, average='macro')\n",
        "recall_treino =recall_score(y_train, y_pred_train, average='macro')\n",
        "f1_treino = f1_score(y_train, y_pred_train,average='macro')\n",
        "\n",
        "print(\"Accuracy\", accuracy_treino)\n",
        "print(\"Precision\", precision_treino)\n",
        "print(\"Recall \", recall_treino)\n",
        "print(\"F1 \", f1_treino,'\\n')\n",
        "\n",
        "print(10*'-','Test',10*'-')\n",
        "\n",
        "accuracy_teste =accuracy_score(y_test, y_pred)\n",
        "precision_teste =precision_score(y_test, y_pred, average='macro')\n",
        "recall_teste =recall_score(y_test, y_pred, average='macro')\n",
        "f1_teste = f1_score(y_test, y_pred,average='macro')\n",
        "\n",
        "print(\"Accuracy\", accuracy_teste)\n",
        "print(\"Precision\", precision_teste)\n",
        "print(\"Recall \", recall_teste)\n",
        "print(\"F1 \", f1_teste,'\\n')\n",
        "\n",
        "print(40*'-')\n",
        "print('Vies Accuracy:',(1-accuracy_treino)*100-5)\n",
        "print('Variancia Accuracy:',(1-accuracy_teste)*100-(1-accuracy_treino)*100)\n",
        "print(40*'-')\n",
        "print('Vies Precision:',(1-precision_treino)*100-5)\n",
        "print('Variancia Precision:',(1-precision_teste)*100-(1-precision_treino)*100)"
      ],
      "metadata": {
        "colab": {
          "base_uri": "https://localhost:8080/"
        },
        "id": "eidmr2C0FIDH",
        "outputId": "650275d0-dea5-4e63-e3ff-b85b585cc676"
      },
      "execution_count": 49,
      "outputs": [
        {
          "output_type": "stream",
          "name": "stdout",
          "text": [
            "---------- Train ----------\n",
            "Accuracy 0.9686520376175548\n",
            "Precision 0.8208910494980405\n",
            "Recall  0.6724430757745429\n",
            "F1  0.6606053367381944 \n",
            "\n",
            "---------- Test ----------\n",
            "Accuracy 0.9663366336633663\n",
            "Precision 0.7935369898335777\n",
            "Recall  0.6699841735785254\n",
            "F1  0.6546465363532699 \n",
            "\n",
            "----------------------------------------\n",
            "Vies Accuracy: -1.8652037617554806\n",
            "Variancia Accuracy: 0.23154039541884996\n",
            "----------------------------------------\n",
            "Vies Precision: 12.91089505019595\n",
            "Variancia Precision: 2.735405966446283\n"
          ]
        }
      ]
    },
    {
      "cell_type": "code",
      "source": [
        "from sklearn.neural_network import MLPClassifier\n",
        "# model = MLPClassifier(learning_rate = 'constant', max_iter = 300)\n",
        "model = MLPClassifier()\n",
        "\n",
        "model.fit(x_train, y_train)\n",
        "\n",
        "y_pred = model.predict(x_test)\n",
        "y_pred_train = model.predict(x_train)"
      ],
      "metadata": {
        "id": "wcRjNLMEIrao"
      },
      "execution_count": 50,
      "outputs": []
    },
    {
      "cell_type": "code",
      "source": [
        "from sklearn.metrics import accuracy_score, f1_score, precision_score, recall_score\n",
        "\n",
        "print(10*'-','Train',10*'-')\n",
        "\n",
        "accuracy_treino =accuracy_score(y_train, y_pred_train)\n",
        "precision_treino =precision_score(y_train, y_pred_train, average='macro')\n",
        "recall_treino =recall_score(y_train, y_pred_train, average='macro')\n",
        "f1_treino = f1_score(y_train, y_pred_train,average='macro')\n",
        "\n",
        "print(\"Accuracy\", accuracy_treino)\n",
        "print(\"Precision\", precision_treino)\n",
        "print(\"Recall \", recall_treino)\n",
        "print(\"F1 \", f1_treino,'\\n')\n",
        "\n",
        "print(10*'-','Test',10*'-')\n",
        "\n",
        "accuracy_teste =accuracy_score(y_test, y_pred)\n",
        "precision_teste =precision_score(y_test, y_pred, average='macro')\n",
        "recall_teste =recall_score(y_test, y_pred, average='macro')\n",
        "f1_teste = f1_score(y_test, y_pred,average='macro')\n",
        "\n",
        "print(\"Accuracy\", accuracy_teste)\n",
        "print(\"Precision\", precision_teste)\n",
        "print(\"Recall \", recall_teste)\n",
        "print(\"F1 \", f1_teste,'\\n')\n",
        "\n",
        "print(40*'-')\n",
        "print('Vies Accuracy:',(1-accuracy_treino)*100-5)\n",
        "print('Variancia Accuracy:',(1-accuracy_teste)*100-(1-accuracy_treino)*100)\n",
        "print(40*'-')\n",
        "print('Vies Precision:',(1-precision_treino)*100-5)\n",
        "print('Variancia Precision:',(1-precision_teste)*100-(1-precision_treino)*100)"
      ],
      "metadata": {
        "colab": {
          "base_uri": "https://localhost:8080/"
        },
        "id": "4_kMOSe9Iw9p",
        "outputId": "0d4b346c-f242-4840-fa17-894adbceba87"
      },
      "execution_count": 51,
      "outputs": [
        {
          "output_type": "stream",
          "name": "stdout",
          "text": [
            "---------- Train ----------\n",
            "Accuracy 0.968982016168949\n",
            "Precision 0.897123839739938\n",
            "Recall  0.6728816722657709\n",
            "F1  0.6609663198726102 \n",
            "\n",
            "---------- Test ----------\n",
            "Accuracy 0.9663366336633663\n",
            "Precision 0.6264147736280475\n",
            "Recall  0.665533475225388\n",
            "F1  0.6447374847374848 \n",
            "\n",
            "----------------------------------------\n",
            "Vies Accuracy: -1.8982016168948967\n",
            "Variancia Accuracy: 0.2645382505582661\n",
            "----------------------------------------\n",
            "Vies Precision: 5.287616026006196\n",
            "Variancia Precision: 27.070906611189045\n"
          ]
        },
        {
          "output_type": "stream",
          "name": "stderr",
          "text": [
            "/usr/local/lib/python3.7/dist-packages/sklearn/metrics/_classification.py:1248: UndefinedMetricWarning: Precision is ill-defined and being set to 0.0 in labels with no predicted samples. Use `zero_division` parameter to control this behavior.\n",
            "  _warn_prf(average, modifier, msg_start, len(result))\n"
          ]
        }
      ]
    },
    {
      "cell_type": "markdown",
      "source": [
        "### BÔNUS"
      ],
      "metadata": {
        "id": "908-QuxuSPt3"
      }
    },
    {
      "cell_type": "code",
      "source": [
        "import autosklearn.classification\n",
        "cls = autosklearn.classification.AutoSklearnClassifier()\n",
        "cls.fit(x_train, y_train)\n",
        "predictions = cls.predict(x_test)\n",
        "\n",
        "accuracy, f1score, recall, precision = eval_metrics(y_test, predictions)\n",
        "\n",
        "print(accuracy)\n",
        "print(f1score)\n",
        "print(recall)\n",
        "print(precision)"
      ],
      "metadata": {
        "colab": {
          "base_uri": "https://localhost:8080/"
        },
        "id": "hlFmjB_eSWrQ",
        "outputId": "b6c30ccd-5c7a-4501-8a10-c8b1ddbaad9e"
      },
      "execution_count": 52,
      "outputs": [
        {
          "output_type": "stream",
          "name": "stdout",
          "text": [
            "0.9658415841584158\n",
            "0.6444406323243838\n",
            "0.6653056328922825\n",
            "0.6261180679785331\n"
          ]
        }
      ]
    },
    {
      "cell_type": "code",
      "source": [
        "print(cls.sprint_statistics())"
      ],
      "metadata": {
        "colab": {
          "base_uri": "https://localhost:8080/"
        },
        "id": "aWOEo0jWiqS9",
        "outputId": "bac1d4c5-1820-4b7d-cdb1-91e1bbeec315"
      },
      "execution_count": 62,
      "outputs": [
        {
          "output_type": "stream",
          "name": "stdout",
          "text": [
            "auto-sklearn results:\n",
            "  Dataset name: 41dc3fc0-4378-11ed-8130-0242ac1c0002\n",
            "  Metric: accuracy\n",
            "  Best validation score: 0.969515\n",
            "  Number of target algorithm runs: 271\n",
            "  Number of successful target algorithm runs: 265\n",
            "  Number of crashed target algorithm runs: 3\n",
            "  Number of target algorithms that exceeded the time limit: 3\n",
            "  Number of target algorithms that exceeded the memory limit: 0\n",
            "\n"
          ]
        }
      ]
    },
    {
      "cell_type": "code",
      "source": [
        "cls.show_models()"
      ],
      "metadata": {
        "colab": {
          "base_uri": "https://localhost:8080/"
        },
        "id": "L8zJnw2-iUbA",
        "outputId": "e3f5cdbf-ba12-4d55-d5d5-dbb48889f073"
      },
      "execution_count": 60,
      "outputs": [
        {
          "output_type": "execute_result",
          "data": {
            "text/plain": [
              "{9: {'model_id': 9,\n",
              "  'rank': 1,\n",
              "  'cost': 0.031984007996001984,\n",
              "  'ensemble_weight': 0.22,\n",
              "  'data_preprocessor': <autosklearn.pipeline.components.data_preprocessing.DataPreprocessorChoice at 0x7f4cbee61d10>,\n",
              "  'balancing': Balancing(random_state=1),\n",
              "  'feature_preprocessor': <autosklearn.pipeline.components.feature_preprocessing.FeaturePreprocessorChoice at 0x7f4cbee65750>,\n",
              "  'classifier': <autosklearn.pipeline.components.classification.ClassifierChoice at 0x7f4cbed1df50>,\n",
              "  'sklearn_classifier': AdaBoostClassifier(base_estimator=DecisionTreeClassifier(max_depth=1),\n",
              "                     learning_rate=0.03743735372990651, n_estimators=475,\n",
              "                     random_state=1)},\n",
              " 87: {'model_id': 87,\n",
              "  'rank': 2,\n",
              "  'cost': 0.031984007996001984,\n",
              "  'ensemble_weight': 0.02,\n",
              "  'data_preprocessor': <autosklearn.pipeline.components.data_preprocessing.DataPreprocessorChoice at 0x7f4cbedc4890>,\n",
              "  'balancing': Balancing(random_state=1, strategy='weighting'),\n",
              "  'feature_preprocessor': <autosklearn.pipeline.components.feature_preprocessing.FeaturePreprocessorChoice at 0x7f4cbeeca210>,\n",
              "  'classifier': <autosklearn.pipeline.components.classification.ClassifierChoice at 0x7f4cbeecac90>,\n",
              "  'sklearn_classifier': DecisionTreeClassifier(class_weight='balanced', criterion='entropy',\n",
              "                         max_depth=1, min_samples_leaf=8, min_samples_split=14,\n",
              "                         random_state=1)},\n",
              " 93: {'model_id': 93,\n",
              "  'rank': 3,\n",
              "  'cost': 0.031984007996001984,\n",
              "  'ensemble_weight': 0.26,\n",
              "  'data_preprocessor': <autosklearn.pipeline.components.data_preprocessing.DataPreprocessorChoice at 0x7f4cbed1d7d0>,\n",
              "  'balancing': Balancing(random_state=1),\n",
              "  'feature_preprocessor': <autosklearn.pipeline.components.feature_preprocessing.FeaturePreprocessorChoice at 0x7f4cbf0054d0>,\n",
              "  'classifier': <autosklearn.pipeline.components.classification.ClassifierChoice at 0x7f4cbedad9d0>,\n",
              "  'sklearn_classifier': SGDClassifier(alpha=3.4836246708192366e-06, average=True,\n",
              "                eta0=5.4301721232476676e-05, l1_ratio=0.14999999999999974,\n",
              "                learning_rate='constant', loss='perceptron', max_iter=16,\n",
              "                penalty='elasticnet', random_state=1, tol=0.00012400398756021188,\n",
              "                warm_start=True)},\n",
              " 138: {'model_id': 138,\n",
              "  'rank': 4,\n",
              "  'cost': 0.031984007996001984,\n",
              "  'ensemble_weight': 0.16,\n",
              "  'data_preprocessor': <autosklearn.pipeline.components.data_preprocessing.DataPreprocessorChoice at 0x7f4cbefb7d50>,\n",
              "  'balancing': Balancing(random_state=1),\n",
              "  'feature_preprocessor': <autosklearn.pipeline.components.feature_preprocessing.FeaturePreprocessorChoice at 0x7f4cbf008110>,\n",
              "  'classifier': <autosklearn.pipeline.components.classification.ClassifierChoice at 0x7f4cbeeafe50>,\n",
              "  'sklearn_classifier': RandomForestClassifier(bootstrap=False, max_features=150, min_samples_leaf=9,\n",
              "                         min_samples_split=5, n_estimators=512, n_jobs=1,\n",
              "                         random_state=1, warm_start=True)},\n",
              " 168: {'model_id': 168,\n",
              "  'rank': 5,\n",
              "  'cost': 0.030484757621189407,\n",
              "  'ensemble_weight': 0.32,\n",
              "  'data_preprocessor': <autosklearn.pipeline.components.data_preprocessing.DataPreprocessorChoice at 0x7f4cbedad1d0>,\n",
              "  'balancing': Balancing(random_state=1),\n",
              "  'feature_preprocessor': <autosklearn.pipeline.components.feature_preprocessing.FeaturePreprocessorChoice at 0x7f4cbece0150>,\n",
              "  'classifier': <autosklearn.pipeline.components.classification.ClassifierChoice at 0x7f4cbf016690>,\n",
              "  'sklearn_classifier': RandomForestClassifier(max_features=8, min_samples_leaf=2, min_samples_split=6,\n",
              "                         n_estimators=512, n_jobs=1, random_state=1,\n",
              "                         warm_start=True)},\n",
              " 198: {'model_id': 198,\n",
              "  'rank': 6,\n",
              "  'cost': 0.03148425787106446,\n",
              "  'ensemble_weight': 0.02,\n",
              "  'data_preprocessor': <autosklearn.pipeline.components.data_preprocessing.DataPreprocessorChoice at 0x7f4cbeeaf110>,\n",
              "  'balancing': Balancing(random_state=1),\n",
              "  'feature_preprocessor': <autosklearn.pipeline.components.feature_preprocessing.FeaturePreprocessorChoice at 0x7f4cbee9acd0>,\n",
              "  'classifier': <autosklearn.pipeline.components.classification.ClassifierChoice at 0x7f4cbef6dc10>,\n",
              "  'sklearn_classifier': AdaBoostClassifier(base_estimator=DecisionTreeClassifier(max_depth=3),\n",
              "                     learning_rate=0.016845074177477007, n_estimators=198,\n",
              "                     random_state=1)}}"
            ]
          },
          "metadata": {},
          "execution_count": 60
        }
      ]
    }
  ]
}